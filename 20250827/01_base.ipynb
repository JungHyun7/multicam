{
 "cells": [
  {
   "cell_type": "markdown",
   "id": "9f3896a9",
   "metadata": {},
   "source": [
    "# 제목1\n",
    "\n",
    "\n",
    "## 제목2\n",
    "\n",
    "\n",
    "### 제목3\n",
    "\n",
    "\n",
    "#### 제목4"
   ]
  },
  {
   "cell_type": "markdown",
   "id": "8dd3ee57",
   "metadata": {},
   "source": [
    "### 리스트 형태 텍스트\n",
    "\n",
    "#### 순서형\n",
    "\n",
    "1. list1\n",
    "2. list2\n",
    "3. list3\n",
    "\n",
    "#### 비순서형\n",
    "- list1\n",
    "- list2\n",
    "- list3\n",
    "\n",
    "#### 리스트 안에 리스트\n",
    "1. list1\n",
    "    - sub1\n",
    "    - sub2\n",
    "2. list1\n",
    "    1. 가\n",
    "    2. 나\n",
    "    3. 다\n",
    "    "
   ]
  },
  {
   "cell_type": "markdown",
   "id": "eb887646",
   "metadata": {},
   "source": [
    "### 자료형 데이터\n",
    "- 여러개의 데이터를 하나의 변수에 저장시키기 위한 형태\n",
    "\n",
    "1. tuple\n",
    "    - 자료형 데이터 중에 가장 기본적인 형태\n",
    "    - ()를 이용해서 데이터를 생성\n",
    "    - 한번 생성이 되면 수정이 불가능하다 (새로운 tuple)\n",
    "\n",
    "2. list\n",
    "    - []를 이용해서 데이터를 생성\n",
    "    - tuple과는 다르게 각 원소들을 수정하거나 삭제, 추가하는 작업이 가능 (리스트의 내부 함수를 이용)\n",
    "    - 원소의 개수는 0개부터 생성 가능 -> 비어있는 리스트 생성 => 여러개의 데이터를 하나의 변수에 준비하는 과정\n",
    "\n",
    "3. dict\n",
    "    - {}를 이용해서 데이터를 생성\n",
    "    - key, value의 형태로 데이터가 구성 (list에서는 위치를 기준으로 데이터를 생성한다면 dict은 key를 기준으로 데이터를 추출)\n",
    "    - 원소의 개수는 0개부터 생성 가능\n",
    "\n"
   ]
  },
  {
   "cell_type": "code",
   "execution_count": 1,
   "id": "f5ecfae0",
   "metadata": {},
   "outputs": [
    {
     "name": "stdout",
     "output_type": "stream",
     "text": [
      "(1, 'Hello')\n",
      "(3, 3.14)\n",
      "<class 'tuple'>\n"
     ]
    }
   ],
   "source": [
    "# tuple\n",
    "# 원소마다 타입이 달라도 생성이 가능\n",
    "tuple_a = (1, 'Hello')\n",
    "tuple_b = (3, 3.14)\n",
    "print(tuple_a)\n",
    "print(tuple_b)\n",
    "print(type(tuple_a))"
   ]
  },
  {
   "cell_type": "code",
   "execution_count": 2,
   "id": "a93e61ec",
   "metadata": {},
   "outputs": [
    {
     "name": "stdout",
     "output_type": "stream",
     "text": [
      "1\n",
      "3.14\n"
     ]
    }
   ],
   "source": [
    "# tuple에서 특정 위치의 데이터를 추출 (위치 == 인덱스 를 기준으로, 0부터 시작)\n",
    "print(tuple_a[0])\n",
    "print(tuple_b[1])"
   ]
  },
  {
   "cell_type": "code",
   "execution_count": 3,
   "id": "f9dc3235",
   "metadata": {},
   "outputs": [
    {
     "name": "stdout",
     "output_type": "stream",
     "text": [
      "(1, 'Hello', 3, 3.14)\n"
     ]
    }
   ],
   "source": [
    "# tuple끼리의 합 -> 문자의 합과 같은 결과\n",
    "print(tuple_a + tuple_b)"
   ]
  },
  {
   "cell_type": "code",
   "execution_count": 4,
   "id": "3162b9ef",
   "metadata": {},
   "outputs": [],
   "source": [
    "# tuple이랑 숫자의 합? -> 에러가 발생 -> tuple과 숫자 데이터를 합이 불가능\n",
    "# tuple_b + 1"
   ]
  },
  {
   "cell_type": "code",
   "execution_count": 5,
   "id": "f472eb1a",
   "metadata": {},
   "outputs": [],
   "source": [
    "# list 형태의 데이터\n",
    "list_a = [30, 20, 50, 10]\n",
    "list_b = ['abc', 'fi', 'be']"
   ]
  },
  {
   "cell_type": "code",
   "execution_count": 6,
   "id": "af0dce2c",
   "metadata": {},
   "outputs": [],
   "source": [
    "# list의 함수중 정렬을 변경하는 함수를 사용\n",
    "# sort() : 기본적으로는 리시트의 원소들을 오름차순 정렬로 변경\n",
    "# reverse() : 리스트의 원소들을 역순으로 변경\n",
    "# 위의 2개의 함수는 list를 변경 -> print()함수를 이용하지 않는 이상 출력 X\n",
    "list_a.sort()"
   ]
  },
  {
   "cell_type": "code",
   "execution_count": 7,
   "id": "f289e781",
   "metadata": {},
   "outputs": [
    {
     "data": {
      "text/plain": [
       "[10, 20, 30, 50]"
      ]
     },
     "execution_count": 7,
     "metadata": {},
     "output_type": "execute_result"
    }
   ],
   "source": [
    "list_a"
   ]
  },
  {
   "cell_type": "code",
   "execution_count": 8,
   "id": "ef1d37d2",
   "metadata": {},
   "outputs": [],
   "source": [
    "# 내림차순\n",
    "# 오름차순 -> 역순\n",
    "list_b.sort()\n",
    "list_b.reverse()"
   ]
  },
  {
   "cell_type": "code",
   "execution_count": 9,
   "id": "ac6e500a",
   "metadata": {},
   "outputs": [
    {
     "data": {
      "text/plain": [
       "['fi', 'be', 'abc']"
      ]
     },
     "execution_count": 9,
     "metadata": {},
     "output_type": "execute_result"
    }
   ],
   "source": [
    "list_b"
   ]
  },
  {
   "cell_type": "code",
   "execution_count": 10,
   "id": "2090ef21",
   "metadata": {},
   "outputs": [],
   "source": [
    "# sort() : 매개변수 resverse 존재 (기본값이 False -> 오름차순 정렬)\n",
    "#           reverse의 값을 True로 바꾸면 내림차순으로 변경\n",
    "list_a.sort(reverse=True)"
   ]
  },
  {
   "cell_type": "code",
   "execution_count": 11,
   "id": "e21b12a5",
   "metadata": {},
   "outputs": [
    {
     "data": {
      "text/plain": [
       "[50, 30, 20, 10]"
      ]
     },
     "execution_count": 11,
     "metadata": {},
     "output_type": "execute_result"
    }
   ],
   "source": [
    "list_a"
   ]
  },
  {
   "cell_type": "code",
   "execution_count": 12,
   "id": "56b75d47",
   "metadata": {},
   "outputs": [],
   "source": [
    "list_a.sort()"
   ]
  },
  {
   "cell_type": "code",
   "execution_count": 13,
   "id": "5d551dcc",
   "metadata": {},
   "outputs": [
    {
     "name": "stdout",
     "output_type": "stream",
     "text": [
      "[10, 20, 30, 50, 100]\n"
     ]
    }
   ],
   "source": [
    "# 리스트의 원소를 추가하는 방법\n",
    "# 가장 마지막에 원소를 추가하는 방법 : append('data')\n",
    "# 특정 위치에 데이터를 대입 : insert(index, 'data')\n",
    "list_a.append(100)\n",
    "print(list_a)"
   ]
  },
  {
   "cell_type": "code",
   "execution_count": 14,
   "id": "8651be9a",
   "metadata": {},
   "outputs": [
    {
     "name": "stdout",
     "output_type": "stream",
     "text": [
      "[10, 20, 5, 30, 50, 100]\n"
     ]
    }
   ],
   "source": [
    "list_a.insert(2, 5)\n",
    "print(list_a)"
   ]
  },
  {
   "cell_type": "code",
   "execution_count": 15,
   "id": "2e44fb41",
   "metadata": {},
   "outputs": [
    {
     "name": "stdout",
     "output_type": "stream",
     "text": [
      "[10, 20, 30, 50, 100]\n"
     ]
    }
   ],
   "source": [
    "list_a.pop(2)\n",
    "print(list_a)"
   ]
  },
  {
   "cell_type": "code",
   "execution_count": 16,
   "id": "ac8e67ba",
   "metadata": {},
   "outputs": [],
   "source": [
    "#list에 update() 함수가 존재하지 않기 떄문에 에러 발생\n",
    "# list_a.update(2, 10)"
   ]
  },
  {
   "cell_type": "code",
   "execution_count": 17,
   "id": "04de622e",
   "metadata": {},
   "outputs": [
    {
     "name": "stdout",
     "output_type": "stream",
     "text": [
      "20\n",
      "[10, 15, 30, 50, 100]\n"
     ]
    }
   ],
   "source": [
    "# list 내부의 데이터를 수정하는 방법??\n",
    "# 어떠한 데이터를 수정할 것인가? -> 수정할 데이터를 선택\n",
    "# list_a에 있는 2번째의 위치의 데이터를 수정할 것이다. (inde -> 1)\n",
    "print(list_a[1])\n",
    "# 30을 15로 변경하고 싶다. -> 30의 데이터를 제거하고 15를 대입\n",
    "list_a[1] = 15\n",
    "print(list_a)"
   ]
  },
  {
   "cell_type": "code",
   "execution_count": 18,
   "id": "2f640772",
   "metadata": {},
   "outputs": [
    {
     "data": {
      "text/plain": [
       "100"
      ]
     },
     "execution_count": 18,
     "metadata": {},
     "output_type": "execute_result"
    }
   ],
   "source": [
    "list_a.pop()"
   ]
  },
  {
   "cell_type": "code",
   "execution_count": 19,
   "id": "ccd5f939",
   "metadata": {},
   "outputs": [
    {
     "data": {
      "text/plain": [
       "[10, 15, 30, 50]"
      ]
     },
     "execution_count": 19,
     "metadata": {},
     "output_type": "execute_result"
    }
   ],
   "source": [
    "list_a"
   ]
  },
  {
   "cell_type": "code",
   "execution_count": 20,
   "id": "e1529143",
   "metadata": {},
   "outputs": [
    {
     "data": {
      "text/plain": [
       "[10, 15, 30, 50, 15]"
      ]
     },
     "execution_count": 20,
     "metadata": {},
     "output_type": "execute_result"
    }
   ],
   "source": [
    "list_a.append(15)\n",
    "list_a"
   ]
  },
  {
   "cell_type": "code",
   "execution_count": 21,
   "id": "e218ebd1",
   "metadata": {},
   "outputs": [
    {
     "name": "stdout",
     "output_type": "stream",
     "text": [
      "[10, 30, 50, 15]\n"
     ]
    }
   ],
   "source": [
    "# remove() 함수를 이용하여 list_a의 15라는 값을 제거\n",
    "list_a.remove(15)\n",
    "print(list_a)"
   ]
  },
  {
   "cell_type": "code",
   "execution_count": 22,
   "id": "f1ec8568",
   "metadata": {},
   "outputs": [],
   "source": [
    "list_a = [50, 5, 20, 10, 15]"
   ]
  },
  {
   "cell_type": "code",
   "execution_count": 23,
   "id": "f54053d7",
   "metadata": {},
   "outputs": [
    {
     "data": {
      "text/plain": [
       "[50, 5, 20, 15]"
      ]
     },
     "execution_count": 23,
     "metadata": {},
     "output_type": "execute_result"
    }
   ],
   "source": [
    "# 특정 위치의 데이터를 제거하는 del\n",
    "del list_a[3]\n",
    "list_a"
   ]
  },
  {
   "cell_type": "code",
   "execution_count": 24,
   "id": "5871b175",
   "metadata": {},
   "outputs": [
    {
     "name": "stdout",
     "output_type": "stream",
     "text": [
      "10\n",
      "10\n"
     ]
    }
   ],
   "source": [
    "# 복사본 생성? (백업)\n",
    "a = 10\n",
    "b= a\n",
    "print(a)\n",
    "print(b)"
   ]
  },
  {
   "cell_type": "code",
   "execution_count": 25,
   "id": "cbb32a34",
   "metadata": {},
   "outputs": [
    {
     "name": "stdout",
     "output_type": "stream",
     "text": [
      "11\n",
      "10\n"
     ]
    }
   ],
   "source": [
    "a += 1\n",
    "print(a)\n",
    "print(b)"
   ]
  },
  {
   "cell_type": "code",
   "execution_count": 26,
   "id": "eca35440",
   "metadata": {},
   "outputs": [],
   "source": [
    "list_clone = list_a"
   ]
  },
  {
   "cell_type": "code",
   "execution_count": 27,
   "id": "9bbb2fc6",
   "metadata": {},
   "outputs": [
    {
     "name": "stdout",
     "output_type": "stream",
     "text": [
      "[50, 5, 20, 15]\n",
      "[50, 5, 20, 15]\n"
     ]
    }
   ],
   "source": [
    "print(list_a)\n",
    "print(list_clone)"
   ]
  },
  {
   "cell_type": "code",
   "execution_count": 28,
   "id": "9ff6dc25",
   "metadata": {},
   "outputs": [
    {
     "data": {
      "text/plain": [
       "15"
      ]
     },
     "execution_count": 28,
     "metadata": {},
     "output_type": "execute_result"
    }
   ],
   "source": [
    "# list_clone를 수정\n",
    "list_clone.pop()"
   ]
  },
  {
   "cell_type": "code",
   "execution_count": 29,
   "id": "7b54a959",
   "metadata": {},
   "outputs": [
    {
     "name": "stdout",
     "output_type": "stream",
     "text": [
      "[50, 5, 20]\n",
      "[50, 5, 20]\n"
     ]
    }
   ],
   "source": [
    "print(list_a)\n",
    "print(list_clone)"
   ]
  },
  {
   "cell_type": "code",
   "execution_count": 30,
   "id": "3e98ef60",
   "metadata": {},
   "outputs": [],
   "source": [
    "# list = list -> 같은 위치의 데이터를 의미\n",
    "# 실제 복사본을 생서앟려면 copy() 함수를 이용\n",
    "list_a.copy()\n",
    "list_clone2 = list_a.copy()"
   ]
  },
  {
   "cell_type": "code",
   "execution_count": 31,
   "id": "79a83b10",
   "metadata": {},
   "outputs": [],
   "source": [
    "list_clone2.append(1)"
   ]
  },
  {
   "cell_type": "code",
   "execution_count": 32,
   "id": "19dce0fd",
   "metadata": {},
   "outputs": [
    {
     "name": "stdout",
     "output_type": "stream",
     "text": [
      "[50, 5, 20]\n",
      "[50, 5, 20]\n",
      "[50, 5, 20, 1]\n"
     ]
    }
   ],
   "source": [
    "print(list_a)\n",
    "print(list_clone)\n",
    "print(list_clone2)"
   ]
  },
  {
   "cell_type": "code",
   "execution_count": 33,
   "id": "ab5adf43",
   "metadata": {},
   "outputs": [],
   "source": [
    "# list에서 정렬을 변경하고 원본의 데이터는 그대로 유지\n",
    "# sorted(list명)\n",
    "sort_list_a = sorted(list_a)"
   ]
  },
  {
   "cell_type": "code",
   "execution_count": 34,
   "id": "50c3c86b",
   "metadata": {},
   "outputs": [
    {
     "name": "stdout",
     "output_type": "stream",
     "text": [
      "[50, 5, 20]\n",
      "[5, 20, 50]\n"
     ]
    }
   ],
   "source": [
    "print(list_a)\n",
    "print(sort_list_a)"
   ]
  },
  {
   "cell_type": "code",
   "execution_count": 35,
   "id": "df7cbc3a",
   "metadata": {},
   "outputs": [
    {
     "data": {
      "text/plain": [
       "[50, 5, 20, 'fi', 'be', 'abc']"
      ]
     },
     "execution_count": 35,
     "metadata": {},
     "output_type": "execute_result"
    }
   ],
   "source": [
    "# list 간의 합\n",
    "list_a + list_b"
   ]
  },
  {
   "cell_type": "code",
   "execution_count": 36,
   "id": "6a65dc1d",
   "metadata": {},
   "outputs": [],
   "source": [
    "# list와 숫자의 합\n",
    "# list도 단일데이터와의 합은 문제 발\n",
    "#list_a + 1"
   ]
  },
  {
   "cell_type": "code",
   "execution_count": 37,
   "id": "e60984b3",
   "metadata": {},
   "outputs": [
    {
     "data": {
      "text/plain": [
       "2"
      ]
     },
     "execution_count": 37,
     "metadata": {},
     "output_type": "execute_result"
    }
   ],
   "source": [
    "# 데이터를 찾는 함수\n",
    "# index() : 특정 데이터의 첫 번째 위치를 출력 -> 해당 데이터가 존재하지 \n",
    "list_a.index(20)"
   ]
  },
  {
   "cell_type": "code",
   "execution_count": 38,
   "id": "d408fd7d",
   "metadata": {},
   "outputs": [],
   "source": [
    "# index() 함수를 이용해서 없는 데이터를 찾는 경우 -> 에러가 발생\n",
    "# list_a.index(10)"
   ]
  },
  {
   "cell_type": "code",
   "execution_count": 39,
   "id": "5f6953b3",
   "metadata": {},
   "outputs": [],
   "source": [
    "# 2차원 데이터 : 리스트 안에 리스트, 리스트 안에 튜플, 튜플 안에 리스트 딕셔너리 안에 리스트, 리스트 안에 딕셔너리\n",
    "list_c = [\n",
    "    [10, 20],\n",
    "    [30, 40],\n",
    "    [50, 60]\n",
    "]\n"
   ]
  },
  {
   "cell_type": "code",
   "execution_count": 40,
   "id": "e9c72436",
   "metadata": {},
   "outputs": [
    {
     "data": {
      "text/plain": [
       "[30, 40]"
      ]
     },
     "execution_count": 40,
     "metadata": {},
     "output_type": "execute_result"
    }
   ],
   "source": [
    "# 2차원 데이터에서 특정 위치 하나를 선택하면 -> 1차원 데이터 변경\n",
    "list_c[1] # list_c에서 2번째 위치의 데이터를 추출\n"
   ]
  },
  {
   "cell_type": "code",
   "execution_count": 41,
   "id": "4ec9ead7",
   "metadata": {},
   "outputs": [
    {
     "name": "stdout",
     "output_type": "stream",
     "text": [
      "[30, 40]\n",
      "30\n"
     ]
    }
   ],
   "source": [
    "# list_c에서 30이라는 데이터를 추출\n",
    "# list_C에서 30은 2번째 위치의 원소 안에 포함\n",
    "print(list_c[1])\n",
    "# 2번째 위치의 원소에서 첫 번재 위치의 데이터가 30\n",
    "print(list_c[1][0])"
   ]
  },
  {
   "cell_type": "code",
   "execution_count": 42,
   "id": "8cc16cda",
   "metadata": {},
   "outputs": [],
   "source": [
    "dict_a = {\n",
    "    'name' : 'test',\n",
    "    'age' : 20,\n",
    "    'phone' : '01012345678'\n",
    "    \n",
    "}"
   ]
  },
  {
   "cell_type": "code",
   "execution_count": 43,
   "id": "f67ca8ad",
   "metadata": {},
   "outputs": [],
   "source": [
    "# dict는 위치를 기준으로 하는 list와 달리 key를 기준으로 데이터를 추출\n",
    "# dict_a[0] --> 0이라는 키값에 대응이 되는 calue를 출력한다.\n",
    "# 0이라는 key가 존재하지 않기 때문에 에러 발생\n",
    "# dict_a[0]\n",
    "# dict_a[0]"
   ]
  },
  {
   "cell_type": "code",
   "execution_count": 44,
   "id": "5966c782",
   "metadata": {},
   "outputs": [
    {
     "data": {
      "text/plain": [
       "'test'"
      ]
     },
     "execution_count": 44,
     "metadata": {},
     "output_type": "execute_result"
    }
   ],
   "source": [
    "dict_a['name']"
   ]
  },
  {
   "cell_type": "code",
   "execution_count": 45,
   "id": "5ea4998a",
   "metadata": {},
   "outputs": [],
   "source": [
    "dict_b = {\n",
    "    'age' : 10,\n",
    "    'name' : 'test2',\n",
    "    'phone' : '01011112222'\n",
    "}\n"
   ]
  },
  {
   "cell_type": "code",
   "execution_count": 46,
   "id": "1dec0eba",
   "metadata": {},
   "outputs": [
    {
     "data": {
      "text/plain": [
       "'test2'"
      ]
     },
     "execution_count": 46,
     "metadata": {},
     "output_type": "execute_result"
    }
   ],
   "source": [
    "dict_b['name']"
   ]
  },
  {
   "cell_type": "code",
   "execution_count": 47,
   "id": "79a535d2",
   "metadata": {},
   "outputs": [],
   "source": [
    "# 데이터를 추가하려면 -> key:vlaue를 추가\n",
    "# 추가 기능과 수정 기능의 코드 차이가 거의 없다.\n",
    "# 추가 -> 새로운 ket = data\n",
    "# 수정 -> 기존 key = data\n",
    "dict_a['loc'] = 'seoul'"
   ]
  },
  {
   "cell_type": "code",
   "execution_count": 48,
   "id": "2532bb73",
   "metadata": {},
   "outputs": [
    {
     "data": {
      "text/plain": [
       "{'name': 'test', 'age': 20, 'phone': '01012345678', 'loc': 'seoul'}"
      ]
     },
     "execution_count": 48,
     "metadata": {},
     "output_type": "execute_result"
    }
   ],
   "source": [
    "dict_a"
   ]
  },
  {
   "cell_type": "code",
   "execution_count": 49,
   "id": "0f064e4e",
   "metadata": {},
   "outputs": [],
   "source": [
    "# 기존의 key값을 선태갛고 데이터를 대입하면\n",
    "# 기존의 value는 제거되고 새로운 value가 추가(데이터 수정)\n",
    "dict_a['age'] = '30'"
   ]
  },
  {
   "cell_type": "code",
   "execution_count": 50,
   "id": "81d0263f",
   "metadata": {},
   "outputs": [
    {
     "data": {
      "text/plain": [
       "{'name': 'test', 'age': '30', 'phone': '01012345678', 'loc': 'seoul'}"
      ]
     },
     "execution_count": 50,
     "metadata": {},
     "output_type": "execute_result"
    }
   ],
   "source": [
    "dict_a"
   ]
  },
  {
   "cell_type": "code",
   "execution_count": 51,
   "id": "b316a4e7",
   "metadata": {},
   "outputs": [],
   "source": [
    "# dict에서 데이터를 제거 -> key와 value"
   ]
  },
  {
   "cell_type": "code",
   "execution_count": 52,
   "id": "11a85db6",
   "metadata": {},
   "outputs": [
    {
     "data": {
      "text/plain": [
       "{'name': 'test', 'age': '30', 'phone': '01012345678', 'loc': 'seoul'}"
      ]
     },
     "execution_count": 52,
     "metadata": {},
     "output_type": "execute_result"
    }
   ],
   "source": [
    "dict_a"
   ]
  },
  {
   "cell_type": "code",
   "execution_count": 53,
   "id": "f10814a0",
   "metadata": {},
   "outputs": [],
   "source": [
    "# 데이터를 수집하는 경우\n",
    "# open api(data api) 사용하는 경우\n",
    "# 리스트 안에 딕셔너리 이거나 딕셔너리 안에 리스트인 경우가 과반\n",
    "sample_data = {\n",
    "    'name' : ['kim', 'park', 'lee'],\n",
    "    'age' : [20, 25, 30],\n",
    "    'gender' : ['F', 'M', 'F']\n",
    "}"
   ]
  },
  {
   "cell_type": "code",
   "execution_count": 54,
   "id": "ef843b7e",
   "metadata": {},
   "outputs": [],
   "source": [
    "#sample_datadptjsms 'M'을 추출하려면?\n",
    "# sample_data의 타입이? -> dict이므로"
   ]
  },
  {
   "cell_type": "code",
   "execution_count": 55,
   "id": "430ff728",
   "metadata": {},
   "outputs": [
    {
     "data": {
      "text/plain": [
       "'M'"
      ]
     },
     "execution_count": 55,
     "metadata": {},
     "output_type": "execute_result"
    }
   ],
   "source": [
    "sample_data['gender'][1]"
   ]
  },
  {
   "cell_type": "code",
   "execution_count": 56,
   "id": "c532e5fd",
   "metadata": {},
   "outputs": [],
   "source": [
    "sample_data2 = [\n",
    "    {\n",
    "    'name' : 'kim',\n",
    "    'age' : 20,\n",
    "    'gender' : 'F'\n",
    "    },\n",
    "{\n",
    "    'name' : 'park',\n",
    "    'age' : 25,\n",
    "    'gender' : 'M'\n",
    "},\n",
    "{\n",
    "    'name' : 'lee',\n",
    "    'age' : 30,\n",
    "    'gender' : 'F'\n",
    "}\n",
    "]\n"
   ]
  },
  {
   "cell_type": "code",
   "execution_count": 57,
   "id": "213fbe3d",
   "metadata": {},
   "outputs": [
    {
     "data": {
      "text/plain": [
       "{'name': 'park', 'age': 25, 'gender': 'M'}"
      ]
     },
     "execution_count": 57,
     "metadata": {},
     "output_type": "execute_result"
    }
   ],
   "source": [
    "# sample_data2에서  'park'이라는 데이터를 추출하려면?\n",
    "# sample_data2에서 2번째 위치에 'park'데이터가 존재 -> index 1\n",
    "sample_data2[1]"
   ]
  },
  {
   "cell_type": "code",
   "execution_count": 58,
   "id": "187b2b7f",
   "metadata": {},
   "outputs": [
    {
     "data": {
      "text/plain": [
       "'park'"
      ]
     },
     "execution_count": 58,
     "metadata": {},
     "output_type": "execute_result"
    }
   ],
   "source": [
    "sample_data2[1]['name']"
   ]
  },
  {
   "cell_type": "code",
   "execution_count": 59,
   "id": "cd75153e",
   "metadata": {},
   "outputs": [
    {
     "name": "stdout",
     "output_type": "stream",
     "text": [
      "['kim']\n"
     ]
    }
   ],
   "source": [
    "# sample_data2[1]은 데이터의 타입이 dict이고 'park' 데이터는  'name'\n",
    "# 이름들을 저장할 수 있는 공간을 생성 -> 변수에 여러 개의 이름이 저장 -> 리스트나 딕셔너리 생성\n",
    "name_list = []\n",
    "# sample_data2에서 첫번째 원소의 'name'의 값을 추출하여 name_list에 추가\n",
    "name = sample_data2[0]['name']\n",
    "name_list.append(name)\n",
    "print(name_list)"
   ]
  },
  {
   "cell_type": "code",
   "execution_count": 60,
   "id": "1160a33d",
   "metadata": {},
   "outputs": [
    {
     "name": "stdout",
     "output_type": "stream",
     "text": [
      "['kim', 'park']\n",
      "['kim', 'park', 'lee']\n"
     ]
    }
   ],
   "source": [
    "# sample_data2에서 두 번째 원소의 'name'의 값을 추출하여 name_list에 추가\n",
    "name = sample_data2[1]['name']\n",
    "name_list.append(name)\n",
    "print(name_list)\n",
    "name = sample_data2[2]['name']\n",
    "name_list.append(name)\n",
    "print(name_list)\n"
   ]
  },
  {
   "cell_type": "code",
   "execution_count": 61,
   "id": "71287230",
   "metadata": {},
   "outputs": [
    {
     "name": "stdout",
     "output_type": "stream",
     "text": [
      "['kim']\n",
      "['kim', 'park']\n",
      "['kim', 'park', 'lee']\n"
     ]
    }
   ],
   "source": [
    "# 반복문을 이용하여 name_list 생성\n",
    "# 새로운 빈 리스트를 생성\n",
    "\n",
    "name_list2 = []\n",
    "for i in range(len(sample_data2)):\n",
    "    name = sample_data2[i]['name']\n",
    "    name_list2.append(name)\n",
    "    print(name_list2)"
   ]
  },
  {
   "cell_type": "code",
   "execution_count": 62,
   "id": "def9f43e",
   "metadata": {},
   "outputs": [
    {
     "data": {
      "text/plain": [
       "3"
      ]
     },
     "execution_count": 62,
     "metadata": {},
     "output_type": "execute_result"
    }
   ],
   "source": [
    "len(sample_data2)"
   ]
  },
  {
   "cell_type": "code",
   "execution_count": 63,
   "id": "ac37f397",
   "metadata": {},
   "outputs": [
    {
     "name": "stdout",
     "output_type": "stream",
     "text": [
      "10\n",
      "40\n",
      "20\n",
      "30\n",
      "\n",
      "\n",
      "10\n",
      "40\n",
      "20\n",
      "30\n"
     ]
    }
   ],
   "source": [
    "list_a = [10, 40, 20, 30]\n",
    "\n",
    "for i in list_a:\n",
    "    # i는 list_a으 ㅣ각 원소들의 대입\n",
    "    print(i)\n",
    "\n",
    "print('\\n')\n",
    "\n",
    "for i in range(len(list_a)):\n",
    "    # i는 list_a의 위치 값\n",
    "    print(list_a[i])"
   ]
  },
  {
   "cell_type": "code",
   "execution_count": 64,
   "id": "32ee99db",
   "metadata": {},
   "outputs": [
    {
     "name": "stdout",
     "output_type": "stream",
     "text": [
      "{'name': 'kim', 'age': 20, 'gender': 'F'}\n",
      "kim\n",
      "{'name': 'park', 'age': 25, 'gender': 'M'}\n",
      "park\n",
      "{'name': 'lee', 'age': 30, 'gender': 'F'}\n",
      "lee\n"
     ]
    },
    {
     "data": {
      "text/plain": [
       "['kim', 'park', 'lee']"
      ]
     },
     "execution_count": 64,
     "metadata": {},
     "output_type": "execute_result"
    }
   ],
   "source": [
    "name_list3 = []\n",
    "for i in sample_data2:\n",
    "    # 1는 ??? -> sample_data2에 있는 원소들(dict)\n",
    "    print(i)\n",
    "    print(i['name'])\n",
    "    name_list3.append(i['name'])\n",
    "    \n",
    "name_list3"
   ]
  },
  {
   "cell_type": "code",
   "execution_count": 65,
   "id": "c81541b9",
   "metadata": {},
   "outputs": [
    {
     "name": "stdout",
     "output_type": "stream",
     "text": [
      "name\n",
      "['kim', 'park', 'lee']\n",
      "age\n",
      "[20, 25, 30]\n",
      "gender\n",
      "['F', 'M', 'F']\n"
     ]
    }
   ],
   "source": [
    "# dict 형태의 데이터를 가지고 반복문을 이용한다면?\n",
    "for i in sample_data:\n",
    "    print(i)\n",
    "    print(sample_data[i])\n",
    "    \n"
   ]
  },
  {
   "cell_type": "code",
   "execution_count": 66,
   "id": "aaf5cf79",
   "metadata": {},
   "outputs": [
    {
     "data": {
      "text/plain": [
       "[7, 10, 30, 50]"
      ]
     },
     "execution_count": 66,
     "metadata": {},
     "output_type": "execute_result"
    }
   ],
   "source": [
    "# sort() -> 리스트 각각의 원소들을 비교하여 가장 작은 데이터를 처음으로 가장 큰 데이터를 마지막으로 하여 정렬을 변경하는 함수\n",
    "\n",
    "sample_list = [30, 10, 50, 7]\n",
    "sorted_list = []\n",
    "\n",
    "for i in range (len(sample_list)):\n",
    "    box = 0\n",
    "    min_vlaue = sample_list[i]\n",
    "    min_idx = -1\n",
    "    for j in range (i+1, len(sample_list)):\n",
    "       if (sample_list[j] < min_vlaue):\n",
    "           min_vlaue = sample_list[j]\n",
    "           min_idx = j\n",
    "           box = sample_list[i]\n",
    "           sample_list[i] = sample_list[min_idx]\n",
    "           sample_list[min_idx] = box\n",
    "    sorted_list.append(min_vlaue)\n",
    "    \n",
    "sorted_list"
   ]
  },
  {
   "cell_type": "code",
   "execution_count": 67,
   "id": "f15078c5",
   "metadata": {},
   "outputs": [
    {
     "data": {
      "text/plain": [
       "[7, 10, 30, 50]"
      ]
     },
     "execution_count": 67,
     "metadata": {},
     "output_type": "execute_result"
    }
   ],
   "source": [
    "sample_list = [30, 10, 50, 7]\n",
    "sort_list = []\n",
    "\n",
    "while sample_list:\n",
    "    min_value = min(sample_list)\n",
    "    sort_list.append(min_value)\n",
    "    sample_list.remove(min_value)\n",
    "\n",
    "sort_list"
   ]
  },
  {
   "cell_type": "code",
   "execution_count": null,
   "id": "af4805ab",
   "metadata": {},
   "outputs": [],
   "source": [
    "\n"
   ]
  },
  {
   "cell_type": "code",
   "execution_count": null,
   "id": "8b82d200",
   "metadata": {},
   "outputs": [],
   "source": []
  },
  {
   "cell_type": "code",
   "execution_count": null,
   "id": "2c693526",
   "metadata": {},
   "outputs": [],
   "source": []
  },
  {
   "cell_type": "code",
   "execution_count": null,
   "id": "b46c3e35",
   "metadata": {},
   "outputs": [],
   "source": []
  }
 ],
 "metadata": {
  "kernelspec": {
   "display_name": "Python 3",
   "language": "python",
   "name": "python3"
  },
  "language_info": {
   "codemirror_mode": {
    "name": "ipython",
    "version": 3
   },
   "file_extension": ".py",
   "mimetype": "text/x-python",
   "name": "python",
   "nbconvert_exporter": "python",
   "pygments_lexer": "ipython3",
   "version": "3.13.7"
  }
 },
 "nbformat": 4,
 "nbformat_minor": 5
}
