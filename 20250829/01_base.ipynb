{
 "cells": [
  {
   "cell_type": "markdown",
   "id": "9a88544e",
   "metadata": {},
   "source": [
    "### 은행 계좌 class 생성\n",
    "- 클래스 변수 생성 (동일한 class를 생성하였을 때 서로 공유하는 변수)\n",
    "    - total_cost = 0\n",
    "    - user_cnt = 0\n",
    "- 생성자 함수 (class 간 독립적인 변수 생성)\n",
    "    - 유저의 이름 : name (string)\n",
    "    - 유저의 생년월일 : birth (string)\n",
    "    - 계좌의 잔액 : cost (int)\n",
    "    - 계좌의 기록 : log (list)\n",
    "    - 유저의 숫자를 1 증가\n",
    "- 함수 생성\n",
    "    - 입/출금 함수\n",
    "        - 매개변수\n",
    "            - 입금과 출금을 확인하는 변수(_type) : 0이면 입금, 1이면 출금\n",
    "            - 금액(_cost)\n",
    "        - _type이 0이라면 계좌의 잔액(독립적이니 변수)을 증가 시킨다. 은행이 가지고 있는 총액(클래스 변수)을 증가시킨다.\n",
    "        - _tyoe이 1이라면 계좌의 잔액을 감소 시킨다. 은행이 가지고 있는 총액을 감소시킨다.\n",
    "            - _cost가 self.cost보다 작거나 같은 경우\n",
    "                - 계좌의 잔액이 감소, 은행의 총액 감소\n",
    "            - 위의 조건이 거짓이라면\n",
    "                - 계좌는 그대로 유지\n",
    "                - '계좌 부족' 메세지 출력\n",
    "        - 입/출금 내역을 self.log에 추가(append())\n",
    "- 계좌의 입/출금 내역을 보여주는 함수\n",
    "    - 매개변수\n",
    "        - 입금/출금/전체 내역을 확인할 수 있는 변수 (_mode)\n",
    "            - 기본값은 9\n",
    "            - 입금 내역은 0, 출금 내역은 1\n",
    "    - _mode에 따라서 self.log에 있는 데이터를 필터해서 되돌려준다.\n"
   ]
  },
  {
   "cell_type": "code",
   "execution_count": 1,
   "id": "620f38b0",
   "metadata": {},
   "outputs": [],
   "source": [
    "# class 선언\n",
    "class Bank:\n",
    "    # class 변수 선언\n",
    "    total_cost = 0 # 유저가 입금 시 증가 / 출금 시 감소\n",
    "    user_cnt = 0 # class가 생성이 될 때(유저가 계좌를 생성할 때) 1씩 증가\n",
    "\n",
    "    # 생성자 함수(__init__) 선언\n",
    "    def __init__(self, _name, _birth):\n",
    "        # 독립적인 변수를 선언\n",
    "        self.name = _name\n",
    "        self.birth = _birth\n",
    "        self.cost = 0\n",
    "        self.log = []\n",
    "        # 유저의 수(class변수)를 1 증가시킨다.\n",
    "        Bank.user_cnt += 1\n",
    "    \n",
    "    #입/출금 함수 선언\n",
    "    def change_cost(self, _type, _cost):\n",
    "        # _type이 0이라면 -> 입금\n",
    "        if _type == 0:\n",
    "            # self.cost에 _cost만큼 증가\n",
    "            self.cost += _cost\n",
    "            # Bank.total_cost에 _cost만큼 증가\n",
    "            Bank.total_cost += _cost\n",
    "            # log를 추가 -> dict의 형태의 데이터를 추가\n",
    "            dict_data = {\n",
    "                \"타입\" : \"입금\",\n",
    "                \"금액\" : _cost,\n",
    "                \"잔액\" : self.cost\n",
    "            }\n",
    "            # self.log에 dict_data를 차가 -> self.log는 2차원 데이터 생성\n",
    "            self.log.append(dict_data)\n",
    "            print(f\"입금완료 : 잔액은 {self.cost}입니다.\")\n",
    "        elif _type == 1:\n",
    "            # 출금\n",
    "            # self.cost가 _cost보다 크거나 같은 경우\n",
    "            if self.cost >= _cost:\n",
    "                # 출금이 가능\n",
    "                #self.cost에 _cost만큼 감소\n",
    "                self.cost -= _cost\n",
    "                #Back.cost도 감소\n",
    "                Bank.total_cost -= _cost\n",
    "                #dict_data 생성 -> self.log에 추가\n",
    "                dict_data = {\n",
    "                    \"타입\" : \"출금\",\n",
    "                    \"금액\" : _cost,\n",
    "                    \"잔액\" : self.cost\n",
    "                }\n",
    "                self.log.append(dict_data)\n",
    "                print(f\"출금 완료 : 잔액은 {self.cost}입니다.\")\n",
    "            else:\n",
    "                print(\"현재 잔액이 부족합니다.\")\n",
    "        else:\n",
    "            print(\"_type값이 잘못되었습니다.\")\n",
    "                \n",
    "    def view_log(self, _mode = 9):\n",
    "        # 입출금 내역(self.log)을 출력\n",
    "        # _mode가 9인 경우 : 전체 내역 출력\n",
    "        if _mode == 9:\n",
    "            # self.log를 기준으로 반복문을 생성\n",
    "            for log_data in self.log:\n",
    "                print(log_data)\n",
    "        #임금 내역만 출력한다. _mode = 0이라면\n",
    "        elif _mode == 0:\n",
    "            for log_data in self.log:\n",
    "                # log_data의 타입 -> dict {\"타입\" : \"xx\", \"금액\" : \"xxxx\", \"잔액\" : \"xxxxx\"}\n",
    "                #log_data에서 key가 '타입'인 value의 값이 '입금' 이라면\n",
    "                if log_data['타입'] == '입금':\n",
    "                    print(log_data)\n",
    "        elif _mode == 1:\n",
    "            for log_data in self.log:\n",
    "                # log_data의 타입 -> dict {\"타입\" : \"xx\", \"금액\" : \"xxxx\", \"잔액\" : \"xxxxx\"}\n",
    "                #log_data에서 key가 '타입'인 value의 값이 '츌금' 이라면\n",
    "                if log_data['타입'] == '출금':\n",
    "                    print(log_data)\n",
    "        else:\n",
    "            print(\"_mode의 값이 잘못되었습니다.\")\n"
   ]
  },
  {
   "cell_type": "code",
   "execution_count": 2,
   "id": "c844b250",
   "metadata": {},
   "outputs": [],
   "source": [
    "# class 생성 -> 은행의 계좌 생성\n",
    "user1 = Bank('kim', '900101')\n",
    "user2 = Bank('park', '001020')"
   ]
  },
  {
   "cell_type": "code",
   "execution_count": 3,
   "id": "4110f9d2",
   "metadata": {},
   "outputs": [
    {
     "name": "stdout",
     "output_type": "stream",
     "text": [
      "2\n",
      "2\n"
     ]
    }
   ],
   "source": [
    "print(user1.user_cnt)\n",
    "print(user2.user_cnt)"
   ]
  },
  {
   "cell_type": "code",
   "execution_count": 4,
   "id": "d90ac90d",
   "metadata": {},
   "outputs": [
    {
     "name": "stdout",
     "output_type": "stream",
     "text": [
      "입금완료 : 잔액은 10000입니다.\n"
     ]
    }
   ],
   "source": [
    "# user1이 입금 함수를 호출\n",
    "user1.change_cost(_cost = 10000, _type = 0)"
   ]
  },
  {
   "cell_type": "code",
   "execution_count": 5,
   "id": "e3569973",
   "metadata": {},
   "outputs": [
    {
     "name": "stdout",
     "output_type": "stream",
     "text": [
      "현재 잔액이 부족합니다.\n"
     ]
    }
   ],
   "source": [
    "# user2에서 출금 함수를 호출 -> user2의 잔액은 0 -> 출금하면 잔액부족\n",
    "user2.change_cost(1, 10000)"
   ]
  },
  {
   "cell_type": "code",
   "execution_count": 6,
   "id": "f642ab1a",
   "metadata": {},
   "outputs": [
    {
     "name": "stdout",
     "output_type": "stream",
     "text": [
      "10000\n",
      "10000\n"
     ]
    }
   ],
   "source": [
    "print(user1.total_cost)\n",
    "print(user2.total_cost)"
   ]
  },
  {
   "cell_type": "code",
   "execution_count": 7,
   "id": "880a6ce6",
   "metadata": {},
   "outputs": [
    {
     "name": "stdout",
     "output_type": "stream",
     "text": [
      "10000\n",
      "0\n"
     ]
    }
   ],
   "source": [
    "print(user1.cost)\n",
    "print(user2.cost)"
   ]
  },
  {
   "cell_type": "code",
   "execution_count": 8,
   "id": "c6cf8061",
   "metadata": {},
   "outputs": [
    {
     "name": "stdout",
     "output_type": "stream",
     "text": [
      "출금 완료 : 잔액은 0입니다.\n"
     ]
    }
   ],
   "source": [
    "user1.change_cost(1, 10000)"
   ]
  },
  {
   "cell_type": "code",
   "execution_count": 9,
   "id": "a55feae3",
   "metadata": {},
   "outputs": [
    {
     "name": "stdout",
     "output_type": "stream",
     "text": [
      "{'타입': '입금', '금액': 10000, '잔액': 10000}\n",
      "{'타입': '출금', '금액': 10000, '잔액': 0}\n"
     ]
    }
   ],
   "source": [
    "#Bank_class에 있는 view_log 함수 호출\n",
    "user1.view_log()"
   ]
  },
  {
   "cell_type": "code",
   "execution_count": 10,
   "id": "7913b58f",
   "metadata": {},
   "outputs": [
    {
     "name": "stdout",
     "output_type": "stream",
     "text": [
      "{'타입': '입금', '금액': 10000, '잔액': 10000}\n"
     ]
    }
   ],
   "source": [
    "user1.view_log(0)"
   ]
  },
  {
   "cell_type": "code",
   "execution_count": 11,
   "id": "0db53e9e",
   "metadata": {},
   "outputs": [
    {
     "name": "stdout",
     "output_type": "stream",
     "text": [
      "{'타입': '출금', '금액': 10000, '잔액': 0}\n"
     ]
    }
   ],
   "source": [
    "user1.view_log(1)"
   ]
  },
  {
   "cell_type": "markdown",
   "id": "54860156",
   "metadata": {},
   "source": [
    "### class의 상속\n",
    "- 상속? -> 물려받다.\n",
    "    - class 간의 상속은 부모 클래스에 있는 기능(변수, 함수)을 자식 클래스에서 사용이 가능하게 만드는 기능\n",
    "    - 부모 클래스의 기능은 그대로 유지한 상태에서 자식 클래스에서 해당 기능을 그대로 사용하거나 약간의 변형을 하여 사용이 가능\n",
    "    - 자식 클래스에서 부모 클래스에 접근하는 방법 : super()"
   ]
  },
  {
   "cell_type": "code",
   "execution_count": 12,
   "id": "85b8bd0a",
   "metadata": {},
   "outputs": [],
   "source": [
    "# 부모 클래스 선언\n",
    "class A:\n",
    "    # 생성자 함수(클래스 안에서 독립적으로 사용한 변수를 생성)\n",
    "    def __init__(self, _name, _age):\n",
    "        self.name = _name\n",
    "        self.age = _age\n",
    "    # class에 저장된 유정의 정보를 출력하는 함수\n",
    "    def view_info(self):\n",
    "        print(f\"이름은 {self.name}이고 나이는 {self.age}입니다.\")"
   ]
  },
  {
   "cell_type": "code",
   "execution_count": 13,
   "id": "387fbd35",
   "metadata": {},
   "outputs": [],
   "source": [
    "test_user = A('kim', 20)"
   ]
  },
  {
   "cell_type": "code",
   "execution_count": 14,
   "id": "bc1bc494",
   "metadata": {},
   "outputs": [
    {
     "name": "stdout",
     "output_type": "stream",
     "text": [
      "이름은 kim이고 나이는 20입니다.\n"
     ]
    }
   ],
   "source": [
    "test_user.view_info()"
   ]
  },
  {
   "cell_type": "code",
   "execution_count": 15,
   "id": "0237c620",
   "metadata": {},
   "outputs": [],
   "source": [
    "# 자식 클래스 선언 -> A 클래스의 기능을 상속 받는다.\n",
    "class B(A):\n",
    "    # B라는 클래스는 A의 변수 2개와 view_info() 함수를 사용이 가능\n",
    "    # 생성자 함수\n",
    "    def __init__(self, _name, _age, _loc):\n",
    "        # 부모클래스에서 저장하는 부분\n",
    "        # self.name = _name\n",
    "        # self.age = _age\n",
    "        # 간단하게 저장이 되지 않는 경우\n",
    "        # 부모클래스(super())에 안에(.) 생성자함수(__init__())호출\n",
    "        super().__init__(_name, _age)\n",
    "        self.loc = _loc\n",
    "    def view_info(self):   # overriding\n",
    "        # print(f\"이름은 {self.name}이고 나이는 {self.age} 지역은 {self.loc}입니다.\")   \n",
    "        # 부모클래스에 있는 view_info()호출\n",
    "        super().view_info()\n",
    "        # 추가 기능\n",
    "        print(f\"지역은 {self.loc}입니다.\")\n",
    "        "
   ]
  },
  {
   "cell_type": "code",
   "execution_count": 16,
   "id": "8a75fe56",
   "metadata": {},
   "outputs": [],
   "source": [
    "test_user2 = B('park', 30, 'seoul')"
   ]
  },
  {
   "cell_type": "code",
   "execution_count": 17,
   "id": "a81fd262",
   "metadata": {},
   "outputs": [
    {
     "name": "stdout",
     "output_type": "stream",
     "text": [
      "이름은 park이고 나이는 30입니다.\n",
      "지역은 seoul입니다.\n",
      "None\n"
     ]
    }
   ],
   "source": [
    "# test_user2에 사용 가능한 함수는 2개 -> view_info(), view_info2()\n",
    "print(test_user2.view_info())"
   ]
  },
  {
   "cell_type": "markdown",
   "id": "ac6357f1",
   "metadata": {},
   "source": [
    "### User calss 선언\n",
    "- Bank 클래스를 기능을 상속받는다.\n",
    "- 일의 종류와 금액을 나타내는 dict 형태의 데이터를 클래스 변수에 저장\n",
    "- 구매할 상품의 종류와 금액을 나타내는 dict 형태의 데이터를 클래스에 저장\n",
    "1. 생성자 함수 선언\n",
    "    - Bank 클래스 안에 변수 _name, _age 데이터를 받는다.\n",
    "    - 구매한 물건의 목록을 저장하기 위해 비어있는 리스트를 생성\n",
    "- 일을 한다 -> work() 함수 선언\n",
    "    - 매개변수\n",
    "        - 일의 종류(_type)\n",
    "    - _type에 따라서 금액 지정\n",
    "        - dict을 이용하여 금액을 지정\n",
    "    - 유저의 잔액을 금액만큼 증가\n",
    "        - Bank(부모 클래스) 안에 있는 change_cost() 함수를 이용\n",
    "2. 구매하는 함수 -> buy()\n",
    "    - 매개변수\n",
    "        - 물건의 종류(_type)\n",
    "    - _type에 따라서 금액 지정\n",
    "        - dict을 이용하여 금액을 지정\n",
    "    - 구매하려는 물건의 금액과 유저의 잔액(self.cost) 비교\n",
    "        - 유저의 잔액이 크거나 같다면\n",
    "            - 부모클래스의 change_cost() 함수를 이용\n",
    "            - 구매한 물건의 종류를 목록에 추가\n",
    "        - 작다면\n",
    "            - \"잔액이 부족합니다\" 메세지를 출력\n",
    "\n",
    "\n"
   ]
  },
  {
   "cell_type": "code",
   "execution_count": 18,
   "id": "8b346d77",
   "metadata": {},
   "outputs": [],
   "source": [
    "# user class 선언한고 bank class의 기능을 상속 받는다.\n",
    "class User(Bank):\n",
    "    # 클래스 변수 생성\n",
    "    work_types = {\n",
    "        'A' : 10000,\n",
    "        'B' : 20000,\n",
    "        'C' : 30000\n",
    "    }\n",
    "    \n",
    "    item_list = {\n",
    "        \"돈까스\" : 7000,\n",
    "        \"학식\" : 6000,\n",
    "        \"햄버거\" : 8000,\n",
    "        \"탕수육\" : 19000\n",
    "    }\n",
    "    # 생성자 함수 -> 변수들을 저장\n",
    "    def __init__(self, _name, _birth):\n",
    "        # _name, _age는 부모클래스의 생성자 함수를 이용하여 저장\n",
    "        super().__init__(_name, _birth)\n",
    "        # 유저가 구매한 물건의 목록을 생성하여 비어있는 리스트를 대입\n",
    "        self.items = []\n",
    "    \n",
    "    # work() 함수를 생성\n",
    "    def work(self, _type):\n",
    "        # _type에 따라 금액이 지정 -> work_types에 저장\n",
    "        # work_types에 없는 key를 지정하면 error 발생 -> 예외 처리\n",
    "        try:\n",
    "            # 실행 할 코드를 작성\n",
    "            # 금액 지정\n",
    "            cost = User.work_types[_type]\n",
    "            # 잔액을 증가시킨다.\n",
    "            # 부모 클래스에 있는 change_cost() 함수를 호출\n",
    "            super().change_cost(_type = 0, _cost = cost)\n",
    "        except:\n",
    "            # try 영역에서 코드들이 실행되다가 문제가 발생시\n",
    "            print(\"work_types에 존재하지 않는 _type 입력하였습니다.\")\n",
    "    \n",
    "    # buy() 함수를 생성\n",
    "    def buy(self, _type, _cnt = 1):\n",
    "        # _type에 따라 금액 지정\n",
    "        try:\n",
    "            # item_list에 있는 물건의 금액을 불러온다.\n",
    "            cost = User.item_list[_type] * _cnt\n",
    "            # 현재 잔액과 cost를 비교\n",
    "            if self.cost >= cost:\n",
    "                # 구매가 성공하는 조건\n",
    "                # 부모클래스에서 change_cost() 함수 호출\n",
    "                super().change_cost(_type = 1, _cost = cost)\n",
    "                # self.items에 구매한 물건(개수)을 추가\n",
    "                self.items.append(f\"{_type} x {_cnt}\")\n",
    "            else:\n",
    "                # 구매가 실패하는 조건\n",
    "                print(\"구매 실패 : 잔액이 부족합니다.\")\n",
    "        except:\n",
    "            print(\"구매 실패 : 구매하려는 물건의 정보가 존재하지 않는다.\")\n",
    "    # 유저의 정보를 출력해주는 함수를 생성\n",
    "    def user_info(self):\n",
    "        print(f\"\"\"\n",
    "            이름 : {self.name}\n",
    "            나이 : {self.birth}\n",
    "            잔액 : {self.cost}\n",
    "            구매한 물건의 목록 : {self.items}\n",
    "        \"\"\")\n",
    "    # 함수 생성 -> 매개변수 3개 (_select, _key, _value)\n",
    "    def add_type(self, _select, _key, _value):\n",
    "        # _select가 'work'라면\n",
    "        if _select == \"work\":\n",
    "            # 클래스변수 work_type에 _key : _value를 추가\n",
    "            User.work_types[_key] = _value\n",
    "            \n",
    "        # _select가 'item'이라면\n",
    "        elif _select == \"item\":\n",
    "            # #클래스 변수 item_list에 _key : _value를 추가\n",
    "            User.item_list[_key] = _value\n",
    "        # 그 외의 경우\n",
    "        #except Exception as e:      -------> exception의 예외처리 시 이유를 알려주는 코드\n",
    "        #    print(e)\n",
    "        else:\n",
    "            # \"_select에는 work / item만 사용이 가능합니다\" 메세지 출력\n",
    "            print(\"_select에는 work / item만 사용이 가능합니다.\")\n",
    "    \n",
    "    \n",
    "    "
   ]
  },
  {
   "cell_type": "code",
   "execution_count": 19,
   "id": "bc22bc26",
   "metadata": {},
   "outputs": [],
   "source": [
    "user1 = User('kim', 20)"
   ]
  },
  {
   "cell_type": "code",
   "execution_count": 20,
   "id": "57588a0c",
   "metadata": {},
   "outputs": [
    {
     "name": "stdout",
     "output_type": "stream",
     "text": [
      "입금완료 : 잔액은 10000입니다.\n"
     ]
    }
   ],
   "source": [
    "user1.work('A')"
   ]
  },
  {
   "cell_type": "code",
   "execution_count": 21,
   "id": "31044c10",
   "metadata": {},
   "outputs": [
    {
     "name": "stdout",
     "output_type": "stream",
     "text": [
      "work_types에 존재하지 않는 _type 입력하였습니다.\n"
     ]
    }
   ],
   "source": [
    "user1.work('D')"
   ]
  },
  {
   "cell_type": "code",
   "execution_count": 22,
   "id": "ff1e2c08",
   "metadata": {},
   "outputs": [
    {
     "name": "stdout",
     "output_type": "stream",
     "text": [
      "입금완료 : 잔액은 30000입니다.\n"
     ]
    }
   ],
   "source": [
    "user1.work('B')"
   ]
  },
  {
   "cell_type": "code",
   "execution_count": 23,
   "id": "8ae2d936",
   "metadata": {},
   "outputs": [
    {
     "name": "stdout",
     "output_type": "stream",
     "text": [
      "입금완료 : 잔액은 60000입니다.\n"
     ]
    }
   ],
   "source": [
    "user1.work('C')"
   ]
  },
  {
   "cell_type": "code",
   "execution_count": 24,
   "id": "050c77d6",
   "metadata": {},
   "outputs": [
    {
     "name": "stdout",
     "output_type": "stream",
     "text": [
      "출금 완료 : 잔액은 53000입니다.\n"
     ]
    }
   ],
   "source": [
    "# 그매 함수 호출\n",
    "user1.buy(\"돈까스\")"
   ]
  },
  {
   "cell_type": "code",
   "execution_count": 25,
   "id": "6e45af61",
   "metadata": {},
   "outputs": [
    {
     "name": "stdout",
     "output_type": "stream",
     "text": [
      "출금 완료 : 잔액은 21000입니다.\n"
     ]
    }
   ],
   "source": [
    "user1.buy(\"햄버거\", 4)"
   ]
  },
  {
   "cell_type": "code",
   "execution_count": 26,
   "id": "b4da9d33",
   "metadata": {},
   "outputs": [
    {
     "name": "stdout",
     "output_type": "stream",
     "text": [
      "구매 실패 : 잔액이 부족합니다.\n"
     ]
    }
   ],
   "source": [
    "user1.buy(\"탕수육\", 2)"
   ]
  },
  {
   "cell_type": "code",
   "execution_count": 27,
   "id": "50e58237",
   "metadata": {},
   "outputs": [
    {
     "name": "stdout",
     "output_type": "stream",
     "text": [
      "구매 실패 : 구매하려는 물건의 정보가 존재하지 않는다.\n"
     ]
    }
   ],
   "source": [
    "user1.buy(\"크림새우\")"
   ]
  },
  {
   "cell_type": "code",
   "execution_count": 28,
   "id": "2a0edacc",
   "metadata": {},
   "outputs": [
    {
     "data": {
      "text/plain": [
       "['돈까스 x 1', '햄버거 x 4']"
      ]
     },
     "execution_count": 28,
     "metadata": {},
     "output_type": "execute_result"
    }
   ],
   "source": [
    "user1.items"
   ]
  },
  {
   "cell_type": "code",
   "execution_count": 29,
   "id": "4486d661",
   "metadata": {},
   "outputs": [],
   "source": [
    "user1.add_type(\"item\", \"크림새우\", 8000)"
   ]
  },
  {
   "cell_type": "code",
   "execution_count": 30,
   "id": "e09f5aa3",
   "metadata": {},
   "outputs": [
    {
     "data": {
      "text/plain": [
       "{'돈까스': 7000, '학식': 6000, '햄버거': 8000, '탕수육': 19000, '크림새우': 8000}"
      ]
     },
     "execution_count": 30,
     "metadata": {},
     "output_type": "execute_result"
    }
   ],
   "source": [
    "user1.item_list"
   ]
  },
  {
   "cell_type": "code",
   "execution_count": 31,
   "id": "ef38edeb",
   "metadata": {},
   "outputs": [],
   "source": [
    "user1.add_type(\"work\", \"D\", 8000)"
   ]
  },
  {
   "cell_type": "code",
   "execution_count": 32,
   "id": "dced3b46",
   "metadata": {},
   "outputs": [
    {
     "data": {
      "text/plain": [
       "{'A': 10000, 'B': 20000, 'C': 30000, 'D': 8000}"
      ]
     },
     "execution_count": 32,
     "metadata": {},
     "output_type": "execute_result"
    }
   ],
   "source": [
    "user1.work_types"
   ]
  },
  {
   "cell_type": "code",
   "execution_count": 33,
   "metadata": {},
   "outputs": [
    {
     "name": "stdout",
     "output_type": "stream",
     "text": [
      "_select에는 work / item만 사용이 가능합니다.\n"
     ]
    }
   ],
   "source": [
    "user1.add_type(\"object\", \"K\", 120000)"
   ]
  },
  {
   "cell_type": "code",
   "execution_count": 34,
   "id": "592257d4",
   "metadata": {},
   "outputs": [
    {
     "data": {
      "text/plain": [
       "8000"
      ]
     },
     "execution_count": 34,
     "metadata": {},
     "output_type": "execute_result"
    }
   ],
   "source": [
    "user1.work_types['D']"
   ]
  },
  {
   "cell_type": "code",
   "execution_count": 35,
   "id": "7e4cde06",
   "metadata": {},
   "outputs": [
    {
     "name": "stdout",
     "output_type": "stream",
     "text": [
      "출금 완료 : 잔액은 13000입니다.\n"
     ]
    }
   ],
   "source": [
    "user1.buy('크림새우')"
   ]
  },
  {
   "cell_type": "code",
   "execution_count": 36,
   "id": "aaca6668",
   "metadata": {},
   "outputs": [
    {
     "name": "stdout",
     "output_type": "stream",
     "text": [
      "\n",
      "            이름 : kim\n",
      "            나이 : 20\n",
      "            잔액 : 13000\n",
      "            구매한 물건의 목록 : ['돈까스 x 1', '햄버거 x 4', '크림새우 x 1']\n",
      "        \n"
     ]
    }
   ],
   "source": [
    "user1.user_info()"
   ]
  },
  {
   "cell_type": "code",
   "execution_count": null,
   "id": "222eb315",
   "metadata": {},
   "outputs": [],
   "source": []
  }
 ],
 "metadata": {
  "kernelspec": {
   "display_name": "Python 3",
   "language": "python",
   "name": "python3"
  },
  "language_info": {
   "codemirror_mode": {
    "name": "ipython",
    "version": 3
   },
   "file_extension": ".py",
   "mimetype": "text/x-python",
   "name": "python",
   "nbconvert_exporter": "python",
   "pygments_lexer": "ipython3",
   "version": "3.13.7"
  }
 },
 "nbformat": 4,
 "nbformat_minor": 5
}
