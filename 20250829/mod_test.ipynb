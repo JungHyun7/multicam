{
 "cells": [
  {
   "cell_type": "code",
   "execution_count": 1,
   "id": "3f1fa7b5",
   "metadata": {},
   "outputs": [],
   "source": [
    "# 외부의 파일을 로드\n",
    "import mod"
   ]
  },
  {
   "cell_type": "code",
   "execution_count": 2,
   "id": "93865c19",
   "metadata": {},
   "outputs": [
    {
     "data": {
      "text/plain": [
       "'모듈 안에 있는 텍스트'"
      ]
     },
     "execution_count": 2,
     "metadata": {},
     "output_type": "execute_result"
    }
   ],
   "source": [
    "# 모듈 안에 변수를 호출\n",
    "mod.test_vari"
   ]
  },
  {
   "cell_type": "code",
   "execution_count": 3,
   "id": "32d5bf18",
   "metadata": {},
   "outputs": [
    {
     "data": {
      "text/plain": [
       "14"
      ]
     },
     "execution_count": 3,
     "metadata": {},
     "output_type": "execute_result"
    }
   ],
   "source": [
    "mod.func_1(10, 4)"
   ]
  }
 ],
 "metadata": {
  "kernelspec": {
   "display_name": "Python 3",
   "language": "python",
   "name": "python3"
  },
  "language_info": {
   "codemirror_mode": {
    "name": "ipython",
    "version": 3
   },
   "file_extension": ".py",
   "mimetype": "text/x-python",
   "name": "python",
   "nbconvert_exporter": "python",
   "pygments_lexer": "ipython3",
   "version": "3.13.7"
  }
 },
 "nbformat": 4,
 "nbformat_minor": 5
}
