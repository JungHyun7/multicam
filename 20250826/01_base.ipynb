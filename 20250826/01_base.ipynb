{
 "cells": [
  {
   "cell_type": "code",
   "execution_count": 1,
   "id": "f3d867b4",
   "metadata": {},
   "outputs": [],
   "source": [
    "a = 10"
   ]
  },
  {
   "cell_type": "code",
   "execution_count": null,
   "id": "a91fed98",
   "metadata": {},
   "outputs": [],
   "source": [
    "#주석\n",
    "a = 'test'\n",
    "b=10\n",
    "#변수에 데이터를 대입 -> 출력 x"
   ]
  },
  {
   "cell_type": "code",
   "execution_count": 4,
   "id": "3251f812",
   "metadata": {},
   "outputs": [
    {
     "data": {
      "text/plain": [
       "'test'"
      ]
     },
     "execution_count": 4,
     "metadata": {},
     "output_type": "execute_result"
    }
   ],
   "source": [
    "a\n",
    "#출력이 나오는 것은 -> 메모리의 데이터의 변화 x"
   ]
  },
  {
   "cell_type": "code",
   "execution_count": 5,
   "id": "1cb9ea77",
   "metadata": {},
   "outputs": [
    {
     "name": "stdout",
     "output_type": "stream",
     "text": [
      "test\n"
     ]
    }
   ],
   "source": [
    "print(a)"
   ]
  },
  {
   "cell_type": "code",
   "execution_count": 8,
   "id": "a4c44346",
   "metadata": {},
   "outputs": [
    {
     "name": "stdout",
     "output_type": "stream",
     "text": [
      "13\n",
      "7\n",
      "30\n",
      "3.3333333333333335\n",
      "3\n",
      "1\n",
      "1000\n"
     ]
    }
   ],
   "source": [
    "# 산술연산자\n",
    "x=10\n",
    "y=3\n",
    "\n",
    "#사칙연산\n",
    "print(x+y) # 13\n",
    "print(x-y) # 7\n",
    "print(x*y) # 30\n",
    "print(x/y) # 3.33333333333333...\n",
    "#나는 값의 묷\n",
    "print(x//y) # 3\n",
    "#나눈 값의 나머지\n",
    "print(x%y) # 1\n",
    "#지수 승\n",
    "print(x**y) # 10^3"
   ]
  },
  {
   "cell_type": "code",
   "execution_count": 9,
   "id": "213c0488",
   "metadata": {},
   "outputs": [],
   "source": [
    "#대입 연산자\n",
    "#산술연산자 + 대입연산자(=)\n",
    "x += 3\n",
    "# x = x + 3"
   ]
  },
  {
   "cell_type": "code",
   "execution_count": 10,
   "id": "ec078c2a",
   "metadata": {},
   "outputs": [
    {
     "data": {
      "text/plain": [
       "16"
      ]
     },
     "execution_count": 10,
     "metadata": {},
     "output_type": "execute_result"
    }
   ],
   "source": [
    "x + 3"
   ]
  },
  {
   "cell_type": "code",
   "execution_count": 11,
   "id": "9c4d5adf",
   "metadata": {},
   "outputs": [
    {
     "data": {
      "text/plain": [
       "13"
      ]
     },
     "execution_count": 11,
     "metadata": {},
     "output_type": "execute_result"
    }
   ],
   "source": [
    "x"
   ]
  },
  {
   "cell_type": "code",
   "execution_count": 59,
   "id": "8a2cca3d",
   "metadata": {},
   "outputs": [],
   "source": [
    "x -= 2\n",
    "x *= 5"
   ]
  },
  {
   "cell_type": "code",
   "execution_count": 60,
   "id": "18ae348a",
   "metadata": {},
   "outputs": [
    {
     "data": {
      "text/plain": [
       "1492139745096210390329360961914065"
      ]
     },
     "execution_count": 60,
     "metadata": {},
     "output_type": "execute_result"
    }
   ],
   "source": [
    "x"
   ]
  },
  {
   "cell_type": "code",
   "execution_count": 61,
   "id": "ea9306f4",
   "metadata": {},
   "outputs": [
    {
     "name": "stdout",
     "output_type": "stream",
     "text": [
      "False\n",
      "True\n",
      "False\n"
     ]
    }
   ],
   "source": [
    "#비교 연산자 -> 결과 참/거짓\n",
    "data_1 = 100\n",
    "data_2 = 95\n",
    "print(data_1 == data_2) # lie\n",
    "print(data_1 != data_2) # True\n",
    "data_3 = 'A'\n",
    "data_4 ='a'\n",
    "print(data_3 == data_4) # important!"
   ]
  },
  {
   "cell_type": "code",
   "execution_count": 62,
   "id": "0b534638",
   "metadata": {},
   "outputs": [],
   "source": [
    "# 문자의 산술연산자 사용\n",
    "text_1 = 'test'\n",
    "text_2 = '10'\n",
    "text_3 = '20'\n"
   ]
  },
  {
   "cell_type": "code",
   "execution_count": 63,
   "id": "7e1eb344",
   "metadata": {},
   "outputs": [
    {
     "data": {
      "text/plain": [
       "'test10'"
      ]
     },
     "execution_count": 63,
     "metadata": {},
     "output_type": "execute_result"
    }
   ],
   "source": [
    "text_1 + text_2"
   ]
  },
  {
   "cell_type": "code",
   "execution_count": 67,
   "id": "2e1744f4",
   "metadata": {},
   "outputs": [
    {
     "data": {
      "text/plain": [
       "-10"
      ]
     },
     "execution_count": 67,
     "metadata": {},
     "output_type": "execute_result"
    }
   ],
   "source": [
    "#문자의 문자는 - 연산자가 사용이 불가능\n",
    "# 문자를 숫자형태로 변환하고 - 연산자 사용\n",
    "# int(str) : 문자 데이터를 정수형 데이터로 변환\n",
    "# text_2 - text_3 에러\n",
    "int(text_2) - int(text_3)\n"
   ]
  },
  {
   "cell_type": "code",
   "execution_count": 68,
   "id": "6c9be295",
   "metadata": {},
   "outputs": [
    {
     "name": "stdout",
     "output_type": "stream",
     "text": [
      "a는 10보다 작다\n"
     ]
    }
   ],
   "source": [
    "# if 조건문\n",
    "# 참인 경우 실행하는 코드와 거짓인 경우 실행하는 코드를 작성\n",
    "# 참 아니면 거짓인 경우의 코드 하나만 실행\n",
    "# if 조건식 (bool 데이터):\n",
    "#   실행할 코드(들여쓰기)\n",
    "# else:\n",
    "    #조건식이 거짓인 경우 실행할 코드(들여쓰기)\n",
    "\n",
    "a=5\n",
    "if a<10:\n",
    "    #a가 10보다 작은 경우 실행되는 부분\n",
    "    print(\"a는 10보다 작다\")\n",
    "else:\n",
    "    #a가 10보다 큰 경우 실행되는 부분\n",
    "    print(\"a는 10보다 크거나 같디\")"
   ]
  },
  {
   "cell_type": "code",
   "execution_count": 71,
   "id": "88460811",
   "metadata": {},
   "outputs": [
    {
     "name": "stdout",
     "output_type": "stream",
     "text": [
      "85\n"
     ]
    }
   ],
   "source": [
    "score = int(\n",
    "    input(\"점수를 입력하시오\")\n",
    ")\n",
    "print(score)"
   ]
  },
  {
   "cell_type": "code",
   "execution_count": 72,
   "id": "fec42c8b",
   "metadata": {},
   "outputs": [
    {
     "name": "stdout",
     "output_type": "stream",
     "text": [
      "B\n"
     ]
    }
   ],
   "source": [
    "if score >= 90:\n",
    "    print('A')\n",
    "else:\n",
    "    if score >=80:\n",
    "        print('B')\n",
    "    else:\n",
    "        if score >= 70:\n",
    "            print('C')\n",
    "        else:\n",
    "            print('F')"
   ]
  },
  {
   "cell_type": "code",
   "execution_count": 73,
   "id": "f3380111",
   "metadata": {},
   "outputs": [
    {
     "name": "stdout",
     "output_type": "stream",
     "text": [
      "B\n"
     ]
    }
   ],
   "source": [
    "# if ~elif ~else문\n",
    "if score >= 90:\n",
    "    print('A')\n",
    "elif score >= 80:\n",
    "    #if 조건식의 90점 이상이 거짓이고 score가 80점인 경우\n",
    "    print('B')\n",
    "elif score >= 70:\n",
    "    #score가 70이상 80미만\n",
    "    print('C')\n",
    "else:\n",
    "    print('F')"
   ]
  },
  {
   "cell_type": "code",
   "execution_count": 75,
   "id": "07d46503",
   "metadata": {},
   "outputs": [
    {
     "name": "stdout",
     "output_type": "stream",
     "text": [
      "[1, 3, 5, 7, 9]\n"
     ]
    }
   ],
   "source": [
    "#반복문\n",
    "#for문\n",
    "#for문 기본형태 -> for 변수명 in range(시작값, 종료값, 증가값)\n",
    "#range() -> 시작값부터 시작해서, 증가값만큼 중가시키면서 종료값에서 종료해서 여러 개의 데이터를 생성하는 기능(종료값 포함x)\n",
    "\n",
    "print(\n",
    "    list(range(1, 10, 2))\n",
    ")"
   ]
  },
  {
   "cell_type": "code",
   "execution_count": 76,
   "id": "f06f57ec",
   "metadata": {},
   "outputs": [
    {
     "name": "stdout",
     "output_type": "stream",
     "text": [
      "1\n",
      "2\n",
      "3\n",
      "4\n"
     ]
    }
   ],
   "source": [
    "for i in range(1, 5, 1):\n",
    "    # 1부터 4까지 4번 반복\n",
    "    print(i)"
   ]
  },
  {
   "cell_type": "code",
   "execution_count": 77,
   "id": "ad96b7bf",
   "metadata": {},
   "outputs": [],
   "source": [
    "# range 시작값은 0이 기본값, 증가값은 1이 기본값\n",
    "#320 반복하는 반복문을 생성\n",
    "# for i in range(320)"
   ]
  },
  {
   "cell_type": "code",
   "execution_count": 78,
   "id": "279308eb",
   "metadata": {},
   "outputs": [
    {
     "data": {
      "text/plain": [
       "55"
      ]
     },
     "execution_count": 78,
     "metadata": {},
     "output_type": "execute_result"
    }
   ],
   "source": [
    "#1부터 10까지 합계를 구한다.\n",
    "1+2+3+4+5+6+7+8+9+10"
   ]
  },
  {
   "cell_type": "code",
   "execution_count": 81,
   "id": "67a797c7",
   "metadata": {},
   "outputs": [
    {
     "name": "stdout",
     "output_type": "stream",
     "text": [
      "55\n"
     ]
    }
   ],
   "source": [
    "#특정 공간(변수를 생성)에 초기값(0)을 지정하고\n",
    "result = 0\n",
    "#1부터 10까지의 데이터를 반복하여 초기값에 누적합\n",
    "for i in range(1, 11, 1):\n",
    "    #i에는 1부터 10까지 데이터가 1씩 증가하면서 대입\n",
    "    # result와 더하고 결과를 result에 대입\n",
    "    result += i\n",
    "    \n",
    "print(result)"
   ]
  },
  {
   "cell_type": "code",
   "execution_count": 82,
   "id": "acf43809",
   "metadata": {},
   "outputs": [
    {
     "name": "stdout",
     "output_type": "stream",
     "text": [
      "55\n"
     ]
    }
   ],
   "source": [
    "result = 0\n",
    "\n",
    "for i in range(10):\n",
    "    #i는 9까지 1씩 증가시키면서 대입\n",
    "    result+=i+1\n",
    "\n",
    "print(result)"
   ]
  },
  {
   "cell_type": "code",
   "execution_count": 84,
   "id": "e31fb8b0",
   "metadata": {},
   "outputs": [
    {
     "name": "stdout",
     "output_type": "stream",
     "text": [
      "2\n",
      "3\n",
      "4\n",
      "5\n",
      "6\n",
      "7\n",
      "8\n",
      "9\n",
      "10\n",
      "11\n"
     ]
    }
   ],
   "source": [
    "#while문\n",
    "#초기값을 지정 (시작값을 지정)\n",
    "i = 1\n",
    "while (i <= 10):\n",
    "    #i가 10보다 작거나 같은 경우에는 반복실행\n",
    "    #i의 값이 거짓이 될 수 있도록 코드 작성 (조건식이 10보다 큰 경우가 거짓)\n",
    "    # i의 값을 증가\n",
    "    i += 1\n",
    "    print(i)"
   ]
  },
  {
   "cell_type": "code",
   "execution_count": 86,
   "id": "cd8be52b",
   "metadata": {},
   "outputs": [
    {
     "name": "stdout",
     "output_type": "stream",
     "text": [
      "55\n"
     ]
    }
   ],
   "source": [
    "#while문을 이용하여 1부터 10까지 합계를 구하기\n",
    "i = 1\n",
    "result=0\n",
    "\n",
    "while(i<=10):\n",
    "    # result에 i를 더하고 result에 결과를 대입\n",
    "    result += i\n",
    "    #i에 1를 더하고 i에 대입\n",
    "    i += 1\n",
    "    \n",
    "print(result)"
   ]
  },
  {
   "cell_type": "code",
   "execution_count": 87,
   "id": "52042b0d",
   "metadata": {},
   "outputs": [
    {
     "name": "stdout",
     "output_type": "stream",
     "text": [
      "65\n"
     ]
    }
   ],
   "source": [
    "result = 0\n",
    "i= 1\n",
    "\n",
    "while (i<= 10):\n",
    "    i +=1\n",
    "    result += i\n",
    "    \n",
    "print(result)"
   ]
  },
  {
   "cell_type": "code",
   "execution_count": 88,
   "id": "3c2b0d2c",
   "metadata": {},
   "outputs": [
    {
     "name": "stdout",
     "output_type": "stream",
     "text": [
      "0\n",
      "반복문이 종료\n"
     ]
    }
   ],
   "source": [
    "#break 문 -> 반복문을 강제 종료\n",
    "\n",
    "for i in range(10000):\n",
    "    print(i)\n",
    "    break\n",
    "\n",
    "print(\"반복문이 종료\")"
   ]
  },
  {
   "cell_type": "code",
   "execution_count": null,
   "id": "70db4471",
   "metadata": {},
   "outputs": [
    {
     "name": "stdout",
     "output_type": "stream",
     "text": [
      "118\n",
      "7021\n"
     ]
    }
   ],
   "source": [
    "#반복문 안에서 조건식을 이용하여 break를 이용\n",
    "#1부터 시작해서 1씩 증가시킨 데이터를 누적합했을 땨\n",
    "#누적합의 값이 7000이 넘어가는 시점은 언제인가?\n",
    "# case1.for문\n",
    "\n",
    "result=0\n",
    "for i in range(1, 5000, 1):\n",
    "    #118번쨰 반복\n",
    "        #1 조건식 존재하는 경우 : result가 아직 7000 미만 -> break 실행x\n",
    "        # i=118, result = 6903 -> result = 6903 + 118 -> result(7021)\n",
    "        #2 조건식 존재하는 경우 : result가 7000 이상 -> break가 실행 o\n",
    "    #119번쨰 반복문\n",
    "        #1 조건식 존재하는 경우: result가 7000 아성 -> break 실행 o -> i(119), result(6903)\n",
    "        #2 조건식 존재하는 경우: 해당 반복은 실행되지 않\n",
    "    #1\n",
    "    #i를 result에 누적합을 해준다.\n",
    "    result += i\n",
    "    if (result >= 7000):\n",
    "        break\n",
    "    i+=1\n",
    "    \n",
    "print(i)\n",
    "print(result)\n"
   ]
  },
  {
   "cell_type": "code",
   "execution_count": null,
   "id": "14c3eb80",
   "metadata": {},
   "outputs": [
    {
     "name": "stdout",
     "output_type": "stream",
     "text": [
      "7021\n"
     ]
    }
   ],
   "source": [
    "result = 0\n",
    "for i in range(1, 119, 1):\n",
    "    result += i\n",
    "    \n",
    "print(result)"
   ]
  },
  {
   "cell_type": "code",
   "execution_count": 113,
   "id": "71fdceba",
   "metadata": {},
   "outputs": [
    {
     "name": "stdout",
     "output_type": "stream",
     "text": [
      "130\n",
      "8515\n"
     ]
    }
   ],
   "source": [
    "#while문을 이용하여 1부터 1씩 증가시킨 데이터의 누적합이 8400이 넘어가는 시점을 구하라\n",
    "\n",
    "#시작값\n",
    "result=0\n",
    "\n",
    "#시작점\n",
    "i=1\n",
    "\n",
    "#while 조건식 (누적합이 8400이상인 경우 반복문을 종료 추가)\n",
    "while(1):\n",
    "    \n",
    "    #시작값을 누적합에 더하고 대입\n",
    "    result += i\n",
    "    \n",
    "    if (result >= 8400):\n",
    "        break\n",
    "    \n",
    "    #시작값을 증가\n",
    "    i+=1\n",
    "    \n",
    "    \n",
    "#시작값과 누적합의 값을 출력\n",
    "print(i)\n",
    "print(result)"
   ]
  },
  {
   "cell_type": "code",
   "execution_count": 115,
   "id": "c6e152bc",
   "metadata": {},
   "outputs": [
    {
     "name": "stdout",
     "output_type": "stream",
     "text": [
      "8515\n"
     ]
    }
   ],
   "source": [
    "result=0\n",
    "for i in range(131):\n",
    "    result += i\n",
    "    \n",
    "print(result)"
   ]
  },
  {
   "cell_type": "code",
   "execution_count": null,
   "id": "84fb67c9",
   "metadata": {},
   "outputs": [],
   "source": [
    "# continue문 : 반복문으로 되돌아간다. (반복 실행할 코드가 끝나면 같은 행동)\n",
    "for i in range(10):\n",
    "    continue #contiune가 실행이 되면 밑의 반복 실행된ㄴ 코드를 무시하고 반복문으로 돌아간다. 반복 횟수는 증가\n",
    "    print(i)"
   ]
  },
  {
   "cell_type": "code",
   "execution_count": null,
   "id": "1435ba19",
   "metadata": {},
   "outputs": [
    {
     "name": "stdout",
     "output_type": "stream",
     "text": [
      "2550\n"
     ]
    }
   ],
   "source": [
    "#1부터 100까지 누적합 -> 5050\n",
    "#1부터 100까지 짝수의 누적합\n",
    "result = 0\n",
    "\n",
    "#for i in range(2, 101, 2):\n",
    "#    result += i\n",
    "\n",
    "\n",
    "#for i in range(1, 101, 1):\n",
    "#    if (i%2 == 0):\n",
    "#        result +=i\n",
    "\n",
    "for i in range(1, 101, 1):\n",
    "    if (i % 2 == 1):\n",
    "        continue\n",
    "    result += i\n",
    "\n",
    "print(result)"
   ]
  },
  {
   "cell_type": "code",
   "execution_count": null,
   "id": "2f148cd4",
   "metadata": {},
   "outputs": [],
   "source": []
  }
 ],
 "metadata": {
  "kernelspec": {
   "display_name": "Python 3",
   "language": "python",
   "name": "python3"
  },
  "language_info": {
   "codemirror_mode": {
    "name": "ipython",
    "version": 3
   },
   "file_extension": ".py",
   "mimetype": "text/x-python",
   "name": "python",
   "nbconvert_exporter": "python",
   "pygments_lexer": "ipython3",
   "version": "3.13.7"
  }
 },
 "nbformat": 4,
 "nbformat_minor": 5
}
