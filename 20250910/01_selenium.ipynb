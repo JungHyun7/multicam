{
 "cells": [
  {
   "cell_type": "code",
   "execution_count": 167,
   "id": "91369ba9",
   "metadata": {},
   "outputs": [],
   "source": [
    "from selenium import webdriver\n",
    "from selenium.webdriver.common.by import By # TAG에 접근하기 편하게 하는 기능\n",
    "from selenium.webdriver.common.keys import Keys # 키보드 이벤트\n",
    "import pandas as pd\n",
    "from sqlalchemy import create_engine"
   ]
  },
  {
   "cell_type": "code",
   "execution_count": 168,
   "id": "a0e85000",
   "metadata": {},
   "outputs": [],
   "source": [
    "# 웹드라이버를 이용하여 구글크롬 브라우저를 오픈\n",
    "driver = webdriver.Chrome()"
   ]
  },
  {
   "cell_type": "code",
   "execution_count": 169,
   "id": "16b3bc7c",
   "metadata": {},
   "outputs": [],
   "source": [
    "# 특정 주소로 요청을 보낸다.\n",
    "driver.get('http://www.naver.com')"
   ]
  },
  {
   "cell_type": "code",
   "execution_count": 170,
   "id": "e152d4c5",
   "metadata": {},
   "outputs": [],
   "source": [
    "# Tag 중 id가 query인 태그를 선택하여 변수에 저장\n",
    "search_element = driver.find_element(By.ID, 'query')"
   ]
  },
  {
   "cell_type": "code",
   "execution_count": 171,
   "id": "7de40199",
   "metadata": {},
   "outputs": [
    {
     "data": {
      "text/plain": [
       "<selenium.webdriver.remote.webelement.WebElement (session=\"3ec6cbb8ff6f9ae578d7a99086ea690b\", element=\"f.4660CA44801EA1A4DCA3C655296ADF64.d.1BC4E166A4C8C3E5AAA8F4F3C85ED9D9.e.4\")>"
      ]
     },
     "execution_count": 171,
     "metadata": {},
     "output_type": "execute_result"
    }
   ],
   "source": [
    "search_element"
   ]
  },
  {
   "cell_type": "code",
   "execution_count": 172,
   "id": "ecc87245",
   "metadata": {},
   "outputs": [],
   "source": [
    "# search_element(검색어창)에 특정 텍스트를 입력(데이터를 보낸다)한다.\n",
    "search_element.send_keys('아이폰')"
   ]
  },
  {
   "cell_type": "code",
   "execution_count": 173,
   "id": "c0bc0a04",
   "metadata": {},
   "outputs": [],
   "source": [
    "# search_element에서 ENTER 이벤트를 발생\n",
    "search_element.send_keys(Keys.ENTER)"
   ]
  },
  {
   "cell_type": "code",
   "execution_count": 174,
   "id": "9f30dec2",
   "metadata": {},
   "outputs": [],
   "source": [
    "# 쇼핑 버튼(Tag)을 선택한다.\n",
    "# LINK_TEXT가 '쇼핑'인 태그 -> 해당 조건에 맞는 태그가 몆개인가? -> len, find_elements 사용 \n",
    "# -> 결과 1개: 유일함 사용가능\n",
    "len(driver.find_elements(By.LINK_TEXT, '쇼핑'))\n",
    "# 조건의 맞는 태그의 개수가 1이므로 클릭 이벤트 발생\n",
    "driver.find_element(By.LINK_TEXT, '쇼핑').click()"
   ]
  },
  {
   "cell_type": "code",
   "execution_count": 175,
   "id": "c7bd2beb",
   "metadata": {},
   "outputs": [],
   "source": [
    "# 쇼핑 페이지에서 검색어의 결과(물건의 가격과 제품명)를 크롤링 -> 해당 페이지의 소스코드를 불러온다.\n",
    "html_data = driver.page_source\n"
   ]
  },
  {
   "cell_type": "code",
   "execution_count": 176,
   "metadata": {},
   "outputs": [],
   "source": [
    "# bs4 라이브러리 안에 있는 BeautifulSoup을 이용하여 html_data를 parsing(데이터의 타입을 변환)\n",
    "from bs4 import BeautifulSoup as bs"
   ]
  },
  {
   "cell_type": "code",
   "execution_count": 177,
   "id": "395056c0",
   "metadata": {},
   "outputs": [],
   "source": [
    "soup = bs(html_data, 'html.parser')\n"
   ]
  },
  {
   "cell_type": "code",
   "execution_count": 178,
   "id": "bf8ad3cf",
   "metadata": {},
   "outputs": [
    {
     "data": {
      "text/plain": [
       "<title>아이폰 : 네이버 검색</title>"
      ]
     },
     "execution_count": 178,
     "metadata": {},
     "output_type": "execute_result"
    }
   ],
   "source": [
    "# html_data가 2개의 탭중 어떤 소스코드인지 확인\n",
    "# 탭의 제목이 다르기 때문에 title Tag 확인\n",
    "# 특정 태그를 확인\n",
    "soup.title\n"
   ]
  },
  {
   "cell_type": "code",
   "execution_count": 179,
   "id": "f6b72110",
   "metadata": {},
   "outputs": [
    {
     "data": {
      "text/plain": [
       "['4660CA44801EA1A4DCA3C655296ADF64', '56FDF624F813FA2A0E2BCBFD752361F9']"
      ]
     },
     "execution_count": 179,
     "metadata": {},
     "output_type": "execute_result"
    }
   ],
   "source": [
    "# page_source가 첫번째 탭인것을 확인\n",
    "# 두번째 탭으로 page_source를 이동\n",
    "# 탬의 정보를 확인\n",
    "# driver에서 탭을 주소를 확인\n",
    "driver.window_handles"
   ]
  },
  {
   "cell_type": "code",
   "execution_count": 180,
   "id": "a8aac969",
   "metadata": {},
   "outputs": [],
   "source": [
    "# driver에서 탭을 이동\n",
    "driver.switch_to.window(\n",
    "    driver.window_handles[1]\n",
    ")"
   ]
  },
  {
   "cell_type": "code",
   "execution_count": 181,
   "id": "8edc32c0",
   "metadata": {},
   "outputs": [
    {
     "data": {
      "text/plain": [
       "<title>아이폰 : 네이버 검색</title>"
      ]
     },
     "execution_count": 181,
     "metadata": {},
     "output_type": "execute_result"
    }
   ],
   "source": [
    "html_data2 = driver.page_source\n",
    "soup2 = bs(html_data2, 'html.parser')\n",
    "\n",
    "soup.title"
   ]
  },
  {
   "cell_type": "markdown",
   "id": "5b143dd2",
   "metadata": {},
   "source": [
    "#### 네이버 쇼핑 크롤링\n",
    "1. div 태그중 id가 'content'인 태그를 선택하여 저장 (content_data)\n",
    "2. 저장한 태그(content_data)에서 div 태그중 class가 'product_item__KQayS'인 태그 정보를 모두 저장\n",
    "3. div_list에서 div 태그중 class가 'product_title_1jFM_'인 태그의 문자를 추출(상품명)\n",
    "4. div_class에서 span 태그중 class가 'price'인 태그의 문자를 추출(상품 격)"
   ]
  },
  {
   "cell_type": "code",
   "execution_count": 182,
   "id": "54205805",
   "metadata": {},
   "outputs": [],
   "source": [
    "content_data = soup2.find(\n",
    "    'div',\n",
    "    attrs = {\n",
    "        'id' : 'content'\n",
    "    }\n",
    ")"
   ]
  },
  {
   "cell_type": "code",
   "execution_count": 183,
   "id": "9136a0b2",
   "metadata": {},
   "outputs": [],
   "source": [
    "import re"
   ]
  },
  {
   "cell_type": "code",
   "execution_count": 184,
   "id": "dc32f493",
   "metadata": {},
   "outputs": [
    {
     "data": {
      "text/plain": [
       "3"
      ]
     },
     "execution_count": 184,
     "metadata": {},
     "output_type": "execute_result"
    }
   ],
   "source": [
    "# content_data에서 div중 class가 'product_item__KQayS'인 태그의 개수를 확인\n",
    "# class의 이름에 'product_item'이 포함되어있는 태그\n",
    "len (\n",
    "    content_data.find_all(\n",
    "        'div',\n",
    "        # attrs = {\n",
    "        #     'class' : 'product_item__KQayS'\n",
    "        #     }\n",
    "        attrs = {\n",
    "            'class' : re.compile('product_item')\n",
    "        }\n",
    "    )\n",
    ")\n"
   ]
  },
  {
   "cell_type": "code",
   "execution_count": 185,
   "id": "6fd67355",
   "metadata": {},
   "outputs": [],
   "source": [
    "div_list = content_data.find_all(\n",
    "    'div',\n",
    "    attrs = {\n",
    "        'class' : 'product_item__KQayS'\n",
    "    }\n",
    ")"
   ]
  },
  {
   "cell_type": "code",
   "execution_count": 186,
   "id": "a416a8f4",
   "metadata": {},
   "outputs": [
    {
     "data": {
      "text/plain": [
       "<div class=\"product_item__KQayS\"><div class=\"product_inner__O9F_g\"><div class=\"product_img_area__ziVZA\"><div class=\"thumbnail_thumb_wrap__X013_ _wrapper\"><a class=\"thumbnail_thumb__MG0r2 linkAnchor _nlog_click _nlog_impression_element\" data-shp-area=\"lst*N.img\" data-shp-area-dtl='[{\"key\":\"trtr\",\"value\":\"slsl\"}]' data-shp-area-id=\"img\" data-shp-area-type=\"slot\" data-shp-contents-dtl='[{\"key\":\"prod_nm\",\"value\":\"Apple 애플 아이폰 13 미니 128GB 새상품\"},{\"key\":\"price\",\"value\":\"298000\"},{\"key\":\"brand_seq\",\"value\":\"144225\"},{\"key\":\"nfa_type\",\"value\":\"NORMAL\"},{\"key\":\"catalog_nv_mid\",\"value\":\"88573763568\"},{\"key\":\"organic_expose_order\",\"value\":\"1\"},{\"key\":\"chnl_prod_no\",\"value\":\"11029257361\"},{\"key\":\"std_yn\",\"value\":\"n\"}]' data-shp-contents-grp=\"prod\" data-shp-contents-id=\"88573763568\" data-shp-contents-provider-dtl='[{\"key\":\"adsr_type\",\"value\":\"SHOPN\"},{\"key\":\"brandstore_type\",\"value\":\"n\"},{\"key\":\"chnl_no\",\"value\":\"102459197\"}]' data-shp-contents-provider-id=\"11501384\" data-shp-contents-provider-type=\"mall_seq\" data-shp-contents-rank=\"3\" data-shp-contents-type=\"nv_mid\" data-shp-filter_con='[{\"key\":\"pgn\",\"value\":\"1\"},{\"key\":\"보기\",\"value\":\"리스트형\"}]' data-shp-inventory=\"lst*N\" data-shp-nsc=\"svc.shopping.v3\" data-shp-order_con='[{\"key\":\"정렬 옵션\",\"value\":\"네이버 랭킹순\"},{\"key\":\"연관도 필터\",\"value\":\"off\"}]' data-shp-page-key=\"100360185\" data-shp-temp='[{\"key\":\"requestId\",\"value\":\"jKZtbwqWMgIeN0aNjRw-316511\"}]' href=\"https://cr.shopping.naver.com/adcr?x=Ck%2FvsrXmwBwnevbM4QrIoP%2F%2F%2Fw%3D%3Ds8tkMvDQe32FPfURcsI0ElVmkv240GU1MzK0XLQcDkyHxTAJR5s3V3RheLYZrm3hTYpy37YyyU%2ByFcekuVr%2FDKmg6HabDTRx466CGciRiUnFBZuMfzSBinsMMtj7lqMfU1m01%2BgVyS3AXFrpnOyT1J5ztC8eyDbGRDg%2BBSXyJFwhIJAugUYaa7eEC0K1redZoRL6iu0rN9ANYEXkZX8p%2BoSEm%2FeWMmjv1VUimPr%2BbdY5YMzOyJ4Aj7ODRdJa%2BvbUnQ1pu9SxBx9jmyq0tgSOnxCGHDvsGQoUHd%2FG2Ez5s1IA%2Fa18qhDQ1A%2FKJp3fgBDor391W%2FC1w5SVs2sYtTdFSejRuJqqFub1Vv4MTzhrNk2Ehy7i1mLAodI8Q%2BJ0drSjw%2F0X8gFBBhr6rnnTk5Nq2rPVbEXVgpkByUYUZnAOmWLrzH6N5zxqs3SNW2xsM3EczzWEAAvAfCXV8J8EBeiSYUAPzQvOQpktRn2nqaAl90BjPyDwmo6hkNyPBbWcewE89C%2Bp633m53JCQqoKkv9VJyLB61z4X6oeURmaMgKrJTZajrgWQ%2F0JBsjHud4pzo5y1ej6SapLSoWv5geXOQmBRuSLOIjWF4Q%2B20M82%2B8R5In0%2FFJIMHKNa%2FriGGHnq4ZPB5Hv1T%2FoDPeAT2ZD%2BWCfnsQ%3D%3D&amp;nvMid=88573763568&amp;catId=50001519\" rel=\"noopener\" target=\"_blank\"><span class=\"\" style=\"display:inline-block;width:140px;height:140px\"></span></a><div class=\"thumbnail_btn_box__NwRKm\"><div class=\"thumbnail_btn__i1cof\"></div></div></div><a class=\"product_btn_zzim__HKS9r _nlog_click _nlog_impression_element\" data-shp-area=\"lst*N.mylist\" data-shp-area-id=\"mylist\" data-shp-area-type=\"slot\" data-shp-contents-dtl='[{\"key\":\"chnl_prod_no\",\"value\":\"11029257361\"}]' data-shp-contents-grp=\"event\" data-shp-contents-id=\"88573763568\" data-shp-contents-provider-dtl='[{\"key\":\"chnl_no\",\"value\":\"102459197\"}]' data-shp-contents-provider-id=\"11501384\" data-shp-contents-provider-type=\"mall_seq\" data-shp-contents-type=\"mylist\" data-shp-filter_con='[{\"key\":\"pgn\",\"value\":\"1\"},{\"key\":\"보기\",\"value\":\"리스트형\"}]' data-shp-inventory=\"lst*N\" data-shp-nsc=\"svc.shopping.v3\" data-shp-order_con='[{\"key\":\"정렬 옵션\",\"value\":\"네이버 랭킹순\"},{\"key\":\"연관도 필터\",\"value\":\"off\"}]' data-shp-page-key=\"100360185\" data-shp-temp='[{\"key\":\"recInfo\"}]' href=\"#\" role=\"button\"><svg class=\"product_svg_zzim__b1FwD\" fill=\"none\" viewbox=\"0 0 16 16\" width=\"16\" xmlns=\"http://www.w3.org/2000/svg\"><path d=\"M10.81 6.142L8.785 8.088a1.423 1.423 0 0 1-1.93 0 1.246 1.246 0 0 1-.398-.91c0-.342.141-.665.398-.908l2.077-2.005a2.688 2.688 0 0 1 1.892-.765c.713 0 1.385.27 1.89.765 1 .976 1.049 2.551.131 3.567L7.99 12.5 3.286 7.975a2.581 2.581 0 0 1 0-3.71 2.682 2.682 0 0 1 1.89-.765c.617 0 1.204.203 1.68.579\" stroke=\"#959595\" stroke-linecap=\"round\" stroke-linejoin=\"round\"></path></svg><span class=\"product_text__UdGUv\">찜하기<em class=\"product_num__WuH26\">0</em></span></a></div><div class=\"product_info_area__szOtS\"><div class=\"product_title__ljFM_\"><a class=\"product_link__aFnaq linkAnchor _nlog_click _nlog_impression_element\" data-shp-area=\"lst*N.title\" data-shp-area-dtl='[{\"key\":\"trtr\",\"value\":\"slsl\"}]' data-shp-area-id=\"title\" data-shp-area-type=\"slot\" data-shp-contents-dtl='[{\"key\":\"prod_nm\",\"value\":\"Apple 애플 아이폰 13 미니 128GB 새상품\"},{\"key\":\"price\",\"value\":\"298000\"},{\"key\":\"brand_seq\",\"value\":\"144225\"},{\"key\":\"nfa_type\",\"value\":\"NORMAL\"},{\"key\":\"catalog_nv_mid\",\"value\":\"88573763568\"},{\"key\":\"organic_expose_order\",\"value\":\"1\"},{\"key\":\"chnl_prod_no\",\"value\":\"11029257361\"},{\"key\":\"std_yn\",\"value\":\"n\"}]' data-shp-contents-grp=\"prod\" data-shp-contents-id=\"88573763568\" data-shp-contents-provider-dtl='[{\"key\":\"adsr_type\",\"value\":\"SHOPN\"},{\"key\":\"brandstore_type\",\"value\":\"n\"},{\"key\":\"chnl_no\",\"value\":\"102459197\"}]' data-shp-contents-provider-id=\"11501384\" data-shp-contents-provider-type=\"mall_seq\" data-shp-contents-rank=\"3\" data-shp-contents-type=\"nv_mid\" data-shp-filter_con='[{\"key\":\"pgn\",\"value\":\"1\"},{\"key\":\"보기\",\"value\":\"리스트형\"}]' data-shp-inventory=\"lst*N\" data-shp-nsc=\"svc.shopping.v3\" data-shp-order_con='[{\"key\":\"정렬 옵션\",\"value\":\"네이버 랭킹순\"},{\"key\":\"연관도 필터\",\"value\":\"off\"}]' data-shp-page-key=\"100360185\" data-shp-temp='[{\"key\":\"requestId\",\"value\":\"jKZtbwqWMgIeN0aNjRw-316511\"}]' href=\"https://cr.shopping.naver.com/adcr?x=Ck%2FvsrXmwBwnevbM4QrIoP%2F%2F%2Fw%3D%3Ds8tkMvDQe32FPfURcsI0ElVmkv240GU1MzK0XLQcDkyHxTAJR5s3V3RheLYZrm3hTYpy37YyyU%2ByFcekuVr%2FDKmg6HabDTRx466CGciRiUnFBZuMfzSBinsMMtj7lqMfU1m01%2BgVyS3AXFrpnOyT1J5ztC8eyDbGRDg%2BBSXyJFwhIJAugUYaa7eEC0K1redZoRL6iu0rN9ANYEXkZX8p%2BoSEm%2FeWMmjv1VUimPr%2BbdY5YMzOyJ4Aj7ODRdJa%2BvbUnQ1pu9SxBx9jmyq0tgSOnxCGHDvsGQoUHd%2FG2Ez5s1IA%2Fa18qhDQ1A%2FKJp3fgBDor391W%2FC1w5SVs2sYtTdFSejRuJqqFub1Vv4MTzhrNk2Ehy7i1mLAodI8Q%2BJ0drSjw%2F0X8gFBBhr6rnnTk5Nq2rPVbEXVgpkByUYUZnAOmWLrzH6N5zxqs3SNW2xsM3EczzWEAAvAfCXV8J8EBeiSYUAPzQvOQpktRn2nqaAl90BjPyDwmo6hkNyPBbWcewE89C%2Bp633m53JCQqoKkv9VJyLB61z4X6oeURmaMgKrJTZajrgWQ%2F0JBsjHud4pzo5y1ej6SapLSoWv5geXOQmBRuSLOIjWF4Q%2B20M82%2B8R5In0%2FFJIMHKNa%2FriGGHnq4ZPB5Hv1T%2FoDPeAT2ZD%2BWCfnsQ%3D%3D&amp;nvMid=88573763568&amp;catId=50001519\" rel=\"noopener\" target=\"_blank\" title=\"Apple 애플 아이폰 13 미니 128GB 새상품\">Apple 애플 아이폰 13 미니 128GB 새상품</a></div><div class=\"product_price_area__ILjuX\"><strong class=\"product_price__ozt5Q\"><span><span class=\"price\"><span class=\"price_num__Y66T7\"><em>298,000</em>원</span></span><span class=\"price_delivery__0jnYm\"><svg class=\"price_svg_delivery__sUF6T\" fill=\"none\" viewbox=\"0 0 14 11\" width=\"14\" xmlns=\"http://www.w3.org/2000/svg\"><path clip-rule=\"evenodd\" d=\"M.704 8.779c0 .02.02.04.04.04h.685c.163-.82.85-1.436 1.676-1.437C3.93 7.383 4.617 8 4.78 8.82h4.44c.162-.82.85-1.437 1.675-1.437.825 0 1.513.617 1.675 1.437h.686c.019 0 .039-.021.039-.041v-2.91a1.97 1.97 0 0 0-.133-.627l-1.149-2.548c-.006-.053-.194-.178-.24-.162h-3.28c-.02 0-.04.022-.04.043v4.078H.704V8.78zm2.4 1.477c.557 0 1.007-.476 1.009-1.064-.002-.589-.452-1.064-1.008-1.065-.558 0-1.008.476-1.01 1.065.002.588.452 1.063 1.01 1.064zm7.792 0c.557-.001 1.008-.476 1.008-1.064 0-.589-.45-1.064-1.008-1.066-.557.002-1.007.477-1.008 1.066 0 .588.451 1.063 1.008 1.064zM0 5.911V.785C.002.351.332.001.743 0h5.73c.41.002.742.35.743.785v.843h-.704V.785c0-.02-.02-.042-.039-.042H.743C.724.743.704.764.704.785v5.126h7.047V2.575c.001-.435.332-.785.743-.786h3.28c.38.017.697.228.875.586l1.149 2.548c.121.282.198.637.202.946v2.91c-.002.434-.331.783-.743.783h-.686c-.162.821-.85 1.437-1.675 1.437-.825 0-1.513-.616-1.675-1.437H4.78C4.617 10.383 3.93 11 3.105 11c-.826 0-1.514-.617-1.676-1.438H.744c-.412 0-.742-.35-.744-.783V5.91z\" fill=\"#999\" fill-rule=\"evenodd\"></path></svg><span class=\"blind\">배송비</span>무료</span></span></strong></div><div class=\"product_depth__g4H1Y\"><span class=\"product_category__tRqr_ product_nohover__dFr72\">디지털/가전</span><span class=\"product_category__tRqr_ product_nohover__dFr72\">휴대폰</span><span class=\"product_category__tRqr_ product_nohover__dFr72\">자급제폰</span></div><div class=\"product_desc__JaarM\"><div class=\"product_detail_box__hGnDU\"><a class=\"product_detail__5OLQc linkAnchor _nlog_click _nlog_impression_element\" data-shp-area=\"lst*N.attrfilter\" data-shp-area-id=\"attrfilter\" data-shp-area-type=\"slot\" data-shp-contents-dtl='[{\"key\":\"filter_value_id\",\"value\":\"M11421581\"}]' data-shp-contents-grp=\"filter\" data-shp-contents-id=\"13.7cm(5.4인치)\" data-shp-contents-rank=\"1\" data-shp-contents-type=\"화면크기(속성)\" data-shp-filter_con='[{\"key\":\"pgn\",\"value\":\"1\"},{\"key\":\"보기\",\"value\":\"리스트형\"}]' data-shp-inventory=\"lst*N\" data-shp-nsc=\"svc.shopping.v3\" data-shp-order_con='[{\"key\":\"정렬 옵션\",\"value\":\"네이버 랭킹순\"},{\"key\":\"연관도 필터\",\"value\":\"off\"}]' data-shp-page-key=\"100360185\" href=\"/search/all?where=all&amp;frm=NVSCTAB&amp;query=%EC%95%84%EC%9D%B4%ED%8F%B0#\" rel=\"noopener\">화면크기 : 13.7cm(5.4인치)</a><a class=\"product_detail__5OLQc product_bar__XrJ4x linkAnchor _nlog_click _nlog_impression_element\" data-shp-area=\"lst*N.attrfilter\" data-shp-area-id=\"attrfilter\" data-shp-area-type=\"slot\" data-shp-contents-dtl='[{\"key\":\"filter_value_id\",\"value\":\"M11557561\"}]' data-shp-contents-grp=\"filter\" data-shp-contents-id=\"5G+LTE\" data-shp-contents-rank=\"2\" data-shp-contents-type=\"통신규격(속성)\" data-shp-filter_con='[{\"key\":\"pgn\",\"value\":\"1\"},{\"key\":\"보기\",\"value\":\"리스트형\"}]' data-shp-inventory=\"lst*N\" data-shp-nsc=\"svc.shopping.v3\" data-shp-order_con='[{\"key\":\"정렬 옵션\",\"value\":\"네이버 랭킹순\"},{\"key\":\"연관도 필터\",\"value\":\"off\"}]' data-shp-page-key=\"100360185\" href=\"/search/all?where=all&amp;frm=NVSCTAB&amp;query=%EC%95%84%EC%9D%B4%ED%8F%B0#\" rel=\"noopener\">통신규격 : 5G+LTE</a><a class=\"product_detail__5OLQc product_bar__XrJ4x linkAnchor _nlog_click _nlog_impression_element\" data-shp-area=\"lst*N.attrfilter\" data-shp-area-id=\"attrfilter\" data-shp-area-type=\"slot\" data-shp-contents-dtl='[{\"key\":\"filter_value_id\",\"value\":\"M10011980\"}]' data-shp-contents-grp=\"filter\" data-shp-contents-id=\"128GB\" data-shp-contents-rank=\"3\" data-shp-contents-type=\"내장메모리(속성)\" data-shp-filter_con='[{\"key\":\"pgn\",\"value\":\"1\"},{\"key\":\"보기\",\"value\":\"리스트형\"}]' data-shp-inventory=\"lst*N\" data-shp-nsc=\"svc.shopping.v3\" data-shp-order_con='[{\"key\":\"정렬 옵션\",\"value\":\"네이버 랭킹순\"},{\"key\":\"연관도 필터\",\"value\":\"off\"}]' data-shp-page-key=\"100360185\" href=\"/search/all?where=all&amp;frm=NVSCTAB&amp;query=%EC%95%84%EC%9D%B4%ED%8F%B0#\" rel=\"noopener\">내장메모리 : 128GB</a><a class=\"product_detail__5OLQc product_bar__XrJ4x linkAnchor _nlog_click _nlog_impression_element\" data-shp-area=\"lst*N.attrfilter\" data-shp-area-id=\"attrfilter\" data-shp-area-type=\"slot\" data-shp-contents-dtl='[{\"key\":\"filter_value_id\",\"value\":\"M11093587\"}]' data-shp-contents-grp=\"filter\" data-shp-contents-id=\"iOS 15\" data-shp-contents-rank=\"4\" data-shp-contents-type=\"운영체제(속성)\" data-shp-filter_con='[{\"key\":\"pgn\",\"value\":\"1\"},{\"key\":\"보기\",\"value\":\"리스트형\"}]' data-shp-inventory=\"lst*N\" data-shp-nsc=\"svc.shopping.v3\" data-shp-order_con='[{\"key\":\"정렬 옵션\",\"value\":\"네이버 랭킹순\"},{\"key\":\"연관도 필터\",\"value\":\"off\"}]' data-shp-page-key=\"100360185\" href=\"/search/all?where=all&amp;frm=NVSCTAB&amp;query=%EC%95%84%EC%9D%B4%ED%8F%B0#\" rel=\"noopener\">운영체제 : iOS 15</a><a class=\"product_detail__5OLQc product_bar__XrJ4x linkAnchor _nlog_click _nlog_impression_element\" data-shp-area=\"lst*N.attrfilter\" data-shp-area-id=\"attrfilter\" data-shp-area-type=\"slot\" data-shp-contents-dtl='[{\"key\":\"filter_value_id\",\"value\":\"M10041566\"}]' data-shp-contents-grp=\"filter\" data-shp-contents-id=\"4GB\" data-shp-contents-rank=\"5\" data-shp-contents-type=\"램(RAM)(속성)\" data-shp-filter_con='[{\"key\":\"pgn\",\"value\":\"1\"},{\"key\":\"보기\",\"value\":\"리스트형\"}]' data-shp-inventory=\"lst*N\" data-shp-nsc=\"svc.shopping.v3\" data-shp-order_con='[{\"key\":\"정렬 옵션\",\"value\":\"네이버 랭킹순\"},{\"key\":\"연관도 필터\",\"value\":\"off\"}]' data-shp-page-key=\"100360185\" href=\"/search/all?where=all&amp;frm=NVSCTAB&amp;query=%EC%95%84%EC%9D%B4%ED%8F%B0#\" rel=\"noopener\">램(RAM) : 4GB</a><a class=\"product_detail__5OLQc product_bar__XrJ4x linkAnchor _nlog_click _nlog_impression_element\" data-shp-area=\"lst*N.attrfilter\" data-shp-area-id=\"attrfilter\" data-shp-area-type=\"slot\" data-shp-contents-dtl='[{\"key\":\"filter_value_id\",\"value\":\"M10812310\"}]' data-shp-contents-grp=\"filter\" data-shp-contents-id=\"2340x1080\" data-shp-contents-rank=\"6\" data-shp-contents-type=\"해상도(속성)\" data-shp-filter_con='[{\"key\":\"pgn\",\"value\":\"1\"},{\"key\":\"보기\",\"value\":\"리스트형\"}]' data-shp-inventory=\"lst*N\" data-shp-nsc=\"svc.shopping.v3\" data-shp-order_con='[{\"key\":\"정렬 옵션\",\"value\":\"네이버 랭킹순\"},{\"key\":\"연관도 필터\",\"value\":\"off\"}]' data-shp-page-key=\"100360185\" href=\"/search/all?where=all&amp;frm=NVSCTAB&amp;query=%EC%95%84%EC%9D%B4%ED%8F%B0#\" rel=\"noopener\">해상도 : 2340x1080</a><a class=\"product_detail__5OLQc product_bar__XrJ4x linkAnchor _nlog_click _nlog_impression_element\" data-shp-area=\"lst*N.attrfilter\" data-shp-area-id=\"attrfilter\" data-shp-area-type=\"slot\" data-shp-contents-dtl='[{\"key\":\"filter_value_id\",\"value\":\"M10777923\"}]' data-shp-contents-grp=\"filter\" data-shp-contents-id=\"블루투스5.0LE\" data-shp-contents-rank=\"7\" data-shp-contents-type=\"블루투스버전(속성)\" data-shp-filter_con='[{\"key\":\"pgn\",\"value\":\"1\"},{\"key\":\"보기\",\"value\":\"리스트형\"}]' data-shp-inventory=\"lst*N\" data-shp-nsc=\"svc.shopping.v3\" data-shp-order_con='[{\"key\":\"정렬 옵션\",\"value\":\"네이버 랭킹순\"},{\"key\":\"연관도 필터\",\"value\":\"off\"}]' data-shp-page-key=\"100360185\" href=\"/search/all?where=all&amp;frm=NVSCTAB&amp;query=%EC%95%84%EC%9D%B4%ED%8F%B0#\" rel=\"noopener\">블루투스버전 : 블루투스5.0LE</a><a class=\"product_detail__5OLQc product_bar__XrJ4x linkAnchor _nlog_click _nlog_impression_element\" data-shp-area=\"lst*N.attrfilter\" data-shp-area-id=\"attrfilter\" data-shp-area-type=\"slot\" data-shp-contents-dtl='[{\"key\":\"filter_value_id\",\"value\":\"M10006308\"}]' data-shp-contents-grp=\"filter\" data-shp-contents-id=\"파노라마\" data-shp-contents-rank=\"8\" data-shp-contents-type=\"동영상(속성)\" data-shp-filter_con='[{\"key\":\"pgn\",\"value\":\"1\"},{\"key\":\"보기\",\"value\":\"리스트형\"}]' data-shp-inventory=\"lst*N\" data-shp-nsc=\"svc.shopping.v3\" data-shp-order_con='[{\"key\":\"정렬 옵션\",\"value\":\"네이버 랭킹순\"},{\"key\":\"연관도 필터\",\"value\":\"off\"}]' data-shp-page-key=\"100360185\" href=\"/search/all?where=all&amp;frm=NVSCTAB&amp;query=%EC%95%84%EC%9D%B4%ED%8F%B0#\" rel=\"noopener\">동영상 : 파노라마</a>, <a class=\"product_detail__5OLQc linkAnchor _nlog_click _nlog_impression_element\" data-shp-area=\"lst*N.attrfilter\" data-shp-area-id=\"attrfilter\" data-shp-area-type=\"slot\" data-shp-contents-dtl='[{\"key\":\"filter_value_id\",\"value\":\"M10779785\"}]' data-shp-contents-grp=\"filter\" data-shp-contents-id=\"연속\" data-shp-contents-rank=\"9\" data-shp-contents-type=\"동영상(속성)\" data-shp-filter_con='[{\"key\":\"pgn\",\"value\":\"1\"},{\"key\":\"보기\",\"value\":\"리스트형\"}]' data-shp-inventory=\"lst*N\" data-shp-nsc=\"svc.shopping.v3\" data-shp-order_con='[{\"key\":\"정렬 옵션\",\"value\":\"네이버 랭킹순\"},{\"key\":\"연관도 필터\",\"value\":\"off\"}]' data-shp-page-key=\"100360185\" href=\"/search/all?where=all&amp;frm=NVSCTAB&amp;query=%EC%95%84%EC%9D%B4%ED%8F%B0#\" rel=\"noopener\">연속</a>, <a class=\"product_detail__5OLQc linkAnchor _nlog_click _nlog_impression_element\" data-shp-area=\"lst*N.attrfilter\" data-shp-area-id=\"attrfilter\" data-shp-area-type=\"slot\" data-shp-contents-dtl='[{\"key\":\"filter_value_id\",\"value\":\"M10786861\"}]' data-shp-contents-grp=\"filter\" data-shp-contents-id=\"야간\" data-shp-contents-rank=\"10\" data-shp-contents-type=\"동영상(속성)\" data-shp-filter_con='[{\"key\":\"pgn\",\"value\":\"1\"},{\"key\":\"보기\",\"value\":\"리스트형\"}]' data-shp-inventory=\"lst*N\" data-shp-nsc=\"svc.shopping.v3\" data-shp-order_con='[{\"key\":\"정렬 옵션\",\"value\":\"네이버 랭킹순\"},{\"key\":\"연관도 필터\",\"value\":\"off\"}]' data-shp-page-key=\"100360185\" href=\"/search/all?where=all&amp;frm=NVSCTAB&amp;query=%EC%95%84%EC%9D%B4%ED%8F%B0#\" rel=\"noopener\">야간</a>, <a class=\"product_detail__5OLQc linkAnchor _nlog_click _nlog_impression_element\" data-shp-area=\"lst*N.attrfilter\" data-shp-area-id=\"attrfilter\" data-shp-area-type=\"slot\" data-shp-contents-dtl='[{\"key\":\"filter_value_id\",\"value\":\"M10796591\"}]' data-shp-contents-grp=\"filter\" data-shp-contents-id=\"슬로모션\" data-shp-contents-rank=\"11\" data-shp-contents-type=\"동영상(속성)\" data-shp-filter_con='[{\"key\":\"pgn\",\"value\":\"1\"},{\"key\":\"보기\",\"value\":\"리스트형\"}]' data-shp-inventory=\"lst*N\" data-shp-nsc=\"svc.shopping.v3\" data-shp-order_con='[{\"key\":\"정렬 옵션\",\"value\":\"네이버 랭킹순\"},{\"key\":\"연관도 필터\",\"value\":\"off\"}]' data-shp-page-key=\"100360185\" href=\"/search/all?where=all&amp;frm=NVSCTAB&amp;query=%EC%95%84%EC%9D%B4%ED%8F%B0#\" rel=\"noopener\">슬로모션</a>, <a class=\"product_detail__5OLQc linkAnchor _nlog_click _nlog_impression_element\" data-shp-area=\"lst*N.attrfilter\" data-shp-area-id=\"attrfilter\" data-shp-area-type=\"slot\" data-shp-contents-dtl='[{\"key\":\"filter_value_id\",\"value\":\"M10796593\"}]' data-shp-contents-grp=\"filter\" data-shp-contents-id=\"라이브포토\" data-shp-contents-rank=\"12\" data-shp-contents-type=\"동영상(속성)\" data-shp-filter_con='[{\"key\":\"pgn\",\"value\":\"1\"},{\"key\":\"보기\",\"value\":\"리스트형\"}]' data-shp-inventory=\"lst*N\" data-shp-nsc=\"svc.shopping.v3\" data-shp-order_con='[{\"key\":\"정렬 옵션\",\"value\":\"네이버 랭킹순\"},{\"key\":\"연관도 필터\",\"value\":\"off\"}]' data-shp-page-key=\"100360185\" href=\"/search/all?where=all&amp;frm=NVSCTAB&amp;query=%EC%95%84%EC%9D%B4%ED%8F%B0#\" rel=\"noopener\">라이브포토</a>, <a class=\"product_detail__5OLQc linkAnchor _nlog_click _nlog_impression_element\" data-shp-area=\"lst*N.attrfilter\" data-shp-area-id=\"attrfilter\" data-shp-area-type=\"slot\" data-shp-contents-dtl='[{\"key\":\"filter_value_id\",\"value\":\"M10796595\"}]' data-shp-contents-grp=\"filter\" data-shp-contents-id=\"아웃포커스\" data-shp-contents-rank=\"13\" data-shp-contents-type=\"동영상(속성)\" data-shp-filter_con='[{\"key\":\"pgn\",\"value\":\"1\"},{\"key\":\"보기\",\"value\":\"리스트형\"}]' data-shp-inventory=\"lst*N\" data-shp-nsc=\"svc.shopping.v3\" data-shp-order_con='[{\"key\":\"정렬 옵션\",\"value\":\"네이버 랭킹순\"},{\"key\":\"연관도 필터\",\"value\":\"off\"}]' data-shp-page-key=\"100360185\" href=\"/search/all?where=all&amp;frm=NVSCTAB&amp;query=%EC%95%84%EC%9D%B4%ED%8F%B0#\" rel=\"noopener\">아웃포커스</a>, <a class=\"product_detail__5OLQc linkAnchor _nlog_click _nlog_impression_element\" data-shp-area=\"lst*N.attrfilter\" data-shp-area-id=\"attrfilter\" data-shp-area-type=\"slot\" data-shp-contents-dtl='[{\"key\":\"filter_value_id\",\"value\":\"M10784627\"}]' data-shp-contents-grp=\"filter\" data-shp-contents-id=\"자동초점\" data-shp-contents-rank=\"14\" data-shp-contents-type=\"동영상(속성)\" data-shp-filter_con='[{\"key\":\"pgn\",\"value\":\"1\"},{\"key\":\"보기\",\"value\":\"리스트형\"}]' data-shp-inventory=\"lst*N\" data-shp-nsc=\"svc.shopping.v3\" data-shp-order_con='[{\"key\":\"정렬 옵션\",\"value\":\"네이버 랭킹순\"},{\"key\":\"연관도 필터\",\"value\":\"off\"}]' data-shp-page-key=\"100360185\" href=\"/search/all?where=all&amp;frm=NVSCTAB&amp;query=%EC%95%84%EC%9D%B4%ED%8F%B0#\" rel=\"noopener\">자동초점</a>, <a class=\"product_detail__5OLQc linkAnchor _nlog_click _nlog_impression_element\" data-shp-area=\"lst*N.attrfilter\" data-shp-area-id=\"attrfilter\" data-shp-area-type=\"slot\" data-shp-contents-dtl='[{\"key\":\"filter_value_id\",\"value\":\"M10804642\"}]' data-shp-contents-grp=\"filter\" data-shp-contents-id=\"Full-HD동영상\" data-shp-contents-rank=\"15\" data-shp-contents-type=\"동영상(속성)\" data-shp-filter_con='[{\"key\":\"pgn\",\"value\":\"1\"},{\"key\":\"보기\",\"value\":\"리스트형\"}]' data-shp-inventory=\"lst*N\" data-shp-nsc=\"svc.shopping.v3\" data-shp-order_con='[{\"key\":\"정렬 옵션\",\"value\":\"네이버 랭킹순\"},{\"key\":\"연관도 필터\",\"value\":\"off\"}]' data-shp-page-key=\"100360185\" href=\"/search/all?where=all&amp;frm=NVSCTAB&amp;query=%EC%95%84%EC%9D%B4%ED%8F%B0#\" rel=\"noopener\">Full-HD동영상</a>, <a class=\"product_detail__5OLQc linkAnchor _nlog_click _nlog_impression_element\" data-shp-area=\"lst*N.attrfilter\" data-shp-area-id=\"attrfilter\" data-shp-area-type=\"slot\" data-shp-contents-dtl='[{\"key\":\"filter_value_id\",\"value\":\"M10831826\"}]' data-shp-contents-grp=\"filter\" data-shp-contents-id=\"4K UHD동영상\" data-shp-contents-rank=\"16\" data-shp-contents-type=\"동영상(속성)\" data-shp-filter_con='[{\"key\":\"pgn\",\"value\":\"1\"},{\"key\":\"보기\",\"value\":\"리스트형\"}]' data-shp-inventory=\"lst*N\" data-shp-nsc=\"svc.shopping.v3\" data-shp-order_con='[{\"key\":\"정렬 옵션\",\"value\":\"네이버 랭킹순\"},{\"key\":\"연관도 필터\",\"value\":\"off\"}]' data-shp-page-key=\"100360185\" href=\"/search/all?where=all&amp;frm=NVSCTAB&amp;query=%EC%95%84%EC%9D%B4%ED%8F%B0#\" rel=\"noopener\">4K UHD동영상</a>, <a class=\"product_detail__5OLQc linkAnchor _nlog_click _nlog_impression_element\" data-shp-area=\"lst*N.attrfilter\" data-shp-area-id=\"attrfilter\" data-shp-area-type=\"slot\" data-shp-contents-dtl='[{\"key\":\"filter_value_id\",\"value\":\"M10839590\"}]' data-shp-contents-grp=\"filter\" data-shp-contents-id=\"광학식손떨림보정(OIS)\" data-shp-contents-rank=\"17\" data-shp-contents-type=\"동영상(속성)\" data-shp-filter_con='[{\"key\":\"pgn\",\"value\":\"1\"},{\"key\":\"보기\",\"value\":\"리스트형\"}]' data-shp-inventory=\"lst*N\" data-shp-nsc=\"svc.shopping.v3\" data-shp-order_con='[{\"key\":\"정렬 옵션\",\"value\":\"네이버 랭킹순\"},{\"key\":\"연관도 필터\",\"value\":\"off\"}]' data-shp-page-key=\"100360185\" href=\"/search/all?where=all&amp;frm=NVSCTAB&amp;query=%EC%95%84%EC%9D%B4%ED%8F%B0#\" rel=\"noopener\">광학식손떨림보정(OIS)</a><a class=\"product_detail__5OLQc product_bar__XrJ4x linkAnchor _nlog_click _nlog_impression_element\" data-shp-area=\"lst*N.attrfilter\" data-shp-area-id=\"attrfilter\" data-shp-area-type=\"slot\" data-shp-contents-dtl='[{\"key\":\"filter_value_id\",\"value\":\"M10840164\"}]' data-shp-contents-grp=\"filter\" data-shp-contents-id=\"듀얼후면(1,200만+1,200만)\" data-shp-contents-rank=\"18\" data-shp-contents-type=\"후면카메라화소(속성)\" data-shp-filter_con='[{\"key\":\"pgn\",\"value\":\"1\"},{\"key\":\"보기\",\"value\":\"리스트형\"}]' data-shp-inventory=\"lst*N\" data-shp-nsc=\"svc.shopping.v3\" data-shp-order_con='[{\"key\":\"정렬 옵션\",\"value\":\"네이버 랭킹순\"},{\"key\":\"연관도 필터\",\"value\":\"off\"}]' data-shp-page-key=\"100360185\" href=\"/search/all?where=all&amp;frm=NVSCTAB&amp;query=%EC%95%84%EC%9D%B4%ED%8F%B0#\" rel=\"noopener\">후면카메라화소 : 듀얼후면(1,200만+1,200만)</a><a class=\"product_detail__5OLQc product_bar__XrJ4x linkAnchor _nlog_click _nlog_impression_element\" data-shp-area=\"lst*N.attrfilter\" data-shp-area-id=\"attrfilter\" data-shp-area-type=\"slot\" data-shp-contents-dtl='[{\"key\":\"filter_value_id\",\"value\":\"M10777899\"}]' data-shp-contents-grp=\"filter\" data-shp-contents-id=\"전면(1200만)\" data-shp-contents-rank=\"19\" data-shp-contents-type=\"전면카메라화소(속성)\" data-shp-filter_con='[{\"key\":\"pgn\",\"value\":\"1\"},{\"key\":\"보기\",\"value\":\"리스트형\"}]' data-shp-inventory=\"lst*N\" data-shp-nsc=\"svc.shopping.v3\" data-shp-order_con='[{\"key\":\"정렬 옵션\",\"value\":\"네이버 랭킹순\"},{\"key\":\"연관도 필터\",\"value\":\"off\"}]' data-shp-page-key=\"100360185\" href=\"/search/all?where=all&amp;frm=NVSCTAB&amp;query=%EC%95%84%EC%9D%B4%ED%8F%B0#\" rel=\"noopener\">전면카메라화소 : 전면(1200만)</a><a class=\"product_detail__5OLQc product_bar__XrJ4x linkAnchor _nlog_click _nlog_impression_element\" data-shp-area=\"lst*N.attrfilter\" data-shp-area-id=\"attrfilter\" data-shp-area-type=\"slot\" data-shp-contents-dtl='[{\"key\":\"filter_value_id\",\"value\":\"M10777927\"}]' data-shp-contents-grp=\"filter\" data-shp-contents-id=\"476ppi\" data-shp-contents-rank=\"20\" data-shp-contents-type=\"화소밀도(속성)\" data-shp-filter_con='[{\"key\":\"pgn\",\"value\":\"1\"},{\"key\":\"보기\",\"value\":\"리스트형\"}]' data-shp-inventory=\"lst*N\" data-shp-nsc=\"svc.shopping.v3\" data-shp-order_con='[{\"key\":\"정렬 옵션\",\"value\":\"네이버 랭킹순\"},{\"key\":\"연관도 필터\",\"value\":\"off\"}]' data-shp-page-key=\"100360185\" href=\"/search/all?where=all&amp;frm=NVSCTAB&amp;query=%EC%95%84%EC%9D%B4%ED%8F%B0#\" rel=\"noopener\">화소밀도 : 476ppi</a><a class=\"product_detail__5OLQc product_bar__XrJ4x linkAnchor _nlog_click _nlog_impression_element\" data-shp-area=\"lst*N.attrfilter\" data-shp-area-id=\"attrfilter\" data-shp-area-type=\"slot\" data-shp-contents-dtl='[{\"key\":\"filter_value_id\",\"value\":\"M10777956\"}]' data-shp-contents-grp=\"filter\" data-shp-contents-id=\"800nit\" data-shp-contents-rank=\"21\" data-shp-contents-type=\"화면밝기(속성)\" data-shp-filter_con='[{\"key\":\"pgn\",\"value\":\"1\"},{\"key\":\"보기\",\"value\":\"리스트형\"}]' data-shp-inventory=\"lst*N\" data-shp-nsc=\"svc.shopping.v3\" data-shp-order_con='[{\"key\":\"정렬 옵션\",\"value\":\"네이버 랭킹순\"},{\"key\":\"연관도 필터\",\"value\":\"off\"}]' data-shp-page-key=\"100360185\" href=\"/search/all?where=all&amp;frm=NVSCTAB&amp;query=%EC%95%84%EC%9D%B4%ED%8F%B0#\" rel=\"noopener\">화면밝기 : 800nit</a><a class=\"product_detail__5OLQc product_bar__XrJ4x linkAnchor _nlog_click _nlog_impression_element\" data-shp-area=\"lst*N.attrfilter\" data-shp-area-id=\"attrfilter\" data-shp-area-type=\"slot\" data-shp-contents-dtl='[{\"key\":\"filter_value_id\",\"value\":\"M10845585\"}]' data-shp-contents-grp=\"filter\" data-shp-contents-id=\"19.5:9\" data-shp-contents-rank=\"22\" data-shp-contents-type=\"화면비율(속성)\" data-shp-filter_con='[{\"key\":\"pgn\",\"value\":\"1\"},{\"key\":\"보기\",\"value\":\"리스트형\"}]' data-shp-inventory=\"lst*N\" data-shp-nsc=\"svc.shopping.v3\" data-shp-order_con='[{\"key\":\"정렬 옵션\",\"value\":\"네이버 랭킹순\"},{\"key\":\"연관도 필터\",\"value\":\"off\"}]' data-shp-page-key=\"100360185\" href=\"/search/all?where=all&amp;frm=NVSCTAB&amp;query=%EC%95%84%EC%9D%B4%ED%8F%B0#\" rel=\"noopener\">화면비율 : 19.5:9</a><a class=\"product_detail__5OLQc product_bar__XrJ4x linkAnchor _nlog_click _nlog_impression_element\" data-shp-area=\"lst*N.attrfilter\" data-shp-area-id=\"attrfilter\" data-shp-area-type=\"slot\" data-shp-contents-dtl='[{\"key\":\"filter_value_id\",\"value\":\"M10832061\"}]' data-shp-contents-grp=\"filter\" data-shp-contents-id=\"슈퍼레티나 XDR OLED\" data-shp-contents-rank=\"23\" data-shp-contents-type=\"화면종류(속성)\" data-shp-filter_con='[{\"key\":\"pgn\",\"value\":\"1\"},{\"key\":\"보기\",\"value\":\"리스트형\"}]' data-shp-inventory=\"lst*N\" data-shp-nsc=\"svc.shopping.v3\" data-shp-order_con='[{\"key\":\"정렬 옵션\",\"value\":\"네이버 랭킹순\"},{\"key\":\"연관도 필터\",\"value\":\"off\"}]' data-shp-page-key=\"100360185\" href=\"/search/all?where=all&amp;frm=NVSCTAB&amp;query=%EC%95%84%EC%9D%B4%ED%8F%B0#\" rel=\"noopener\">화면종류 : 슈퍼레티나 XDR OLED</a><a class=\"product_detail__5OLQc product_bar__XrJ4x linkAnchor _nlog_click _nlog_impression_element\" data-shp-area=\"lst*N.attrfilter\" data-shp-area-id=\"attrfilter\" data-shp-area-type=\"slot\" data-shp-contents-dtl='[{\"key\":\"filter_value_id\",\"value\":\"M10796442\"}]' data-shp-contents-grp=\"filter\" data-shp-contents-id=\"3.22GHz\" data-shp-contents-rank=\"24\" data-shp-contents-type=\"CPU 클럭(속성)\" data-shp-filter_con='[{\"key\":\"pgn\",\"value\":\"1\"},{\"key\":\"보기\",\"value\":\"리스트형\"}]' data-shp-inventory=\"lst*N\" data-shp-nsc=\"svc.shopping.v3\" data-shp-order_con='[{\"key\":\"정렬 옵션\",\"value\":\"네이버 랭킹순\"},{\"key\":\"연관도 필터\",\"value\":\"off\"}]' data-shp-page-key=\"100360185\" href=\"/search/all?where=all&amp;frm=NVSCTAB&amp;query=%EC%95%84%EC%9D%B4%ED%8F%B0#\" rel=\"noopener\">CPU 클럭 : 3.22GHz</a><a class=\"product_detail__5OLQc product_bar__XrJ4x linkAnchor _nlog_click _nlog_impression_element\" data-shp-area=\"lst*N.attrfilter\" data-shp-area-id=\"attrfilter\" data-shp-area-type=\"slot\" data-shp-contents-dtl='[{\"key\":\"filter_value_id\",\"value\":\"M10744970\"}]' data-shp-contents-grp=\"filter\" data-shp-contents-id=\"헥사코어\" data-shp-contents-rank=\"25\" data-shp-contents-type=\"CPU 코어(속성)\" data-shp-filter_con='[{\"key\":\"pgn\",\"value\":\"1\"},{\"key\":\"보기\",\"value\":\"리스트형\"}]' data-shp-inventory=\"lst*N\" data-shp-nsc=\"svc.shopping.v3\" data-shp-order_con='[{\"key\":\"정렬 옵션\",\"value\":\"네이버 랭킹순\"},{\"key\":\"연관도 필터\",\"value\":\"off\"}]' data-shp-page-key=\"100360185\" href=\"/search/all?where=all&amp;frm=NVSCTAB&amp;query=%EC%95%84%EC%9D%B4%ED%8F%B0#\" rel=\"noopener\">CPU 코어 : 헥사코어</a><a class=\"product_detail__5OLQc product_bar__XrJ4x linkAnchor _nlog_click _nlog_impression_element\" data-shp-area=\"lst*N.attrfilter\" data-shp-area-id=\"attrfilter\" data-shp-area-type=\"slot\" data-shp-contents-dtl='[{\"key\":\"filter_value_id\",\"value\":\"M11095699\"}]' data-shp-contents-grp=\"filter\" data-shp-contents-id=\"애플A15\" data-shp-contents-rank=\"26\" data-shp-contents-type=\"CPU 모델명(속성)\" data-shp-filter_con='[{\"key\":\"pgn\",\"value\":\"1\"},{\"key\":\"보기\",\"value\":\"리스트형\"}]' data-shp-inventory=\"lst*N\" data-shp-nsc=\"svc.shopping.v3\" data-shp-order_con='[{\"key\":\"정렬 옵션\",\"value\":\"네이버 랭킹순\"},{\"key\":\"연관도 필터\",\"value\":\"off\"}]' data-shp-page-key=\"100360185\" href=\"/search/all?where=all&amp;frm=NVSCTAB&amp;query=%EC%95%84%EC%9D%B4%ED%8F%B0#\" rel=\"noopener\">CPU 모델명 : 애플A15</a><a class=\"product_detail__5OLQc product_bar__XrJ4x linkAnchor _nlog_click _nlog_impression_element\" data-shp-area=\"lst*N.attrfilter\" data-shp-area-id=\"attrfilter\" data-shp-area-type=\"slot\" data-shp-contents-dtl='[{\"key\":\"filter_value_id\",\"value\":\"M10025801\"}]' data-shp-contents-grp=\"filter\" data-shp-contents-id=\"스마트폰\" data-shp-contents-rank=\"27\" data-shp-contents-type=\"품목(속성)\" data-shp-filter_con='[{\"key\":\"pgn\",\"value\":\"1\"},{\"key\":\"보기\",\"value\":\"리스트형\"}]' data-shp-inventory=\"lst*N\" data-shp-nsc=\"svc.shopping.v3\" data-shp-order_con='[{\"key\":\"정렬 옵션\",\"value\":\"네이버 랭킹순\"},{\"key\":\"연관도 필터\",\"value\":\"off\"}]' data-shp-page-key=\"100360185\" href=\"/search/all?where=all&amp;frm=NVSCTAB&amp;query=%EC%95%84%EC%9D%B4%ED%8F%B0#\" rel=\"noopener\">품목 : 스마트폰</a><a class=\"product_detail__5OLQc product_bar__XrJ4x linkAnchor _nlog_click _nlog_impression_element\" data-shp-area=\"lst*N.attrfilter\" data-shp-area-id=\"attrfilter\" data-shp-area-type=\"slot\" data-shp-contents-dtl='[{\"key\":\"filter_value_id\",\"value\":\"M10777860\"}]' data-shp-contents-grp=\"filter\" data-shp-contents-id=\"7.65mm\" data-shp-contents-rank=\"28\" data-shp-contents-type=\"두께(속성)\" data-shp-filter_con='[{\"key\":\"pgn\",\"value\":\"1\"},{\"key\":\"보기\",\"value\":\"리스트형\"}]' data-shp-inventory=\"lst*N\" data-shp-nsc=\"svc.shopping.v3\" data-shp-order_con='[{\"key\":\"정렬 옵션\",\"value\":\"네이버 랭킹순\"},{\"key\":\"연관도 필터\",\"value\":\"off\"}]' data-shp-page-key=\"100360185\" href=\"/search/all?where=all&amp;frm=NVSCTAB&amp;query=%EC%95%84%EC%9D%B4%ED%8F%B0#\" rel=\"noopener\">두께 : 7.65mm</a><a class=\"product_detail__5OLQc product_bar__XrJ4x linkAnchor _nlog_click _nlog_impression_element\" data-shp-area=\"lst*N.attrfilter\" data-shp-area-id=\"attrfilter\" data-shp-area-type=\"slot\" data-shp-contents-dtl='[{\"key\":\"filter_value_id\",\"value\":\"M10777866\"}]' data-shp-contents-grp=\"filter\" data-shp-contents-id=\"141g\" data-shp-contents-rank=\"29\" data-shp-contents-type=\"무게(속성)\" data-shp-filter_con='[{\"key\":\"pgn\",\"value\":\"1\"},{\"key\":\"보기\",\"value\":\"리스트형\"}]' data-shp-inventory=\"lst*N\" data-shp-nsc=\"svc.shopping.v3\" data-shp-order_con='[{\"key\":\"정렬 옵션\",\"value\":\"네이버 랭킹순\"},{\"key\":\"연관도 필터\",\"value\":\"off\"}]' data-shp-page-key=\"100360185\" href=\"/search/all?where=all&amp;frm=NVSCTAB&amp;query=%EC%95%84%EC%9D%B4%ED%8F%B0#\" rel=\"noopener\">무게 : 141g</a><a class=\"product_detail__5OLQc product_bar__XrJ4x linkAnchor _nlog_click _nlog_impression_element\" data-shp-area=\"lst*N.attrfilter\" data-shp-area-id=\"attrfilter\" data-shp-area-type=\"slot\" data-shp-contents-dtl='[{\"key\":\"filter_value_id\",\"value\":\"M10777854\"}]' data-shp-contents-grp=\"filter\" data-shp-contents-id=\"2406mAh\" data-shp-contents-rank=\"30\" data-shp-contents-type=\"배터리(일체형)(속성)\" data-shp-filter_con='[{\"key\":\"pgn\",\"value\":\"1\"},{\"key\":\"보기\",\"value\":\"리스트형\"}]' data-shp-inventory=\"lst*N\" data-shp-nsc=\"svc.shopping.v3\" data-shp-order_con='[{\"key\":\"정렬 옵션\",\"value\":\"네이버 랭킹순\"},{\"key\":\"연관도 필터\",\"value\":\"off\"}]' data-shp-page-key=\"100360185\" href=\"/search/all?where=all&amp;frm=NVSCTAB&amp;query=%EC%95%84%EC%9D%B4%ED%8F%B0#\" rel=\"noopener\">배터리(일체형) : 2406mAh</a><a class=\"product_detail__5OLQc product_bar__XrJ4x linkAnchor _nlog_click _nlog_impression_element\" data-shp-area=\"lst*N.attrfilter\" data-shp-area-id=\"attrfilter\" data-shp-area-type=\"slot\" data-shp-contents-dtl='[{\"key\":\"filter_value_id\",\"value\":\"M10743057\"}]' data-shp-contents-grp=\"filter\" data-shp-contents-id=\"라이트닝\" data-shp-contents-rank=\"31\" data-shp-contents-type=\"단자(속성)\" data-shp-filter_con='[{\"key\":\"pgn\",\"value\":\"1\"},{\"key\":\"보기\",\"value\":\"리스트형\"}]' data-shp-inventory=\"lst*N\" data-shp-nsc=\"svc.shopping.v3\" data-shp-order_con='[{\"key\":\"정렬 옵션\",\"value\":\"네이버 랭킹순\"},{\"key\":\"연관도 필터\",\"value\":\"off\"}]' data-shp-page-key=\"100360185\" href=\"/search/all?where=all&amp;frm=NVSCTAB&amp;query=%EC%95%84%EC%9D%B4%ED%8F%B0#\" rel=\"noopener\">단자 : 라이트닝</a>, <a class=\"product_detail__5OLQc linkAnchor _nlog_click _nlog_impression_element\" data-shp-area=\"lst*N.attrfilter\" data-shp-area-id=\"attrfilter\" data-shp-area-type=\"slot\" data-shp-contents-dtl='[{\"key\":\"filter_value_id\",\"value\":\"M10796637\"}]' data-shp-contents-grp=\"filter\" data-shp-contents-id=\"3.5mm이어폰단자없음\" data-shp-contents-rank=\"32\" data-shp-contents-type=\"단자(속성)\" data-shp-filter_con='[{\"key\":\"pgn\",\"value\":\"1\"},{\"key\":\"보기\",\"value\":\"리스트형\"}]' data-shp-inventory=\"lst*N\" data-shp-nsc=\"svc.shopping.v3\" data-shp-order_con='[{\"key\":\"정렬 옵션\",\"value\":\"네이버 랭킹순\"},{\"key\":\"연관도 필터\",\"value\":\"off\"}]' data-shp-page-key=\"100360185\" href=\"/search/all?where=all&amp;frm=NVSCTAB&amp;query=%EC%95%84%EC%9D%B4%ED%8F%B0#\" rel=\"noopener\">3.5mm이어폰단자없음</a><a class=\"product_detail__5OLQc product_bar__XrJ4x linkAnchor _nlog_click _nlog_impression_element\" data-shp-area=\"lst*N.attrfilter\" data-shp-area-id=\"attrfilter\" data-shp-area-type=\"slot\" data-shp-contents-dtl='[{\"key\":\"filter_value_id\",\"value\":\"M10796617\"}]' data-shp-contents-grp=\"filter\" data-shp-contents-id=\"페이스ID(얼굴인식)\" data-shp-contents-rank=\"33\" data-shp-contents-type=\"보안기능(속성)\" data-shp-filter_con='[{\"key\":\"pgn\",\"value\":\"1\"},{\"key\":\"보기\",\"value\":\"리스트형\"}]' data-shp-inventory=\"lst*N\" data-shp-nsc=\"svc.shopping.v3\" data-shp-order_con='[{\"key\":\"정렬 옵션\",\"value\":\"네이버 랭킹순\"},{\"key\":\"연관도 필터\",\"value\":\"off\"}]' data-shp-page-key=\"100360185\" href=\"/search/all?where=all&amp;frm=NVSCTAB&amp;query=%EC%95%84%EC%9D%B4%ED%8F%B0#\" rel=\"noopener\">보안기능 : 페이스ID(얼굴인식)</a><a class=\"product_detail__5OLQc product_bar__XrJ4x linkAnchor _nlog_click _nlog_impression_element\" data-shp-area=\"lst*N.attrfilter\" data-shp-area-id=\"attrfilter\" data-shp-area-type=\"slot\" data-shp-contents-dtl='[{\"key\":\"filter_value_id\",\"value\":\"M10796620\"}]' data-shp-contents-grp=\"filter\" data-shp-contents-id=\"기가WiFi(듀얼밴드)\" data-shp-contents-rank=\"34\" data-shp-contents-type=\"부가기능(속성)\" data-shp-filter_con='[{\"key\":\"pgn\",\"value\":\"1\"},{\"key\":\"보기\",\"value\":\"리스트형\"}]' data-shp-inventory=\"lst*N\" data-shp-nsc=\"svc.shopping.v3\" data-shp-order_con='[{\"key\":\"정렬 옵션\",\"value\":\"네이버 랭킹순\"},{\"key\":\"연관도 필터\",\"value\":\"off\"}]' data-shp-page-key=\"100360185\" href=\"/search/all?where=all&amp;frm=NVSCTAB&amp;query=%EC%95%84%EC%9D%B4%ED%8F%B0#\" rel=\"noopener\">부가기능 : 기가WiFi(듀얼밴드)</a>, <a class=\"product_detail__5OLQc linkAnchor _nlog_click _nlog_impression_element\" data-shp-area=\"lst*N.attrfilter\" data-shp-area-id=\"attrfilter\" data-shp-area-type=\"slot\" data-shp-contents-dtl='[{\"key\":\"filter_value_id\",\"value\":\"M10042652\"}]' data-shp-contents-grp=\"filter\" data-shp-contents-id=\"NFC\" data-shp-contents-rank=\"35\" data-shp-contents-type=\"부가기능(속성)\" data-shp-filter_con='[{\"key\":\"pgn\",\"value\":\"1\"},{\"key\":\"보기\",\"value\":\"리스트형\"}]' data-shp-inventory=\"lst*N\" data-shp-nsc=\"svc.shopping.v3\" data-shp-order_con='[{\"key\":\"정렬 옵션\",\"value\":\"네이버 랭킹순\"},{\"key\":\"연관도 필터\",\"value\":\"off\"}]' data-shp-page-key=\"100360185\" href=\"/search/all?where=all&amp;frm=NVSCTAB&amp;query=%EC%95%84%EC%9D%B4%ED%8F%B0#\" rel=\"noopener\">NFC</a>, <a class=\"product_detail__5OLQc linkAnchor _nlog_click _nlog_impression_element\" data-shp-area=\"lst*N.attrfilter\" data-shp-area-id=\"attrfilter\" data-shp-area-type=\"slot\" data-shp-contents-dtl='[{\"key\":\"filter_value_id\",\"value\":\"M10832048\"}]' data-shp-contents-grp=\"filter\" data-shp-contents-id=\"애플페이\" data-shp-contents-rank=\"36\" data-shp-contents-type=\"부가기능(속성)\" data-shp-filter_con='[{\"key\":\"pgn\",\"value\":\"1\"},{\"key\":\"보기\",\"value\":\"리스트형\"}]' data-shp-inventory=\"lst*N\" data-shp-nsc=\"svc.shopping.v3\" data-shp-order_con='[{\"key\":\"정렬 옵션\",\"value\":\"네이버 랭킹순\"},{\"key\":\"연관도 필터\",\"value\":\"off\"}]' data-shp-page-key=\"100360185\" href=\"/search/all?where=all&amp;frm=NVSCTAB&amp;query=%EC%95%84%EC%9D%B4%ED%8F%B0#\" rel=\"noopener\">애플페이</a><a class=\"product_detail__5OLQc product_bar__XrJ4x linkAnchor _nlog_click _nlog_impression_element\" data-shp-area=\"lst*N.attrfilter\" data-shp-area-id=\"attrfilter\" data-shp-area-type=\"slot\" data-shp-contents-dtl='[{\"key\":\"filter_value_id\",\"value\":\"M10796767\"}]' data-shp-contents-grp=\"filter\" data-shp-contents-id=\"애니모티콘\" data-shp-contents-rank=\"37\" data-shp-contents-type=\"아이폰기능(속성)\" data-shp-filter_con='[{\"key\":\"pgn\",\"value\":\"1\"},{\"key\":\"보기\",\"value\":\"리스트형\"}]' data-shp-inventory=\"lst*N\" data-shp-nsc=\"svc.shopping.v3\" data-shp-order_con='[{\"key\":\"정렬 옵션\",\"value\":\"네이버 랭킹순\"},{\"key\":\"연관도 필터\",\"value\":\"off\"}]' data-shp-page-key=\"100360185\" href=\"/search/all?where=all&amp;frm=NVSCTAB&amp;query=%EC%95%84%EC%9D%B4%ED%8F%B0#\" rel=\"noopener\">아이폰기능 : 애니모티콘</a>, <a class=\"product_detail__5OLQc linkAnchor _nlog_click _nlog_impression_element\" data-shp-area=\"lst*N.attrfilter\" data-shp-area-id=\"attrfilter\" data-shp-area-type=\"slot\" data-shp-contents-dtl='[{\"key\":\"filter_value_id\",\"value\":\"M10796768\"}]' data-shp-contents-grp=\"filter\" data-shp-contents-id=\"트루뎁스카메라\" data-shp-contents-rank=\"38\" data-shp-contents-type=\"아이폰기능(속성)\" data-shp-filter_con='[{\"key\":\"pgn\",\"value\":\"1\"},{\"key\":\"보기\",\"value\":\"리스트형\"}]' data-shp-inventory=\"lst*N\" data-shp-nsc=\"svc.shopping.v3\" data-shp-order_con='[{\"key\":\"정렬 옵션\",\"value\":\"네이버 랭킹순\"},{\"key\":\"연관도 필터\",\"value\":\"off\"}]' data-shp-page-key=\"100360185\" href=\"/search/all?where=all&amp;frm=NVSCTAB&amp;query=%EC%95%84%EC%9D%B4%ED%8F%B0#\" rel=\"noopener\">트루뎁스카메라</a>, <a class=\"product_detail__5OLQc linkAnchor _nlog_click _nlog_impression_element\" data-shp-area=\"lst*N.attrfilter\" data-shp-area-id=\"attrfilter\" data-shp-area-type=\"slot\" data-shp-contents-dtl='[{\"key\":\"filter_value_id\",\"value\":\"M10743990\"}]' data-shp-contents-grp=\"filter\" data-shp-contents-id=\"페이스타임HD\" data-shp-contents-rank=\"39\" data-shp-contents-type=\"아이폰기능(속성)\" data-shp-filter_con='[{\"key\":\"pgn\",\"value\":\"1\"},{\"key\":\"보기\",\"value\":\"리스트형\"}]' data-shp-inventory=\"lst*N\" data-shp-nsc=\"svc.shopping.v3\" data-shp-order_con='[{\"key\":\"정렬 옵션\",\"value\":\"네이버 랭킹순\"},{\"key\":\"연관도 필터\",\"value\":\"off\"}]' data-shp-page-key=\"100360185\" href=\"/search/all?where=all&amp;frm=NVSCTAB&amp;query=%EC%95%84%EC%9D%B4%ED%8F%B0#\" rel=\"noopener\">페이스타임HD</a>, <a class=\"product_detail__5OLQc linkAnchor _nlog_click _nlog_impression_element\" data-shp-area=\"lst*N.attrfilter\" data-shp-area-id=\"attrfilter\" data-shp-area-type=\"slot\" data-shp-contents-dtl='[{\"key\":\"filter_value_id\",\"value\":\"M10743985\"}]' data-shp-contents-grp=\"filter\" data-shp-contents-id=\"애플앱스토어\" data-shp-contents-rank=\"40\" data-shp-contents-type=\"아이폰기능(속성)\" data-shp-filter_con='[{\"key\":\"pgn\",\"value\":\"1\"},{\"key\":\"보기\",\"value\":\"리스트형\"}]' data-shp-inventory=\"lst*N\" data-shp-nsc=\"svc.shopping.v3\" data-shp-order_con='[{\"key\":\"정렬 옵션\",\"value\":\"네이버 랭킹순\"},{\"key\":\"연관도 필터\",\"value\":\"off\"}]' data-shp-page-key=\"100360185\" href=\"/search/all?where=all&amp;frm=NVSCTAB&amp;query=%EC%95%84%EC%9D%B4%ED%8F%B0#\" rel=\"noopener\">애플앱스토어</a>, <a class=\"product_detail__5OLQc linkAnchor _nlog_click _nlog_impression_element\" data-shp-area=\"lst*N.attrfilter\" data-shp-area-id=\"attrfilter\" data-shp-area-type=\"slot\" data-shp-contents-dtl='[{\"key\":\"filter_value_id\",\"value\":\"M10743983\"}]' data-shp-contents-grp=\"filter\" data-shp-contents-id=\"아이메시지\" data-shp-contents-rank=\"41\" data-shp-contents-type=\"아이폰기능(속성)\" data-shp-filter_con='[{\"key\":\"pgn\",\"value\":\"1\"},{\"key\":\"보기\",\"value\":\"리스트형\"}]' data-shp-inventory=\"lst*N\" data-shp-nsc=\"svc.shopping.v3\" data-shp-order_con='[{\"key\":\"정렬 옵션\",\"value\":\"네이버 랭킹순\"},{\"key\":\"연관도 필터\",\"value\":\"off\"}]' data-shp-page-key=\"100360185\" href=\"/search/all?where=all&amp;frm=NVSCTAB&amp;query=%EC%95%84%EC%9D%B4%ED%8F%B0#\" rel=\"noopener\">아이메시지</a>, <a class=\"product_detail__5OLQc linkAnchor _nlog_click _nlog_impression_element\" data-shp-area=\"lst*N.attrfilter\" data-shp-area-id=\"attrfilter\" data-shp-area-type=\"slot\" data-shp-contents-dtl='[{\"key\":\"filter_value_id\",\"value\":\"M10743984\"}]' data-shp-contents-grp=\"filter\" data-shp-contents-id=\"아이클라우드\" data-shp-contents-rank=\"42\" data-shp-contents-type=\"아이폰기능(속성)\" data-shp-filter_con='[{\"key\":\"pgn\",\"value\":\"1\"},{\"key\":\"보기\",\"value\":\"리스트형\"}]' data-shp-inventory=\"lst*N\" data-shp-nsc=\"svc.shopping.v3\" data-shp-order_con='[{\"key\":\"정렬 옵션\",\"value\":\"네이버 랭킹순\"},{\"key\":\"연관도 필터\",\"value\":\"off\"}]' data-shp-page-key=\"100360185\" href=\"/search/all?where=all&amp;frm=NVSCTAB&amp;query=%EC%95%84%EC%9D%B4%ED%8F%B0#\" rel=\"noopener\">아이클라우드</a>, <a class=\"product_detail__5OLQc linkAnchor _nlog_click _nlog_impression_element\" data-shp-area=\"lst*N.attrfilter\" data-shp-area-id=\"attrfilter\" data-shp-area-type=\"slot\" data-shp-contents-dtl='[{\"key\":\"filter_value_id\",\"value\":\"M10796770\"}]' data-shp-contents-grp=\"filter\" data-shp-contents-id=\"시리\" data-shp-contents-rank=\"43\" data-shp-contents-type=\"아이폰기능(속성)\" data-shp-filter_con='[{\"key\":\"pgn\",\"value\":\"1\"},{\"key\":\"보기\",\"value\":\"리스트형\"}]' data-shp-inventory=\"lst*N\" data-shp-nsc=\"svc.shopping.v3\" data-shp-order_con='[{\"key\":\"정렬 옵션\",\"value\":\"네이버 랭킹순\"},{\"key\":\"연관도 필터\",\"value\":\"off\"}]' data-shp-page-key=\"100360185\" href=\"/search/all?where=all&amp;frm=NVSCTAB&amp;query=%EC%95%84%EC%9D%B4%ED%8F%B0#\" rel=\"noopener\">시리</a>, <a class=\"product_detail__5OLQc linkAnchor _nlog_click _nlog_impression_element\" data-shp-area=\"lst*N.attrfilter\" data-shp-area-id=\"attrfilter\" data-shp-area-type=\"slot\" data-shp-contents-dtl='[{\"key\":\"filter_value_id\",\"value\":\"M10743988\"}]' data-shp-contents-grp=\"filter\" data-shp-contents-id=\"제어센터\" data-shp-contents-rank=\"44\" data-shp-contents-type=\"아이폰기능(속성)\" data-shp-filter_con='[{\"key\":\"pgn\",\"value\":\"1\"},{\"key\":\"보기\",\"value\":\"리스트형\"}]' data-shp-inventory=\"lst*N\" data-shp-nsc=\"svc.shopping.v3\" data-shp-order_con='[{\"key\":\"정렬 옵션\",\"value\":\"네이버 랭킹순\"},{\"key\":\"연관도 필터\",\"value\":\"off\"}]' data-shp-page-key=\"100360185\" href=\"/search/all?where=all&amp;frm=NVSCTAB&amp;query=%EC%95%84%EC%9D%B4%ED%8F%B0#\" rel=\"noopener\">제어센터</a>, <a class=\"product_detail__5OLQc linkAnchor _nlog_click _nlog_impression_element\" data-shp-area=\"lst*N.attrfilter\" data-shp-area-id=\"attrfilter\" data-shp-area-type=\"slot\" data-shp-contents-dtl='[{\"key\":\"filter_value_id\",\"value\":\"M10743986\"}]' data-shp-contents-grp=\"filter\" data-shp-contents-id=\"에어드롭\" data-shp-contents-rank=\"45\" data-shp-contents-type=\"아이폰기능(속성)\" data-shp-filter_con='[{\"key\":\"pgn\",\"value\":\"1\"},{\"key\":\"보기\",\"value\":\"리스트형\"}]' data-shp-inventory=\"lst*N\" data-shp-nsc=\"svc.shopping.v3\" data-shp-order_con='[{\"key\":\"정렬 옵션\",\"value\":\"네이버 랭킹순\"},{\"key\":\"연관도 필터\",\"value\":\"off\"}]' data-shp-page-key=\"100360185\" href=\"/search/all?where=all&amp;frm=NVSCTAB&amp;query=%EC%95%84%EC%9D%B4%ED%8F%B0#\" rel=\"noopener\">에어드롭</a><a class=\"product_detail__5OLQc product_bar__XrJ4x linkAnchor _nlog_click _nlog_impression_element\" data-shp-area=\"lst*N.attrfilter\" data-shp-area-id=\"attrfilter\" data-shp-area-type=\"slot\" data-shp-contents-dtl='[{\"key\":\"filter_value_id\",\"value\":\"M10258048\"}]' data-shp-contents-grp=\"filter\" data-shp-contents-id=\"방수\" data-shp-contents-rank=\"46\" data-shp-contents-type=\"방수/방진(속성)\" data-shp-filter_con='[{\"key\":\"pgn\",\"value\":\"1\"},{\"key\":\"보기\",\"value\":\"리스트형\"}]' data-shp-inventory=\"lst*N\" data-shp-nsc=\"svc.shopping.v3\" data-shp-order_con='[{\"key\":\"정렬 옵션\",\"value\":\"네이버 랭킹순\"},{\"key\":\"연관도 필터\",\"value\":\"off\"}]' data-shp-page-key=\"100360185\" href=\"/search/all?where=all&amp;frm=NVSCTAB&amp;query=%EC%95%84%EC%9D%B4%ED%8F%B0#\" rel=\"noopener\">방수/방진 : 방수</a>, <a class=\"product_detail__5OLQc linkAnchor _nlog_click _nlog_impression_element\" data-shp-area=\"lst*N.attrfilter\" data-shp-area-id=\"attrfilter\" data-shp-area-type=\"slot\" data-shp-contents-dtl='[{\"key\":\"filter_value_id\",\"value\":\"M10031289\"}]' data-shp-contents-grp=\"filter\" data-shp-contents-id=\"방진\" data-shp-contents-rank=\"47\" data-shp-contents-type=\"방수/방진(속성)\" data-shp-filter_con='[{\"key\":\"pgn\",\"value\":\"1\"},{\"key\":\"보기\",\"value\":\"리스트형\"}]' data-shp-inventory=\"lst*N\" data-shp-nsc=\"svc.shopping.v3\" data-shp-order_con='[{\"key\":\"정렬 옵션\",\"value\":\"네이버 랭킹순\"},{\"key\":\"연관도 필터\",\"value\":\"off\"}]' data-shp-page-key=\"100360185\" href=\"/search/all?where=all&amp;frm=NVSCTAB&amp;query=%EC%95%84%EC%9D%B4%ED%8F%B0#\" rel=\"noopener\">방진</a><a class=\"product_detail__5OLQc product_bar__XrJ4x linkAnchor _nlog_click _nlog_impression_element\" data-shp-area=\"lst*N.attrfilter\" data-shp-area-id=\"attrfilter\" data-shp-area-type=\"slot\" data-shp-contents-dtl='[{\"key\":\"filter_value_id\",\"value\":\"M10796821\"}]' data-shp-contents-grp=\"filter\" data-shp-contents-id=\"스테레오스피커\" data-shp-contents-rank=\"48\" data-shp-contents-type=\"음향기능(속성)\" data-shp-filter_con='[{\"key\":\"pgn\",\"value\":\"1\"},{\"key\":\"보기\",\"value\":\"리스트형\"}]' data-shp-inventory=\"lst*N\" data-shp-nsc=\"svc.shopping.v3\" data-shp-order_con='[{\"key\":\"정렬 옵션\",\"value\":\"네이버 랭킹순\"},{\"key\":\"연관도 필터\",\"value\":\"off\"}]' data-shp-page-key=\"100360185\" href=\"/search/all?where=all&amp;frm=NVSCTAB&amp;query=%EC%95%84%EC%9D%B4%ED%8F%B0#\" rel=\"noopener\">음향기능 : 스테레오스피커</a><a class=\"product_detail__5OLQc product_bar__XrJ4x linkAnchor _nlog_click _nlog_impression_element\" data-shp-area=\"lst*N.attrfilter\" data-shp-area-id=\"attrfilter\" data-shp-area-type=\"slot\" data-shp-contents-dtl='[{\"key\":\"filter_value_id\",\"value\":\"M10804658\"}]' data-shp-contents-grp=\"filter\" data-shp-contents-id=\"광학줌\" data-shp-contents-rank=\"49\" data-shp-contents-type=\"줌(속성)\" data-shp-filter_con='[{\"key\":\"pgn\",\"value\":\"1\"},{\"key\":\"보기\",\"value\":\"리스트형\"}]' data-shp-inventory=\"lst*N\" data-shp-nsc=\"svc.shopping.v3\" data-shp-order_con='[{\"key\":\"정렬 옵션\",\"value\":\"네이버 랭킹순\"},{\"key\":\"연관도 필터\",\"value\":\"off\"}]' data-shp-page-key=\"100360185\" href=\"/search/all?where=all&amp;frm=NVSCTAB&amp;query=%EC%95%84%EC%9D%B4%ED%8F%B0#\" rel=\"noopener\">줌 : 광학줌</a><a class=\"product_detail__5OLQc product_bar__XrJ4x linkAnchor _nlog_click _nlog_impression_element\" data-shp-area=\"lst*N.attrfilter\" data-shp-area-id=\"attrfilter\" data-shp-area-type=\"slot\" data-shp-contents-dtl='[{\"key\":\"filter_value_id\",\"value\":\"M10804661\"}]' data-shp-contents-grp=\"filter\" data-shp-contents-id=\"트루톤플래시\" data-shp-contents-rank=\"50\" data-shp-contents-type=\"플래시(속성)\" data-shp-filter_con='[{\"key\":\"pgn\",\"value\":\"1\"},{\"key\":\"보기\",\"value\":\"리스트형\"}]' data-shp-inventory=\"lst*N\" data-shp-nsc=\"svc.shopping.v3\" data-shp-order_con='[{\"key\":\"정렬 옵션\",\"value\":\"네이버 랭킹순\"},{\"key\":\"연관도 필터\",\"value\":\"off\"}]' data-shp-page-key=\"100360185\" href=\"/search/all?where=all&amp;frm=NVSCTAB&amp;query=%EC%95%84%EC%9D%B4%ED%8F%B0#\" rel=\"noopener\">플래시 : 트루톤플래시</a><a class=\"product_detail__5OLQc product_bar__XrJ4x linkAnchor _nlog_click _nlog_impression_element\" data-shp-area=\"lst*N.attrfilter\" data-shp-area-id=\"attrfilter\" data-shp-area-type=\"slot\" data-shp-contents-dtl='[{\"key\":\"filter_value_id\",\"value\":\"M10777849\"}]' data-shp-contents-grp=\"filter\" data-shp-contents-id=\"무선충전(QI)\" data-shp-contents-rank=\"51\" data-shp-contents-type=\"무선충전(속성)\" data-shp-filter_con='[{\"key\":\"pgn\",\"value\":\"1\"},{\"key\":\"보기\",\"value\":\"리스트형\"}]' data-shp-inventory=\"lst*N\" data-shp-nsc=\"svc.shopping.v3\" data-shp-order_con='[{\"key\":\"정렬 옵션\",\"value\":\"네이버 랭킹순\"},{\"key\":\"연관도 필터\",\"value\":\"off\"}]' data-shp-page-key=\"100360185\" href=\"/search/all?where=all&amp;frm=NVSCTAB&amp;query=%EC%95%84%EC%9D%B4%ED%8F%B0#\" rel=\"noopener\">무선충전 : 무선충전(QI)</a>, <a class=\"product_detail__5OLQc linkAnchor _nlog_click _nlog_impression_element\" data-shp-area=\"lst*N.attrfilter\" data-shp-area-id=\"attrfilter\" data-shp-area-type=\"slot\" data-shp-contents-dtl='[{\"key\":\"filter_value_id\",\"value\":\"M10930478\"}]' data-shp-contents-grp=\"filter\" data-shp-contents-id=\"맥세이프\" data-shp-contents-rank=\"52\" data-shp-contents-type=\"무선충전(속성)\" data-shp-filter_con='[{\"key\":\"pgn\",\"value\":\"1\"},{\"key\":\"보기\",\"value\":\"리스트형\"}]' data-shp-inventory=\"lst*N\" data-shp-nsc=\"svc.shopping.v3\" data-shp-order_con='[{\"key\":\"정렬 옵션\",\"value\":\"네이버 랭킹순\"},{\"key\":\"연관도 필터\",\"value\":\"off\"}]' data-shp-page-key=\"100360185\" href=\"/search/all?where=all&amp;frm=NVSCTAB&amp;query=%EC%95%84%EC%9D%B4%ED%8F%B0#\" rel=\"noopener\">맥세이프</a><a class=\"product_detail__5OLQc product_bar__XrJ4x linkAnchor _nlog_click _nlog_impression_element\" data-shp-area=\"lst*N.attrfilter\" data-shp-area-id=\"attrfilter\" data-shp-area-type=\"slot\" data-shp-contents-dtl='[{\"key\":\"filter_value_id\",\"value\":\"M10514488\"}]' data-shp-contents-grp=\"filter\" data-shp-contents-id=\"고속충전\" data-shp-contents-rank=\"53\" data-shp-contents-type=\"고속충전(속성)\" data-shp-filter_con='[{\"key\":\"pgn\",\"value\":\"1\"},{\"key\":\"보기\",\"value\":\"리스트형\"}]' data-shp-inventory=\"lst*N\" data-shp-nsc=\"svc.shopping.v3\" data-shp-order_con='[{\"key\":\"정렬 옵션\",\"value\":\"네이버 랭킹순\"},{\"key\":\"연관도 필터\",\"value\":\"off\"}]' data-shp-page-key=\"100360185\" href=\"/search/all?where=all&amp;frm=NVSCTAB&amp;query=%EC%95%84%EC%9D%B4%ED%8F%B0#\" rel=\"noopener\">고속충전 : 고속충전</a><a class=\"product_detail__5OLQc product_bar__XrJ4x linkAnchor _nlog_click _nlog_impression_element\" data-shp-area=\"lst*N.attrfilter\" data-shp-area-id=\"attrfilter\" data-shp-area-type=\"slot\" data-shp-contents-dtl='[{\"key\":\"filter_value_id\",\"value\":\"M10811303\"}]' data-shp-contents-grp=\"filter\" data-shp-contents-id=\"2021년\" data-shp-contents-rank=\"54\" data-shp-contents-type=\"출시년도(속성)\" data-shp-filter_con='[{\"key\":\"pgn\",\"value\":\"1\"},{\"key\":\"보기\",\"value\":\"리스트형\"}]' data-shp-inventory=\"lst*N\" data-shp-nsc=\"svc.shopping.v3\" data-shp-order_con='[{\"key\":\"정렬 옵션\",\"value\":\"네이버 랭킹순\"},{\"key\":\"연관도 필터\",\"value\":\"off\"}]' data-shp-page-key=\"100360185\" href=\"/search/all?where=all&amp;frm=NVSCTAB&amp;query=%EC%95%84%EC%9D%B4%ED%8F%B0#\" rel=\"noopener\">출시년도 : 2021년</a></div></div><div class=\"product_etc_box__ry70z\"><a class=\"product_etc__Z7jnS linkAnchor _nlog_click _nlog_impression_element\" data-shp-area=\"lst*N.rv\" data-shp-area-dtl='[{\"key\":\"trtr\",\"value\":\"slsl\"}]' data-shp-area-id=\"rv\" data-shp-area-type=\"slot\" data-shp-contents-dtl='[{\"key\":\"prod_nm\",\"value\":\"Apple 애플 아이폰 13 미니 128GB 새상품\"},{\"key\":\"price\",\"value\":\"298000\"},{\"key\":\"brand_seq\",\"value\":\"144225\"},{\"key\":\"nfa_type\",\"value\":\"NORMAL\"},{\"key\":\"catalog_nv_mid\",\"value\":\"88573763568\"},{\"key\":\"organic_expose_order\",\"value\":\"1\"},{\"key\":\"chnl_prod_no\",\"value\":\"11029257361\"},{\"key\":\"std_yn\",\"value\":\"n\"}]' data-shp-contents-grp=\"prod\" data-shp-contents-id=\"88573763568\" data-shp-contents-provider-dtl='[{\"key\":\"adsr_type\",\"value\":\"SHOPN\"},{\"key\":\"brandstore_type\",\"value\":\"n\"},{\"key\":\"chnl_no\",\"value\":\"102459197\"}]' data-shp-contents-provider-id=\"11501384\" data-shp-contents-provider-type=\"mall_seq\" data-shp-contents-rank=\"3\" data-shp-contents-type=\"nv_mid\" data-shp-filter_con='[{\"key\":\"pgn\",\"value\":\"1\"},{\"key\":\"보기\",\"value\":\"리스트형\"}]' data-shp-inventory=\"lst*N\" data-shp-nsc=\"svc.shopping.v3\" data-shp-order_con='[{\"key\":\"정렬 옵션\",\"value\":\"네이버 랭킹순\"},{\"key\":\"연관도 필터\",\"value\":\"off\"}]' data-shp-page-key=\"100360185\" href=\"https://cr.shopping.naver.com/adcr?x=Ck%2FvsrXmwBwnevbM4QrIoP%2F%2F%2Fw%3D%3Ds8tkMvDQe32FPfURcsI0ElVmkv240GU1MzK0XLQcDkyHxTAJR5s3V3RheLYZrm3hTYpy37YyyU%2ByFcekuVr%2FDKmg6HabDTRx466CGciRiUnFBZuMfzSBinsMMtj7lqMfU1m01%2BgVyS3AXFrpnOyT1J5ztC8eyDbGRDg%2BBSXyJFwhIJAugUYaa7eEC0K1redZoRL6iu0rN9ANYEXkZX8p%2BoSEm%2FeWMmjv1VUimPr%2BbdY5YMzOyJ4Aj7ODRdJa%2BvbUnQ1pu9SxBx9jmyq0tgSOnxCGHDvsGQoUHd%2FG2Ez5s1IA%2Fa18qhDQ1A%2FKJp3fgBDor391W%2FC1w5SVs2sYtTdFSejRuJqqFub1Vv4MTzhrNk2Ehy7i1mLAodI8Q%2BJ0drSjw%2F0X8gFBBhr6rnnTk5Nq2rPVbEXVgpkByUYUZnAOmWLrzH6N5zxqs3SNW2xsM3EczzWEAAvAfCXV8J8EBeiSYUAPzQvOQpktRn2nqaAl90BjPyDwmo6hkNyPBbWcewE89C%2Bp633m53JCQqoKkv9VJyLB61z4X6oeURmaMgKrJTZajrgWQ%2F0JBsjHud4pzo5y1ej6SapLSoWv5geXOQmBRuSLOIjWF4Q%2B20M82%2B8R5In0%2FFJIMHKNa%2FriGGHnq4ZPB5Hv1T%2FoDPeAT2ZD%2BWCfnsQ%3D%3D&amp;nvMid=88573763568&amp;catId=50001519\" rel=\"noopener\" target=\"_blank\"><span class=\"product_grade__O_5f5\"><svg class=\"product_svg_grade__6u5OO\" fill=\"none\" height=\"12\" viewbox=\"0 0 11 12\" width=\"11\" xmlns=\"http://www.w3.org/2000/svg\"><path d=\"M.945 5.252a.4.4 0 0 1 .242-.719h2.68a.4.4 0 0 0 .38-.273l.874-2.622a.4.4 0 0 1 .758 0l.874 2.622a.4.4 0 0 0 .38.273h2.68a.4.4 0 0 1 .242.719L7.912 6.88a.4.4 0 0 0-.137.445l.982 2.946a.4.4 0 0 1-.621.445L5.742 8.897a.4.4 0 0 0-.484 0l-2.394 1.82a.4.4 0 0 1-.621-.446l.982-2.946a.4.4 0 0 0-.137-.445L.945 5.252Z\" fill=\"#FC4C4E\"></path></svg><span class=\"blind\">별점</span>5.0</span><span class=\"blind\">리뷰</span><em class=\"product_num__WuH26\">(<!-- -->1<!-- -->)</em></a><span class=\"product_etc__Z7jnS\">등록일 <!-- -->2024.10.</span><span class=\"product_etc__Z7jnS\"><a class=\"report_link_report__5eQ5v _nlog_click\" data-shp-area=\"lst*N.report\" data-shp-area-id=\"report\" data-shp-area-type=\"action\" data-shp-inventory=\"lst*N\" data-shp-nsc=\"svc.shopping.v3\" data-shp-page-key=\"100360185\" href=\"#\"><svg class=\"report_svg_report__phsJE\" fill=\"none\" height=\"14\" width=\"14\" xmlns=\"http://www.w3.org/2000/svg\"><path clip-rule=\"evenodd\" d=\"M6.999 1A4.999 4.999 0 0 0 2 6v4h10V6a5 5 0 0 0-5.001-5Z\" stroke=\"#999\" stroke-linejoin=\"round\"></path><path d=\"M6.5 3.5a2 2 0 0 0-2 2\" stroke=\"#999\"></path><path clip-rule=\"evenodd\" d=\"M1 13h12v-3H1v3Z\" stroke=\"#999\"></path></svg>신고하기</a></span><a class=\"talktalk_link_talk__2Art8 _nlog_click\" data-shp-area=\"lst*N.talk\" data-shp-area-id=\"talk\" data-shp-area-type=\"action\" data-shp-inventory=\"lst*N\" data-shp-nsc=\"svc.shopping.v3\" data-shp-page-key=\"100360185\" href=\"#\"><svg class=\"talktalk_svg_talk__C8UJC\" fill=\"none\" height=\"15\" viewbox=\"0 0 15 15\" xmlns=\"http://www.w3.org/2000/svg\"><path d=\"M5.384 7.439a.903.903 0 1 1-1.806 0 .903.903 0 0 1 1.806 0Zm3.066 0a.903.903 0 1 1-1.806 0 .903.903 0 0 1 1.807 0Zm3.067 0a.903.903 0 1 1-1.806 0 .903.903 0 0 1 1.806 0Z\" fill=\"#00C05A\"></path><path d=\"M5.788 15a15.67 15.67 0 0 1-1.781-.102 16.49 16.49 0 0 1-3.187-.767 1.227 1.227 0 0 1-.556-1.918c.295-.371.538-.78.726-1.219a.933.933 0 0 0-.037-.721 7.107 7.107 0 0 1 1.452-8.215c2.858-2.768 7.48-2.74 10.305.061l.01.01c2.778 2.896 2.721 7.559-.127 10.393A8.95 8.95 0 0 1 7.45 14.91a15.71 15.71 0 0 1-1.665.088l.002.002Zm-4.57-2.007c.944.33 1.932.568 2.94.708 1.039.12 2.107.123 3.163.01a7.618 7.618 0 0 0 4.43-2.055c2.372-2.361 2.423-6.26.102-8.685C9.492.634 5.63.613 3.245 2.925A5.898 5.898 0 0 0 2.04 9.748c.255.534.28 1.152.068 1.7a6.566 6.566 0 0 1-.9 1.515\" fill=\"#00C05A\"></path></svg>톡톡</a></div></div><div class=\"product_mall_area__32KR3\"><div class=\"product_mall_title__sJPEp\"><a class=\"product_mall__0cRyd linkAnchor _nlog_click _nlog_impression_element\" data-shp-area=\"lst*N.mall\" data-shp-area-id=\"mall\" data-shp-area-type=\"slot\" data-shp-contents-grp=\"store\" data-shp-contents-provider-id=\"11501384\" data-shp-contents-provider-type=\"mall_seq\" data-shp-filter_con='[{\"key\":\"pgn\",\"value\":\"1\"},{\"key\":\"보기\",\"value\":\"리스트형\"}]' data-shp-inventory=\"lst*N\" data-shp-nsc=\"svc.shopping.v3\" data-shp-order_con='[{\"key\":\"정렬 옵션\",\"value\":\"네이버 랭킹순\"},{\"key\":\"연관도 필터\",\"value\":\"off\"}]' data-shp-page-key=\"100360185\" href=\"https://smartstore.naver.com/inflow/outlink/url?url=https%3A%2F%2Fsmartstore.naver.com%2Fthedreamich&amp;channelNo=102459197&amp;tr=slsl\" rel=\"noopener\" target=\"_blank\">더드림 쇼핑몰</a><a class=\"product_link_more__R9_Tm _nlog_click\" data-shp-area=\"lst*N.mallfilter\" data-shp-area-id=\"mallfilter\" data-shp-area-type=\"action\" data-shp-inventory=\"lst*N\" data-shp-nsc=\"svc.shopping.v3\" data-shp-page-key=\"100360185\" href=\"#\">상품만 보기</a></div><div class=\"product_mall_option__upI9W\"><div class=\"product_mall_option_info__0WsjC\"><span class=\"n_npay_info__NbQOd\"><span class=\"n_npay_icon__z8L3j\"><span class=\"blind\">네이버플러스멤버십</span><svg class=\"n_svg_npay__LZhgq\" height=\"15\" viewbox=\"0 0 52 15\" xmlns=\"http://www.w3.org/2000/svg\"><path d=\"M0 7.5A7.5 7.5 0 0 1 7.5 0h37a7.5 7.5 0 0 1 0 15h-37A7.5 7.5 0 0 1 0 7.5Z\" fill=\"url(#svg-3)\"></path><path clip-rule=\"evenodd\" d=\"M12.073 10.556a5.5 5.5 0 1 0-9.146-6.112 5.5 5.5 0 0 0 9.146 6.112Zm-3.425-2.69V4.669h1.684v5.664H8.595l-2.243-3.2v3.2H4.668V4.667h1.737l2.243 3.199Zm24.677 4.267L37 3.902l-1.712.002-1.693 3.844-1.871-3.844h-1.737l2.811 5.621-1.168 2.608h1.695Zm-5.788-1.91h1.623V3.901h-1.623v.454a2.94 2.94 0 0 0-1.819-.596 3.306 3.306 0 0 0 0 6.606 2.943 2.943 0 0 0 1.82-.598v.454Zm-3.397-3.16c0-1.104.772-1.936 1.794-1.936h.01c1.023 0 1.785.834 1.785 1.936 0 1.102-.772 1.936-1.795 1.936-1.022 0-1.794-.831-1.794-1.936Zm-7.517-3.161H15v8.231h1.68V9.81a2.93 2.93 0 0 0 1.762.556 3.306 3.306 0 0 0 0-6.606 2.94 2.94 0 0 0-1.819.596v-.454Zm1.593 5.097c-1.022 0-1.794-.834-1.794-1.936h.01c0-1.104.762-1.936 1.784-1.936 1.023 0 1.794.834 1.794 1.936C20.01 8.165 19.24 9 18.216 9Z\" fill=\"#fff\" fill-rule=\"evenodd\"></path><path d=\"M45.63 6.37V3h-2.26v3.37H40v2.26h9V6.37h-3.37Zm-2.25 2.557L43.369 12h2.259v-1.422c0-1.072-1.127-1.651-2.246-1.651Z\" fill=\"#fff\"></path><defs><lineargradient gradientunits=\"userSpaceOnUse\" id=\"svg-3\" x1=\"0\" x2=\"52\" y1=\"0\" y2=\"0\"><stop offset=\"0.636\" stop-color=\"#00C05A\"></stop><stop offset=\"0.819\" stop-color=\"#0A9EFA\"></stop></lineargradient></defs></svg></span></span><span class=\"product_npay_info__W9Bj9\"><span class=\"product_info_item__WLPAF\">포인트 <span class=\"product_num__WuH26\">최대 <!-- -->2,980<!-- -->원</span></span></span></div><div class=\"product_mall_option_benefit__WyQji\"><em class=\"product_option__C_mfd\">적립</em><em class=\"product_option__C_mfd\">쿠폰</em><button class=\"common_btn_detail__clSR7 _nlog_click\" data-shp-area=\"lst*N.purchaseinfo\" data-shp-area-id=\"purchaseinfo\" data-shp-area-type=\"action\" data-shp-inventory=\"lst*N\" data-shp-nsc=\"svc.shopping.v3\" data-shp-page-key=\"100360185\" id=\"purchase-info-btn-88573763568\" type=\"button\">구매정보</button></div></div></div></div></div>"
      ]
     },
     "execution_count": 186,
     "metadata": {},
     "output_type": "execute_result"
    }
   ],
   "source": [
    "div_data = div_list[0]\n",
    "div_data"
   ]
  },
  {
   "cell_type": "code",
   "execution_count": 187,
   "id": "498a3350",
   "metadata": {},
   "outputs": [],
   "source": [
    "item_name =  div_data.find(\n",
    "    'div',\n",
    "    # attrs = {\n",
    "    #     'class' : 'product_title__ljFM_'\n",
    "    # }\n",
    "    attrs = {\n",
    "        'class' : re.compile('product_title')\n",
    "    }\n",
    ").get_text()"
   ]
  },
  {
   "cell_type": "code",
   "execution_count": 188,
   "id": "8584f016",
   "metadata": {},
   "outputs": [],
   "source": [
    "item_price = div_data.find(\n",
    "    'span', \n",
    "    attrs = { 'class' : 'price'}\n",
    "    ).get_text()"
   ]
  },
  {
   "cell_type": "code",
   "execution_count": 189,
   "id": "4dba74c7",
   "metadata": {},
   "outputs": [],
   "source": [
    "# 상품의 이름과 상품의 가격을 dict 형태로 생성\n",
    "\n",
    "# 비어있는 dict 생성\n",
    "dict_data = {}"
   ]
  },
  {
   "cell_type": "code",
   "execution_count": 190,
   "id": "d32ed92e",
   "metadata": {},
   "outputs": [],
   "source": [
    "# dict에 데이터를 추가\n",
    "dict_data['상품명'] = item_name\n",
    "dict_data['가격'] = item_price"
   ]
  },
  {
   "cell_type": "code",
   "execution_count": 191,
   "id": "71e0a22e",
   "metadata": {},
   "outputs": [
    {
     "data": {
      "text/plain": [
       "{'상품명': 'Apple 애플 아이폰 13 미니 128GB 새상품', '가격': '298,000원'}"
      ]
     },
     "execution_count": 191,
     "metadata": {},
     "output_type": "execute_result"
    }
   ],
   "source": [
    "dict_data"
   ]
  },
  {
   "cell_type": "code",
   "execution_count": 192,
   "id": "e1527318",
   "metadata": {},
   "outputs": [],
   "source": [
    "values = []\n",
    "for div_data in div_list:\n",
    "    item_name =  div_data.find(\n",
    "        'div',\n",
    "        # attrs = {\n",
    "        #     'class' : 'product_title__ljFM_'\n",
    "        # }\n",
    "        attrs = {\n",
    "            'class' : re.compile('product_title')\n",
    "        }\n",
    "    ).get_text()\n",
    "    item_price = div_data.find(\n",
    "        'span', \n",
    "        attrs = { 'class' : 'price'}\n",
    "    ).get_text()\n",
    "    item_url = div_data.find('a')['href']\n",
    "    dict_data = {\n",
    "        '상품명' : item_name,\n",
    "        '가격' : item_price,\n",
    "        'url' : item_url\n",
    "    }\n",
    "    values.append(dict_data)"
   ]
  },
  {
   "cell_type": "code",
   "execution_count": 193,
   "id": "9099c017",
   "metadata": {},
   "outputs": [
    {
     "data": {
      "text/plain": [
       "[{'상품명': 'Apple 애플 아이폰 13 미니 128GB 새상품',\n",
       "  '가격': '298,000원',\n",
       "  'url': 'https://cr.shopping.naver.com/adcr?x=Ck%2FvsrXmwBwnevbM4QrIoP%2F%2F%2Fw%3D%3Ds8tkMvDQe32FPfURcsI0ElVmkv240GU1MzK0XLQcDkyHxTAJR5s3V3RheLYZrm3hTYpy37YyyU%2ByFcekuVr%2FDKmg6HabDTRx466CGciRiUnFBZuMfzSBinsMMtj7lqMfU1m01%2BgVyS3AXFrpnOyT1J5ztC8eyDbGRDg%2BBSXyJFwhIJAugUYaa7eEC0K1redZoRL6iu0rN9ANYEXkZX8p%2BoSEm%2FeWMmjv1VUimPr%2BbdY5YMzOyJ4Aj7ODRdJa%2BvbUnQ1pu9SxBx9jmyq0tgSOnxCGHDvsGQoUHd%2FG2Ez5s1IA%2Fa18qhDQ1A%2FKJp3fgBDor391W%2FC1w5SVs2sYtTdFSejRuJqqFub1Vv4MTzhrNk2Ehy7i1mLAodI8Q%2BJ0drSjw%2F0X8gFBBhr6rnnTk5Nq2rPVbEXVgpkByUYUZnAOmWLrzH6N5zxqs3SNW2xsM3EczzWEAAvAfCXV8J8EBeiSYUAPzQvOQpktRn2nqaAl90BjPyDwmo6hkNyPBbWcewE89C%2Bp633m53JCQqoKkv9VJyLB61z4X6oeURmaMgKrJTZajrgWQ%2F0JBsjHud4pzo5y1ej6SapLSoWv5geXOQmBRuSLOIjWF4Q%2B20M82%2B8R5In0%2FFJIMHKNa%2FriGGHnq4ZPB5Hv1T%2FoDPeAT2ZD%2BWCfnsQ%3D%3D&nvMid=88573763568&catId=50001519'},\n",
       " {'상품명': '아이폰 16 프로 128GB [자급제]',\n",
       "  '가격': '최저1,538,900원',\n",
       "  'url': 'https://cr.shopping.naver.com/adcr?x=Deao6k1eKCpIe%2BJnmVUNCf%2F%2F%2Fw%3D%3Ds1gdkDR6rK%2B41huTLSKG8KRsVmF%2BoI%2FaEZ%2B2b8EgTULjxTAJR5s3V3RheLYZrm3hT8ZWEzbqgMCLPX0LO2cMvBWg6HabDTRx466CGciRiUnFBZuMfzSBinsMMtj7lqMfU1m01%2BgVyS3AXFrpnOyT1J5ztC8eyDbGRDg%2BBSXyJFwhIJAugUYaa7eEC0K1redZo334rL%2BbR36BhYe0R%2FrUmjkI1yUrC8vID%2FKz%2F8c89qMtRDsmyJXi8r0AaBiYB%2FiTAY2ZxuAuvSW7ZwIsaDJftz694IFlqpi2PXO88uXmhtpFBioyGYc1IlucKuBLuPxSHErLcuhiXatVqO87FsX2HsLngnxQ7ssMZd09T0OjyjIxearTBvydD1LUI3JWpCADISE9C5at5onXcmiaGss54fmovNxFWzA781dOsDXmXgY1sXg5lUvZD9zC7Fi9WJJOHwSxHRiZVGaOK5qLs1LUrepw9%2FDMX2S1ZzF2txO07wpSHt5FeG%2FH7Xww%2F%2FMuALSoliXtPn%2BO9F8kv987zj9Ij%2B3UjwQMKHmfZEGs9R%2F5gzgF6r3a9g44t9OmoRuqLb%2FN8sJ6iAi89TSRt%2BkoRk3XbsKweQb1PFyeMOuJ2E1TUXvdP4PMPHCnudPTZjGRUD3iUHONNxfChUzyWuEvqKDLzcocCmDqUi9BypzSDSVWrDJxjtEEnHZo%2B%2FVuCJHvsmHjrDVCYCaeglF2rgr1u2OQIzQ%3D%3D&nvMid=53599505975&catId=50001519'},\n",
       " {'상품명': '아이폰 16 프로 256GB [자급제]',\n",
       "  '가격': '최저1,647,990원',\n",
       "  'url': 'https://cr.shopping.naver.com/adcr?x=8szemkTuYD%2BbVrf9nUwHjf%2F%2F%2Fw%3D%3DsS6O%2B5L95P6Iu4YVhazDRqlSVVk%2BBvr97qGC9QTuQXZJyoYErd7Wx1dfdVO6hh7qVvxAmws8t%2BSyfTDfj59PrccKdlAuo4CRofAy%2FiHp8jqv8RtWXQ%2B4yWv%2FzzZujOpoj%2FHYV1H1nOZTonQChzXsysT7Klq8Jxn5iY7TlFV%2FOx1r31%2FEzfeoO2Xn8B%2Fzt1M6shmeWtJmvw8M90EK%2Bzy5a114nEdwofithSFzlLG8az9D32oY5X1SF6vhOqs7u%2B6lWIk7uNvEAL%2BEcmclsT2kPbblIRP%2BZOH7CveIqcMav0VEWjWWIrRfi9AiqOQ%2B6%2BMpYSfM6FFiPhWnKHstanqiy0FVd6Z%2BmZ5fvTALbBBPmfKLmnGLANk9TjQtjOEdf9xG%2FVQiQ1JtY7okioqoMs%2BwazSEhb%2B5%2BbgCLWD5ufmjwVaC9fzZjkiWz1wt4EO7UvJkH3ZPnA3z0Rz%2Fm29qmPbJUgqAhfbmRc6T9Q91MqoVII6oOBwpY%2FtOsTB9Y%2FR9XUEV74zMxR8%2BpunifdN8tGCmnA8%2FFIf4yGPCeFlgQd%2BW1h9JcoqdLVqskcy9Rqi3ggymJIGISgIdT6JKsVKIlUBZEUGnpbTlY%2FbdeJ%2By0PCa0V0%2FmHk%2FLTRk%2FwdKd80loFBR7yD9SHVzxR71Wjlvmga%2FOr7WawmycsDIpiYcAjxQNH0lYJ9kHBRYSKGJUjszPcp5OHRyPBWbUFRhWScTsgQynPg%3D%3D&nvMid=53599506392&catId=50001519'}]"
      ]
     },
     "execution_count": 193,
     "metadata": {},
     "output_type": "execute_result"
    }
   ],
   "source": [
    "values"
   ]
  },
  {
   "cell_type": "code",
   "execution_count": 194,
   "id": "365ac463",
   "metadata": {},
   "outputs": [],
   "source": [
    "# div_list에서 div 태그 중 class의 이름에 'product_img_area'가 포함된 태그를 찾는다.\n",
    "# 해당 태그에서 img 태그에 있는 src 속성의 값을 추출\n",
    "div_data = div_list[0]"
   ]
  },
  {
   "cell_type": "code",
   "execution_count": 195,
   "id": "075541ea",
   "metadata": {},
   "outputs": [
    {
     "data": {
      "text/plain": [
       "'https://cr.shopping.naver.com/adcr?x=Ck%2FvsrXmwBwnevbM4QrIoP%2F%2F%2Fw%3D%3Ds8tkMvDQe32FPfURcsI0ElVmkv240GU1MzK0XLQcDkyHxTAJR5s3V3RheLYZrm3hTYpy37YyyU%2ByFcekuVr%2FDKmg6HabDTRx466CGciRiUnFBZuMfzSBinsMMtj7lqMfU1m01%2BgVyS3AXFrpnOyT1J5ztC8eyDbGRDg%2BBSXyJFwhIJAugUYaa7eEC0K1redZoRL6iu0rN9ANYEXkZX8p%2BoSEm%2FeWMmjv1VUimPr%2BbdY5YMzOyJ4Aj7ODRdJa%2BvbUnQ1pu9SxBx9jmyq0tgSOnxCGHDvsGQoUHd%2FG2Ez5s1IA%2Fa18qhDQ1A%2FKJp3fgBDor391W%2FC1w5SVs2sYtTdFSejRuJqqFub1Vv4MTzhrNk2Ehy7i1mLAodI8Q%2BJ0drSjw%2F0X8gFBBhr6rnnTk5Nq2rPVbEXVgpkByUYUZnAOmWLrzH6N5zxqs3SNW2xsM3EczzWEAAvAfCXV8J8EBeiSYUAPzQvOQpktRn2nqaAl90BjPyDwmo6hkNyPBbWcewE89C%2Bp633m53JCQqoKkv9VJyLB61z4X6oeURmaMgKrJTZajrgWQ%2F0JBsjHud4pzo5y1ej6SapLSoWv5geXOQmBRuSLOIjWF4Q%2B20M82%2B8R5In0%2FFJIMHKNa%2FriGGHnq4ZPB5Hv1T%2FoDPeAT2ZD%2BWCfnsQ%3D%3D&nvMid=88573763568&catId=50001519'"
      ]
     },
     "execution_count": 195,
     "metadata": {},
     "output_type": "execute_result"
    }
   ],
   "source": [
    "# div_data에서 a태그(하이퍼링크) 첫번째 정보를 확인하여 href 속성의 값을 출력\n",
    "# html문서에서 첫 번째 태그의 정보를 확인\n",
    "    # htmldata.태그명\n",
    "    # htmldata.find(태그명)\n",
    "# 특정 태그의 속성의 값을 확인\n",
    "    # Tag[속성명]\n",
    "a_tag = div_data.find('a')\n",
    "a_tag['href']"
   ]
  },
  {
   "cell_type": "code",
   "execution_count": 196,
   "id": "e416f967",
   "metadata": {},
   "outputs": [],
   "source": [
    "# driver 스크룰을 가장 밑으로 내린다.\n",
    "# driver.execute_script(\n",
    "#     \"window.scrollTo(0, document.body.scrollHeight);\"\n",
    "# )"
   ]
  },
  {
   "cell_type": "code",
   "execution_count": 202,
   "id": "d6309db3",
   "metadata": {},
   "outputs": [],
   "source": [
    "# driver에서 스크롤을 일정 간격으로 내린다.\n",
    "driver.execute_script(\n",
    "    \"window.scrollBy(0,800);\"\n",
    ")"
   ]
  },
  {
   "cell_type": "code",
   "execution_count": 215,
   "id": "32f9319b",
   "metadata": {},
   "outputs": [],
   "source": [
    "# BeautifulSoup을 이용해서 데이터 파싱\n",
    "html_data3 = driver.page_source\n",
    "soup3 = bs(html_data3, 'html.parser')\n",
    "content_data = soup3.find(\n",
    "    'div',\n",
    "    attrs = {\n",
    "        'id' : 'content'\n",
    "    }\n",
    ")\n",
    "\n",
    "div_list = content_data.find_all(\n",
    "    'div',\n",
    "    attrs = {\n",
    "        'class' : 'product_item__KQayS'\n",
    "    }\n",
    ")\n",
    "# 광고 상품을 제외한 모든 상품의 이름과 가격 링크 주소를 2차원 데이터(리스트 안에 딕셔너리)로 생성\n",
    "values = []\n",
    "for div_data in div_list:\n",
    "    item_name =  div_data.find(\n",
    "        'div',\n",
    "        # attrs = {\n",
    "        #     'class' : 'product_title__ljFM_'\n",
    "        # }\n",
    "        attrs = {\n",
    "            'class' : re.compile('product_title')\n",
    "        }\n",
    "    ).get_text()\n",
    "    item_price = div_data.find(\n",
    "        'span', \n",
    "        attrs = { 'class' : 'price'}\n",
    "    ).get_text()\n",
    "    item_url = div_data.find('a')['href']\n",
    "    dict_data = {\n",
    "        '상품명' : item_name,\n",
    "        '가격' : item_price,\n",
    "        'url' : item_url\n",
    "    }\n",
    "    values.append(dict_data)\n",
    "\n",
    "#생상된 2차원 데이터를 데이터프레임으로 생성\n",
    "df = pd.DataFrame(values)\n",
    "\n",
    "#검색어('아이폰')를 파일명으로 csv파일을 생성하고 인덱스는 제외\n",
    "df.to_csv(\"아이폰.csv\", index=False)\n"
   ]
  },
  {
   "cell_type": "code",
   "execution_count": 213,
   "id": "66dc4328",
   "metadata": {},
   "outputs": [
    {
     "data": {
      "text/html": [
       "<div>\n",
       "<style scoped>\n",
       "    .dataframe tbody tr th:only-of-type {\n",
       "        vertical-align: middle;\n",
       "    }\n",
       "\n",
       "    .dataframe tbody tr th {\n",
       "        vertical-align: top;\n",
       "    }\n",
       "\n",
       "    .dataframe thead th {\n",
       "        text-align: right;\n",
       "    }\n",
       "</style>\n",
       "<table border=\"1\" class=\"dataframe\">\n",
       "  <thead>\n",
       "    <tr style=\"text-align: right;\">\n",
       "      <th></th>\n",
       "      <th>상품명</th>\n",
       "      <th>가격</th>\n",
       "      <th>url</th>\n",
       "    </tr>\n",
       "  </thead>\n",
       "  <tbody>\n",
       "    <tr>\n",
       "      <th>0</th>\n",
       "      <td>Apple 애플 아이폰 13 미니 128GB 새상품</td>\n",
       "      <td>298,000원</td>\n",
       "      <td>https://cr.shopping.naver.com/adcr?x=Ck%2FvsrX...</td>\n",
       "    </tr>\n",
       "    <tr>\n",
       "      <th>1</th>\n",
       "      <td>아이폰 16 프로 128GB [자급제]</td>\n",
       "      <td>최저1,538,900원</td>\n",
       "      <td>https://cr.shopping.naver.com/adcr?x=Deao6k1eK...</td>\n",
       "    </tr>\n",
       "    <tr>\n",
       "      <th>2</th>\n",
       "      <td>아이폰 16 프로 256GB [자급제]</td>\n",
       "      <td>최저1,647,990원</td>\n",
       "      <td>https://cr.shopping.naver.com/adcr?x=8szemkTuY...</td>\n",
       "    </tr>\n",
       "    <tr>\n",
       "      <th>3</th>\n",
       "      <td>애플 아이폰 13 미니 128GB 미개봉 새제품</td>\n",
       "      <td>298,000원</td>\n",
       "      <td>https://cr.shopping.naver.com/adcr?x=LF%2FG%2B...</td>\n",
       "    </tr>\n",
       "    <tr>\n",
       "      <th>4</th>\n",
       "      <td>아이폰 16 128GB [자급제]</td>\n",
       "      <td>최저1,150,000원</td>\n",
       "      <td>https://cr.shopping.naver.com/adcr?x=ksQdXpBiX...</td>\n",
       "    </tr>\n",
       "    <tr>\n",
       "      <th>5</th>\n",
       "      <td>아이폰 15 128GB [자급제]</td>\n",
       "      <td>최저949,900원</td>\n",
       "      <td>https://cr.shopping.naver.com/adcr?x=I98g6Wao6...</td>\n",
       "    </tr>\n",
       "    <tr>\n",
       "      <th>6</th>\n",
       "      <td>아이폰 16 256GB [자급제]</td>\n",
       "      <td>최저1,394,000원</td>\n",
       "      <td>https://cr.shopping.naver.com/adcr?x=DK4YYgSyQ...</td>\n",
       "    </tr>\n",
       "    <tr>\n",
       "      <th>7</th>\n",
       "      <td>아이폰 15 프로 256GB [자급제]</td>\n",
       "      <td>최저1,393,900원</td>\n",
       "      <td>https://cr.shopping.naver.com/adcr?x=vujnB65CR...</td>\n",
       "    </tr>\n",
       "    <tr>\n",
       "      <th>8</th>\n",
       "      <td>Apple 아이폰 12 mini 자급제  화이트  128GB</td>\n",
       "      <td>458,000원</td>\n",
       "      <td>https://cr.shopping.naver.com/adcr?x=7GB%2BtDN...</td>\n",
       "    </tr>\n",
       "    <tr>\n",
       "      <th>9</th>\n",
       "      <td>해외아이폰 5S 무음 공기계 인스타 카메라 감성사진 학생폰 세컨폰 실버 16GB 항공</td>\n",
       "      <td>79,500원</td>\n",
       "      <td>https://cr.shopping.naver.com/adcr?x=AYX%2BRoD...</td>\n",
       "    </tr>\n",
       "    <tr>\n",
       "      <th>10</th>\n",
       "      <td>애플 아이폰17 프로 휴대폰성지 시세표 아이폰사전예약 공짜휴대폰 핸드폰성지 온라인개통</td>\n",
       "      <td>100원</td>\n",
       "      <td>https://cr.shopping.naver.com/adcr?x=aebjvuwjr...</td>\n",
       "    </tr>\n",
       "    <tr>\n",
       "      <th>11</th>\n",
       "      <td>아이폰 15프로 256GB Apple 미개봉</td>\n",
       "      <td>574,000원</td>\n",
       "      <td>https://cr.shopping.naver.com/adcr?x=q6plqofjP...</td>\n",
       "    </tr>\n",
       "    <tr>\n",
       "      <th>12</th>\n",
       "      <td>아이폰 16 프로 맥스 256GB [자급제]</td>\n",
       "      <td>최저1,826,000원</td>\n",
       "      <td>https://cr.shopping.naver.com/adcr?x=Uy%2BwOJq...</td>\n",
       "    </tr>\n",
       "  </tbody>\n",
       "</table>\n",
       "</div>"
      ],
      "text/plain": [
       "                                                상품명            가격  \\\n",
       "0                      Apple 애플 아이폰 13 미니 128GB 새상품      298,000원   \n",
       "1                             아이폰 16 프로 128GB [자급제]  최저1,538,900원   \n",
       "2                             아이폰 16 프로 256GB [자급제]  최저1,647,990원   \n",
       "3                        애플 아이폰 13 미니 128GB 미개봉 새제품      298,000원   \n",
       "4                                아이폰 16 128GB [자급제]  최저1,150,000원   \n",
       "5                                아이폰 15 128GB [자급제]    최저949,900원   \n",
       "6                                아이폰 16 256GB [자급제]  최저1,394,000원   \n",
       "7                             아이폰 15 프로 256GB [자급제]  최저1,393,900원   \n",
       "8                 Apple 아이폰 12 mini 자급제  화이트  128GB      458,000원   \n",
       "9   해외아이폰 5S 무음 공기계 인스타 카메라 감성사진 학생폰 세컨폰 실버 16GB 항공       79,500원   \n",
       "10  애플 아이폰17 프로 휴대폰성지 시세표 아이폰사전예약 공짜휴대폰 핸드폰성지 온라인개통          100원   \n",
       "11                         아이폰 15프로 256GB Apple 미개봉      574,000원   \n",
       "12                         아이폰 16 프로 맥스 256GB [자급제]  최저1,826,000원   \n",
       "\n",
       "                                                  url  \n",
       "0   https://cr.shopping.naver.com/adcr?x=Ck%2FvsrX...  \n",
       "1   https://cr.shopping.naver.com/adcr?x=Deao6k1eK...  \n",
       "2   https://cr.shopping.naver.com/adcr?x=8szemkTuY...  \n",
       "3   https://cr.shopping.naver.com/adcr?x=LF%2FG%2B...  \n",
       "4   https://cr.shopping.naver.com/adcr?x=ksQdXpBiX...  \n",
       "5   https://cr.shopping.naver.com/adcr?x=I98g6Wao6...  \n",
       "6   https://cr.shopping.naver.com/adcr?x=DK4YYgSyQ...  \n",
       "7   https://cr.shopping.naver.com/adcr?x=vujnB65CR...  \n",
       "8   https://cr.shopping.naver.com/adcr?x=7GB%2BtDN...  \n",
       "9   https://cr.shopping.naver.com/adcr?x=AYX%2BRoD...  \n",
       "10  https://cr.shopping.naver.com/adcr?x=aebjvuwjr...  \n",
       "11  https://cr.shopping.naver.com/adcr?x=q6plqofjP...  \n",
       "12  https://cr.shopping.naver.com/adcr?x=Uy%2BwOJq...  "
      ]
     },
     "execution_count": 213,
     "metadata": {},
     "output_type": "execute_result"
    }
   ],
   "source": [
    "df"
   ]
  },
  {
   "cell_type": "code",
   "execution_count": 217,
   "id": "51610d83",
   "metadata": {},
   "outputs": [],
   "source": [
    "# driver를 종료\n",
    "driver.quit()"
   ]
  },
  {
   "cell_type": "code",
   "execution_count": null,
   "id": "76970ce3",
   "metadata": {},
   "outputs": [],
   "source": []
  },
  {
   "cell_type": "code",
   "execution_count": null,
   "id": "e09094ee",
   "metadata": {},
   "outputs": [],
   "source": []
  },
  {
   "cell_type": "code",
   "execution_count": null,
   "id": "73f0dc67",
   "metadata": {},
   "outputs": [],
   "source": []
  }
 ],
 "metadata": {
  "kernelspec": {
   "display_name": "Python 3",
   "language": "python",
   "name": "python3"
  },
  "language_info": {
   "codemirror_mode": {
    "name": "ipython",
    "version": 3
   },
   "file_extension": ".py",
   "mimetype": "text/x-python",
   "name": "python",
   "nbconvert_exporter": "python",
   "pygments_lexer": "ipython3",
   "version": "3.13.7"
  }
 },
 "nbformat": 4,
 "nbformat_minor": 5
}
