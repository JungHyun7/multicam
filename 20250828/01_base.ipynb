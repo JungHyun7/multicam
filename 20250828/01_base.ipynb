{
 "cells": [
  {
   "cell_type": "markdown",
   "id": "3603c2fb",
   "metadata": {},
   "source": [
    "#### 문자열에서 제공하는 내장 함수\n",
    "- upper() : 문자열을 모두 대문자로 변경\n",
    "- lower() : 문자열을 모두 소문자로 변경\n",
    "- swapcase() : 대문자를 소문자, 소문자를 대문자로 변경\n",
    "- title() : 단어의 첫 글자만 대문자로 변경\n",
    "- strip() : 기본적으로는 문자열의 시작과 끝의 존재하는 공백을 제거\n",
    "    1. rstrip() : 문자열의 끝의 공백을 제거\n",
    "    2. lstrip() : 문자열의 시작의 공백을 제거\n",
    "- replace() : 특정 문자를 찾아서 다른 문자로 치환\n",
    "- split() : 특정 문자를 찾아서 문자를 잘라주는 기능 -> 결과 list\n"
   ]
  },
  {
   "cell_type": "code",
   "execution_count": 3,
   "id": "126cdf85",
   "metadata": {},
   "outputs": [],
   "source": [
    "text_a = 'Apple'\n",
    "text_b = 'apple'"
   ]
  },
  {
   "cell_type": "code",
   "execution_count": 4,
   "id": "be160f44",
   "metadata": {},
   "outputs": [
    {
     "data": {
      "text/plain": [
       "False"
      ]
     },
     "execution_count": 4,
     "metadata": {},
     "output_type": "execute_result"
    }
   ],
   "source": [
    "text_a == text_b"
   ]
  },
  {
   "cell_type": "code",
   "execution_count": 5,
   "id": "03e8336b",
   "metadata": {},
   "outputs": [],
   "source": [
    "# text_a와 text_b를 비교했을 때 같다 라는 결과를 만드려면\n",
    "# 두개의 데이터의 형태를 같게 만든다.\n",
    "\n",
    "text_a = text_a.upper()"
   ]
  },
  {
   "cell_type": "code",
   "execution_count": 6,
   "id": "9d38b425",
   "metadata": {},
   "outputs": [],
   "source": [
    "text_b = text_b.upper()"
   ]
  },
  {
   "cell_type": "code",
   "execution_count": 18,
   "id": "206fc9b6",
   "metadata": {},
   "outputs": [
    {
     "data": {
      "text/plain": [
       "True"
      ]
     },
     "execution_count": 18,
     "metadata": {},
     "output_type": "execute_result"
    }
   ],
   "source": [
    "text_a == text_b"
   ]
  },
  {
   "cell_type": "code",
   "execution_count": 26,
   "id": "d80dc839",
   "metadata": {},
   "outputs": [],
   "source": [
    "text_c = \"   Hello world   \""
   ]
  },
  {
   "cell_type": "code",
   "execution_count": 27,
   "id": "00629a79",
   "metadata": {},
   "outputs": [
    {
     "data": {
      "text/plain": [
       "'   hello world   '"
      ]
     },
     "execution_count": 27,
     "metadata": {},
     "output_type": "execute_result"
    }
   ],
   "source": [
    "# lwoer()\n",
    "text_c.lower()"
   ]
  },
  {
   "cell_type": "code",
   "execution_count": 28,
   "id": "70bb774f",
   "metadata": {},
   "outputs": [
    {
     "data": {
      "text/plain": [
       "'   hELLO WORLD   '"
      ]
     },
     "execution_count": 28,
     "metadata": {},
     "output_type": "execute_result"
    }
   ],
   "source": [
    "# swapcase()\n",
    "text_c.swapcase()"
   ]
  },
  {
   "cell_type": "code",
   "execution_count": 29,
   "id": "483c2989",
   "metadata": {},
   "outputs": [
    {
     "data": {
      "text/plain": [
       "'   Hello World   '"
      ]
     },
     "execution_count": 29,
     "metadata": {},
     "output_type": "execute_result"
    }
   ],
   "source": [
    "text_c.title()"
   ]
  },
  {
   "cell_type": "code",
   "execution_count": 30,
   "id": "f5d4518d",
   "metadata": {},
   "outputs": [
    {
     "data": {
      "text/plain": [
       "False"
      ]
     },
     "execution_count": 30,
     "metadata": {},
     "output_type": "execute_result"
    }
   ],
   "source": [
    "# 좌우의 공백하는 함수\n",
    "text_c == \"Hello world\""
   ]
  },
  {
   "cell_type": "code",
   "execution_count": 31,
   "id": "9a0a0d21",
   "metadata": {},
   "outputs": [
    {
     "data": {
      "text/plain": [
       "'Hello world'"
      ]
     },
     "execution_count": 31,
     "metadata": {},
     "output_type": "execute_result"
    }
   ],
   "source": [
    "text_c.strip()"
   ]
  },
  {
   "cell_type": "code",
   "execution_count": 32,
   "id": "2eaf4245",
   "metadata": {},
   "outputs": [
    {
     "data": {
      "text/plain": [
       "'   Hello world'"
      ]
     },
     "execution_count": 32,
     "metadata": {},
     "output_type": "execute_result"
    }
   ],
   "source": [
    "text_c.rstrip()"
   ]
  },
  {
   "cell_type": "code",
   "execution_count": 33,
   "id": "470b7f22",
   "metadata": {},
   "outputs": [
    {
     "data": {
      "text/plain": [
       "'Hello world   '"
      ]
     },
     "execution_count": 33,
     "metadata": {},
     "output_type": "execute_result"
    }
   ],
   "source": [
    "text_c.lstrip()"
   ]
  },
  {
   "cell_type": "code",
   "execution_count": 37,
   "id": "f88ee3c1",
   "metadata": {},
   "outputs": [
    {
     "name": "stdout",
     "output_type": "stream",
     "text": [
      "Hello world\n",
      "Hello world   \n"
     ]
    }
   ],
   "source": [
    "print(text_c.strip())\n",
    "print(text_c.lstrip())"
   ]
  },
  {
   "cell_type": "code",
   "execution_count": 38,
   "id": "9f6112c6",
   "metadata": {},
   "outputs": [],
   "source": [
    "# 문자열을 숫자형을 변환\n",
    "# 금액을 숫자로 변경하여 계산\n",
    "\n",
    "price_1 = '$10.00'\n",
    "price_2 = '$20.00'"
   ]
  },
  {
   "cell_type": "code",
   "execution_count": 39,
   "id": "7f0ac8d6",
   "metadata": {},
   "outputs": [
    {
     "data": {
      "text/plain": [
       "'$10.00$20.00'"
      ]
     },
     "execution_count": 39,
     "metadata": {},
     "output_type": "execute_result"
    }
   ],
   "source": [
    "price_1 + price_2"
   ]
  },
  {
   "cell_type": "code",
   "execution_count": 40,
   "id": "dc5623ae",
   "metadata": {},
   "outputs": [],
   "source": [
    "# error : '$'를 숫자로 변경이 불가능하기 때문에\n",
    "# float(price_1)"
   ]
  },
  {
   "cell_type": "code",
   "execution_count": 41,
   "id": "e07c0111",
   "metadata": {},
   "outputs": [
    {
     "data": {
      "text/plain": [
       "30.0"
      ]
     },
     "execution_count": 41,
     "metadata": {},
     "output_type": "execute_result"
    }
   ],
   "source": [
    "# '$' 제거하고 숫자로 변경\n",
    "float(price_1.lstrip('$')) + float(price_2.lstrip('$'))"
   ]
  },
  {
   "cell_type": "code",
   "execution_count": 56,
   "id": "98f0d541",
   "metadata": {},
   "outputs": [],
   "source": [
    "price_3 = \"1,000원\"\n",
    "price_4 = \"3,000원\""
   ]
  },
  {
   "cell_type": "code",
   "execution_count": 44,
   "id": "6fbf15c3",
   "metadata": {},
   "outputs": [],
   "source": [
    "# 문자열 마지막의 '원' 제거\n",
    "# float(price_3.rstrip('원'))"
   ]
  },
  {
   "cell_type": "code",
   "execution_count": 57,
   "id": "297753c4",
   "metadata": {},
   "outputs": [
    {
     "data": {
      "text/plain": [
       "1000"
      ]
     },
     "execution_count": 57,
     "metadata": {},
     "output_type": "execute_result"
    }
   ],
   "source": [
    "# srtip() : 함수는 문자의 시작과 끝의 특정 문자를 제거\n",
    "# 문자열 사이에 있는 문자는 제거하지 못한다.\n",
    "# replace() : 특정문자를 치환 -> 문자를 변경, 문자를 제거\n",
    "# replace( '특정문자', '변경문자' )\n",
    "int(price_3.replace(',', '').rstrip(('원')))"
   ]
  },
  {
   "cell_type": "code",
   "execution_count": 70,
   "id": "674ec7a1",
   "metadata": {},
   "outputs": [],
   "source": [
    "item_1 = '상품A'\n",
    "item_2 = '상품a'\n",
    "item_3 = '상 품 a'"
   ]
  },
  {
   "cell_type": "code",
   "execution_count": 71,
   "id": "bd749480",
   "metadata": {},
   "outputs": [
    {
     "data": {
      "text/plain": [
       "False"
      ]
     },
     "execution_count": 71,
     "metadata": {},
     "output_type": "execute_result"
    }
   ],
   "source": [
    "(item_1 == item_2) and (item_2 == item_3)"
   ]
  },
  {
   "cell_type": "code",
   "execution_count": 81,
   "id": "0050cfcc",
   "metadata": {},
   "outputs": [],
   "source": [
    "# item_1을 기주능로 item_2, item_3 데이터를 변경\n",
    "# item_2에서는 소문자를 대문자로 변경\n",
    "item_2 = item_2.upper()"
   ]
  },
  {
   "cell_type": "code",
   "execution_count": 82,
   "id": "cf195284",
   "metadata": {},
   "outputs": [
    {
     "data": {
      "text/plain": [
       "'상품A'"
      ]
     },
     "execution_count": 82,
     "metadata": {},
     "output_type": "execute_result"
    }
   ],
   "source": [
    "item_2"
   ]
  },
  {
   "cell_type": "code",
   "execution_count": 73,
   "id": "2934ea52",
   "metadata": {},
   "outputs": [],
   "source": [
    "# item_3는 문자열 사이에 존재하는 공백을 제거 - > 문자열을 대문자로 변경\n",
    "item_3 = item_3.upper()"
   ]
  },
  {
   "cell_type": "code",
   "execution_count": 77,
   "id": "6b774b81",
   "metadata": {},
   "outputs": [],
   "source": [
    "item_3 = item_3.replace(' ', '')"
   ]
  },
  {
   "cell_type": "code",
   "execution_count": 83,
   "id": "5fbe5d3e",
   "metadata": {},
   "outputs": [
    {
     "data": {
      "text/plain": [
       "True"
      ]
     },
     "execution_count": 83,
     "metadata": {},
     "output_type": "execute_result"
    }
   ],
   "source": [
    "(item_1 == item_2) and (item_2 == item_3)"
   ]
  },
  {
   "cell_type": "code",
   "execution_count": 76,
   "id": "4d7927a4",
   "metadata": {},
   "outputs": [
    {
     "data": {
      "text/plain": [
       "['a', 'b', 'c', 'd']"
      ]
     },
     "execution_count": 76,
     "metadata": {},
     "output_type": "execute_result"
    }
   ],
   "source": [
    "# 문자열을 나눠주는 함수 -> split()\n",
    "# 공백을 기준으로 문자를 나눠주는 함수\n",
    "# 인자로 특정 문자를 입력하면 특정 문자로 문자를 나눠준다.\n",
    "text_1 = 'a b c d'\n",
    "text_1.split()"
   ]
  },
  {
   "cell_type": "code",
   "execution_count": 85,
   "id": "78ed929a",
   "metadata": {},
   "outputs": [
    {
     "data": {
      "text/plain": [
       "['a', 'b', 'c']"
      ]
     },
     "execution_count": 85,
     "metadata": {},
     "output_type": "execute_result"
    }
   ],
   "source": [
    "text_2 = 'ammbmmc'\n",
    "text_2.split('mm')"
   ]
  },
  {
   "cell_type": "code",
   "execution_count": 103,
   "id": "b7ee3b97",
   "metadata": {},
   "outputs": [],
   "source": [
    "# sql query문\n",
    "query_1 = \"select * Ffrom table \"\n",
    "query_2 = \"SELECT * FROM table\"\n",
    "query_3 = \"\"\"\n",
    "Select INSERT INTO\n",
    "table\n",
    "VALUES('a')\n",
    "\"\"\"\n",
    "\n",
    "query_4 = \"\"\"\n",
    "    select\n",
    "    *\n",
    "    from\n",
    "    table\n",
    "\"\"\""
   ]
  },
  {
   "cell_type": "code",
   "execution_count": 104,
   "id": "181ebca0",
   "metadata": {},
   "outputs": [
    {
     "data": {
      "text/plain": [
       "True"
      ]
     },
     "execution_count": 104,
     "metadata": {},
     "output_type": "execute_result"
    }
   ],
   "source": [
    "# query가 select문인가??\n",
    "find_word = 'select'\n",
    "\n",
    "query_1[0:len(find_word)] == find_word\n"
   ]
  },
  {
   "cell_type": "code",
   "execution_count": 105,
   "id": "e2933b35",
   "metadata": {},
   "outputs": [
    {
     "data": {
      "text/plain": [
       "True"
      ]
     },
     "execution_count": 105,
     "metadata": {},
     "output_type": "execute_result"
    }
   ],
   "source": [
    "query_2[:len(find_word)].lower() == find_word"
   ]
  },
  {
   "cell_type": "code",
   "execution_count": 106,
   "id": "c8ca1491",
   "metadata": {},
   "outputs": [
    {
     "data": {
      "text/plain": [
       "True"
      ]
     },
     "execution_count": 106,
     "metadata": {},
     "output_type": "execute_result"
    }
   ],
   "source": [
    "query_4.lstrip()[:len(find_word)] == find_word"
   ]
  },
  {
   "cell_type": "code",
   "execution_count": 107,
   "id": "827e5bf1",
   "metadata": {},
   "outputs": [
    {
     "data": {
      "text/plain": [
       "True"
      ]
     },
     "execution_count": 107,
     "metadata": {},
     "output_type": "execute_result"
    }
   ],
   "source": [
    "query_1.split()[0] == find_word"
   ]
  },
  {
   "cell_type": "code",
   "execution_count": 108,
   "id": "bbf87371",
   "metadata": {},
   "outputs": [
    {
     "data": {
      "text/plain": [
       "['select', '*', 'from', 'table']"
      ]
     },
     "execution_count": 108,
     "metadata": {},
     "output_type": "execute_result"
    }
   ],
   "source": [
    "query_4.split()"
   ]
  },
  {
   "cell_type": "code",
   "execution_count": 110,
   "id": "e06f7e7c",
   "metadata": {},
   "outputs": [
    {
     "data": {
      "text/plain": [
       "'select'"
      ]
     },
     "execution_count": 110,
     "metadata": {},
     "output_type": "execute_result"
    }
   ],
   "source": [
    "query_2.split()[0].lower()"
   ]
  },
  {
   "cell_type": "code",
   "execution_count": 114,
   "id": "7c2b01ad",
   "metadata": {},
   "outputs": [
    {
     "data": {
      "text/plain": [
       "True"
      ]
     },
     "execution_count": 114,
     "metadata": {},
     "output_type": "execute_result"
    }
   ],
   "source": [
    "query_1.startswith(find_word)"
   ]
  },
  {
   "cell_type": "code",
   "execution_count": 115,
   "id": "34e8f717",
   "metadata": {},
   "outputs": [
    {
     "data": {
      "text/plain": [
       "True"
      ]
     },
     "execution_count": 115,
     "metadata": {},
     "output_type": "execute_result"
    }
   ],
   "source": [
    "query_2.lower().startswith(find_word)"
   ]
  },
  {
   "cell_type": "code",
   "execution_count": 118,
   "id": "bd3b0f32",
   "metadata": {},
   "outputs": [
    {
     "data": {
      "text/plain": [
       "True"
      ]
     },
     "execution_count": 118,
     "metadata": {},
     "output_type": "execute_result"
    }
   ],
   "source": [
    "query_4.lstrip().startswith(find_word)"
   ]
  },
  {
   "cell_type": "code",
   "execution_count": 119,
   "id": "595bac0d",
   "metadata": {},
   "outputs": [
    {
     "data": {
      "text/plain": [
       "False"
      ]
     },
     "execution_count": 119,
     "metadata": {},
     "output_type": "execute_result"
    }
   ],
   "source": [
    "query_3.lstrip().startswith(find_word)"
   ]
  },
  {
   "cell_type": "code",
   "execution_count": 128,
   "id": "fd395f50",
   "metadata": {},
   "outputs": [],
   "source": [
    "file_list = [\n",
    "        \"/csv/a.csv\",\n",
    "        \"/csv/b.txt\",\n",
    "        \"/csv/c.csv\",\n",
    "        \"/csv/d.json\"\n",
    "]\n"
   ]
  },
  {
   "cell_type": "code",
   "execution_count": 124,
   "id": "8283f106",
   "metadata": {},
   "outputs": [
    {
     "data": {
      "text/plain": [
       "True"
      ]
     },
     "execution_count": 124,
     "metadata": {},
     "output_type": "execute_result"
    }
   ],
   "source": [
    "# file_list에서 확장자가 csv인 몰록만 출력한자\n",
    "file_list[0].endswith('csv')"
   ]
  },
  {
   "cell_type": "code",
   "execution_count": 125,
   "id": "e88da333",
   "metadata": {},
   "outputs": [
    {
     "data": {
      "text/plain": [
       "False"
      ]
     },
     "execution_count": 125,
     "metadata": {},
     "output_type": "execute_result"
    }
   ],
   "source": [
    "file_list[1].endswith('csv')"
   ]
  },
  {
   "cell_type": "code",
   "execution_count": null,
   "id": "777a03f7",
   "metadata": {},
   "outputs": [
    {
     "name": "stdout",
     "output_type": "stream",
     "text": [
      "['/csv/a.csv', '/csv/c.csv']\n"
     ]
    }
   ],
   "source": [
    "# 반복문을 이용하여 file_list에서 csv 확장인 아아리만 새로운 목록을 만든다.\n",
    "csv_list = []\n",
    "\n",
    "for i in range(len(file_list)):\n",
    "    # i에 들어오는 데이터의 의미 : index\n",
    "    # file_list에 1번째 항목이 csv로 끝나는가?\n",
    "    if file_list[i].endswith('csv'):\n",
    "        #확장자가 csv인 경우 실행되는 부분\n",
    "        csv_list.append(file_list[i])\n",
    "\n",
    "print(csv_list)\n",
    "\n",
    "# for i in file_list:\n",
    "    # i에 들어오는 데이터의 의미 : file_list의 원소\n",
    "#    if i.endswith('csv'):\n",
    "#       csv_list.append(i)"
   ]
  },
  {
   "cell_type": "code",
   "execution_count": 134,
   "id": "2e28ce18",
   "metadata": {},
   "outputs": [],
   "source": [
    "# 함수\n",
    "# 특정한 행동을 코드로 표현하고 이름을 붙이는 작업\n",
    "# 특정 입력값을 통해서 연산을 하고 결과를 되돌려주는 작업\n",
    "# python에서 def 키워드를 이용해서 함수를 생성\n",
    "def func_1():\n",
    "    return 'Hello'\n",
    "\n",
    "def func_2():\n",
    "    print('Hello')"
   ]
  },
  {
   "cell_type": "code",
   "execution_count": 135,
   "id": "62dde5c4",
   "metadata": {},
   "outputs": [
    {
     "data": {
      "text/plain": [
       "'Hello'"
      ]
     },
     "execution_count": 135,
     "metadata": {},
     "output_type": "execute_result"
    }
   ],
   "source": [
    "# 함수호출\n",
    "func_1()"
   ]
  },
  {
   "cell_type": "code",
   "execution_count": 136,
   "id": "2c725e31",
   "metadata": {},
   "outputs": [
    {
     "name": "stdout",
     "output_type": "stream",
     "text": [
      "Hello\n"
     ]
    }
   ],
   "source": [
    "func_2()"
   ]
  },
  {
   "cell_type": "code",
   "execution_count": 137,
   "id": "6fb6b9ba",
   "metadata": {},
   "outputs": [
    {
     "name": "stdout",
     "output_type": "stream",
     "text": [
      "Hello\n"
     ]
    }
   ],
   "source": [
    "res_1 = func_1()\n",
    "res_2 = func_2()"
   ]
  },
  {
   "cell_type": "code",
   "execution_count": 138,
   "id": "a7a4cb04",
   "metadata": {},
   "outputs": [
    {
     "data": {
      "text/plain": [
       "'Hello'"
      ]
     },
     "execution_count": 138,
     "metadata": {},
     "output_type": "execute_result"
    }
   ],
   "source": [
    "res_1"
   ]
  },
  {
   "cell_type": "code",
   "execution_count": 139,
   "id": "d357dc83",
   "metadata": {},
   "outputs": [],
   "source": [
    "res_2"
   ]
  },
  {
   "cell_type": "code",
   "execution_count": null,
   "id": "bef11141",
   "metadata": {},
   "outputs": [
    {
     "ename": "TypeError",
     "evalue": "func_1() takes 0 positional arguments but 1 was given",
     "output_type": "error",
     "traceback": [
      "\u001b[31m---------------------------------------------------------------------------\u001b[39m",
      "\u001b[31mTypeError\u001b[39m                                 Traceback (most recent call last)",
      "\u001b[36mCell\u001b[39m\u001b[36m \u001b[39m\u001b[32mIn[141]\u001b[39m\u001b[32m, line 2\u001b[39m\n\u001b[32m      1\u001b[39m \u001b[38;5;66;03m#매개변수가 존재하지 않는 함수에 입력값을 사용해서 호출 한다면?\u001b[39;00m\n\u001b[32m----> \u001b[39m\u001b[32m2\u001b[39m \u001b[43mfunc_1\u001b[49m\u001b[43m(\u001b[49m\u001b[33;43m'\u001b[39;49m\u001b[33;43ma\u001b[39;49m\u001b[33;43m'\u001b[39;49m\u001b[43m)\u001b[49m\n",
      "\u001b[31mTypeError\u001b[39m: func_1() takes 0 positional arguments but 1 was given"
     ]
    }
   ],
   "source": [
    "# 매개변수가 존재하지 않는 함수에 입력값을 사용해서 호출 한다면?\n",
    "# 입력값을 지정할 수 있는 공간이 존재하지 않기 때문에 에러가 발생\n",
    "# func_1('a')"
   ]
  },
  {
   "cell_type": "code",
   "execution_count": 142,
   "id": "e72a52e7",
   "metadata": {},
   "outputs": [],
   "source": [
    "# 매개변수가 존재하는 함수 생성\n",
    "def func_3(a, b):\n",
    "    c = a + b\n",
    "    return c"
   ]
  },
  {
   "cell_type": "code",
   "execution_count": 143,
   "id": "331fa600",
   "metadata": {},
   "outputs": [
    {
     "data": {
      "text/plain": [
       "15"
      ]
     },
     "execution_count": 143,
     "metadata": {},
     "output_type": "execute_result"
    }
   ],
   "source": [
    "func_3(10, 5)\n",
    "# a = 10\n",
    "# b = 5\n",
    "# c = 10 + 5\n",
    "# c를 되돌려준다.\n"
   ]
  },
  {
   "cell_type": "code",
   "execution_count": 145,
   "id": "39c25f73",
   "metadata": {},
   "outputs": [],
   "source": [
    "# 매개변수가 2개인 함수를 호출하면서 인자를 1개만 입력하는 경우??\n",
    "# 데이터가 입력되는 공간이 2개인데 데이터는 1개만 입력하면\n",
    "# 나머지 하나의 공간에 데이터가 없으므로 에러\n",
    "# func_3(10)"
   ]
  },
  {
   "cell_type": "code",
   "execution_count": 149,
   "id": "8662bf87",
   "metadata": {},
   "outputs": [
    {
     "name": "stdout",
     "output_type": "stream",
     "text": [
      "a\n",
      "b\n",
      "c\n"
     ]
    }
   ],
   "source": [
    "# print() : 입력 데이터를 출력하는 기능\n",
    "# sep 매개변수에 입력데이터를 대대입하려면 매개변수명 = data\n",
    "# 첫 번째 매개변수가 가변의 인자를 받은 형태이기 때문에\n",
    "print('a' ,'b', 'c', sep = '\\n')"
   ]
  },
  {
   "cell_type": "code",
   "execution_count": 159,
   "id": "04503436",
   "metadata": {},
   "outputs": [],
   "source": [
    "def func_4(a, b=5):\n",
    "    #  매개변수는 2개 a,b\n",
    "    # a는 함수를 호출할 때 필수 입력 공간\n",
    "    # b는 선택 입력 공간\n",
    "    c = a ** b\n",
    "    return c\n"
   ]
  },
  {
   "cell_type": "code",
   "execution_count": 160,
   "id": "32a7aeac",
   "metadata": {},
   "outputs": [
    {
     "data": {
      "text/plain": [
       "32"
      ]
     },
     "execution_count": 160,
     "metadata": {},
     "output_type": "execute_result"
    }
   ],
   "source": [
    "func_4(2)\n",
    "# a=2\n",
    "# b=5\n",
    "# c=2**5\n",
    "# 32를 되돌려준다"
   ]
  },
  {
   "cell_type": "code",
   "execution_count": 161,
   "id": "a8de0831",
   "metadata": {},
   "outputs": [
    {
     "data": {
      "text/plain": [
       "16"
      ]
     },
     "execution_count": 161,
     "metadata": {},
     "output_type": "execute_result"
    }
   ],
   "source": [
    "func_4(2, 4)\n",
    "# a=2\n",
    "# b=5\n",
    "# b=4\n",
    "# c=2**4\n",
    "# 16을 되돌려준다."
   ]
  },
  {
   "cell_type": "markdown",
   "id": "e62cce20",
   "metadata": {},
   "source": [
    "### 변수의 종류\n",
    "- 컴퓨터 메모리에 데이터가 저장되는 공간에 이름을 붙이는 작업\n",
    "    1. 전역 변수\n",
    "        : 전역의 의미 -> 모든 영역\n",
    "        : 해당파일 안에서 어디서든 사용이 가능한 변수\n",
    "        : glovlas() 함수를 로출하면 전역 변수가 목록이 확인가능\n",
    "\n",
    "    2. 지역 변수\n",
    "        : 지역의 의미 -> 특정 영역\n",
    "        : 함수나 클래스 안에서만 사용이 가능한 변수\n",
    "        : 함수에서 값을 되돌려주는 행동(return) 뒤에는 함수에서 사용된 변수들은 외부에서는 사용이 불가능"
   ]
  },
  {
   "cell_type": "code",
   "execution_count": 163,
   "id": "da40bf7d",
   "metadata": {},
   "outputs": [
    {
     "data": {
      "text/plain": [
       "{'__name__': '__main__',\n",
       " '__doc__': 'Automatically created module for IPython interactive environment',\n",
       " '__package__': None,\n",
       " '__loader__': None,\n",
       " '__spec__': None,\n",
       " '__builtin__': <module 'builtins' (built-in)>,\n",
       " '__builtins__': <module 'builtins' (built-in)>,\n",
       " '_ih': ['',\n",
       "  \"text_a = 'Apple'\\ntext_b = 'apple'\",\n",
       "  'text_a = text_b',\n",
       "  \"text_a = 'Apple'\\ntext_b = 'apple'\",\n",
       "  'text_a == text_b',\n",
       "  '# text_a와 text_b를 비교했을 때 같다 라는 결과를 만드려면\\n# 두개의 데이터의 형태를 같게 만든다.\\n\\ntext_a = text_a.upper()',\n",
       "  'text_b = text_b.upper()',\n",
       "  'text_a == text_b',\n",
       "  'text_c = \"  Hello world   \"',\n",
       "  '# lwoer()\\ntext_c = text_c.lower()',\n",
       "  '# swapcase()\\ntext_c = text_c.swapcase()',\n",
       "  'text_c = \"  Hello world   \"',\n",
       "  '# lwoer()\\ntext_c = text_c.lower()',\n",
       "  '# swapcase()\\ntext_c = text_c.swapcase()',\n",
       "  \"text_c = ''  Hello world   '\",\n",
       "  \"text_c = '  Hello world   '\",\n",
       "  '# lwoer()\\ntext_c = text_c.lower()',\n",
       "  '# swapcase()\\ntext_c = text_c.swapcase()',\n",
       "  'text_a == text_b',\n",
       "  'text_c.title()',\n",
       "  'text_c = \"\"  Hello world   \"',\n",
       "  '# lwoer()\\ntext_c.lower()',\n",
       "  'text_c = \"\"  Hello world   \"',\n",
       "  '# lwoer()\\ntext_c.lower()',\n",
       "  '# swapcase()\\ntext_c.swapcase()',\n",
       "  'text_c.title()',\n",
       "  'text_c = \"   Hello world   \"',\n",
       "  '# lwoer()\\ntext_c.lower()',\n",
       "  '# swapcase()\\ntext_c.swapcase()',\n",
       "  'text_c.title()',\n",
       "  '# 좌우의 공백하는 함수\\ntext_c == \"Hello world\"',\n",
       "  'text_c.strip()',\n",
       "  'text_c.rstrip()',\n",
       "  'text_c.lstrip()',\n",
       "  'print(text_c.lsrtrip)\\nprint(text_c.rstrip())',\n",
       "  'print(text_c.lsrtrip())\\nprint(text_c.rstrip())',\n",
       "  'print(text_c.rstrip())\\nprint(text_c.lstrip())',\n",
       "  'print(text_c.strip())\\nprint(text_c.lstrip())',\n",
       "  \"# 문자열을 숫자형을 변환\\n# 금액을 숫자로 변경하여 계산\\n\\nprice_1 = '$10.00'\\nprice_2 = '$20.00'\",\n",
       "  'price_1 + price_2',\n",
       "  \"# error : '$'를 숫자로 변경이 불가능하기 때문에\\n# float(price_1)\",\n",
       "  \"# '$' 제거하고 숫자로 변경\\nfloat(price_1.lstrip('$')) + float(price_2.lstrip('$'))\",\n",
       "  'price_3 = \"1,000원\"\\nprice_4 = \"3,000원\"',\n",
       "  \"# 문자열 마지막의 '원' 제거\\nfloat(price_3.rstrip('원'))\",\n",
       "  \"# 문자열 마지막의 '원' 제거\\n# float(price_3.rstrip('원'))\",\n",
       "  \"# srtip() : 함수는 문자의 시작과 끝의 특정 문자를 제거\\n# 문자열 사이에 있는 문자는 제거하지 못한다.\\n# replace() : 특정문자를 치환 -> 문자를 변경, 문자를 제거\\n# replace( '특정문자', '변경문자' )\\nfloat(price_3.replace(',', '')).rstrip('원') + float(price_4.replace(',', '').rstrip('원'))\",\n",
       "  'price_3 = \"1,000원\"\\nprice_4 = \"3,000원\"',\n",
       "  \"# srtip() : 함수는 문자의 시작과 끝의 특정 문자를 제거\\n# 문자열 사이에 있는 문자는 제거하지 못한다.\\n# replace() : 특정문자를 치환 -> 문자를 변경, 문자를 제거\\n# replace( '특정문자', '변경문자' )\\nfloat(price_3.replace(',', '')).rstrip('원') + float(price_4.replace(',', '').rstrip('원'))\",\n",
       "  \"# srtip() : 함수는 문자의 시작과 끝의 특정 문자를 제거\\n# 문자열 사이에 있는 문자는 제거하지 못한다.\\n# replace() : 특정문자를 치환 -> 문자를 변경, 문자를 제거\\n# replace( '특정문자', '변경문자' )\\nfloat(price_3.replace(',', '').replace('원', '')) + float(price_4.replace(',', '').replace('원', ''))\",\n",
       "  \"# srtip() : 함수는 문자의 시작과 끝의 특정 문자를 제거\\n# 문자열 사이에 있는 문자는 제거하지 못한다.\\n# replace() : 특정문자를 치환 -> 문자를 변경, 문자를 제거\\n# replace( '특정문자', '변경문자' )\\nint(price_3.replace(',', '')).rstrip('원')\",\n",
       "  'price_3 = \"1,000원\"\\nprice_4 = \"3,000원\"',\n",
       "  \"# srtip() : 함수는 문자의 시작과 끝의 특정 문자를 제거\\n# 문자열 사이에 있는 문자는 제거하지 못한다.\\n# replace() : 특정문자를 치환 -> 문자를 변경, 문자를 제거\\n# replace( '특정문자', '변경문자' )\\nint(price_3.replace(',', '')).rstrip(()'원'))\",\n",
       "  \"# srtip() : 함수는 문자의 시작과 끝의 특정 문자를 제거\\n# 문자열 사이에 있는 문자는 제거하지 못한다.\\n# replace() : 특정문자를 치환 -> 문자를 변경, 문자를 제거\\n# replace( '특정문자', '변경문자' )\\nint(price_3.replace(',', '')).rstrip(('원'))\",\n",
       "  'price_3 = \"1,000원\"\\nprice_4 = \"3,000원\"',\n",
       "  \"# srtip() : 함수는 문자의 시작과 끝의 특정 문자를 제거\\n# 문자열 사이에 있는 문자는 제거하지 못한다.\\n# replace() : 특정문자를 치환 -> 문자를 변경, 문자를 제거\\n# replace( '특정문자', '변경문자' )\\nint(price_3.replace(',', '')).rstrip(('원'))\",\n",
       "  \"# srtip() : 함수는 문자의 시작과 끝의 특정 문자를 제거\\n# 문자열 사이에 있는 문자는 제거하지 못한다.\\n# replace() : 특정문자를 치환 -> 문자를 변경, 문자를 제거\\n# replace( '특정문자', '변경문자' )\\nint(price_3.replace(',', '').rstrip(('원'))\",\n",
       "  'price_3 = \"1,000원\"\\nprice_4 = \"3,000원\"',\n",
       "  \"# srtip() : 함수는 문자의 시작과 끝의 특정 문자를 제거\\n# 문자열 사이에 있는 문자는 제거하지 못한다.\\n# replace() : 특정문자를 치환 -> 문자를 변경, 문자를 제거\\n# replace( '특정문자', '변경문자' )\\nint(price_3.replace(',', '').rstrip(('원')))\",\n",
       "  \"itme_1 = '상품A'\\nitme_2 = '상품a'\\nitem_3 = '상 품 a'\",\n",
       "  '(item1 == item_2) and (item_2 == item_3)',\n",
       "  '(item_1 == item_2) and (item_2 == item_3)',\n",
       "  \"itme_1 = '상품A'\\nitme_2 = '상품a'\\nitem_3 = '상 품 a'\",\n",
       "  '(item_1 == item_2) and (item_2 == item_3)',\n",
       "  \"item_1 = '상품A'\\nitem_2 = '상품a'\\nitem_3 = '상 품 a'\",\n",
       "  '(item_1 == item_2) and (item_2 == item_3)',\n",
       "  '# item_1을 기주능로 item_2, item_3 데이터를 변경\\n# item_2에서는 소문자를 대문자로 변경\\nitem_2 = item_2.upper()',\n",
       "  '# item_3는 문자열 사이에 존재하는 공백을 제거 - > 문자열을 대문자로 변경\\nitem_3 = item_3.upper()',\n",
       "  \"item_3 = item_3.replace(' ', '')\",\n",
       "  '(item_1 == itme_2) and (itme_1 == item_3)',\n",
       "  '(item_1 == itme_2) and (itme_2 == item_3)',\n",
       "  \"item_1 = '상품A'\\nitem_2 = '상품a'\\nitem_3 = '상 품 a'\",\n",
       "  '(item_1 == item_2) and (item_2 == item_3)',\n",
       "  '# item_1을 기주능로 item_2, item_3 데이터를 변경\\n# item_2에서는 소문자를 대문자로 변경\\nitem_2 = item_2.upper()',\n",
       "  '# item_3는 문자열 사이에 존재하는 공백을 제거 - > 문자열을 대문자로 변경\\nitem_3 = item_3.upper()',\n",
       "  \"item_3 = item_3.replace(' ', '')\",\n",
       "  '(item_1 == itme_2) and (itme_2 == item_3)',\n",
       "  \"# 문자열을 나눠주는 함수 -> split()\\n# 공백을 기준으로 문자를 나눠주는 함수\\n# 인자로 특정 문자를 입력하면 특정 문자로 문자를 나눠준다.\\ntext_1 = 'a b c d'\\ntext_1.split()\",\n",
       "  \"item_3 = item_3.replace(' ', '')\",\n",
       "  '(item_1 == itme_2) and (itme_2 == item_3)',\n",
       "  'itme_2',\n",
       "  'item_2',\n",
       "  '# item_1을 기주능로 item_2, item_3 데이터를 변경\\n# item_2에서는 소문자를 대문자로 변경\\nitem_2 = item_2.upper()',\n",
       "  'item_2',\n",
       "  '(item_1 == item_2) and (item_2 == item_3)',\n",
       "  \"text_2 = 'ammbmmc'\\ntextP_2.split('mm')\",\n",
       "  \"text_2 = 'ammbmmc'\\ntext_2.split('mm')\",\n",
       "  \"# query가 select문인가??\\nfind_word = 'select'\\n\\nquery_1[0:len(find_word)]\",\n",
       "  '# sql query문\\nquery_1 = \"select * Ffrom table \"\\nqurey_2 = \"SELECT * FROM table\"\\nquery_3 = \"\"\"\\nSelect INSERT INTO\\ntable\\nVALUES(\\'a\\')\\n\"\"\"\\n\\nquery_4 = \"\"\"\\n    select\\n    *\\n    from\\n    table\\n\"\"\"',\n",
       "  \"# query가 select문인가??\\nfind_word = 'select'\\n\\nquery_1[0:len(find_word)]\",\n",
       "  \"# query가 select문인가??\\nfind_word = 'select'\\n\\nquery_1[0:len(find_word)] == find_word\",\n",
       "  'query_2[:len(find_word)] == find_word',\n",
       "  'query_2[:len(find_word)].lower() == find_word',\n",
       "  'qurey_2[:len(find_word)].lower() == find_word',\n",
       "  'query_4[:len(find_word)]',\n",
       "  'query_4.lstript()[:len(find_word)]',\n",
       "  'query_4.lstrip()[:len(find_word)]',\n",
       "  'query_4.lstrip()[:len(find_word)] == find_word',\n",
       "  'query_1.split()',\n",
       "  'query_1.split()[0] == find_word',\n",
       "  'query_4.split()',\n",
       "  'query_2.split()[0],lower()',\n",
       "  'query.split()[0],lower()',\n",
       "  'query_2.split()[0],lower()',\n",
       "  '# sql query문\\nquery_1 = \"select * Ffrom table \"\\nquery_2 = \"SELECT * FROM table\"\\nquery_3 = \"\"\"\\nSelect INSERT INTO\\ntable\\nVALUES(\\'a\\')\\n\"\"\"\\n\\nquery_4 = \"\"\"\\n    select\\n    *\\n    from\\n    table\\n\"\"\"',\n",
       "  \"# query가 select문인가??\\nfind_word = 'select'\\n\\nquery_1[0:len(find_word)] == find_word\",\n",
       "  'query_2[:len(find_word)].lower() == find_word',\n",
       "  'query_4.lstrip()[:len(find_word)] == find_word',\n",
       "  'query_1.split()[0] == find_word',\n",
       "  'query_4.split()',\n",
       "  'query_2.split()[0],lower()',\n",
       "  'query_2.split()[0].lower()',\n",
       "  'query_1.startswich(find_word)',\n",
       "  'query_1.startswitch(find_word)',\n",
       "  'query_1.startswich(find_word)',\n",
       "  'query_1.startswith(find_word)',\n",
       "  'query_2.lower().startswith(find_word)',\n",
       "  'query_4.lstrtip().startswith(find_word)',\n",
       "  'query_4.lsttrip().startswith(find_word)',\n",
       "  'query_4.lstrip().startswith(find_word)',\n",
       "  'query_3.lstrip().startswith(find_word)',\n",
       "  'flie_list = [\\n        \"/csv/a.csv\",\\n        \"/csv/b.txt\",\\n        \"/csv/c.csv\",\\n        \"/csv/d.json\"\\n]',\n",
       "  '# file_list에서 확장자가 csv인 몰록만 출력한자\\nfile_list[0]',\n",
       "  'file_list = [\\n        \"/csv/a.csv\",\\n        \"/csv/b.txt\",\\n        \"/csv/c.csv\",\\n        \"/csv/d.json\"\\n]',\n",
       "  '# file_list에서 확장자가 csv인 몰록만 출력한자\\nfile_list[0]',\n",
       "  \"# file_list에서 확장자가 csv인 몰록만 출력한자\\nfile_list[0].endswith('csv')\",\n",
       "  \"file_list[1].endswith('csv')\",\n",
       "  \"# 반복문을 이용하여 file_list에서 csv 확장인 아아리만 새로운 목록을 만든다.\\ncsv_list = []\\n\\nfor i in range(len(file_list)):\\n    # i에 들어오는 데이터의 의미 : index\\n    # file_list에 1번째 항목이 csv로 끝나는가?\\n    if file_list[1].endswith('csv'):\\n        #확장자가 csv인 경우 실행되는 부분\\n        csv_list,append(file_list[i])\\n\\ncsv_list\\n\\n# for i in file_list:\\n    # i에 들어오는 데이터의 의미 : file_list의 원소\",\n",
       "  \"# 반복문을 이용하여 file_list에서 csv 확장인 아아리만 새로운 목록을 만든다.\\ncsv_list = []\\n\\nfor i in range(len(file_list)):\\n    # i에 들어오는 데이터의 의미 : index\\n    # file_list에 1번째 항목이 csv로 끝나는가?\\n    if file_list[1].endswith('csv'):\\n        #확장자가 csv인 경우 실행되는 부분\\n        csv_list.append(file_list[i])\\n\\ncsv_list\\n\\n# for i in file_list:\\n    # i에 들어오는 데이터의 의미 : file_list의 원소\",\n",
       "  'file_list = [\\n        \"/csv/a.csv\",\\n        \"/csv/b.txt\",\\n        \"/csv/c.csv\",\\n        \"/csv/d.json\"\\n]',\n",
       "  \"# 반복문을 이용하여 file_list에서 csv 확장인 아아리만 새로운 목록을 만든다.\\ncsv_list = []\\n\\nfor i in range(len(file_list)):\\n    # i에 들어오는 데이터의 의미 : index\\n    # file_list에 1번째 항목이 csv로 끝나는가?\\n    if file_list[1].endswith('csv'):\\n        #확장자가 csv인 경우 실행되는 부분\\n        csv_list.append(file_list[i])\\n\\nprint(csv_list)\\n\\n# for i in file_list:\\n    # i에 들어오는 데이터의 의미 : file_list의 원소\",\n",
       "  \"# 반복문을 이용하여 file_list에서 csv 확장인 아아리만 새로운 목록을 만든다.\\ncsv_list = []\\n\\nfor i in range(len(file_list)):\\n    # i에 들어오는 데이터의 의미 : index\\n    # file_list에 1번째 항목이 csv로 끝나는가?\\n    if file_list[i].endswith('csv'):\\n        #확장자가 csv인 경우 실행되는 부분\\n        csv_list.append(file_list[i])\\n\\nprint(csv_list)\\n\\n# for i in file_list:\\n    # i에 들어오는 데이터의 의미 : file_list의 원소\",\n",
       "  \"# 함수\\n# 특정한 행동을 코드로 표현하고 이름을 붙이는 작업\\n# 특정 입력값을 통해서 연산을 하고 결과를 되돌려주는 작업\\n# python에서 def 키워드를 이용해서 함수를 생성\\ndef func_1():\\n    return 'Hello'\\n\\ndef func_2():\\n    print('Hello')\\n    return 0\",\n",
       "  'func_1()',\n",
       "  'func_2()',\n",
       "  \"# 함수\\n# 특정한 행동을 코드로 표현하고 이름을 붙이는 작업\\n# 특정 입력값을 통해서 연산을 하고 결과를 되돌려주는 작업\\n# python에서 def 키워드를 이용해서 함수를 생성\\ndef func_1():\\n    return 'Hello'\\n\\ndef func_2():\\n    print('Hello')\",\n",
       "  '# 함수호출\\nfunc_1()',\n",
       "  'func_2()',\n",
       "  'res_1 = func_1()\\nres_2 = func_2()',\n",
       "  'res_1',\n",
       "  'res_2',\n",
       "  \"#매개변수가 존재하지 않는 함수에 입력값을 사용해서 호출 한다면?\\nfun_c('a')\",\n",
       "  \"#매개변수가 존재하지 않는 함수에 입력값을 사용해서 호출 한다면?\\nfunc_1('a')\",\n",
       "  '# 매개변수가 존재하는 함수 생성\\ndef func_3(a, b):\\n    c = a + b\\n    return c',\n",
       "  'func_3(10, 5)\\n# a = 10\\n# b = 5\\n# c = 10 + 5\\n# c를 되돌려준다.',\n",
       "  '# 매개변수가 2개인 함수를 호출하면서 인자를 1개만 입력하는 경우??\\nfunc_3(10)',\n",
       "  '# 매개변수가 2개인 함수를 호출하면서 인자를 1개만 입력하는 경우??\\n# 데이터가 입력되는 공간이 2개인데 데이터는 1개만 입력하면\\n# 나머지 하나의 공간에 데이터가 없으므로 에러\\n# func_3(10)',\n",
       "  \"# print() : 입력 데이터를 출력하는 기능\\nprint('a' ,'b', 'c')\",\n",
       "  \"# print() : 입력 데이터를 출력하는 기능\\nprint('a' ,'b', 'c', drp = '\\\\n')\",\n",
       "  \"# print() : 입력 데이터를 출력하는 기능\\nprint('a' ,'b', 'c', sep = '\\\\n')\",\n",
       "  \"# print() : 입력 데이터를 출력하는 기능\\n# sep 매개변수에 입력데이터를 대대입하려면 매개변수명 = data\\n# 첫 번째 매개변수가 가변의 인자를 받은 형태이기 때문에\\nprint('a' ,'b', 'c', sep = '\\\\n')\",\n",
       "  'def func_5(a, b=5):\\n    #  매개변수는 2개 a,b\\n    # a는 함수를 호출할 때 필수 입력 공간\\n    # b는 선택 입력 공간\\n    c = a ** b\\nreturn c',\n",
       "  'def func_5(a, b=5):\\n    #  매개변수는 2개 a,b\\n    # a는 함수를 호출할 때 필수 입력 공간\\n    # b는 선택 입력 공간\\n    c = a ** b\\nreturn c',\n",
       "  'def func_5(a, b=5):\\n    #  매개변수는 2개 a,b\\n    # a는 함수를 호출할 때 필수 입력 공간\\n    # b는 선택 입력 공간\\n    c = a ** b\\n    return c',\n",
       "  'func_4(2)\\n# a=2\\n# b=5\\n# c=2**5\\n# 32를 되돌려준다',\n",
       "  'def func_(a, b=5):\\n    #  매개변수는 2개 a,b\\n    # a는 함수를 호출할 때 필수 입력 공간\\n    # b는 선택 입력 공간\\n    c = a ** b\\n    return c',\n",
       "  'func_4(2)\\n# a=2\\n# b=5\\n# c=2**5\\n# 32를 되돌려준다',\n",
       "  'func_4(2)\\n# a=2\\n# b=5\\n# c=2**5\\n# 32를 되돌려준다',\n",
       "  'def func_4(a, b=5):\\n    #  매개변수는 2개 a,b\\n    # a는 함수를 호출할 때 필수 입력 공간\\n    # b는 선택 입력 공간\\n    c = a ** b\\n    return c',\n",
       "  'func_4(2)\\n# a=2\\n# b=5\\n# c=2**5\\n# 32를 되돌려준다',\n",
       "  'def func_4(a, b=5):\\n    #  매개변수는 2개 a,b\\n    # a는 함수를 호출할 때 필수 입력 공간\\n    # b는 선택 입력 공간\\n    c = a ** b\\n    return c',\n",
       "  'func_4(2)\\n# a=2\\n# b=5\\n# c=2**5\\n# 32를 되돌려준다',\n",
       "  'func_4(2, 4)\\n# a=2\\n# b=5\\n# b=4\\n# c=2**4\\n# 16을 되돌려준다.',\n",
       "  'globals()',\n",
       "  '# 모든 연역에서 사용할 수 있는 변수의 목록 확인\\nglobals()'],\n",
       " '_oh': {4: False,\n",
       "  7: True,\n",
       "  18: True,\n",
       "  19: '  Hello World   ',\n",
       "  21: '  hello world   ',\n",
       "  23: '  hello world   ',\n",
       "  24: '  hello world   ',\n",
       "  25: '  Hello World   ',\n",
       "  27: '   hello world   ',\n",
       "  28: '   hELLO WORLD   ',\n",
       "  29: '   Hello World   ',\n",
       "  30: False,\n",
       "  31: 'Hello world',\n",
       "  32: '   Hello world',\n",
       "  33: 'Hello world   ',\n",
       "  39: '$10.00$20.00',\n",
       "  41: 30.0,\n",
       "  48: 4000.0,\n",
       "  57: 1000,\n",
       "  64: False,\n",
       "  68: False,\n",
       "  69: False,\n",
       "  71: False,\n",
       "  75: False,\n",
       "  76: ['a', 'b', 'c', 'd'],\n",
       "  78: False,\n",
       "  79: '상품a',\n",
       "  80: '상품A',\n",
       "  82: '상품A',\n",
       "  83: True,\n",
       "  85: ['a', 'b', 'c'],\n",
       "  88: 'select',\n",
       "  89: True,\n",
       "  92: True,\n",
       "  93: '\\n    s',\n",
       "  95: 'select',\n",
       "  96: True,\n",
       "  97: ['select', '*', 'Ffrom', 'table'],\n",
       "  98: True,\n",
       "  99: ['select', '*', 'from', 'table'],\n",
       "  104: True,\n",
       "  105: True,\n",
       "  106: True,\n",
       "  107: True,\n",
       "  108: ['select', '*', 'from', 'table'],\n",
       "  110: 'select',\n",
       "  114: True,\n",
       "  115: True,\n",
       "  118: True,\n",
       "  119: False,\n",
       "  123: '/csv/a.csv',\n",
       "  124: True,\n",
       "  125: False,\n",
       "  126: [],\n",
       "  127: [],\n",
       "  132: 'Hello',\n",
       "  133: 0,\n",
       "  135: 'Hello',\n",
       "  138: 'Hello',\n",
       "  143: 15,\n",
       "  158: 32,\n",
       "  160: 32,\n",
       "  161: 16,\n",
       "  162: {...}},\n",
       " '_dh': [WindowsPath('c:/python/20250828')],\n",
       " 'In': ['',\n",
       "  \"text_a = 'Apple'\\ntext_b = 'apple'\",\n",
       "  'text_a = text_b',\n",
       "  \"text_a = 'Apple'\\ntext_b = 'apple'\",\n",
       "  'text_a == text_b',\n",
       "  '# text_a와 text_b를 비교했을 때 같다 라는 결과를 만드려면\\n# 두개의 데이터의 형태를 같게 만든다.\\n\\ntext_a = text_a.upper()',\n",
       "  'text_b = text_b.upper()',\n",
       "  'text_a == text_b',\n",
       "  'text_c = \"  Hello world   \"',\n",
       "  '# lwoer()\\ntext_c = text_c.lower()',\n",
       "  '# swapcase()\\ntext_c = text_c.swapcase()',\n",
       "  'text_c = \"  Hello world   \"',\n",
       "  '# lwoer()\\ntext_c = text_c.lower()',\n",
       "  '# swapcase()\\ntext_c = text_c.swapcase()',\n",
       "  \"text_c = ''  Hello world   '\",\n",
       "  \"text_c = '  Hello world   '\",\n",
       "  '# lwoer()\\ntext_c = text_c.lower()',\n",
       "  '# swapcase()\\ntext_c = text_c.swapcase()',\n",
       "  'text_a == text_b',\n",
       "  'text_c.title()',\n",
       "  'text_c = \"\"  Hello world   \"',\n",
       "  '# lwoer()\\ntext_c.lower()',\n",
       "  'text_c = \"\"  Hello world   \"',\n",
       "  '# lwoer()\\ntext_c.lower()',\n",
       "  '# swapcase()\\ntext_c.swapcase()',\n",
       "  'text_c.title()',\n",
       "  'text_c = \"   Hello world   \"',\n",
       "  '# lwoer()\\ntext_c.lower()',\n",
       "  '# swapcase()\\ntext_c.swapcase()',\n",
       "  'text_c.title()',\n",
       "  '# 좌우의 공백하는 함수\\ntext_c == \"Hello world\"',\n",
       "  'text_c.strip()',\n",
       "  'text_c.rstrip()',\n",
       "  'text_c.lstrip()',\n",
       "  'print(text_c.lsrtrip)\\nprint(text_c.rstrip())',\n",
       "  'print(text_c.lsrtrip())\\nprint(text_c.rstrip())',\n",
       "  'print(text_c.rstrip())\\nprint(text_c.lstrip())',\n",
       "  'print(text_c.strip())\\nprint(text_c.lstrip())',\n",
       "  \"# 문자열을 숫자형을 변환\\n# 금액을 숫자로 변경하여 계산\\n\\nprice_1 = '$10.00'\\nprice_2 = '$20.00'\",\n",
       "  'price_1 + price_2',\n",
       "  \"# error : '$'를 숫자로 변경이 불가능하기 때문에\\n# float(price_1)\",\n",
       "  \"# '$' 제거하고 숫자로 변경\\nfloat(price_1.lstrip('$')) + float(price_2.lstrip('$'))\",\n",
       "  'price_3 = \"1,000원\"\\nprice_4 = \"3,000원\"',\n",
       "  \"# 문자열 마지막의 '원' 제거\\nfloat(price_3.rstrip('원'))\",\n",
       "  \"# 문자열 마지막의 '원' 제거\\n# float(price_3.rstrip('원'))\",\n",
       "  \"# srtip() : 함수는 문자의 시작과 끝의 특정 문자를 제거\\n# 문자열 사이에 있는 문자는 제거하지 못한다.\\n# replace() : 특정문자를 치환 -> 문자를 변경, 문자를 제거\\n# replace( '특정문자', '변경문자' )\\nfloat(price_3.replace(',', '')).rstrip('원') + float(price_4.replace(',', '').rstrip('원'))\",\n",
       "  'price_3 = \"1,000원\"\\nprice_4 = \"3,000원\"',\n",
       "  \"# srtip() : 함수는 문자의 시작과 끝의 특정 문자를 제거\\n# 문자열 사이에 있는 문자는 제거하지 못한다.\\n# replace() : 특정문자를 치환 -> 문자를 변경, 문자를 제거\\n# replace( '특정문자', '변경문자' )\\nfloat(price_3.replace(',', '')).rstrip('원') + float(price_4.replace(',', '').rstrip('원'))\",\n",
       "  \"# srtip() : 함수는 문자의 시작과 끝의 특정 문자를 제거\\n# 문자열 사이에 있는 문자는 제거하지 못한다.\\n# replace() : 특정문자를 치환 -> 문자를 변경, 문자를 제거\\n# replace( '특정문자', '변경문자' )\\nfloat(price_3.replace(',', '').replace('원', '')) + float(price_4.replace(',', '').replace('원', ''))\",\n",
       "  \"# srtip() : 함수는 문자의 시작과 끝의 특정 문자를 제거\\n# 문자열 사이에 있는 문자는 제거하지 못한다.\\n# replace() : 특정문자를 치환 -> 문자를 변경, 문자를 제거\\n# replace( '특정문자', '변경문자' )\\nint(price_3.replace(',', '')).rstrip('원')\",\n",
       "  'price_3 = \"1,000원\"\\nprice_4 = \"3,000원\"',\n",
       "  \"# srtip() : 함수는 문자의 시작과 끝의 특정 문자를 제거\\n# 문자열 사이에 있는 문자는 제거하지 못한다.\\n# replace() : 특정문자를 치환 -> 문자를 변경, 문자를 제거\\n# replace( '특정문자', '변경문자' )\\nint(price_3.replace(',', '')).rstrip(()'원'))\",\n",
       "  \"# srtip() : 함수는 문자의 시작과 끝의 특정 문자를 제거\\n# 문자열 사이에 있는 문자는 제거하지 못한다.\\n# replace() : 특정문자를 치환 -> 문자를 변경, 문자를 제거\\n# replace( '특정문자', '변경문자' )\\nint(price_3.replace(',', '')).rstrip(('원'))\",\n",
       "  'price_3 = \"1,000원\"\\nprice_4 = \"3,000원\"',\n",
       "  \"# srtip() : 함수는 문자의 시작과 끝의 특정 문자를 제거\\n# 문자열 사이에 있는 문자는 제거하지 못한다.\\n# replace() : 특정문자를 치환 -> 문자를 변경, 문자를 제거\\n# replace( '특정문자', '변경문자' )\\nint(price_3.replace(',', '')).rstrip(('원'))\",\n",
       "  \"# srtip() : 함수는 문자의 시작과 끝의 특정 문자를 제거\\n# 문자열 사이에 있는 문자는 제거하지 못한다.\\n# replace() : 특정문자를 치환 -> 문자를 변경, 문자를 제거\\n# replace( '특정문자', '변경문자' )\\nint(price_3.replace(',', '').rstrip(('원'))\",\n",
       "  'price_3 = \"1,000원\"\\nprice_4 = \"3,000원\"',\n",
       "  \"# srtip() : 함수는 문자의 시작과 끝의 특정 문자를 제거\\n# 문자열 사이에 있는 문자는 제거하지 못한다.\\n# replace() : 특정문자를 치환 -> 문자를 변경, 문자를 제거\\n# replace( '특정문자', '변경문자' )\\nint(price_3.replace(',', '').rstrip(('원')))\",\n",
       "  \"itme_1 = '상품A'\\nitme_2 = '상품a'\\nitem_3 = '상 품 a'\",\n",
       "  '(item1 == item_2) and (item_2 == item_3)',\n",
       "  '(item_1 == item_2) and (item_2 == item_3)',\n",
       "  \"itme_1 = '상품A'\\nitme_2 = '상품a'\\nitem_3 = '상 품 a'\",\n",
       "  '(item_1 == item_2) and (item_2 == item_3)',\n",
       "  \"item_1 = '상품A'\\nitem_2 = '상품a'\\nitem_3 = '상 품 a'\",\n",
       "  '(item_1 == item_2) and (item_2 == item_3)',\n",
       "  '# item_1을 기주능로 item_2, item_3 데이터를 변경\\n# item_2에서는 소문자를 대문자로 변경\\nitem_2 = item_2.upper()',\n",
       "  '# item_3는 문자열 사이에 존재하는 공백을 제거 - > 문자열을 대문자로 변경\\nitem_3 = item_3.upper()',\n",
       "  \"item_3 = item_3.replace(' ', '')\",\n",
       "  '(item_1 == itme_2) and (itme_1 == item_3)',\n",
       "  '(item_1 == itme_2) and (itme_2 == item_3)',\n",
       "  \"item_1 = '상품A'\\nitem_2 = '상품a'\\nitem_3 = '상 품 a'\",\n",
       "  '(item_1 == item_2) and (item_2 == item_3)',\n",
       "  '# item_1을 기주능로 item_2, item_3 데이터를 변경\\n# item_2에서는 소문자를 대문자로 변경\\nitem_2 = item_2.upper()',\n",
       "  '# item_3는 문자열 사이에 존재하는 공백을 제거 - > 문자열을 대문자로 변경\\nitem_3 = item_3.upper()',\n",
       "  \"item_3 = item_3.replace(' ', '')\",\n",
       "  '(item_1 == itme_2) and (itme_2 == item_3)',\n",
       "  \"# 문자열을 나눠주는 함수 -> split()\\n# 공백을 기준으로 문자를 나눠주는 함수\\n# 인자로 특정 문자를 입력하면 특정 문자로 문자를 나눠준다.\\ntext_1 = 'a b c d'\\ntext_1.split()\",\n",
       "  \"item_3 = item_3.replace(' ', '')\",\n",
       "  '(item_1 == itme_2) and (itme_2 == item_3)',\n",
       "  'itme_2',\n",
       "  'item_2',\n",
       "  '# item_1을 기주능로 item_2, item_3 데이터를 변경\\n# item_2에서는 소문자를 대문자로 변경\\nitem_2 = item_2.upper()',\n",
       "  'item_2',\n",
       "  '(item_1 == item_2) and (item_2 == item_3)',\n",
       "  \"text_2 = 'ammbmmc'\\ntextP_2.split('mm')\",\n",
       "  \"text_2 = 'ammbmmc'\\ntext_2.split('mm')\",\n",
       "  \"# query가 select문인가??\\nfind_word = 'select'\\n\\nquery_1[0:len(find_word)]\",\n",
       "  '# sql query문\\nquery_1 = \"select * Ffrom table \"\\nqurey_2 = \"SELECT * FROM table\"\\nquery_3 = \"\"\"\\nSelect INSERT INTO\\ntable\\nVALUES(\\'a\\')\\n\"\"\"\\n\\nquery_4 = \"\"\"\\n    select\\n    *\\n    from\\n    table\\n\"\"\"',\n",
       "  \"# query가 select문인가??\\nfind_word = 'select'\\n\\nquery_1[0:len(find_word)]\",\n",
       "  \"# query가 select문인가??\\nfind_word = 'select'\\n\\nquery_1[0:len(find_word)] == find_word\",\n",
       "  'query_2[:len(find_word)] == find_word',\n",
       "  'query_2[:len(find_word)].lower() == find_word',\n",
       "  'qurey_2[:len(find_word)].lower() == find_word',\n",
       "  'query_4[:len(find_word)]',\n",
       "  'query_4.lstript()[:len(find_word)]',\n",
       "  'query_4.lstrip()[:len(find_word)]',\n",
       "  'query_4.lstrip()[:len(find_word)] == find_word',\n",
       "  'query_1.split()',\n",
       "  'query_1.split()[0] == find_word',\n",
       "  'query_4.split()',\n",
       "  'query_2.split()[0],lower()',\n",
       "  'query.split()[0],lower()',\n",
       "  'query_2.split()[0],lower()',\n",
       "  '# sql query문\\nquery_1 = \"select * Ffrom table \"\\nquery_2 = \"SELECT * FROM table\"\\nquery_3 = \"\"\"\\nSelect INSERT INTO\\ntable\\nVALUES(\\'a\\')\\n\"\"\"\\n\\nquery_4 = \"\"\"\\n    select\\n    *\\n    from\\n    table\\n\"\"\"',\n",
       "  \"# query가 select문인가??\\nfind_word = 'select'\\n\\nquery_1[0:len(find_word)] == find_word\",\n",
       "  'query_2[:len(find_word)].lower() == find_word',\n",
       "  'query_4.lstrip()[:len(find_word)] == find_word',\n",
       "  'query_1.split()[0] == find_word',\n",
       "  'query_4.split()',\n",
       "  'query_2.split()[0],lower()',\n",
       "  'query_2.split()[0].lower()',\n",
       "  'query_1.startswich(find_word)',\n",
       "  'query_1.startswitch(find_word)',\n",
       "  'query_1.startswich(find_word)',\n",
       "  'query_1.startswith(find_word)',\n",
       "  'query_2.lower().startswith(find_word)',\n",
       "  'query_4.lstrtip().startswith(find_word)',\n",
       "  'query_4.lsttrip().startswith(find_word)',\n",
       "  'query_4.lstrip().startswith(find_word)',\n",
       "  'query_3.lstrip().startswith(find_word)',\n",
       "  'flie_list = [\\n        \"/csv/a.csv\",\\n        \"/csv/b.txt\",\\n        \"/csv/c.csv\",\\n        \"/csv/d.json\"\\n]',\n",
       "  '# file_list에서 확장자가 csv인 몰록만 출력한자\\nfile_list[0]',\n",
       "  'file_list = [\\n        \"/csv/a.csv\",\\n        \"/csv/b.txt\",\\n        \"/csv/c.csv\",\\n        \"/csv/d.json\"\\n]',\n",
       "  '# file_list에서 확장자가 csv인 몰록만 출력한자\\nfile_list[0]',\n",
       "  \"# file_list에서 확장자가 csv인 몰록만 출력한자\\nfile_list[0].endswith('csv')\",\n",
       "  \"file_list[1].endswith('csv')\",\n",
       "  \"# 반복문을 이용하여 file_list에서 csv 확장인 아아리만 새로운 목록을 만든다.\\ncsv_list = []\\n\\nfor i in range(len(file_list)):\\n    # i에 들어오는 데이터의 의미 : index\\n    # file_list에 1번째 항목이 csv로 끝나는가?\\n    if file_list[1].endswith('csv'):\\n        #확장자가 csv인 경우 실행되는 부분\\n        csv_list,append(file_list[i])\\n\\ncsv_list\\n\\n# for i in file_list:\\n    # i에 들어오는 데이터의 의미 : file_list의 원소\",\n",
       "  \"# 반복문을 이용하여 file_list에서 csv 확장인 아아리만 새로운 목록을 만든다.\\ncsv_list = []\\n\\nfor i in range(len(file_list)):\\n    # i에 들어오는 데이터의 의미 : index\\n    # file_list에 1번째 항목이 csv로 끝나는가?\\n    if file_list[1].endswith('csv'):\\n        #확장자가 csv인 경우 실행되는 부분\\n        csv_list.append(file_list[i])\\n\\ncsv_list\\n\\n# for i in file_list:\\n    # i에 들어오는 데이터의 의미 : file_list의 원소\",\n",
       "  'file_list = [\\n        \"/csv/a.csv\",\\n        \"/csv/b.txt\",\\n        \"/csv/c.csv\",\\n        \"/csv/d.json\"\\n]',\n",
       "  \"# 반복문을 이용하여 file_list에서 csv 확장인 아아리만 새로운 목록을 만든다.\\ncsv_list = []\\n\\nfor i in range(len(file_list)):\\n    # i에 들어오는 데이터의 의미 : index\\n    # file_list에 1번째 항목이 csv로 끝나는가?\\n    if file_list[1].endswith('csv'):\\n        #확장자가 csv인 경우 실행되는 부분\\n        csv_list.append(file_list[i])\\n\\nprint(csv_list)\\n\\n# for i in file_list:\\n    # i에 들어오는 데이터의 의미 : file_list의 원소\",\n",
       "  \"# 반복문을 이용하여 file_list에서 csv 확장인 아아리만 새로운 목록을 만든다.\\ncsv_list = []\\n\\nfor i in range(len(file_list)):\\n    # i에 들어오는 데이터의 의미 : index\\n    # file_list에 1번째 항목이 csv로 끝나는가?\\n    if file_list[i].endswith('csv'):\\n        #확장자가 csv인 경우 실행되는 부분\\n        csv_list.append(file_list[i])\\n\\nprint(csv_list)\\n\\n# for i in file_list:\\n    # i에 들어오는 데이터의 의미 : file_list의 원소\",\n",
       "  \"# 함수\\n# 특정한 행동을 코드로 표현하고 이름을 붙이는 작업\\n# 특정 입력값을 통해서 연산을 하고 결과를 되돌려주는 작업\\n# python에서 def 키워드를 이용해서 함수를 생성\\ndef func_1():\\n    return 'Hello'\\n\\ndef func_2():\\n    print('Hello')\\n    return 0\",\n",
       "  'func_1()',\n",
       "  'func_2()',\n",
       "  \"# 함수\\n# 특정한 행동을 코드로 표현하고 이름을 붙이는 작업\\n# 특정 입력값을 통해서 연산을 하고 결과를 되돌려주는 작업\\n# python에서 def 키워드를 이용해서 함수를 생성\\ndef func_1():\\n    return 'Hello'\\n\\ndef func_2():\\n    print('Hello')\",\n",
       "  '# 함수호출\\nfunc_1()',\n",
       "  'func_2()',\n",
       "  'res_1 = func_1()\\nres_2 = func_2()',\n",
       "  'res_1',\n",
       "  'res_2',\n",
       "  \"#매개변수가 존재하지 않는 함수에 입력값을 사용해서 호출 한다면?\\nfun_c('a')\",\n",
       "  \"#매개변수가 존재하지 않는 함수에 입력값을 사용해서 호출 한다면?\\nfunc_1('a')\",\n",
       "  '# 매개변수가 존재하는 함수 생성\\ndef func_3(a, b):\\n    c = a + b\\n    return c',\n",
       "  'func_3(10, 5)\\n# a = 10\\n# b = 5\\n# c = 10 + 5\\n# c를 되돌려준다.',\n",
       "  '# 매개변수가 2개인 함수를 호출하면서 인자를 1개만 입력하는 경우??\\nfunc_3(10)',\n",
       "  '# 매개변수가 2개인 함수를 호출하면서 인자를 1개만 입력하는 경우??\\n# 데이터가 입력되는 공간이 2개인데 데이터는 1개만 입력하면\\n# 나머지 하나의 공간에 데이터가 없으므로 에러\\n# func_3(10)',\n",
       "  \"# print() : 입력 데이터를 출력하는 기능\\nprint('a' ,'b', 'c')\",\n",
       "  \"# print() : 입력 데이터를 출력하는 기능\\nprint('a' ,'b', 'c', drp = '\\\\n')\",\n",
       "  \"# print() : 입력 데이터를 출력하는 기능\\nprint('a' ,'b', 'c', sep = '\\\\n')\",\n",
       "  \"# print() : 입력 데이터를 출력하는 기능\\n# sep 매개변수에 입력데이터를 대대입하려면 매개변수명 = data\\n# 첫 번째 매개변수가 가변의 인자를 받은 형태이기 때문에\\nprint('a' ,'b', 'c', sep = '\\\\n')\",\n",
       "  'def func_5(a, b=5):\\n    #  매개변수는 2개 a,b\\n    # a는 함수를 호출할 때 필수 입력 공간\\n    # b는 선택 입력 공간\\n    c = a ** b\\nreturn c',\n",
       "  'def func_5(a, b=5):\\n    #  매개변수는 2개 a,b\\n    # a는 함수를 호출할 때 필수 입력 공간\\n    # b는 선택 입력 공간\\n    c = a ** b\\nreturn c',\n",
       "  'def func_5(a, b=5):\\n    #  매개변수는 2개 a,b\\n    # a는 함수를 호출할 때 필수 입력 공간\\n    # b는 선택 입력 공간\\n    c = a ** b\\n    return c',\n",
       "  'func_4(2)\\n# a=2\\n# b=5\\n# c=2**5\\n# 32를 되돌려준다',\n",
       "  'def func_(a, b=5):\\n    #  매개변수는 2개 a,b\\n    # a는 함수를 호출할 때 필수 입력 공간\\n    # b는 선택 입력 공간\\n    c = a ** b\\n    return c',\n",
       "  'func_4(2)\\n# a=2\\n# b=5\\n# c=2**5\\n# 32를 되돌려준다',\n",
       "  'func_4(2)\\n# a=2\\n# b=5\\n# c=2**5\\n# 32를 되돌려준다',\n",
       "  'def func_4(a, b=5):\\n    #  매개변수는 2개 a,b\\n    # a는 함수를 호출할 때 필수 입력 공간\\n    # b는 선택 입력 공간\\n    c = a ** b\\n    return c',\n",
       "  'func_4(2)\\n# a=2\\n# b=5\\n# c=2**5\\n# 32를 되돌려준다',\n",
       "  'def func_4(a, b=5):\\n    #  매개변수는 2개 a,b\\n    # a는 함수를 호출할 때 필수 입력 공간\\n    # b는 선택 입력 공간\\n    c = a ** b\\n    return c',\n",
       "  'func_4(2)\\n# a=2\\n# b=5\\n# c=2**5\\n# 32를 되돌려준다',\n",
       "  'func_4(2, 4)\\n# a=2\\n# b=5\\n# b=4\\n# c=2**4\\n# 16을 되돌려준다.',\n",
       "  'globals()',\n",
       "  '# 모든 연역에서 사용할 수 있는 변수의 목록 확인\\nglobals()'],\n",
       " 'Out': {4: False,\n",
       "  7: True,\n",
       "  18: True,\n",
       "  19: '  Hello World   ',\n",
       "  21: '  hello world   ',\n",
       "  23: '  hello world   ',\n",
       "  24: '  hello world   ',\n",
       "  25: '  Hello World   ',\n",
       "  27: '   hello world   ',\n",
       "  28: '   hELLO WORLD   ',\n",
       "  29: '   Hello World   ',\n",
       "  30: False,\n",
       "  31: 'Hello world',\n",
       "  32: '   Hello world',\n",
       "  33: 'Hello world   ',\n",
       "  39: '$10.00$20.00',\n",
       "  41: 30.0,\n",
       "  48: 4000.0,\n",
       "  57: 1000,\n",
       "  64: False,\n",
       "  68: False,\n",
       "  69: False,\n",
       "  71: False,\n",
       "  75: False,\n",
       "  76: ['a', 'b', 'c', 'd'],\n",
       "  78: False,\n",
       "  79: '상품a',\n",
       "  80: '상품A',\n",
       "  82: '상품A',\n",
       "  83: True,\n",
       "  85: ['a', 'b', 'c'],\n",
       "  88: 'select',\n",
       "  89: True,\n",
       "  92: True,\n",
       "  93: '\\n    s',\n",
       "  95: 'select',\n",
       "  96: True,\n",
       "  97: ['select', '*', 'Ffrom', 'table'],\n",
       "  98: True,\n",
       "  99: ['select', '*', 'from', 'table'],\n",
       "  104: True,\n",
       "  105: True,\n",
       "  106: True,\n",
       "  107: True,\n",
       "  108: ['select', '*', 'from', 'table'],\n",
       "  110: 'select',\n",
       "  114: True,\n",
       "  115: True,\n",
       "  118: True,\n",
       "  119: False,\n",
       "  123: '/csv/a.csv',\n",
       "  124: True,\n",
       "  125: False,\n",
       "  126: [],\n",
       "  127: [],\n",
       "  132: 'Hello',\n",
       "  133: 0,\n",
       "  135: 'Hello',\n",
       "  138: 'Hello',\n",
       "  143: 15,\n",
       "  158: 32,\n",
       "  160: 32,\n",
       "  161: 16,\n",
       "  162: {...}},\n",
       " 'get_ipython': <bound method InteractiveShell.get_ipython of <ipykernel.zmqshell.ZMQInteractiveShell object at 0x000002B16D6CF380>>,\n",
       " 'exit': <IPython.core.autocall.ZMQExitAutocall at 0x2b16d768c20>,\n",
       " 'quit': <IPython.core.autocall.ZMQExitAutocall at 0x2b16d768c20>,\n",
       " 'open': <function _io.open(file, mode='r', buffering=-1, encoding=None, errors=None, newline=None, closefd=True, opener=None)>,\n",
       " '_': {...},\n",
       " '__': 16,\n",
       " '___': 32,\n",
       " '__vsc_ipynb_file__': 'c:\\\\python\\\\20250828\\\\01_base.ipynb',\n",
       " '_i': 'globals()',\n",
       " '_ii': 'func_4(2, 4)\\n# a=2\\n# b=5\\n# b=4\\n# c=2**4\\n# 16을 되돌려준다.',\n",
       " '_iii': 'func_4(2)\\n# a=2\\n# b=5\\n# c=2**5\\n# 32를 되돌려준다',\n",
       " '_i1': \"text_a = 'Apple'\\ntext_b = 'apple'\",\n",
       " 'text_a': 'APPLE',\n",
       " 'text_b': 'APPLE',\n",
       " '_i2': 'text_a = text_b',\n",
       " '_i3': \"text_a = 'Apple'\\ntext_b = 'apple'\",\n",
       " '_i4': 'text_a == text_b',\n",
       " '_4': False,\n",
       " '_i5': '# text_a와 text_b를 비교했을 때 같다 라는 결과를 만드려면\\n# 두개의 데이터의 형태를 같게 만든다.\\n\\ntext_a = text_a.upper()',\n",
       " '_i6': 'text_b = text_b.upper()',\n",
       " '_i7': '\\ntext_a == text_b',\n",
       " '_7': True,\n",
       " '_i8': 'text_c = \"  Hello world   \"',\n",
       " 'text_c': '   Hello world   ',\n",
       " '_i9': '# lwoer()\\ntext_c = text_c.lower()',\n",
       " '_i10': '# swapcase()\\ntext_c = text_c.swapcase()',\n",
       " '_i11': 'text_c = \"  Hello world   \"',\n",
       " '_i12': '# lwoer()\\ntext_c = text_c.lower()',\n",
       " '_i13': '# swapcase()\\ntext_c = text_c.swapcase()',\n",
       " '_i14': \"text_c = ''  Hello world   '\",\n",
       " '_i15': \"text_c = '  Hello world   '\",\n",
       " '_i16': '# lwoer()\\ntext_c = text_c.lower()',\n",
       " '_i17': '# swapcase()\\ntext_c = text_c.swapcase()',\n",
       " '_i18': 'text_a == text_b',\n",
       " '_18': True,\n",
       " '_i19': 'text_c.title()',\n",
       " '_19': '  Hello World   ',\n",
       " '_i20': 'text_c = \"\"  Hello world   \"',\n",
       " '_i21': '# lwoer()\\ntext_c.lower()',\n",
       " '_21': '  hello world   ',\n",
       " '_i22': 'text_c = \"\"  Hello world   \"',\n",
       " '_i23': '# lwoer()\\ntext_c.lower()',\n",
       " '_23': '  hello world   ',\n",
       " '_i24': '# swapcase()\\ntext_c.swapcase()',\n",
       " '_24': '  hello world   ',\n",
       " '_i25': 'text_c.title()',\n",
       " '_25': '  Hello World   ',\n",
       " '_i26': 'text_c = \"   Hello world   \"',\n",
       " '_i27': '# lwoer()\\ntext_c.lower()',\n",
       " '_27': '   hello world   ',\n",
       " '_i28': '# swapcase()\\ntext_c.swapcase()',\n",
       " '_28': '   hELLO WORLD   ',\n",
       " '_i29': 'text_c.title()',\n",
       " '_29': '   Hello World   ',\n",
       " '_i30': '# 좌우의 공백하는 함수\\ntext_c == \"Hello world\"',\n",
       " '_30': False,\n",
       " '_i31': 'text_c.strip()',\n",
       " '_31': 'Hello world',\n",
       " '_i32': 'text_c.rstrip()',\n",
       " '_32': '   Hello world',\n",
       " '_i33': 'text_c.lstrip()',\n",
       " '_33': 'Hello world   ',\n",
       " '_i34': 'print(text_c.lsrtrip)\\nprint(text_c.rstrip())',\n",
       " '_i35': 'print(text_c.lsrtrip())\\nprint(text_c.rstrip())',\n",
       " '_i36': 'print(text_c.rstrip())\\nprint(text_c.lstrip())',\n",
       " '_i37': 'print(text_c.strip())\\nprint(text_c.lstrip())',\n",
       " '_i38': \"# 문자열을 숫자형을 변환\\n# 금액을 숫자로 변경하여 계산\\n\\nprice_1 = '$10.00'\\nprice_2 = '$20.00'\",\n",
       " 'price_1': '$10.00',\n",
       " 'price_2': '$20.00',\n",
       " '_i39': 'price_1 + price_2',\n",
       " '_39': '$10.00$20.00',\n",
       " '_i40': \"# error : '$'를 숫자로 변경이 불가능하기 때문에\\n# float(price_1)\",\n",
       " '_i41': \"# '$' 제거하고 숫자로 변경\\nfloat(price_1.lstrip('$')) + float(price_2.lstrip('$'))\",\n",
       " '_41': 30.0,\n",
       " '_i42': 'price_3 = \"1,000원\"\\nprice_4 = \"3,000원\"',\n",
       " 'price_3': '1,000원',\n",
       " 'price_4': '3,000원',\n",
       " '_i43': \"# 문자열 마지막의 '원' 제거\\nfloat(price_3.rstrip('원'))\",\n",
       " '_i44': \"# 문자열 마지막의 '원' 제거\\n# float(price_3.rstrip('원'))\",\n",
       " '_i45': \"# srtip() : 함수는 문자의 시작과 끝의 특정 문자를 제거\\n# 문자열 사이에 있는 문자는 제거하지 못한다.\\n# replace() : 특정문자를 치환 -> 문자를 변경, 문자를 제거\\n# replace( '특정문자', '변경문자' )\\nfloat(price_3.replace(',', '')).rstrip('원') + float(price_4.replace(',', '').rstrip('원'))\",\n",
       " '_i46': 'price_3 = \"1,000원\"\\nprice_4 = \"3,000원\"',\n",
       " '_i47': \"# srtip() : 함수는 문자의 시작과 끝의 특정 문자를 제거\\n# 문자열 사이에 있는 문자는 제거하지 못한다.\\n# replace() : 특정문자를 치환 -> 문자를 변경, 문자를 제거\\n# replace( '특정문자', '변경문자' )\\nfloat(price_3.replace(',', '')).rstrip('원') + float(price_4.replace(',', '').rstrip('원'))\",\n",
       " '_i48': \"# srtip() : 함수는 문자의 시작과 끝의 특정 문자를 제거\\n# 문자열 사이에 있는 문자는 제거하지 못한다.\\n# replace() : 특정문자를 치환 -> 문자를 변경, 문자를 제거\\n# replace( '특정문자', '변경문자' )\\nfloat(price_3.replace(',', '').replace('원', '')) + float(price_4.replace(',', '').replace('원', ''))\",\n",
       " '_48': 4000.0,\n",
       " '_i49': \"# srtip() : 함수는 문자의 시작과 끝의 특정 문자를 제거\\n# 문자열 사이에 있는 문자는 제거하지 못한다.\\n# replace() : 특정문자를 치환 -> 문자를 변경, 문자를 제거\\n# replace( '특정문자', '변경문자' )\\nint(price_3.replace(',', '')).rstrip('원')\",\n",
       " '_i50': 'price_3 = \"1,000원\"\\nprice_4 = \"3,000원\"',\n",
       " '_i51': \"# srtip() : 함수는 문자의 시작과 끝의 특정 문자를 제거\\n# 문자열 사이에 있는 문자는 제거하지 못한다.\\n# replace() : 특정문자를 치환 -> 문자를 변경, 문자를 제거\\n# replace( '특정문자', '변경문자' )\\nint(price_3.replace(',', '')).rstrip(()'원'))\",\n",
       " '_i52': \"# srtip() : 함수는 문자의 시작과 끝의 특정 문자를 제거\\n# 문자열 사이에 있는 문자는 제거하지 못한다.\\n# replace() : 특정문자를 치환 -> 문자를 변경, 문자를 제거\\n# replace( '특정문자', '변경문자' )\\nint(price_3.replace(',', '')).rstrip(('원'))\",\n",
       " '_i53': 'price_3 = \"1,000원\"\\nprice_4 = \"3,000원\"',\n",
       " '_i54': \"# srtip() : 함수는 문자의 시작과 끝의 특정 문자를 제거\\n# 문자열 사이에 있는 문자는 제거하지 못한다.\\n# replace() : 특정문자를 치환 -> 문자를 변경, 문자를 제거\\n# replace( '특정문자', '변경문자' )\\nint(price_3.replace(',', '')).rstrip(('원'))\",\n",
       " '_i55': \"# srtip() : 함수는 문자의 시작과 끝의 특정 문자를 제거\\n# 문자열 사이에 있는 문자는 제거하지 못한다.\\n# replace() : 특정문자를 치환 -> 문자를 변경, 문자를 제거\\n# replace( '특정문자', '변경문자' )\\nint(price_3.replace(',', '').rstrip(('원'))\",\n",
       " '_i56': 'price_3 = \"1,000원\"\\nprice_4 = \"3,000원\"',\n",
       " '_i57': \"# srtip() : 함수는 문자의 시작과 끝의 특정 문자를 제거\\n# 문자열 사이에 있는 문자는 제거하지 못한다.\\n# replace() : 특정문자를 치환 -> 문자를 변경, 문자를 제거\\n# replace( '특정문자', '변경문자' )\\nint(price_3.replace(',', '').rstrip(('원')))\",\n",
       " '_57': 1000,\n",
       " '_i58': \"itme_1 = '상품A'\\nitme_2 = '상품a'\\nitem_3 = '상 품 a'\",\n",
       " 'itme_1': '상품A',\n",
       " 'itme_2': '상품a',\n",
       " 'item_3': '상품A',\n",
       " '_i59': '(item1 == item_2) and (item_2 == item_3)',\n",
       " '_i60': '(item_1 == item_2) and (item_2 == item_3)',\n",
       " '_i61': \"itme_1 = '상품A'\\nitme_2 = '상품a'\\nitem_3 = '상 품 a'\",\n",
       " '_i62': '(item_1 == item_2) and (item_2 == item_3)',\n",
       " '_i63': \"item_1 = '상품A'\\nitem_2 = '상품a'\\nitem_3 = '상 품 a'\",\n",
       " 'item_1': '상품A',\n",
       " 'item_2': '상품A',\n",
       " '_i64': '(item_1 == item_2) and (item_2 == item_3)',\n",
       " '_64': False,\n",
       " '_i65': '# item_1을 기주능로 item_2, item_3 데이터를 변경\\n# item_2에서는 소문자를 대문자로 변경\\nitem_2 = item_2.upper()',\n",
       " '_i66': '# item_3는 문자열 사이에 존재하는 공백을 제거 - > 문자열을 대문자로 변경\\nitem_3 = item_3.upper()',\n",
       " '_i67': \"item_3 = item_3.replace(' ', '')\",\n",
       " '_i68': '(item_1 == itme_2) and (itme_1 == item_3)',\n",
       " '_68': False,\n",
       " '_i69': '(item_1 == itme_2) and (itme_2 == item_3)',\n",
       " '_69': False,\n",
       " '_i70': \"item_1 = '상품A'\\nitem_2 = '상품a'\\nitem_3 = '상 품 a'\",\n",
       " '_i71': '(item_1 == item_2) and (item_2 == item_3)',\n",
       " '_71': False,\n",
       " '_i72': '# item_1을 기주능로 item_2, item_3 데이터를 변경\\n# item_2에서는 소문자를 대문자로 변경\\nitem_2 = item_2.upper()',\n",
       " '_i73': '# item_3는 문자열 사이에 존재하는 공백을 제거 - > 문자열을 대문자로 변경\\nitem_3 = item_3.upper()',\n",
       " '_i74': \"item_3 = item_3.replace(' ', '')\",\n",
       " '_i75': '(item_1 == itme_2) and (itme_2 == item_3)',\n",
       " '_75': False,\n",
       " '_i76': \"# 문자열을 나눠주는 함수 -> split()\\n# 공백을 기준으로 문자를 나눠주는 함수\\n# 인자로 특정 문자를 입력하면 특정 문자로 문자를 나눠준다.\\ntext_1 = 'a b c d'\\ntext_1.split()\",\n",
       " 'text_1': 'a b c d',\n",
       " '_76': ['a', 'b', 'c', 'd'],\n",
       " '_i77': \"item_3 = item_3.replace(' ', '')\",\n",
       " '_i78': '(item_1 == itme_2) and (itme_2 == item_3)',\n",
       " '_78': False,\n",
       " '_i79': 'itme_2',\n",
       " '_79': '상품a',\n",
       " '_i80': 'item_2',\n",
       " '_80': '상품A',\n",
       " '_i81': '# item_1을 기주능로 item_2, item_3 데이터를 변경\\n# item_2에서는 소문자를 대문자로 변경\\nitem_2 = item_2.upper()',\n",
       " '_i82': 'item_2',\n",
       " '_82': '상품A',\n",
       " '_i83': '(item_1 == item_2) and (item_2 == item_3)',\n",
       " '_83': True,\n",
       " '_i84': \"text_2 = 'ammbmmc'\\ntextP_2.split('mm')\",\n",
       " 'text_2': 'ammbmmc',\n",
       " '_i85': \"text_2 = 'ammbmmc'\\ntext_2.split('mm')\",\n",
       " '_85': ['a', 'b', 'c'],\n",
       " '_i86': \"# query가 select문인가??\\nfind_word = 'select'\\n\\nquery_1[0:len(find_word)]\",\n",
       " 'find_word': 'select',\n",
       " '_i87': '# sql query문\\nquery_1 = \"select * Ffrom table \"\\nqurey_2 = \"SELECT * FROM table\"\\nquery_3 = \"\"\"\\nSelect INSERT INTO\\ntable\\nVALUES(\\'a\\')\\n\"\"\"\\n\\nquery_4 = \"\"\"\\n    select\\n    *\\n    from\\n    table\\n\"\"\"',\n",
       " 'query_1': 'select * Ffrom table ',\n",
       " 'qurey_2': 'SELECT * FROM table',\n",
       " 'query_3': \"\\nSelect INSERT INTO\\ntable\\nVALUES('a')\\n\",\n",
       " 'query_4': '\\n    select\\n    *\\n    from\\n    table\\n',\n",
       " '_i88': \"# query가 select문인가??\\nfind_word = 'select'\\n\\nquery_1[0:len(find_word)]\",\n",
       " '_88': 'select',\n",
       " '_i89': \"# query가 select문인가??\\nfind_word = 'select'\\n\\nquery_1[0:len(find_word)] == find_word\",\n",
       " '_89': True,\n",
       " '_i90': 'query_2[:len(find_word)] == find_word',\n",
       " '_i91': 'query_2[:len(find_word)].lower() == find_word',\n",
       " '_i92': 'qurey_2[:len(find_word)].lower() == find_word',\n",
       " '_92': True,\n",
       " '_i93': 'query_4[:len(find_word)]',\n",
       " '_93': '\\n    s',\n",
       " '_i94': 'query_4.lstript()[:len(find_word)]',\n",
       " '_i95': 'query_4.lstrip()[:len(find_word)]',\n",
       " '_95': 'select',\n",
       " '_i96': 'query_4.lstrip()[:len(find_word)] == find_word',\n",
       " '_96': True,\n",
       " '_i97': 'query_1.split()',\n",
       " '_97': ['select', '*', 'Ffrom', 'table'],\n",
       " '_i98': 'query_1.split()[0] == find_word',\n",
       " '_98': True,\n",
       " '_i99': 'query_4.split()',\n",
       " '_99': ['select', '*', 'from', 'table'],\n",
       " '_i100': 'query_2.split()[0],lower()',\n",
       " '_i101': 'query.split()[0],lower()',\n",
       " '_i102': 'query_2.split()[0],lower()',\n",
       " '_i103': '# sql query문\\nquery_1 = \"select * Ffrom table \"\\nquery_2 = \"SELECT * FROM table\"\\nquery_3 = \"\"\"\\nSelect INSERT INTO\\ntable\\nVALUES(\\'a\\')\\n\"\"\"\\n\\nquery_4 = \"\"\"\\n    select\\n    *\\n    from\\n    table\\n\"\"\"',\n",
       " 'query_2': 'SELECT * FROM table',\n",
       " '_i104': \"# query가 select문인가??\\nfind_word = 'select'\\n\\nquery_1[0:len(find_word)] == find_word\",\n",
       " '_104': True,\n",
       " '_i105': 'query_2[:len(find_word)].lower() == find_word',\n",
       " '_105': True,\n",
       " '_i106': 'query_4.lstrip()[:len(find_word)] == find_word',\n",
       " '_106': True,\n",
       " '_i107': 'query_1.split()[0] == find_word',\n",
       " '_107': True,\n",
       " '_i108': 'query_4.split()',\n",
       " '_108': ['select', '*', 'from', 'table'],\n",
       " '_i109': 'query_2.split()[0],lower()',\n",
       " '_i110': 'query_2.split()[0].lower()',\n",
       " '_110': 'select',\n",
       " '_i111': 'query_1.startswich(find_word)',\n",
       " '_i112': 'query_1.startswitch(find_word)',\n",
       " '_i113': 'query_1.startswich(find_word)',\n",
       " '_i114': 'query_1.startswith(find_word)',\n",
       " '_114': True,\n",
       " '_i115': 'query_2.lower().startswith(find_word)',\n",
       " '_115': True,\n",
       " '_i116': 'query_4.lstrtip().startswith(find_word)',\n",
       " '_i117': 'query_4.lsttrip().startswith(find_word)',\n",
       " '_i118': 'query_4.lstrip().startswith(find_word)',\n",
       " '_118': True,\n",
       " '_i119': 'query_3.lstrip().startswith(find_word)',\n",
       " '_119': False,\n",
       " '_i120': 'flie_list = [\\n        \"/csv/a.csv\",\\n        \"/csv/b.txt\",\\n        \"/csv/c.csv\",\\n        \"/csv/d.json\"\\n]',\n",
       " 'flie_list': ['/csv/a.csv', '/csv/b.txt', '/csv/c.csv', '/csv/d.json'],\n",
       " '_i121': '# file_list에서 확장자가 csv인 몰록만 출력한자\\nfile_list[0]',\n",
       " '_i122': 'file_list = [\\n        \"/csv/a.csv\",\\n        \"/csv/b.txt\",\\n        \"/csv/c.csv\",\\n        \"/csv/d.json\"\\n]',\n",
       " 'file_list': ['/csv/a.csv', '/csv/b.txt', '/csv/c.csv', '/csv/d.json'],\n",
       " '_i123': '# file_list에서 확장자가 csv인 몰록만 출력한자\\nfile_list[0]',\n",
       " '_123': '/csv/a.csv',\n",
       " '_i124': \"# file_list에서 확장자가 csv인 몰록만 출력한자\\nfile_list[0].endswith('csv')\",\n",
       " '_124': True,\n",
       " '_i125': \"file_list[1].endswith('csv')\",\n",
       " '_125': False,\n",
       " '_i126': \"# 반복문을 이용하여 file_list에서 csv 확장인 아아리만 새로운 목록을 만든다.\\ncsv_list = []\\n\\nfor i in range(len(file_list)):\\n    # i에 들어오는 데이터의 의미 : index\\n    # file_list에 1번째 항목이 csv로 끝나는가?\\n    if file_list[1].endswith('csv'):\\n        #확장자가 csv인 경우 실행되는 부분\\n        csv_list,append(file_list[i])\\n\\ncsv_list\\n\\n# for i in file_list:\\n    # i에 들어오는 데이터의 의미 : file_list의 원소\",\n",
       " 'csv_list': ['/csv/a.csv', '/csv/c.csv'],\n",
       " 'i': 3,\n",
       " '_126': [],\n",
       " '_i127': \"# 반복문을 이용하여 file_list에서 csv 확장인 아아리만 새로운 목록을 만든다.\\ncsv_list = []\\n\\nfor i in range(len(file_list)):\\n    # i에 들어오는 데이터의 의미 : index\\n    # file_list에 1번째 항목이 csv로 끝나는가?\\n    if file_list[1].endswith('csv'):\\n        #확장자가 csv인 경우 실행되는 부분\\n        csv_list.append(file_list[i])\\n\\ncsv_list\\n\\n# for i in file_list:\\n    # i에 들어오는 데이터의 의미 : file_list의 원소\",\n",
       " '_127': [],\n",
       " '_i128': 'file_list = [\\n        \"/csv/a.csv\",\\n        \"/csv/b.txt\",\\n        \"/csv/c.csv\",\\n        \"/csv/d.json\"\\n]',\n",
       " '_i129': \"# 반복문을 이용하여 file_list에서 csv 확장인 아아리만 새로운 목록을 만든다.\\ncsv_list = []\\n\\nfor i in range(len(file_list)):\\n    # i에 들어오는 데이터의 의미 : index\\n    # file_list에 1번째 항목이 csv로 끝나는가?\\n    if file_list[1].endswith('csv'):\\n        #확장자가 csv인 경우 실행되는 부분\\n        csv_list.append(file_list[i])\\n\\nprint(csv_list)\\n\\n# for i in file_list:\\n    # i에 들어오는 데이터의 의미 : file_list의 원소\",\n",
       " '_i130': \"# 반복문을 이용하여 file_list에서 csv 확장인 아아리만 새로운 목록을 만든다.\\ncsv_list = []\\n\\nfor i in range(len(file_list)):\\n    # i에 들어오는 데이터의 의미 : index\\n    # file_list에 1번째 항목이 csv로 끝나는가?\\n    if file_list[i].endswith('csv'):\\n        #확장자가 csv인 경우 실행되는 부분\\n        csv_list.append(file_list[i])\\n\\nprint(csv_list)\\n\\n# for i in file_list:\\n    # i에 들어오는 데이터의 의미 : file_list의 원소\",\n",
       " '_i131': \"# 함수\\n# 특정한 행동을 코드로 표현하고 이름을 붙이는 작업\\n# 특정 입력값을 통해서 연산을 하고 결과를 되돌려주는 작업\\n# python에서 def 키워드를 이용해서 함수를 생성\\ndef func_1():\\n    return 'Hello'\\n\\ndef func_2():\\n    print('Hello')\\n    return 0\",\n",
       " 'func_1': <function __main__.func_1()>,\n",
       " 'func_2': <function __main__.func_2()>,\n",
       " '_i132': 'func_1()',\n",
       " '_132': 'Hello',\n",
       " '_i133': 'func_2()',\n",
       " '_133': 0,\n",
       " '_i134': \"# 함수\\n# 특정한 행동을 코드로 표현하고 이름을 붙이는 작업\\n# 특정 입력값을 통해서 연산을 하고 결과를 되돌려주는 작업\\n# python에서 def 키워드를 이용해서 함수를 생성\\ndef func_1():\\n    return 'Hello'\\n\\ndef func_2():\\n    print('Hello')\",\n",
       " '_i135': '# 함수호출\\nfunc_1()',\n",
       " '_135': 'Hello',\n",
       " '_i136': 'func_2()',\n",
       " '_i137': 'res_1 = func_1()\\nres_2 = func_2()',\n",
       " 'res_1': 'Hello',\n",
       " 'res_2': None,\n",
       " '_i138': 'res_1',\n",
       " '_138': 'Hello',\n",
       " '_i139': 'res_2',\n",
       " '_i140': \"#매개변수가 존재하지 않는 함수에 입력값을 사용해서 호출 한다면?\\nfun_c('a')\",\n",
       " '_i141': \"#매개변수가 존재하지 않는 함수에 입력값을 사용해서 호출 한다면?\\nfunc_1('a')\",\n",
       " '_i142': '# 매개변수가 존재하는 함수 생성\\ndef func_3(a, b):\\n    c = a + b\\n    return c',\n",
       " 'func_3': <function __main__.func_3(a, b)>,\n",
       " '_i143': 'func_3(10, 5)\\n# a = 10\\n# b = 5\\n# c = 10 + 5\\n# c를 되돌려준다.',\n",
       " '_143': 15,\n",
       " '_i144': '# 매개변수가 2개인 함수를 호출하면서 인자를 1개만 입력하는 경우??\\nfunc_3(10)',\n",
       " '_i145': '# 매개변수가 2개인 함수를 호출하면서 인자를 1개만 입력하는 경우??\\n# 데이터가 입력되는 공간이 2개인데 데이터는 1개만 입력하면\\n# 나머지 하나의 공간에 데이터가 없으므로 에러\\n# func_3(10)',\n",
       " '_i146': \"# print() : 입력 데이터를 출력하는 기능\\nprint('a' ,'b', 'c')\",\n",
       " '_i147': \"# print() : 입력 데이터를 출력하는 기능\\nprint('a' ,'b', 'c', drp = '\\\\n')\",\n",
       " '_i148': \"# print() : 입력 데이터를 출력하는 기능\\nprint('a' ,'b', 'c', sep = '\\\\n')\",\n",
       " '_i149': \"# print() : 입력 데이터를 출력하는 기능\\n# sep 매개변수에 입력데이터를 대대입하려면 매개변수명 = data\\n# 첫 번째 매개변수가 가변의 인자를 받은 형태이기 때문에\\nprint('a' ,'b', 'c', sep = '\\\\n')\",\n",
       " '_i150': 'def func_5(a, b=5):\\n    #  매개변수는 2개 a,b\\n    # a는 함수를 호출할 때 필수 입력 공간\\n    # b는 선택 입력 공간\\n    c = a ** b\\nreturn c',\n",
       " 'func_5': <function __main__.func_5(a, b=5)>,\n",
       " '_i151': 'def func_5(a, b=5):\\n    #  매개변수는 2개 a,b\\n    # a는 함수를 호출할 때 필수 입력 공간\\n    # b는 선택 입력 공간\\n    c = a ** b\\nreturn c',\n",
       " '_i152': 'def func_5(a, b=5):\\n    #  매개변수는 2개 a,b\\n    # a는 함수를 호출할 때 필수 입력 공간\\n    # b는 선택 입력 공간\\n    c = a ** b\\n    return c',\n",
       " '_i153': 'func_4(2)\\n# a=2\\n# b=5\\n# c=2**5\\n# 32를 되돌려준다',\n",
       " '_i154': 'def func_(a, b=5):\\n    #  매개변수는 2개 a,b\\n    # a는 함수를 호출할 때 필수 입력 공간\\n    # b는 선택 입력 공간\\n    c = a ** b\\n    return c',\n",
       " 'func_': <function __main__.func_(a, b=5)>,\n",
       " '_i155': 'func_4(2)\\n# a=2\\n# b=5\\n# c=2**5\\n# 32를 되돌려준다',\n",
       " '_i156': 'func_4(2)\\n# a=2\\n# b=5\\n# c=2**5\\n# 32를 되돌려준다',\n",
       " '_i157': 'def func_4(a, b=5):\\n    #  매개변수는 2개 a,b\\n    # a는 함수를 호출할 때 필수 입력 공간\\n    # b는 선택 입력 공간\\n    c = a ** b\\n    return c',\n",
       " 'func_4': <function __main__.func_4(a, b=5)>,\n",
       " '_i158': 'func_4(2)\\n# a=2\\n# b=5\\n# c=2**5\\n# 32를 되돌려준다',\n",
       " '_158': 32,\n",
       " '_i159': 'def func_4(a, b=5):\\n    #  매개변수는 2개 a,b\\n    # a는 함수를 호출할 때 필수 입력 공간\\n    # b는 선택 입력 공간\\n    c = a ** b\\n    return c',\n",
       " '_i160': 'func_4(2)\\n# a=2\\n# b=5\\n# c=2**5\\n# 32를 되돌려준다',\n",
       " '_160': 32,\n",
       " '_i161': 'func_4(2, 4)\\n# a=2\\n# b=5\\n# b=4\\n# c=2**4\\n# 16을 되돌려준다.',\n",
       " '_161': 16,\n",
       " '_i162': 'globals()',\n",
       " '_162': {...},\n",
       " '_i163': '# 모든 연역에서 사용할 수 있는 변수의 목록 확인\\nglobals()'}"
      ]
     },
     "execution_count": 163,
     "metadata": {},
     "output_type": "execute_result"
    }
   ],
   "source": [
    "# 모든 연역에서 사용할 수 있는 변수의 목록 확인\n",
    "globals()"
   ]
  },
  {
   "cell_type": "code",
   "execution_count": 164,
   "id": "cf719177",
   "metadata": {},
   "outputs": [
    {
     "data": {
      "text/plain": [
       "'APPLE'"
      ]
     },
     "execution_count": 164,
     "metadata": {},
     "output_type": "execute_result"
    }
   ],
   "source": [
    "text_a"
   ]
  },
  {
   "cell_type": "code",
   "execution_count": 166,
   "id": "feab2331",
   "metadata": {},
   "outputs": [
    {
     "data": {
      "text/plain": [
       "'APPLE'"
      ]
     },
     "execution_count": 166,
     "metadata": {},
     "output_type": "execute_result"
    }
   ],
   "source": [
    "globals()['text_a']"
   ]
  },
  {
   "cell_type": "code",
   "execution_count": 167,
   "id": "b0134c46",
   "metadata": {},
   "outputs": [],
   "source": [
    "# 반복문을 이용해서 전역변수를 생성\n",
    "for i in range(3, 10, 2):\n",
    "    # globals(): 함수를 이용하여 전역 변수 생성\n",
    "    globals()[f'a{i}'] = i"
   ]
  },
  {
   "cell_type": "code",
   "execution_count": 168,
   "id": "bb968fa8",
   "metadata": {},
   "outputs": [],
   "source": [
    "# 지역 변수 확인\n",
    "def func_5(input_a, input_b):\n",
    "    func_res = input_a + input_b\n",
    "    return func_res\n",
    "\n",
    "res_3 = func_5(20,1)"
   ]
  },
  {
   "cell_type": "code",
   "execution_count": 170,
   "id": "bd06cf36",
   "metadata": {},
   "outputs": [
    {
     "name": "stdout",
     "output_type": "stream",
     "text": [
      "21\n"
     ]
    }
   ],
   "source": [
    "print(res_3) # func_res, input_a는 지역 변수이므로 전역에서는 사용이 불가능\n",
    "# print(func_res)\n",
    "# print(input_a)"
   ]
  },
  {
   "cell_type": "code",
   "execution_count": 171,
   "id": "c1264422",
   "metadata": {},
   "outputs": [
    {
     "name": "stdout",
     "output_type": "stream",
     "text": [
      "10 10 10\n"
     ]
    }
   ],
   "source": [
    "# 변수 생성\n",
    "a = b = c = 10\n",
    "print(a, b, c)"
   ]
  },
  {
   "cell_type": "code",
   "execution_count": 172,
   "id": "78fa6639",
   "metadata": {},
   "outputs": [
    {
     "name": "stdout",
     "output_type": "stream",
     "text": [
      "3 A True\n"
     ]
    }
   ],
   "source": [
    "d, e, f = 3, 'A', True\n",
    "print(d, e, f)"
   ]
  },
  {
   "cell_type": "code",
   "execution_count": 173,
   "id": "46f5aebc",
   "metadata": {},
   "outputs": [],
   "source": [
    "# return data가 2개 이상인 경우\n",
    "def func_6(a, b):\n",
    "    c = a + b\n",
    "    d = a - b\n",
    "    return c, d"
   ]
  },
  {
   "cell_type": "code",
   "execution_count": 174,
   "id": "8b13a02d",
   "metadata": {},
   "outputs": [
    {
     "data": {
      "text/plain": [
       "(13, 7)"
      ]
     },
     "execution_count": 174,
     "metadata": {},
     "output_type": "execute_result"
    }
   ],
   "source": [
    "func_6(10, 3)"
   ]
  },
  {
   "cell_type": "code",
   "execution_count": 175,
   "id": "7f0eba68",
   "metadata": {},
   "outputs": [
    {
     "data": {
      "text/plain": [
       "(13, 7)"
      ]
     },
     "execution_count": 175,
     "metadata": {},
     "output_type": "execute_result"
    }
   ],
   "source": [
    "res_4 = func_6(10, 3)\n",
    "res_4"
   ]
  },
  {
   "cell_type": "code",
   "execution_count": 176,
   "id": "a0b8033a",
   "metadata": {},
   "outputs": [],
   "source": [
    "res_5, res_6 = func_6(10, 3)"
   ]
  },
  {
   "cell_type": "code",
   "execution_count": 177,
   "id": "9f207899",
   "metadata": {},
   "outputs": [
    {
     "name": "stdout",
     "output_type": "stream",
     "text": [
      "13 7\n"
     ]
    }
   ],
   "source": [
    "print(res_5, res_6)"
   ]
  },
  {
   "cell_type": "code",
   "execution_count": 183,
   "id": "26078097",
   "metadata": {},
   "outputs": [],
   "source": [
    "# 인자의 개수가 가변일 경우\n",
    "def func_7( *args ):\n",
    "    # args의 타입??\n",
    "    print(type(args))\n",
    "    # 인자들의 누적 합 구해서 되돌려주는 기능\n",
    "    # 합계 초기값 지정\n",
    "    result = 0\n",
    "    # args의 원소의 개수만큼 반복 실행하는 반복문 생성\n",
    "    for i in args:\n",
    "        # i는 args의 원소들이 각각 대입\n",
    "        result += i\n",
    "    #return은 값을 되돌려주고 함수를 종료\n",
    "    return result"
   ]
  },
  {
   "cell_type": "code",
   "execution_count": 184,
   "id": "b0db6227",
   "metadata": {},
   "outputs": [
    {
     "name": "stdout",
     "output_type": "stream",
     "text": [
      "<class 'tuple'>\n"
     ]
    },
    {
     "data": {
      "text/plain": [
       "15"
      ]
     },
     "execution_count": 184,
     "metadata": {},
     "output_type": "execute_result"
    }
   ],
   "source": [
    "func_7(1, 2, 3, 4, 5)"
   ]
  },
  {
   "cell_type": "code",
   "execution_count": 185,
   "id": "469a9ee9",
   "metadata": {},
   "outputs": [],
   "source": [
    "def func_8(args):\n",
    "    result = 0\n",
    "    for i in args:\n",
    "        result += i\n",
    "    return result"
   ]
  },
  {
   "cell_type": "code",
   "execution_count": 186,
   "id": "c4c42b20",
   "metadata": {},
   "outputs": [
    {
     "data": {
      "text/plain": [
       "15"
      ]
     },
     "execution_count": 186,
     "metadata": {},
     "output_type": "execute_result"
    }
   ],
   "source": [
    "func_8([1, 2, 3, 4, 5])"
   ]
  },
  {
   "cell_type": "code",
   "execution_count": 188,
   "id": "9f814620",
   "metadata": {},
   "outputs": [
    {
     "name": "stdout",
     "output_type": "stream",
     "text": [
      "<class 'tuple'>\n"
     ]
    },
    {
     "data": {
      "text/plain": [
       "15"
      ]
     },
     "execution_count": 188,
     "metadata": {},
     "output_type": "execute_result"
    }
   ],
   "source": [
    "# func_7() 함수를 추출하는데 입력 데이터가 리스트인 경우\n",
    "func_7(*[1, 2, 3, 4, 5])"
   ]
  },
  {
   "cell_type": "code",
   "execution_count": 189,
   "id": "d118b9e1",
   "metadata": {},
   "outputs": [],
   "source": [
    "# 인자의 개수가 가변인 매개변수와 개수가 1개인 매개변수가 존재하는 함수\n",
    "def func_9(*args, data):\n",
    "    result = 0\n",
    "    # data가 1이라면 누적합을 되돌려주고\n",
    "    if data == 1:\n",
    "        result = 0\n",
    "        for i in args:\n",
    "            result += i\n",
    "\n",
    "    # data가 0이라면 누적곲을 되돌려준다.\n",
    "    if data == 0:\n",
    "        result = 1\n",
    "        for i in args:\n",
    "            result *= i\n",
    "            \n",
    "    return result\n",
    "            "
   ]
  },
  {
   "cell_type": "code",
   "execution_count": 190,
   "id": "2a144a9e",
   "metadata": {},
   "outputs": [
    {
     "data": {
      "text/plain": [
       "15"
      ]
     },
     "execution_count": 190,
     "metadata": {},
     "output_type": "execute_result"
    }
   ],
   "source": [
    "func_9(1, 2, 3, 4, 5, data = 1)"
   ]
  },
  {
   "cell_type": "code",
   "execution_count": 191,
   "id": "c6a55b59",
   "metadata": {},
   "outputs": [],
   "source": [
    "# 매개ㄴ수ㅅ에 기본값이 설정이 되어있는 함수\n",
    "def func_10(a, b = 2, c = 3):\n",
    "    # 매개변수는 3개 : a는 필수 입력 / b, c는 선택 입력\n",
    "    # 인자의 개수가 1개, 2개, 3개 모두 호출이 가능\n",
    "    result = (a + b) ** c\n",
    "    return result"
   ]
  },
  {
   "cell_type": "code",
   "execution_count": 192,
   "id": "df37032d",
   "metadata": {},
   "outputs": [
    {
     "name": "stdout",
     "output_type": "stream",
     "text": [
      "125\n",
      "216\n",
      "4\n"
     ]
    }
   ],
   "source": [
    "print(func_10(3))\n",
    "\n",
    "print(func_10(5, 1))\n",
    "\n",
    "print(func_10(3, 1, 1))"
   ]
  },
  {
   "cell_type": "code",
   "execution_count": 193,
   "id": "90abc947",
   "metadata": {},
   "outputs": [
    {
     "data": {
      "text/plain": [
       "25"
      ]
     },
     "execution_count": 193,
     "metadata": {},
     "output_type": "execute_result"
    }
   ],
   "source": [
    "# func_10에서 b 매개변수는 기본값을 사용하고 c의 매개변수에는 새로운 입력값\n",
    "func_10(3, c = 2)"
   ]
  },
  {
   "cell_type": "code",
   "execution_count": null,
   "id": "a46cbddf",
   "metadata": {},
   "outputs": [],
   "source": [
    "# 함수를 생성 시 매개변수의 기본값을 설정하려면 \n",
    "# 가장 뒤에 매개변수 부터 기본값을 설정\n",
    "# 중간의 매개변수에만 기본값을 설정하면 에러가 발생\n",
    "\n",
    "#def func_11(a, b = 2, c):\n",
    "#    result = a + b + c\n",
    "#    return result\n"
   ]
  },
  {
   "cell_type": "markdown",
   "id": "7523152c",
   "metadata": {},
   "source": [
    "### 연습\n",
    "- 함수를 생성\n",
    "    - 매개변수 2개\n",
    "        - _datas : 인자의 개수가 가변인 매개변수\n",
    "        - _type : 기본값이 설정 ('max')\n",
    "    - _type이 'max'라면 _datas 들 중 가장 큰 값을 되돌려준다.\n",
    "    - _type이 'min'이라면 _datas들 중 가장 작은 값을 되돌려준다\n",
    "    - _type이 'mean'이라면 _datas 들의 평균을 되돌려준다.\n",
    "    - 위에 3가지의 경우가 아니라면 \"_type이 맞지 않습니다\"를 되돌려준다."
   ]
  },
  {
   "cell_type": "code",
   "execution_count": 218,
   "id": "d8605d25",
   "metadata": {},
   "outputs": [],
   "source": [
    "def func_11(*_datas, _type = 'max'):\n",
    "    if _type == 'max':\n",
    "        return max(_datas)\n",
    "    elif _type == 'min':\n",
    "        return min(_datas)\n",
    "    elif _type == 'mean':\n",
    "        return int(sum(_datas)/len(_datas))\n",
    "    else:\n",
    "        print(\"_type이 맞지 않습니다\")\n",
    "        return "
   ]
  },
  {
   "cell_type": "code",
   "execution_count": 234,
   "id": "c5fd8973",
   "metadata": {},
   "outputs": [],
   "source": [
    "def func_12(*_datas, _type = 'max'):\n",
    "    if _type == 'max':\n",
    "        result = max(_datas)\n",
    "    elif _type == 'min':\n",
    "        result = min(_datas)\n",
    "    elif _type == 'mean':\n",
    "        result = sum(_datas) / len(_datas)\n",
    "    else:\n",
    "        result = '_tyoe이 맞지 않습니다'\n",
    "    \n",
    "    return print(result)"
   ]
  },
  {
   "cell_type": "code",
   "execution_count": 219,
   "id": "dbc2168a",
   "metadata": {},
   "outputs": [
    {
     "data": {
      "text/plain": [
       "5"
      ]
     },
     "execution_count": 219,
     "metadata": {},
     "output_type": "execute_result"
    }
   ],
   "source": [
    "func_11(1,2,3,4,5)"
   ]
  },
  {
   "cell_type": "code",
   "execution_count": 220,
   "id": "87f72555",
   "metadata": {},
   "outputs": [
    {
     "data": {
      "text/plain": [
       "1"
      ]
     },
     "execution_count": 220,
     "metadata": {},
     "output_type": "execute_result"
    }
   ],
   "source": [
    "func_11(1,2,3,4,5, _type='min')"
   ]
  },
  {
   "cell_type": "code",
   "execution_count": 221,
   "id": "c584b8e2",
   "metadata": {},
   "outputs": [
    {
     "data": {
      "text/plain": [
       "3"
      ]
     },
     "execution_count": 221,
     "metadata": {},
     "output_type": "execute_result"
    }
   ],
   "source": [
    "func_11(1,2,3,4,5, _type = 'mean')"
   ]
  },
  {
   "cell_type": "code",
   "execution_count": 222,
   "id": "f5c2d87c",
   "metadata": {},
   "outputs": [
    {
     "name": "stdout",
     "output_type": "stream",
     "text": [
      "_type이 맞지 않습니다\n"
     ]
    }
   ],
   "source": [
    "func_11(1,2,3,4,5, _type = 'minmax')"
   ]
  },
  {
   "cell_type": "code",
   "execution_count": null,
   "id": "4a22c9ed",
   "metadata": {},
   "outputs": [
    {
     "name": "stdout",
     "output_type": "stream",
     "text": [
      "0\n"
     ]
    }
   ],
   "source": [
    "func_12()"
   ]
  },
  {
   "cell_type": "code",
   "execution_count": null,
   "id": "3e8d87b6",
   "metadata": {},
   "outputs": [],
   "source": []
  },
  {
   "cell_type": "code",
   "execution_count": null,
   "id": "34a9202b",
   "metadata": {},
   "outputs": [],
   "source": []
  },
  {
   "cell_type": "code",
   "execution_count": null,
   "id": "13e23cc9",
   "metadata": {},
   "outputs": [],
   "source": []
  }
 ],
 "metadata": {
  "kernelspec": {
   "display_name": "Python 3",
   "language": "python",
   "name": "python3"
  },
  "language_info": {
   "codemirror_mode": {
    "name": "ipython",
    "version": 3
   },
   "file_extension": ".py",
   "mimetype": "text/x-python",
   "name": "python",
   "nbconvert_exporter": "python",
   "pygments_lexer": "ipython3",
   "version": "3.13.7"
  }
 },
 "nbformat": 4,
 "nbformat_minor": 5
}
