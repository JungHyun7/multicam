{
 "cells": [
  {
   "cell_type": "markdown",
   "id": "4ba3bbb0",
   "metadata": {},
   "source": [
    "### class 선언\n",
    "    - class 키워드를 이용해서 Class를 선언\n",
    "    - class의 이름은 일반적으로 단어의 첫글자를 대문자로 표기\n",
    "\n",
    "### class 생성\n",
    "    - 선언이 된 class를 특정 공간에 저장하는 과정(변수를 생성하는 class를 대입)\n",
    "    - 생성된 class 안에는 변수와 함수가 존재(같은 변수명을 사용해도 각각 저장)\n",
    "\n",
    "### class 내부의 변수, 함수를 호출\n",
    "    - class가 저장되어있는 공간(변수명) + ~안에(.) + class에 존재하는 변수, 함수를 호출"
   ]
  },
  {
   "cell_type": "code",
   "execution_count": 42,
   "id": "1ab77f65",
   "metadata": {},
   "outputs": [],
   "source": [
    "# 가장 기본적인 class 선언\n",
    "class Class_1:\n",
    "    # 생성자 함수(초기화 함수)\n",
    "    # class 내부에 함수를 생성할 때는 일반적으로 매개변수 self는 기본\n",
    "    # self : 자기 자신(생성되는 class 공간)\n",
    "    #__init__ 함수는 class가 생성이 될 때 한번 실행이 되는 함수\n",
    "    # 따로 호출할 필요가 없음\n",
    "    def __init__(self, _a, _b):\n",
    "        # class 내부에서 사용할 변수들을 저장하는 기능\n",
    "        # self.a -> self(자기자신) + (안에) + a(변수명)\n",
    "        self.a = _a\n",
    "        self.b = _b\n",
    "        # __init__ 함수를 class 내부에서 사용할 데이터를 저장하는 기능\n",
    "        # return 따로 만들지 않는다.\n",
    "        \n",
    "    def add_value(self):\n",
    "        result = self.a + self.b\n",
    "        return result\n",
    "        \n",
    "        \n",
    "        \n",
    "        "
   ]
  },
  {
   "cell_type": "code",
   "execution_count": 43,
   "id": "ae609dad",
   "metadata": {},
   "outputs": [],
   "source": [
    "# class 생성\n",
    "# class_1을 생성 -> __init__함수 호출\n",
    "#-> __init__함수를 매개변수 3개 -> 입력값 3개\n",
    "test = Class_1(10, 7)"
   ]
  },
  {
   "cell_type": "code",
   "execution_count": 44,
   "id": "17c426d8",
   "metadata": {},
   "outputs": [],
   "source": [
    "# 3번째 인자는 저장될 수 있는 공간이 존재하지 않는다. -> 에러\n",
    "# test2 = Class_1(10, 7, 1)"
   ]
  },
  {
   "cell_type": "code",
   "execution_count": 45,
   "metadata": {},
   "outputs": [],
   "source": [
    "test2 = Class_1(20, 4)"
   ]
  },
  {
   "cell_type": "code",
   "execution_count": 46,
   "id": "eeb95a54",
   "metadata": {},
   "outputs": [
    {
     "name": "stdout",
     "output_type": "stream",
     "text": [
      "10\n",
      "20\n"
     ]
    }
   ],
   "source": [
    "# class 내부에 있는 변수를 추출\n",
    "# 생성이 된 클래스의 위치(변수명) + 안에(.) + 변수명\n",
    "print(test.a)\n",
    "print(test2.a)"
   ]
  },
  {
   "cell_type": "code",
   "execution_count": 47,
   "id": "82dedac7",
   "metadata": {},
   "outputs": [
    {
     "data": {
      "text/plain": [
       "17"
      ]
     },
     "execution_count": 47,
     "metadata": {},
     "output_type": "execute_result"
    }
   ],
   "source": [
    "# class 내부에 있는 함수를 호출한다.\n",
    "# 생성이 된 클래스의 위치(변수명) + 안에(.) + 함수()\n",
    "# add_value() 함수를 호출\n",
    "test.add_value()"
   ]
  },
  {
   "cell_type": "code",
   "execution_count": 48,
   "id": "68f7bde5",
   "metadata": {},
   "outputs": [
    {
     "data": {
      "text/plain": [
       "24"
      ]
     },
     "execution_count": 48,
     "metadata": {},
     "output_type": "execute_result"
    }
   ],
   "source": [
    "test2.add_value()"
   ]
  },
  {
   "cell_type": "code",
   "execution_count": 49,
   "id": "3dd5fcf7",
   "metadata": {},
   "outputs": [],
   "source": [
    "class Calculate:\n",
    "    # 생성자 함수 -> 두 개의 숫자 데이터를 저장\n",
    "    def __init__(self, _a, _b):\n",
    "        self.a = _a\n",
    "        self.b = _b\n",
    "\n",
    "    # 두 개의 데이터를 더한 뒤 되돌려주는 함수\n",
    "    def add(self):\n",
    "        result = self.a + self.b\n",
    "        return result\n",
    "\n",
    "    # 두 개의 데이터를 뺀 뒤 되돌려주는 함수\n",
    "    def sub(self):\n",
    "        result = self.a - self.b\n",
    "        return result\n",
    "\n",
    "    # 두 개의 데이터를 곱한 뒤 되돌려주는 함수\n",
    "    def multi(self):\n",
    "        result = self.a * self.b\n",
    "        return result\n",
    "\n",
    "    # 두 개의 데이터를 나눈 뒤 되돌려주는 함수\n",
    "    def dev(self):\n",
    "        result = self.a / self.b\n",
    "        return result"
   ]
  },
  {
   "cell_type": "code",
   "execution_count": 50,
   "id": "68643206",
   "metadata": {},
   "outputs": [],
   "source": [
    "cal_1 = Calculate(20, 4)\n",
    "cal_2 = Calculate(5, 10)"
   ]
  },
  {
   "cell_type": "code",
   "execution_count": 51,
   "id": "c5ac674c",
   "metadata": {},
   "outputs": [
    {
     "name": "stdout",
     "output_type": "stream",
     "text": [
      "24 16 80 5.0\n"
     ]
    }
   ],
   "source": [
    "print(cal_1.add(), cal_1.sub(), cal_1.multi(), cal_1.dev())"
   ]
  },
  {
   "cell_type": "code",
   "execution_count": 52,
   "id": "bedaef48",
   "metadata": {},
   "outputs": [
    {
     "name": "stdout",
     "output_type": "stream",
     "text": [
      "15 -5 50 0.5\n"
     ]
    }
   ],
   "source": [
    "print(cal_2.add(), cal_2.sub(), cal_2.multi(), cal_2.dev())"
   ]
  },
  {
   "cell_type": "code",
   "execution_count": 53,
   "id": "910bbaee",
   "metadata": {},
   "outputs": [],
   "source": [
    "# cal_1, cal_2 함수들을 호출할 때 출력이 나오는 의미는 class 내부의 데이터가 변경이 되지 않는다.\n"
   ]
  },
  {
   "cell_type": "code",
   "execution_count": 63,
   "id": "3fcbc3de",
   "metadata": {},
   "outputs": [],
   "source": [
    "# class 내부의 변수에 데이터를 변경하는 class를 선언\n",
    "class Class_2:\n",
    "    def __init__(self, _a):\n",
    "        self.a = _a\n",
    "\n",
    "    # self.a의 연산(더하기)하는 함수 -> 매개변수 2개 추가\n",
    "    def func_1(self, _val, inplace=False):\n",
    "        # inplace가 True라면 -> self.a에 _val을 더하고 self.a를 변경\n",
    "        if inplace:\n",
    "            self.a += _val\n",
    "        # inplace가 False라면 -> self.a에 _val을 더한 데이터를 되돌려준다.\n",
    "        else:\n",
    "            result = self.a + _val\n",
    "            return result\n"
   ]
  },
  {
   "cell_type": "code",
   "execution_count": 64,
   "id": "cb5ec3c5",
   "metadata": {},
   "outputs": [],
   "source": [
    "test3 = Class_2(10)"
   ]
  },
  {
   "cell_type": "code",
   "execution_count": 65,
   "id": "0857ab01",
   "metadata": {},
   "outputs": [
    {
     "data": {
      "text/plain": [
       "15"
      ]
     },
     "execution_count": 65,
     "metadata": {},
     "output_type": "execute_result"
    }
   ],
   "source": [
    "# cal_3 내부에 있는 func_1() 함수를 호출\n",
    "# 해당 함수는 매개변수 3개 -> self(test3의 위치가 자동 입력)\n",
    "#                          _val(필수 입력)\n",
    "#                          inplace(기본값이 False)\n",
    "test3.func_1(5)"
   ]
  },
  {
   "cell_type": "code",
   "execution_count": 66,
   "id": "a0492a59",
   "metadata": {},
   "outputs": [],
   "source": [
    "# func_1() 호출하는데 inplace를 True로 변경\n",
    "test3.func_1(5, inplace=True)"
   ]
  },
  {
   "cell_type": "code",
   "execution_count": 67,
   "id": "10b92005",
   "metadata": {},
   "outputs": [
    {
     "data": {
      "text/plain": [
       "10"
      ]
     },
     "execution_count": 67,
     "metadata": {},
     "output_type": "execute_result"
    }
   ],
   "source": [
    "test.a"
   ]
  },
  {
   "cell_type": "code",
   "execution_count": 98,
   "id": "e32ba410",
   "metadata": {},
   "outputs": [],
   "source": [
    "# class 변수\n",
    "# 같은 class를 생성하는 경우 서로 공유하는 변수\n",
    "class Class_3:\n",
    "    # self 변수들의 생성위치 -> 함수 안에서 생성\n",
    "    # class 변수는 생성위치 함수 밖에서 생성\n",
    "    cnt = 0\n",
    "    users = []\n",
    "    \n",
    "    # 유저를 등록하는 함수\n",
    "    def add_user(self, _name):\n",
    "        # 유저가 등록팀에 따라 cnt는 1씩 증가\n",
    "        Class_3.cnt += 1\n",
    "        # 유저의 이름은 user에 추가\n",
    "        Class_3.users.append(_name)\n",
    "        \n",
    "        \n",
    "       # self.__class__.cnt += 1\n",
    "        #self.__class__,users.append(_name)"
   ]
  },
  {
   "cell_type": "code",
   "execution_count": 99,
   "id": "4f3bbed0",
   "metadata": {},
   "outputs": [],
   "source": [
    "user1 = Class_3()\n",
    "user2 = Class_3()"
   ]
  },
  {
   "cell_type": "code",
   "execution_count": 100,
   "id": "1d5ba214",
   "metadata": {},
   "outputs": [],
   "source": [
    "# user1에 add_user() 함수를 호출\n",
    "user1.add_user('kim')"
   ]
  },
  {
   "cell_type": "code",
   "execution_count": 101,
   "id": "c06539a6",
   "metadata": {},
   "outputs": [],
   "source": [
    "user2.add_user('park')"
   ]
  },
  {
   "cell_type": "code",
   "execution_count": 102,
   "id": "280a26bd",
   "metadata": {},
   "outputs": [
    {
     "name": "stdout",
     "output_type": "stream",
     "text": [
      "2 ['kim', 'park']\n",
      "2 ['kim', 'park']\n"
     ]
    }
   ],
   "source": [
    "print(user1.cnt, user1.users)\n",
    "print(user2.cnt, user2.users)"
   ]
  },
  {
   "cell_type": "code",
   "execution_count": null,
   "id": "a02c759f",
   "metadata": {},
   "outputs": [],
   "source": []
  },
  {
   "cell_type": "code",
   "execution_count": null,
   "id": "2b856bd7",
   "metadata": {},
   "outputs": [],
   "source": []
  },
  {
   "cell_type": "code",
   "execution_count": null,
   "id": "e11cc1b5",
   "metadata": {},
   "outputs": [],
   "source": []
  },
  {
   "cell_type": "code",
   "execution_count": null,
   "id": "8a92fd13",
   "metadata": {},
   "outputs": [],
   "source": []
  },
  {
   "cell_type": "code",
   "execution_count": null,
   "id": "d142d952",
   "metadata": {},
   "outputs": [],
   "source": []
  }
 ],
 "metadata": {
  "kernelspec": {
   "display_name": "Python 3",
   "language": "python",
   "name": "python3"
  },
  "language_info": {
   "codemirror_mode": {
    "name": "ipython",
    "version": 3
   },
   "file_extension": ".py",
   "mimetype": "text/x-python",
   "name": "python",
   "nbconvert_exporter": "python",
   "pygments_lexer": "ipython3",
   "version": "3.13.7"
  }
 },
 "nbformat": 4,
 "nbformat_minor": 5
}
