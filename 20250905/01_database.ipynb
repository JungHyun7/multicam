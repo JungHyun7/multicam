{
 "cells": [
  {
   "cell_type": "markdown",
   "id": "439917ec",
   "metadata": {},
   "source": [
    "- mysql과 python 연동\n",
    "    1. 연동 기능이 존재하는 라이브러리(oymysql) 설치\n",
    "    2. 라이브러리 로드\n",
    "    3. 데이터베이스 서버와의 연결\n",
    "        - 서버의 정보\n",
    "            - 주소\n",
    "            - prot\n",
    "            - 사용자 아이디\n",
    "            - 비밀번호\n",
    "            - 사용할 스키마(데이터베이스)\n",
    "    4. 커서(가상공간)를 생성\n",
    "    5. query문을 작성하여 질의를 한다.\n",
    "        - insert, updata, delete : return 존재X\n",
    "        - select : return 존재O\n",
    "            fetchall() : cursor에서 데이터를 가져온다(cursor에는 데이터가 삭제)\n",
    "    6. DB server와 Cursor를 동기화\n",
    "    7. DB server와의 연결을 종료\n"
   ]
  },
  {
   "cell_type": "code",
   "execution_count": 1,
   "id": "257ef5f7",
   "metadata": {},
   "outputs": [],
   "source": [
    "# 라이브러리 설치\n",
    "#!pip install pymysql"
   ]
  },
  {
   "cell_type": "code",
   "execution_count": 1,
   "id": "e6f6696b",
   "metadata": {},
   "outputs": [],
   "source": [
    "# 라이브러리 로드\n",
    "import pymysql"
   ]
  },
  {
   "cell_type": "code",
   "execution_count": 2,
   "id": "383108b7",
   "metadata": {},
   "outputs": [],
   "source": [
    "# DB server와의 연결 -> 연결되는 정보를 변수에 저장\n",
    "\n",
    "_db = pymysql.connect(\n",
    "    # host = \"localhost\"\n",
    "    host = '127.0.0.1', # 서버주소\n",
    "    port = 3306, # 포트 번호\n",
    "    user = 'root', # 유저의 id\n",
    "    password = '1234', # 비밀번호 (비밀번호가 없을 시 '')\n",
    "    db = 'multicam'\n",
    "    \n",
    ")"
   ]
  },
  {
   "cell_type": "code",
   "execution_count": null,
   "id": "85ff1b61",
   "metadata": {},
   "outputs": [
    {
     "name": "stderr",
     "output_type": "stream",
     "text": [
      "ERROR: Could not find a version that satisfies the requirement cryptograhy (from versions: none)\n",
      "ERROR: No matching distribution found for cryptograhy\n"
     ]
    }
   ],
   "source": [
    "#cryptograhy 에러 발생 시\n",
    "# !pip install cryptograhy"
   ]
  },
  {
   "cell_type": "code",
   "execution_count": 3,
   "id": "045cb0a3",
   "metadata": {},
   "outputs": [],
   "source": [
    "# _db를 이용하여 Cursor 생성\n",
    "# 기본값으로 커서 생성 -> select문을 이용하여 데이터를 로드할 때 데이터의 타입이 tuple\n",
    "cursor = _db.cursor()\n",
    "# DictCursor 옵션을 사용해서 커서를 생성 -> select문을 이용하여 데이터를 로드할 때 데이터의 타입이 dict\n",
    "cursor2 = _db.cursor(pymysql.cursors.DictCursor)"
   ]
  },
  {
   "cell_type": "code",
   "execution_count": 4,
   "id": "b9d0ad35",
   "metadata": {},
   "outputs": [
    {
     "data": {
      "text/plain": [
       "14"
      ]
     },
     "execution_count": 4,
     "metadata": {},
     "output_type": "execute_result"
    }
   ],
   "source": [
    "# query문을 작성해서 커서에게 질의 보낸다.\n",
    "select_query = \"\"\"\n",
    "    select\n",
    "    *\n",
    "    from\n",
    "    `emp`\n",
    "\n",
    "\"\"\"\n",
    "\n",
    "# select_query를 커서에서 보낸다(Cursor.execute())\n",
    "cursor.execute(select_query)\n",
    "cursor2.execute(select_query)"
   ]
  },
  {
   "cell_type": "code",
   "execution_count": 5,
   "id": "de975fde",
   "metadata": {},
   "outputs": [
    {
     "data": {
      "text/plain": [
       "((7369.0, 'SMITH', 'CLERK', 7902.0, '1980-12-17', 800.0, 0.0, 20.0),\n",
       " (7499.0, 'ALLEN', 'SALESMAN', 7698.0, '1981-02-20', 1600.0, 300.0, 30.0),\n",
       " (7521.0, 'WARD', 'SALESMAN', 7698.0, '1981-02-22', 1250.0, 500.0, 30.0),\n",
       " (7566.0, 'JONES', 'MANAGER', 7839.0, '1981-04-02', 2975.0, 0.0, 20.0),\n",
       " (7654.0, 'MARTIN', 'SALESMAN', 7698.0, '1981-09-28', 1250.0, 1400.0, 30.0),\n",
       " (7698.0, 'BLAKE', 'MANAGER', 7839.0, '1981-05-01', 2850.0, 0.0, 30.0),\n",
       " (7782.0, 'CLARK', 'MANAGER', 7839.0, '1981-06-09', 2450.0, 0.0, 10.0),\n",
       " (7788.0, 'SCOTT', 'ANALYST', 7566.0, '1987-06-28', 3000.0, 0.0, 20.0),\n",
       " (7839.0, 'KING', 'PRESIDENT', 0.0, '1981-11-17', 5000.0, 0.0, 10.0),\n",
       " (7844.0, 'TURNER', 'SALESMAN', 7698.0, '1981-09-08', 1500.0, 0.0, 30.0),\n",
       " (7876.0, 'ADAMS', 'CLERK', 7788.0, '1987-07-13', 1100.0, 0.0, 20.0),\n",
       " (7900.0, 'JAMES', 'CLERK', 7698.0, '1981-12-03', 950.0, 0.0, 30.0),\n",
       " (7902.0, 'FORD', 'ANALYST', 7566.0, '1981-12-03', 3000.0, 0.0, 20.0),\n",
       " (7934.0, 'MILLER', 'CLERK', 7782.0, '1982-01-23', 1300.0, 0.0, 10.0))"
      ]
     },
     "execution_count": 5,
     "metadata": {},
     "output_type": "execute_result"
    }
   ],
   "source": [
    "cursor.fetchall()"
   ]
  },
  {
   "cell_type": "code",
   "execution_count": 6,
   "id": "d0b82b4e",
   "metadata": {},
   "outputs": [
    {
     "data": {
      "text/plain": [
       "[{'EMPNO': 7369.0,\n",
       "  'ENAME': 'SMITH',\n",
       "  'JOB': 'CLERK',\n",
       "  'MGR': 7902.0,\n",
       "  'HIREDATE': '1980-12-17',\n",
       "  'SAL': 800.0,\n",
       "  'COMM': 0.0,\n",
       "  'DEPTNO': 20.0},\n",
       " {'EMPNO': 7499.0,\n",
       "  'ENAME': 'ALLEN',\n",
       "  'JOB': 'SALESMAN',\n",
       "  'MGR': 7698.0,\n",
       "  'HIREDATE': '1981-02-20',\n",
       "  'SAL': 1600.0,\n",
       "  'COMM': 300.0,\n",
       "  'DEPTNO': 30.0},\n",
       " {'EMPNO': 7521.0,\n",
       "  'ENAME': 'WARD',\n",
       "  'JOB': 'SALESMAN',\n",
       "  'MGR': 7698.0,\n",
       "  'HIREDATE': '1981-02-22',\n",
       "  'SAL': 1250.0,\n",
       "  'COMM': 500.0,\n",
       "  'DEPTNO': 30.0},\n",
       " {'EMPNO': 7566.0,\n",
       "  'ENAME': 'JONES',\n",
       "  'JOB': 'MANAGER',\n",
       "  'MGR': 7839.0,\n",
       "  'HIREDATE': '1981-04-02',\n",
       "  'SAL': 2975.0,\n",
       "  'COMM': 0.0,\n",
       "  'DEPTNO': 20.0},\n",
       " {'EMPNO': 7654.0,\n",
       "  'ENAME': 'MARTIN',\n",
       "  'JOB': 'SALESMAN',\n",
       "  'MGR': 7698.0,\n",
       "  'HIREDATE': '1981-09-28',\n",
       "  'SAL': 1250.0,\n",
       "  'COMM': 1400.0,\n",
       "  'DEPTNO': 30.0},\n",
       " {'EMPNO': 7698.0,\n",
       "  'ENAME': 'BLAKE',\n",
       "  'JOB': 'MANAGER',\n",
       "  'MGR': 7839.0,\n",
       "  'HIREDATE': '1981-05-01',\n",
       "  'SAL': 2850.0,\n",
       "  'COMM': 0.0,\n",
       "  'DEPTNO': 30.0},\n",
       " {'EMPNO': 7782.0,\n",
       "  'ENAME': 'CLARK',\n",
       "  'JOB': 'MANAGER',\n",
       "  'MGR': 7839.0,\n",
       "  'HIREDATE': '1981-06-09',\n",
       "  'SAL': 2450.0,\n",
       "  'COMM': 0.0,\n",
       "  'DEPTNO': 10.0},\n",
       " {'EMPNO': 7788.0,\n",
       "  'ENAME': 'SCOTT',\n",
       "  'JOB': 'ANALYST',\n",
       "  'MGR': 7566.0,\n",
       "  'HIREDATE': '1987-06-28',\n",
       "  'SAL': 3000.0,\n",
       "  'COMM': 0.0,\n",
       "  'DEPTNO': 20.0},\n",
       " {'EMPNO': 7839.0,\n",
       "  'ENAME': 'KING',\n",
       "  'JOB': 'PRESIDENT',\n",
       "  'MGR': 0.0,\n",
       "  'HIREDATE': '1981-11-17',\n",
       "  'SAL': 5000.0,\n",
       "  'COMM': 0.0,\n",
       "  'DEPTNO': 10.0},\n",
       " {'EMPNO': 7844.0,\n",
       "  'ENAME': 'TURNER',\n",
       "  'JOB': 'SALESMAN',\n",
       "  'MGR': 7698.0,\n",
       "  'HIREDATE': '1981-09-08',\n",
       "  'SAL': 1500.0,\n",
       "  'COMM': 0.0,\n",
       "  'DEPTNO': 30.0},\n",
       " {'EMPNO': 7876.0,\n",
       "  'ENAME': 'ADAMS',\n",
       "  'JOB': 'CLERK',\n",
       "  'MGR': 7788.0,\n",
       "  'HIREDATE': '1987-07-13',\n",
       "  'SAL': 1100.0,\n",
       "  'COMM': 0.0,\n",
       "  'DEPTNO': 20.0},\n",
       " {'EMPNO': 7900.0,\n",
       "  'ENAME': 'JAMES',\n",
       "  'JOB': 'CLERK',\n",
       "  'MGR': 7698.0,\n",
       "  'HIREDATE': '1981-12-03',\n",
       "  'SAL': 950.0,\n",
       "  'COMM': 0.0,\n",
       "  'DEPTNO': 30.0},\n",
       " {'EMPNO': 7902.0,\n",
       "  'ENAME': 'FORD',\n",
       "  'JOB': 'ANALYST',\n",
       "  'MGR': 7566.0,\n",
       "  'HIREDATE': '1981-12-03',\n",
       "  'SAL': 3000.0,\n",
       "  'COMM': 0.0,\n",
       "  'DEPTNO': 20.0},\n",
       " {'EMPNO': 7934.0,\n",
       "  'ENAME': 'MILLER',\n",
       "  'JOB': 'CLERK',\n",
       "  'MGR': 7782.0,\n",
       "  'HIREDATE': '1982-01-23',\n",
       "  'SAL': 1300.0,\n",
       "  'COMM': 0.0,\n",
       "  'DEPTNO': 10.0}]"
      ]
     },
     "execution_count": 6,
     "metadata": {},
     "output_type": "execute_result"
    }
   ],
   "source": [
    "cursor2.fetchall()"
   ]
  },
  {
   "cell_type": "code",
   "execution_count": 7,
   "id": "d1af72ba",
   "metadata": {},
   "outputs": [
    {
     "ename": "IntegrityError",
     "evalue": "(1062, \"Duplicate entry 'test2' for key 'user_info.PRIMARY'\")",
     "output_type": "error",
     "traceback": [
      "\u001b[31m---------------------------------------------------------------------------\u001b[39m",
      "\u001b[31mIntegrityError\u001b[39m                            Traceback (most recent call last)",
      "\u001b[36mCell\u001b[39m\u001b[36m \u001b[39m\u001b[32mIn[7]\u001b[39m\u001b[32m, line 9\u001b[39m\n\u001b[32m      1\u001b[39m insert_query = \u001b[33m\"\"\"\u001b[39m\n\u001b[32m      2\u001b[39m \u001b[33m    insert into\u001b[39m\n\u001b[32m      3\u001b[39m \u001b[33m    `user_info`\u001b[39m\n\u001b[32m      4\u001b[39m \u001b[33m    values\u001b[39m\n\u001b[32m      5\u001b[39m \u001b[33m    (\u001b[39m\u001b[33m\"\u001b[39m\u001b[33mtest2\u001b[39m\u001b[33m\"\u001b[39m\u001b[33m, \u001b[39m\u001b[33m\"\u001b[39m\u001b[33m1234\u001b[39m\u001b[33m\"\u001b[39m\u001b[33m, \u001b[39m\u001b[33m\"\u001b[39m\u001b[33mpark\u001b[39m\u001b[33m\"\u001b[39m\u001b[33m, \u001b[39m\u001b[33m\"\u001b[39m\u001b[33m000101\u001b[39m\u001b[33m\"\u001b[39m\u001b[33m)\u001b[39m\n\u001b[32m      6\u001b[39m \u001b[33m\"\"\"\u001b[39m\n\u001b[32m      8\u001b[39m \u001b[38;5;66;03m# 커서에게 insert 질의를 보낸다.\u001b[39;00m\n\u001b[32m----> \u001b[39m\u001b[32m9\u001b[39m \u001b[43mcursor2\u001b[49m\u001b[43m.\u001b[49m\u001b[43mexecute\u001b[49m\u001b[43m(\u001b[49m\u001b[43minsert_query\u001b[49m\u001b[43m)\u001b[49m\n",
      "\u001b[36mFile \u001b[39m\u001b[32mc:\\Users\\abohv\\AppData\\Local\\Programs\\Python\\Python313\\Lib\\site-packages\\pymysql\\cursors.py:153\u001b[39m, in \u001b[36mCursor.execute\u001b[39m\u001b[34m(self, query, args)\u001b[39m\n\u001b[32m    149\u001b[39m     \u001b[38;5;28;01mpass\u001b[39;00m\n\u001b[32m    151\u001b[39m query = \u001b[38;5;28mself\u001b[39m.mogrify(query, args)\n\u001b[32m--> \u001b[39m\u001b[32m153\u001b[39m result = \u001b[38;5;28;43mself\u001b[39;49m\u001b[43m.\u001b[49m\u001b[43m_query\u001b[49m\u001b[43m(\u001b[49m\u001b[43mquery\u001b[49m\u001b[43m)\u001b[49m\n\u001b[32m    154\u001b[39m \u001b[38;5;28mself\u001b[39m._executed = query\n\u001b[32m    155\u001b[39m \u001b[38;5;28;01mreturn\u001b[39;00m result\n",
      "\u001b[36mFile \u001b[39m\u001b[32mc:\\Users\\abohv\\AppData\\Local\\Programs\\Python\\Python313\\Lib\\site-packages\\pymysql\\cursors.py:322\u001b[39m, in \u001b[36mCursor._query\u001b[39m\u001b[34m(self, q)\u001b[39m\n\u001b[32m    320\u001b[39m conn = \u001b[38;5;28mself\u001b[39m._get_db()\n\u001b[32m    321\u001b[39m \u001b[38;5;28mself\u001b[39m._clear_result()\n\u001b[32m--> \u001b[39m\u001b[32m322\u001b[39m \u001b[43mconn\u001b[49m\u001b[43m.\u001b[49m\u001b[43mquery\u001b[49m\u001b[43m(\u001b[49m\u001b[43mq\u001b[49m\u001b[43m)\u001b[49m\n\u001b[32m    323\u001b[39m \u001b[38;5;28mself\u001b[39m._do_get_result()\n\u001b[32m    324\u001b[39m \u001b[38;5;28;01mreturn\u001b[39;00m \u001b[38;5;28mself\u001b[39m.rowcount\n",
      "\u001b[36mFile \u001b[39m\u001b[32mc:\\Users\\abohv\\AppData\\Local\\Programs\\Python\\Python313\\Lib\\site-packages\\pymysql\\connections.py:575\u001b[39m, in \u001b[36mConnection.query\u001b[39m\u001b[34m(self, sql, unbuffered)\u001b[39m\n\u001b[32m    573\u001b[39m     sql = sql.encode(\u001b[38;5;28mself\u001b[39m.encoding, \u001b[33m\"\u001b[39m\u001b[33msurrogateescape\u001b[39m\u001b[33m\"\u001b[39m)\n\u001b[32m    574\u001b[39m \u001b[38;5;28mself\u001b[39m._execute_command(COMMAND.COM_QUERY, sql)\n\u001b[32m--> \u001b[39m\u001b[32m575\u001b[39m \u001b[38;5;28mself\u001b[39m._affected_rows = \u001b[38;5;28;43mself\u001b[39;49m\u001b[43m.\u001b[49m\u001b[43m_read_query_result\u001b[49m\u001b[43m(\u001b[49m\u001b[43munbuffered\u001b[49m\u001b[43m=\u001b[49m\u001b[43munbuffered\u001b[49m\u001b[43m)\u001b[49m\n\u001b[32m    576\u001b[39m \u001b[38;5;28;01mreturn\u001b[39;00m \u001b[38;5;28mself\u001b[39m._affected_rows\n",
      "\u001b[36mFile \u001b[39m\u001b[32mc:\\Users\\abohv\\AppData\\Local\\Programs\\Python\\Python313\\Lib\\site-packages\\pymysql\\connections.py:826\u001b[39m, in \u001b[36mConnection._read_query_result\u001b[39m\u001b[34m(self, unbuffered)\u001b[39m\n\u001b[32m    824\u001b[39m     result.init_unbuffered_query()\n\u001b[32m    825\u001b[39m \u001b[38;5;28;01melse\u001b[39;00m:\n\u001b[32m--> \u001b[39m\u001b[32m826\u001b[39m     \u001b[43mresult\u001b[49m\u001b[43m.\u001b[49m\u001b[43mread\u001b[49m\u001b[43m(\u001b[49m\u001b[43m)\u001b[49m\n\u001b[32m    827\u001b[39m \u001b[38;5;28mself\u001b[39m._result = result\n\u001b[32m    828\u001b[39m \u001b[38;5;28;01mif\u001b[39;00m result.server_status \u001b[38;5;129;01mis\u001b[39;00m \u001b[38;5;129;01mnot\u001b[39;00m \u001b[38;5;28;01mNone\u001b[39;00m:\n",
      "\u001b[36mFile \u001b[39m\u001b[32mc:\\Users\\abohv\\AppData\\Local\\Programs\\Python\\Python313\\Lib\\site-packages\\pymysql\\connections.py:1203\u001b[39m, in \u001b[36mMySQLResult.read\u001b[39m\u001b[34m(self)\u001b[39m\n\u001b[32m   1201\u001b[39m \u001b[38;5;28;01mdef\u001b[39;00m\u001b[38;5;250m \u001b[39m\u001b[34mread\u001b[39m(\u001b[38;5;28mself\u001b[39m):\n\u001b[32m   1202\u001b[39m     \u001b[38;5;28;01mtry\u001b[39;00m:\n\u001b[32m-> \u001b[39m\u001b[32m1203\u001b[39m         first_packet = \u001b[38;5;28;43mself\u001b[39;49m\u001b[43m.\u001b[49m\u001b[43mconnection\u001b[49m\u001b[43m.\u001b[49m\u001b[43m_read_packet\u001b[49m\u001b[43m(\u001b[49m\u001b[43m)\u001b[49m\n\u001b[32m   1205\u001b[39m         \u001b[38;5;28;01mif\u001b[39;00m first_packet.is_ok_packet():\n\u001b[32m   1206\u001b[39m             \u001b[38;5;28mself\u001b[39m._read_ok_packet(first_packet)\n",
      "\u001b[36mFile \u001b[39m\u001b[32mc:\\Users\\abohv\\AppData\\Local\\Programs\\Python\\Python313\\Lib\\site-packages\\pymysql\\connections.py:782\u001b[39m, in \u001b[36mConnection._read_packet\u001b[39m\u001b[34m(self, packet_type)\u001b[39m\n\u001b[32m    780\u001b[39m     \u001b[38;5;28;01mif\u001b[39;00m \u001b[38;5;28mself\u001b[39m._result \u001b[38;5;129;01mis\u001b[39;00m \u001b[38;5;129;01mnot\u001b[39;00m \u001b[38;5;28;01mNone\u001b[39;00m \u001b[38;5;129;01mand\u001b[39;00m \u001b[38;5;28mself\u001b[39m._result.unbuffered_active \u001b[38;5;129;01mis\u001b[39;00m \u001b[38;5;28;01mTrue\u001b[39;00m:\n\u001b[32m    781\u001b[39m         \u001b[38;5;28mself\u001b[39m._result.unbuffered_active = \u001b[38;5;28;01mFalse\u001b[39;00m\n\u001b[32m--> \u001b[39m\u001b[32m782\u001b[39m     \u001b[43mpacket\u001b[49m\u001b[43m.\u001b[49m\u001b[43mraise_for_error\u001b[49m\u001b[43m(\u001b[49m\u001b[43m)\u001b[49m\n\u001b[32m    783\u001b[39m \u001b[38;5;28;01mreturn\u001b[39;00m packet\n",
      "\u001b[36mFile \u001b[39m\u001b[32mc:\\Users\\abohv\\AppData\\Local\\Programs\\Python\\Python313\\Lib\\site-packages\\pymysql\\protocol.py:219\u001b[39m, in \u001b[36mMysqlPacket.raise_for_error\u001b[39m\u001b[34m(self)\u001b[39m\n\u001b[32m    217\u001b[39m \u001b[38;5;28;01mif\u001b[39;00m DEBUG:\n\u001b[32m    218\u001b[39m     \u001b[38;5;28mprint\u001b[39m(\u001b[33m\"\u001b[39m\u001b[33merrno =\u001b[39m\u001b[33m\"\u001b[39m, errno)\n\u001b[32m--> \u001b[39m\u001b[32m219\u001b[39m \u001b[43merr\u001b[49m\u001b[43m.\u001b[49m\u001b[43mraise_mysql_exception\u001b[49m\u001b[43m(\u001b[49m\u001b[38;5;28;43mself\u001b[39;49m\u001b[43m.\u001b[49m\u001b[43m_data\u001b[49m\u001b[43m)\u001b[49m\n",
      "\u001b[36mFile \u001b[39m\u001b[32mc:\\Users\\abohv\\AppData\\Local\\Programs\\Python\\Python313\\Lib\\site-packages\\pymysql\\err.py:150\u001b[39m, in \u001b[36mraise_mysql_exception\u001b[39m\u001b[34m(data)\u001b[39m\n\u001b[32m    148\u001b[39m \u001b[38;5;28;01mif\u001b[39;00m errorclass \u001b[38;5;129;01mis\u001b[39;00m \u001b[38;5;28;01mNone\u001b[39;00m:\n\u001b[32m    149\u001b[39m     errorclass = InternalError \u001b[38;5;28;01mif\u001b[39;00m errno < \u001b[32m1000\u001b[39m \u001b[38;5;28;01melse\u001b[39;00m OperationalError\n\u001b[32m--> \u001b[39m\u001b[32m150\u001b[39m \u001b[38;5;28;01mraise\u001b[39;00m errorclass(errno, errval)\n",
      "\u001b[31mIntegrityError\u001b[39m: (1062, \"Duplicate entry 'test2' for key 'user_info.PRIMARY'\")"
     ]
    }
   ],
   "source": [
    "insert_query = \"\"\"\n",
    "    insert into\n",
    "    `user_info`\n",
    "    values\n",
    "    (\"test2\", \"1234\", \"park\", \"000101\")\n",
    "\"\"\"\n",
    "\n",
    "# 커서에게 insert 질의를 보낸다.\n",
    "cursor2.execute(insert_query)"
   ]
  },
  {
   "cell_type": "code",
   "execution_count": 8,
   "id": "15c2cb50",
   "metadata": {},
   "outputs": [
    {
     "data": {
      "text/plain": [
       "[{'id': 'test', 'password': '1234', 'name': 'kim', 'brith': '900101'},\n",
       " {'id': 'test2', 'password': '1234', 'name': 'park', 'brith': '000101'}]"
      ]
     },
     "execution_count": 8,
     "metadata": {},
     "output_type": "execute_result"
    }
   ],
   "source": [
    "select_query2 = \"\"\"\n",
    "select * from `user_info`\n",
    "\"\"\"\n",
    "cursor2.execute(select_query2)\n",
    "cursor2.fetchall()"
   ]
  },
  {
   "cell_type": "code",
   "execution_count": 9,
   "id": "3f8e8fa5",
   "metadata": {},
   "outputs": [],
   "source": [
    "# 현재까지의 작업은 커서(가상공간)에 대이터의 변화만 존재"
   ]
  },
  {
   "cell_type": "code",
   "execution_count": 10,
   "id": "03ca9c44",
   "metadata": {},
   "outputs": [],
   "source": [
    "# cursor와 DBserver와의 동기화\n",
    "_db.commit()"
   ]
  },
  {
   "cell_type": "code",
   "execution_count": 11,
   "id": "17ec825e",
   "metadata": {},
   "outputs": [],
   "source": [
    "# 데이터베이스와의 연결 종료\n",
    "_db.close()"
   ]
  },
  {
   "cell_type": "markdown",
   "id": "a0208882",
   "metadata": {},
   "source": [
    "_bd = 서브웨이  \n",
    ".close() = 자리를 치우고 나감\n",
    "\n",
    "- 종료를 하지 않는다. -> 자리를 죽치고 앉아있는다. ==> 빨리 좀 먹고 나가라\n",
    "- http, https -> 포장주문"
   ]
  },
  {
   "cell_type": "code",
   "execution_count": null,
   "id": "acd57971",
   "metadata": {},
   "outputs": [],
   "source": []
  },
  {
   "cell_type": "code",
   "execution_count": null,
   "id": "73be9fd9",
   "metadata": {},
   "outputs": [],
   "source": []
  },
  {
   "cell_type": "code",
   "execution_count": null,
   "id": "cbbf6d68",
   "metadata": {},
   "outputs": [],
   "source": []
  },
  {
   "cell_type": "code",
   "execution_count": null,
   "id": "e54c2613",
   "metadata": {},
   "outputs": [],
   "source": []
  },
  {
   "cell_type": "code",
   "execution_count": null,
   "id": "a50f1429",
   "metadata": {},
   "outputs": [],
   "source": []
  },
  {
   "cell_type": "code",
   "execution_count": null,
   "id": "d25ab140",
   "metadata": {},
   "outputs": [],
   "source": []
  },
  {
   "cell_type": "code",
   "execution_count": null,
   "id": "77b12b7c",
   "metadata": {},
   "outputs": [],
   "source": []
  }
 ],
 "metadata": {
  "kernelspec": {
   "display_name": "Python 3",
   "language": "python",
   "name": "python3"
  },
  "language_info": {
   "codemirror_mode": {
    "name": "ipython",
    "version": 3
   },
   "file_extension": ".py",
   "mimetype": "text/x-python",
   "name": "python",
   "nbconvert_exporter": "python",
   "pygments_lexer": "ipython3",
   "version": "3.13.7"
  }
 },
 "nbformat": 4,
 "nbformat_minor": 5
}
