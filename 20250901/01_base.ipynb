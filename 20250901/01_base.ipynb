{
 "cells": [
  {
   "cell_type": "code",
   "execution_count": 1,
   "id": "40ac6029",
   "metadata": {},
   "outputs": [],
   "source": [
    "# map() -> 1차원 데이터를 각각 원소별 변환 필요할 때 사용\n",
    "# map (함수, 1차원 데이터)\n",
    "\n",
    "list_a = [1, 2, 3, 4, 5]\n",
    "# list_a에서 각각의 원소들에 제곱을 한 새로운 리스트 생성해보자\n",
    "# casel\n",
    "# for문\n",
    "new_list = []\n",
    "for i in list_a:\n",
    "    # i는? -> list_a의 원소 값 (1, 2, 3, 4, 5)\n",
    "    new_list.append(i ** 2)\n",
    "# for i in range(len(list_a)):\n",
    "#     i는 -> list_a의 위치 값 (0, 1, 2, 3, 4)\n",
    "#    new_list.append(\n",
    "#        list_a[i]**2\n",
    "#    )\n",
    "\n"
   ]
  },
  {
   "cell_type": "code",
   "execution_count": 2,
   "id": "d52bdf84",
   "metadata": {},
   "outputs": [
    {
     "data": {
      "text/plain": [
       "[1, 4, 9, 16, 25]"
      ]
     },
     "execution_count": 2,
     "metadata": {},
     "output_type": "execute_result"
    }
   ],
   "source": [
    "# case2\n",
    "# while문\n",
    "#while 조건식\n",
    "# 조건식이 들어가는 부분은 bool형태\n",
    "# bool형태가 아닌 데이터가 들어오면 강제로 bool형태로 변환 \n",
    "\n",
    "new_list2 = []\n",
    "i = 0\n",
    "\n",
    "while(i<len(list_a)):\n",
    "    new_list2.append(\n",
    "        list_a[i] **2\n",
    "    )\n",
    "    i += 1\n",
    "    \n",
    "new_list2"
   ]
  },
  {
   "cell_type": "code",
   "execution_count": 3,
   "id": "10a277c4",
   "metadata": {},
   "outputs": [
    {
     "data": {
      "text/plain": [
       "[1, 4, 9, 16, 25]"
      ]
     },
     "execution_count": 3,
     "metadata": {},
     "output_type": "execute_result"
    }
   ],
   "source": [
    "# while 조건식\n",
    "# 조건식은 -> 초기값을 지정하고 초기값이 list_a의 길이보다 작을 때까지\n",
    "# 조건식은 -> 무한 -> 초기값이 list_a의 길이와 같을 때 반복문 강제 종료\n",
    "#                -> 에러가 발생한다면 반복문을 강제 종료\n",
    "\n",
    "# 초기값을 지정\n",
    "i=0\n",
    "# 빈 리스트 생성\n",
    "new_list3 = []\n",
    "\n",
    "# while i < len(list_a):\n",
    "#     new_list3.append(\n",
    "#         list_a[i] ** 2\n",
    "#     )\n",
    "#     #i를 1씩 증가시킨다.\n",
    "#     i += 1\n",
    "\n",
    "while True:\n",
    "    new_list3.append(\n",
    "        list_a[i] ** 2\n",
    "    )\n",
    "    \n",
    "    i += 1\n",
    "    \n",
    "    if i >= len(list_a):\n",
    "        break\n",
    "    \n",
    "    \n",
    "new_list3"
   ]
  },
  {
   "cell_type": "code",
   "execution_count": 4,
   "id": "7a330395",
   "metadata": {},
   "outputs": [
    {
     "data": {
      "text/plain": [
       "[1, 4, 9, 16, 25]"
      ]
     },
     "execution_count": 4,
     "metadata": {},
     "output_type": "execute_result"
    }
   ],
   "source": [
    "new_list4 = []\n",
    "i=0\n",
    "\n",
    "while True:\n",
    "    try:\n",
    "        new_list4.append(\n",
    "            list_a[i] ** 2\n",
    "        )\n",
    "        i+=1\n",
    "    except:\n",
    "        break\n",
    "    \n",
    "new_list4"
   ]
  },
  {
   "cell_type": "code",
   "execution_count": 5,
   "id": "e8a352ba",
   "metadata": {},
   "outputs": [
    {
     "data": {
      "text/plain": [
       "[1, 4, 9, 16, 25]"
      ]
     },
     "execution_count": 5,
     "metadata": {},
     "output_type": "execute_result"
    }
   ],
   "source": [
    "# map() 함수를 이용\n",
    "# map() + 일반 함수\n",
    "\n",
    "def func_1(x):\n",
    "    result = x ** 2\n",
    "    return result\n",
    "\n",
    "# map() -> list_a의 데이터들은 각각 func_1 함수에 대입하여 새로운 결과를 만든다.\n",
    "list(\n",
    "    map(\n",
    "        func_1,\n",
    "        list_a\n",
    "    )\n",
    ")"
   ]
  },
  {
   "cell_type": "code",
   "execution_count": 6,
   "id": "01d08217",
   "metadata": {},
   "outputs": [
    {
     "data": {
      "text/plain": [
       "[1, 4, 9, 16, 25]"
      ]
     },
     "execution_count": 6,
     "metadata": {},
     "output_type": "execute_result"
    }
   ],
   "source": [
    "# lambda + map()\n",
    "# lambda 매개변수: 매개변수를 변환하는 코드 ( return 필요x )\n",
    "\n",
    "list (\n",
    "    map(\n",
    "        lambda x : x ** 2,\n",
    "        list_a\n",
    "    )\n",
    ")"
   ]
  },
  {
   "cell_type": "code",
   "execution_count": 7,
   "id": "00759ef8",
   "metadata": {},
   "outputs": [
    {
     "data": {
      "text/plain": [
       "[6, 6, 6, 6, 6]"
      ]
     },
     "execution_count": 7,
     "metadata": {},
     "output_type": "execute_result"
    }
   ],
   "source": [
    "\n",
    "# map() 함수에는 첫 번째 인자는 함수로 고정\n",
    "# 두번째 인자부터는 1차원 데이터읙 가변의 매개변수\n",
    "\n",
    "list (\n",
    "    map(\n",
    "        lambda x, y : x + y,\n",
    "        [1,2,3,4,5],\n",
    "        [5,4,3,2,1]\n",
    "    )\n",
    ")"
   ]
  },
  {
   "cell_type": "code",
   "execution_count": null,
   "id": "19df9ca4",
   "metadata": {},
   "outputs": [
    {
     "data": {
      "text/plain": [
       "[6, 6, 6, 6, 6]"
      ]
     },
     "execution_count": 8,
     "metadata": {},
     "output_type": "execute_result"
    }
   ],
   "source": [
    "# 위의 map 함수가 하는 기능을 반복문으로 작성한다면?\n",
    "\n",
    "list_1 = [1,2,3,4,5]\n",
    "list_2 = [5,4,3,2,1]\n",
    "\n",
    "new_list5 = []\n",
    "\n",
    "for i in range(len(list_1)):\n",
    "    new_list5.append(\n",
    "        list_1[i] + list_2[i]\n",
    "    )\n",
    "    \n",
    "new_list5"
   ]
  },
  {
   "cell_type": "code",
   "execution_count": 9,
   "id": "1a2a4679",
   "metadata": {},
   "outputs": [
    {
     "data": {
      "text/plain": [
       "[6, 6, 6, 6, 6]"
      ]
     },
     "execution_count": 9,
     "metadata": {},
     "output_type": "execute_result"
    }
   ],
   "source": [
    "new_list6 = []\n",
    "\n",
    "for x,y in zip(list_1, list_2):\n",
    "    new_list6.append(x+y)\n",
    "    \n",
    "new_list5"
   ]
  },
  {
   "cell_type": "code",
   "execution_count": 12,
   "id": "16823bb0",
   "metadata": {},
   "outputs": [
    {
     "data": {
      "text/plain": [
       "[(1, 5), (2, 4), (3, 3), (4, 2), (5, 1)]"
      ]
     },
     "execution_count": 12,
     "metadata": {},
     "output_type": "execute_result"
    }
   ],
   "source": [
    "list(\n",
    "    zip(list_1, list_2)\n",
    ")"
   ]
  },
  {
   "cell_type": "code",
   "execution_count": 13,
   "id": "5e385b0e",
   "metadata": {},
   "outputs": [],
   "source": [
    "# map(), zip() 함수를 확인하여 0x...과 같은 출력 생성\n",
    "class A:\n",
    "    def __init__(self, _x):\n",
    "        self.x = _x\n",
    "        \n",
    "    "
   ]
  },
  {
   "cell_type": "code",
   "execution_count": 16,
   "id": "3750e7d1",
   "metadata": {},
   "outputs": [],
   "source": [
    "class_a = A(10)"
   ]
  },
  {
   "cell_type": "code",
   "execution_count": 18,
   "id": "715a0214",
   "metadata": {},
   "outputs": [
    {
     "data": {
      "text/plain": [
       "<__main__.A at 0x23f6af40e10>"
      ]
     },
     "execution_count": 18,
     "metadata": {},
     "output_type": "execute_result"
    }
   ],
   "source": [
    "# 일반적으로 생성된 클래스는 주소값 확인이 가능\n",
    "class_a"
   ]
  },
  {
   "cell_type": "code",
   "execution_count": 20,
   "id": "c211cb79",
   "metadata": {},
   "outputs": [],
   "source": [
    "class B:\n",
    "    def __init__(self, _x):\n",
    "        self.x = _x\n",
    "    def __repr__(self):\n",
    "        return str(self.x)"
   ]
  },
  {
   "cell_type": "code",
   "execution_count": 21,
   "id": "5c119590",
   "metadata": {},
   "outputs": [],
   "source": [
    "class_b = B(20)"
   ]
  },
  {
   "cell_type": "code",
   "execution_count": 22,
   "id": "51aaeaeb",
   "metadata": {},
   "outputs": [
    {
     "data": {
      "text/plain": [
       "20"
      ]
     },
     "execution_count": 22,
     "metadata": {},
     "output_type": "execute_result"
    }
   ],
   "source": [
    "class_b"
   ]
  },
  {
   "cell_type": "markdown",
   "id": "eeac1da9",
   "metadata": {},
   "source": [
    "#### 연습\n",
    "- 함수(func_2) 생성\n",
    "    - 매개변수 1개 -> n (기본값이 존재x)\n",
    "    - n 팩터리얼의 값을 되돌려주는 함수"
   ]
  },
  {
   "cell_type": "code",
   "execution_count": 28,
   "id": "28d1398f",
   "metadata": {},
   "outputs": [],
   "source": [
    "# 함수 생성 -> 매개변수, 함수의 결과에 대한 힌트를 포함\n",
    "def func_2( n : int ) -> int :\n",
    "    # 1부터 시작해서 자기 자신까지 1씩 증가시면서 누적 곱\n",
    "    result = 1\n",
    "    for i in range (2,n+1):\n",
    "        result *= i\n",
    "    return result\n"
   ]
  },
  {
   "cell_type": "code",
   "execution_count": 29,
   "id": "84918510",
   "metadata": {},
   "outputs": [
    {
     "data": {
      "text/plain": [
       "120"
      ]
     },
     "execution_count": 29,
     "metadata": {},
     "output_type": "execute_result"
    }
   ],
   "source": [
    "func_2(5)"
   ]
  },
  {
   "cell_type": "code",
   "execution_count": 23,
   "id": "b5a588d6",
   "metadata": {},
   "outputs": [],
   "source": [
    "def func_2(n):\n",
    "    result = 1\n",
    "    for i in range(n):\n",
    "        result *= i+1\n",
    "        \n",
    "    return result"
   ]
  },
  {
   "cell_type": "code",
   "execution_count": 24,
   "id": "48a27688",
   "metadata": {},
   "outputs": [
    {
     "data": {
      "text/plain": [
       "120"
      ]
     },
     "execution_count": 24,
     "metadata": {},
     "output_type": "execute_result"
    }
   ],
   "source": [
    "func_2(5)"
   ]
  },
  {
   "cell_type": "code",
   "execution_count": 30,
   "id": "fbaa96ed",
   "metadata": {},
   "outputs": [],
   "source": [
    "def func_3(n : int) -> int :\n",
    "    result = n\n",
    "    for i in range(n-1,1,-1):\n",
    "        result *= i\n",
    "    return result"
   ]
  },
  {
   "cell_type": "code",
   "execution_count": 31,
   "id": "80d19871",
   "metadata": {},
   "outputs": [
    {
     "data": {
      "text/plain": [
       "720"
      ]
     },
     "execution_count": 31,
     "metadata": {},
     "output_type": "execute_result"
    }
   ],
   "source": [
    "func_3(6)"
   ]
  },
  {
   "cell_type": "code",
   "execution_count": 25,
   "id": "c7a9fcc3",
   "metadata": {},
   "outputs": [
    {
     "data": {
      "text/plain": [
       "6"
      ]
     },
     "execution_count": 25,
     "metadata": {},
     "output_type": "execute_result"
    }
   ],
   "source": [
    "func_2(3)"
   ]
  },
  {
   "cell_type": "code",
   "execution_count": 26,
   "id": "55c15157",
   "metadata": {},
   "outputs": [
    {
     "data": {
      "text/plain": [
       "720"
      ]
     },
     "execution_count": 26,
     "metadata": {},
     "output_type": "execute_result"
    }
   ],
   "source": [
    "func_2(6)"
   ]
  },
  {
   "cell_type": "markdown",
   "id": "e17db49e",
   "metadata": {},
   "source": [
    "### 재귀 함수\n",
    "- 어떤 이벤트에서 자기 자신을 포함하고 다시 자기 자신을 사용하여 정의되는 것을 의미\n",
    "- 재귀를 효과적으로 사용하면 프로그램을 간결하고 효율성이 좋게 작성이 가능"
   ]
  },
  {
   "cell_type": "code",
   "execution_count": 46,
   "id": "ab2b3c68",
   "metadata": {},
   "outputs": [],
   "source": [
    "def func_4(n:int) -> int:\n",
    "    if n > 0:\n",
    "        return n * func_4(n-1)\n",
    "    else:\n",
    "        return 1"
   ]
  },
  {
   "cell_type": "code",
   "execution_count": 47,
   "id": "d4973279",
   "metadata": {},
   "outputs": [
    {
     "data": {
      "text/plain": [
       "120"
      ]
     },
     "execution_count": 47,
     "metadata": {},
     "output_type": "execute_result"
    }
   ],
   "source": [
    "func_4(5)"
   ]
  },
  {
   "cell_type": "code",
   "execution_count": 48,
   "id": "8ca7ac8c",
   "metadata": {},
   "outputs": [],
   "source": [
    "# list에 내장된 reverse() 함수를 생성\n",
    "def list_reverse(_x:list)->list:\n",
    "    #가장 마지막에 데이터를 추출하여 새로운 리스트의 추가\n",
    "    result = []\n",
    "    \n",
    "    for i in range(1, len(_x) + 1):\n",
    "        result.append(\n",
    "            _x[-i]\n",
    "        )\n",
    "    return result"
   ]
  },
  {
   "cell_type": "code",
   "execution_count": 58,
   "id": "da53aa4d",
   "metadata": {},
   "outputs": [],
   "source": [
    "test_list = [1,2,3,4,5]"
   ]
  },
  {
   "cell_type": "code",
   "execution_count": 52,
   "id": "1ec4c774",
   "metadata": {},
   "outputs": [
    {
     "data": {
      "text/plain": [
       "[5, 4, 3, 2, 1]"
      ]
     },
     "execution_count": 52,
     "metadata": {},
     "output_type": "execute_result"
    }
   ],
   "source": [
    "list_reverse(test_list)"
   ]
  },
  {
   "cell_type": "code",
   "execution_count": 59,
   "id": "b63f2914",
   "metadata": {},
   "outputs": [],
   "source": [
    "def list_reverse2(_x):\n",
    "    # _x의 목사본 생성\n",
    "    result = _x.copy()\n",
    "    for i in range(len(result)//2):\n",
    "        result[i], result[-1-i] = result[-1-i], result[i]\n",
    "    return result"
   ]
  },
  {
   "cell_type": "code",
   "execution_count": 60,
   "id": "ef8c26d3",
   "metadata": {},
   "outputs": [
    {
     "data": {
      "text/plain": [
       "[5, 4, 3, 2, 1]"
      ]
     },
     "execution_count": 60,
     "metadata": {},
     "output_type": "execute_result"
    }
   ],
   "source": [
    "list_reverse2(test_list)"
   ]
  },
  {
   "cell_type": "code",
   "execution_count": 61,
   "id": "c156b293",
   "metadata": {},
   "outputs": [
    {
     "data": {
      "text/plain": [
       "[1, 2, 3, 4, 5]"
      ]
     },
     "execution_count": 61,
     "metadata": {},
     "output_type": "execute_result"
    }
   ],
   "source": [
    "test_list"
   ]
  },
  {
   "cell_type": "markdown",
   "id": "008d19fa",
   "metadata": {},
   "source": [
    "### 연습\n",
    "- find함수 만들기\n",
    "- 매개변수 2개 -> data(str, list), 찾는 단어(word)\n",
    "- 해당 문자 및 단어의 위치를 전부 찾아주는 코드\n",
    "- 찾는 _word가 여러개라면 여러개를 동시에 출력\n",
    "- 찾는 _word가 존재하지 않는다면 () 출력"
   ]
  },
  {
   "cell_type": "code",
   "execution_count": null,
   "id": "8183ddae",
   "metadata": {},
   "outputs": [],
   "source": [
    "def c_find(_x, _word):\n",
    "    index_list = []\n",
    "    for i in range(len(_x)):\n",
    "        if _x[i] == _word:\n",
    "            index_list.append(i)\n",
    "    return index_list\n"
   ]
  },
  {
   "cell_type": "markdown",
   "id": "49d18f30",
   "metadata": {},
   "source": [
    "## 튜플과 리스트 반환"
   ]
  },
  {
   "cell_type": "code",
   "execution_count": 132,
   "id": "6e8ca9e1",
   "metadata": {},
   "outputs": [],
   "source": [
    "# find(), index() 함수를 모른다는 기준으로 함수 구성\n",
    "def c_find(_data, _word):\n",
    "    # index들이 저장될 공간을 설정\n",
    "    result = []\n",
    "    result2 = ()\n",
    "    \n",
    "    for i in range(len(_data)):\n",
    "        #_data가 문자인가>? -> 변수의 타입이 무엇인가?\n",
    "        if type(_data) == str:\n",
    "            flag = _data[i: i + len(_word)] == _word\n",
    "        else:\n",
    "            flag = _data[i] == _word\n",
    "        \n",
    "        if flag:\n",
    "            # list 데이터에서 데이터를 추가할 때\n",
    "            result.append(i)\n",
    "            # result2는 tuple에 데이터를 추가..??\n",
    "            # -> 튜플 + 튜플 = 튜플튜플  ==> 이것을 활용하여 새로운 튜플을 만드는 것으로 만들 수 있다.\n",
    "            # 튜플 클래스의 매개변수가 데이터의 위치를 받아야 하는데 int의 경우 숫자만 입력받기 때문에 오류 발생 ==> (1, ): 강제로 위치를 생성 / ([i]) : list형태로 자동 위치 설정\n",
    "            result2 += tuple([i])\n",
    "    \n",
    "    print(result)\n",
    "    print(result2)\n",
    "    return "
   ]
  },
  {
   "cell_type": "code",
   "execution_count": 133,
   "id": "075b6f27",
   "metadata": {},
   "outputs": [
    {
     "name": "stdout",
     "output_type": "stream",
     "text": [
      "[1]\n",
      "(1,)\n"
     ]
    }
   ],
   "source": [
    "c_find('apple', 'pp')"
   ]
  },
  {
   "cell_type": "code",
   "execution_count": 134,
   "id": "1f28f816",
   "metadata": {},
   "outputs": [
    {
     "name": "stdout",
     "output_type": "stream",
     "text": [
      "[1, 2]\n",
      "(1, 2)\n"
     ]
    }
   ],
   "source": [
    "c_find('apple', 'p')"
   ]
  },
  {
   "cell_type": "code",
   "execution_count": 135,
   "id": "01bc6eb7",
   "metadata": {},
   "outputs": [
    {
     "name": "stdout",
     "output_type": "stream",
     "text": [
      "[0, 4]\n",
      "(0, 4)\n"
     ]
    }
   ],
   "source": [
    "c_find(['a', 'b', 'c', 'd', 'a'], 'a')\n"
   ]
  },
  {
   "cell_type": "code",
   "execution_count": 136,
   "id": "f2adbfd4",
   "metadata": {},
   "outputs": [
    {
     "name": "stdout",
     "output_type": "stream",
     "text": [
      "[]\n",
      "()\n"
     ]
    }
   ],
   "source": [
    "c_find('apple', 'b')"
   ]
  },
  {
   "cell_type": "code",
   "execution_count": 130,
   "id": "6bdbae92",
   "metadata": {},
   "outputs": [
    {
     "data": {
      "text/plain": [
       "'e'"
      ]
     },
     "execution_count": 130,
     "metadata": {},
     "output_type": "execute_result"
    }
   ],
   "source": [
    "'apple'[4:6]"
   ]
  },
  {
   "cell_type": "code",
   "execution_count": 141,
   "id": "e558c8fe",
   "metadata": {},
   "outputs": [
    {
     "data": {
      "text/plain": [
       "1"
      ]
     },
     "execution_count": 141,
     "metadata": {},
     "output_type": "execute_result"
    }
   ],
   "source": [
    "'apple'.find('p')"
   ]
  },
  {
   "cell_type": "markdown",
   "id": "188f10a1",
   "metadata": {},
   "source": [
    "#### 연습\n",
    "- 소수를 구하는 함수를 생성하시오\n",
    "    - 매개변수 : 2개(_start(기본값2), _end(기본값100))\n",
    "    - 소수란?\n",
    "        - 1과 자기 자신을 이외에는 나누어 떨어지지 않는 수를 의미\n",
    "        - 조건 : 2부터 시작해서 (자기 자신 - 1)까지 어떤 정수로도 나누어 떨어지지 않는다.\n",
    "    - _start부터 _end까지의 수를 반복하여 소수인 데이터를 비어있는 리스트에 추가하여 결과를 되돌려준다.\n",
    "    - 소수의 리스트와 반복 횟수를 되돌려준다."
   ]
  },
  {
   "cell_type": "code",
   "execution_count": null,
   "id": "9b2e9810",
   "metadata": {},
   "outputs": [],
   "source": [
    "# 소수가 들어갈 비어있는 리스트를 생성\n",
    "\n",
    "# 반복문을 이용하여 _start부터 _end + 까지 반복\n",
    "\n",
    "    # 2부터 자기 자신의 -1까지 반복을 하는 반복문 생성\n",
    "        # 반복횟수를 1씩 증가\n",
    "        \n",
    "        # 나눠서 나머지가 0인가 체크 (조건문)\n",
    "        \n",
    "            # 참이라면 반복문을 종료\n",
    "            \n",
    "    # 조건문이 거짓이라면\n",
    "    \n",
    "        # 소수 리스트에 추가\n",
    "        \n",
    "    # 소수의 리스트와 반복횟수를 되돌려준다."
   ]
  },
  {
   "cell_type": "code",
   "execution_count": null,
   "id": "8784a421",
   "metadata": {},
   "outputs": [],
   "source": [
    "def prime_num(_start=2, _end=100):\n",
    "    prime_list = []\n",
    "    total_rotation = 0\n",
    "    for i in range(_start, _end + 1):\n",
    "        # 짝수는 2를 제외한 나머지는 소수가 될 수 없으므로 홀수만 반복 실행\n",
    "        for j in range(2, i):\n",
    "            total_rotation += 1\n",
    "            if i % j == 0:\n",
    "                # flag = 1\n",
    "                break\n",
    "            \n",
    "        else:\n",
    "            prime_list.append(i)\n",
    "\n",
    "    return prime_list, total_rotation"
   ]
  },
  {
   "cell_type": "code",
   "execution_count": 205,
   "id": "5a2c73d2",
   "metadata": {},
   "outputs": [],
   "source": [
    "def prime_num2(_start=2, _end=100):\n",
    "    prime_list = []\n",
    "    total_rotation = 0\n",
    "    for i in range(_start, _end + 1):\n",
    "        for j in range(2, i//2 + 1):\n",
    "            total_rotation += 1\n",
    "            if i % j == 0:\n",
    "                break\n",
    "        else:\n",
    "            prime_list.append(i)\n",
    "\n",
    "    return prime_list, total_rotation"
   ]
  },
  {
   "cell_type": "code",
   "execution_count": 215,
   "id": "b5f7a082",
   "metadata": {},
   "outputs": [],
   "source": [
    "def prime_num3(_start=2, _end=100):\n",
    "    total_rotation = 0\n",
    "    # 만약에 _start = 2리먄 prime_list = [2]\n",
    "    if _start == 2:\n",
    "        prime_list = [2]\n",
    "    else:\n",
    "        prime_list = []\n",
    "        \n",
    "    if _start % 2 == 0:\n",
    "        _start += 1\n",
    "\n",
    "    for i in range(_start, _end + 1, 2):\n",
    "        # 짝수는 2를 제외한 나머지는 소수가 될 수 없으므로 홀수만 반복 실행a\n",
    "        for j in range(3, i//2 + 1, 2):\n",
    "            total_rotation += 1\n",
    "            if i % j == 0:\n",
    "                # flag = 1\n",
    "                break\n",
    "            \n",
    "        else:\n",
    "            prime_list.append(i)\n",
    "\n",
    "    return prime_list, total_rotation"
   ]
  },
  {
   "cell_type": "code",
   "execution_count": 220,
   "id": "ccf3281e",
   "metadata": {},
   "outputs": [
    {
     "name": "stdout",
     "output_type": "stream",
     "text": [
      "[2]\n",
      "49\n"
     ]
    }
   ],
   "source": [
    "# 개선\n",
    "# 홀수를 기준으로 반복 -> 이미 찾은 소수로 나눠서 나머지가 0이라면 소수X\n",
    "cnt = 0\n",
    "result = [2]\n",
    "\n",
    "for n in range(3, 101, 2):\n",
    "    # 이미 찾은 소수의 데이터로 반복하여 나눠준다.\n",
    "    for i in result:\n",
    "        cnt += 1\n",
    "        if n % 1 == 0:\n",
    "            break\n",
    "    else:\n",
    "        reault.append(n)\n",
    "        \n",
    "\n",
    "print(result)\n",
    "print(cnt)"
   ]
  },
  {
   "cell_type": "code",
   "execution_count": 198,
   "id": "bbd56302",
   "metadata": {},
   "outputs": [
    {
     "name": "stdout",
     "output_type": "stream",
     "text": [
      "[2, 3, 5, 7, 11, 13, 17, 19, 23, 29, 31, 37, 41, 43, 47, 53, 59, 61, 67, 71, 73, 79, 83, 89, 97]\n",
      "1133\n"
     ]
    }
   ],
   "source": [
    "p_list, rotation = prime_num()\n",
    "\n",
    "print(p_list)\n",
    "print(rotation)"
   ]
  },
  {
   "cell_type": "code",
   "execution_count": 206,
   "id": "a6d3e9aa",
   "metadata": {},
   "outputs": [
    {
     "name": "stdout",
     "output_type": "stream",
     "text": [
      "[2, 3, 5, 7, 11, 13, 17, 19, 23, 29, 31, 37, 41, 43, 47, 53, 59, 61, 67, 71, 73, 79, 83, 89, 97]\n",
      "616\n"
     ]
    }
   ],
   "source": [
    "p_list, rotation = prime_num2()\n",
    "\n",
    "print(p_list)\n",
    "print(rotation)"
   ]
  },
  {
   "cell_type": "code",
   "execution_count": 216,
   "id": "5fd00249",
   "metadata": {},
   "outputs": [
    {
     "name": "stdout",
     "output_type": "stream",
     "text": [
      "[2, 3, 5, 7, 11, 13, 17, 19, 23, 29, 31, 37, 41, 43, 47, 53, 59, 61, 67, 71, 73, 79, 83, 89, 97]\n",
      "278\n"
     ]
    }
   ],
   "source": [
    "p_list, rotation = prime_num3()\n",
    "\n",
    "print(p_list)\n",
    "print(rotation)"
   ]
  },
  {
   "cell_type": "code",
   "execution_count": null,
   "id": "134359e8",
   "metadata": {},
   "outputs": [],
   "source": []
  }
 ],
 "metadata": {
  "kernelspec": {
   "display_name": "Python 3",
   "language": "python",
   "name": "python3"
  },
  "language_info": {
   "codemirror_mode": {
    "name": "ipython",
    "version": 3
   },
   "file_extension": ".py",
   "mimetype": "text/x-python",
   "name": "python",
   "nbconvert_exporter": "python",
   "pygments_lexer": "ipython3",
   "version": "3.11.9"
  }
 },
 "nbformat": 4,
 "nbformat_minor": 5
}
