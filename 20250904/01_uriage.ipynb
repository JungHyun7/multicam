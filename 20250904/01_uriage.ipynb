{
 "cells": [
  {
   "cell_type": "code",
   "execution_count": 144,
   "id": "f65f3e1b",
   "metadata": {},
   "outputs": [],
   "source": [
    "# csv 폴더 안에 있는 uriage.csv 파일을 로드\n",
    "import pandas as pd\n",
    "import numpy as np"
   ]
  },
  {
   "cell_type": "code",
   "execution_count": 145,
   "id": "8fbb0bd2",
   "metadata": {},
   "outputs": [],
   "source": [
    "# 상위경로\n",
    "# 상위 디렉토리 이동(../) -> 하위 csv 디렉토리 (csv/) -> uriage.csv\n",
    "\n",
    "uriage = pd.read_csv(\n",
    "    \"./../csv/uriage.csv\"\n",
    ")"
   ]
  },
  {
   "cell_type": "code",
   "execution_count": 146,
   "id": "087461ad",
   "metadata": {},
   "outputs": [
    {
     "name": "stdout",
     "output_type": "stream",
     "text": [
      "<class 'pandas.core.frame.DataFrame'>\n",
      "RangeIndex: 2999 entries, 0 to 2998\n",
      "Data columns (total 4 columns):\n",
      " #   Column         Non-Null Count  Dtype  \n",
      "---  ------         --------------  -----  \n",
      " 0   purchase_date  2999 non-null   object \n",
      " 1   item_name      2999 non-null   object \n",
      " 2   item_price     2612 non-null   float64\n",
      " 3   customer_name  2999 non-null   object \n",
      "dtypes: float64(1), object(3)\n",
      "memory usage: 93.8+ KB\n"
     ]
    }
   ],
   "source": [
    "uriage.info()"
   ]
  },
  {
   "cell_type": "code",
   "execution_count": 147,
   "id": "286ac422",
   "metadata": {},
   "outputs": [
    {
     "data": {
      "text/html": [
       "<div>\n",
       "<style scoped>\n",
       "    .dataframe tbody tr th:only-of-type {\n",
       "        vertical-align: middle;\n",
       "    }\n",
       "\n",
       "    .dataframe tbody tr th {\n",
       "        vertical-align: top;\n",
       "    }\n",
       "\n",
       "    .dataframe thead th {\n",
       "        text-align: right;\n",
       "    }\n",
       "</style>\n",
       "<table border=\"1\" class=\"dataframe\">\n",
       "  <thead>\n",
       "    <tr style=\"text-align: right;\">\n",
       "      <th></th>\n",
       "      <th>purchase_date</th>\n",
       "      <th>item_name</th>\n",
       "      <th>item_price</th>\n",
       "      <th>customer_name</th>\n",
       "    </tr>\n",
       "  </thead>\n",
       "  <tbody>\n",
       "    <tr>\n",
       "      <th>0</th>\n",
       "      <td>2019-06-13 18:02</td>\n",
       "      <td>상품A</td>\n",
       "      <td>100.0</td>\n",
       "      <td>김가온</td>\n",
       "    </tr>\n",
       "    <tr>\n",
       "      <th>1</th>\n",
       "      <td>2019-07-13 13:05</td>\n",
       "      <td>상 품 S</td>\n",
       "      <td>NaN</td>\n",
       "      <td>김우찬</td>\n",
       "    </tr>\n",
       "    <tr>\n",
       "      <th>2</th>\n",
       "      <td>2019-05-11 19:42</td>\n",
       "      <td>상 품 a</td>\n",
       "      <td>NaN</td>\n",
       "      <td>김유찬</td>\n",
       "    </tr>\n",
       "    <tr>\n",
       "      <th>3</th>\n",
       "      <td>2019-02-12 23:40</td>\n",
       "      <td>상품Z</td>\n",
       "      <td>2600.0</td>\n",
       "      <td>김재현</td>\n",
       "    </tr>\n",
       "    <tr>\n",
       "      <th>4</th>\n",
       "      <td>2019-04-22 3:09</td>\n",
       "      <td>상품a</td>\n",
       "      <td>NaN</td>\n",
       "      <td>김강현</td>\n",
       "    </tr>\n",
       "  </tbody>\n",
       "</table>\n",
       "</div>"
      ],
      "text/plain": [
       "      purchase_date item_name  item_price customer_name\n",
       "0  2019-06-13 18:02       상품A       100.0           김가온\n",
       "1  2019-07-13 13:05     상 품 S         NaN           김우찬\n",
       "2  2019-05-11 19:42     상 품 a         NaN           김유찬\n",
       "3  2019-02-12 23:40       상품Z      2600.0           김재현\n",
       "4   2019-04-22 3:09       상품a         NaN           김강현"
      ]
     },
     "execution_count": 147,
     "metadata": {},
     "output_type": "execute_result"
    }
   ],
   "source": [
    "uriage.head()"
   ]
  },
  {
   "cell_type": "code",
   "execution_count": 148,
   "id": "5a7adee0",
   "metadata": {},
   "outputs": [
    {
     "data": {
      "text/html": [
       "<div>\n",
       "<style scoped>\n",
       "    .dataframe tbody tr th:only-of-type {\n",
       "        vertical-align: middle;\n",
       "    }\n",
       "\n",
       "    .dataframe tbody tr th {\n",
       "        vertical-align: top;\n",
       "    }\n",
       "\n",
       "    .dataframe thead th {\n",
       "        text-align: right;\n",
       "    }\n",
       "</style>\n",
       "<table border=\"1\" class=\"dataframe\">\n",
       "  <thead>\n",
       "    <tr style=\"text-align: right;\">\n",
       "      <th></th>\n",
       "      <th>purchase_date</th>\n",
       "      <th>item_name</th>\n",
       "      <th>item_price</th>\n",
       "      <th>customer_name</th>\n",
       "    </tr>\n",
       "  </thead>\n",
       "  <tbody>\n",
       "    <tr>\n",
       "      <th>2994</th>\n",
       "      <td>2019-02-15 2:56</td>\n",
       "      <td>상품Y</td>\n",
       "      <td>2500.0</td>\n",
       "      <td>김정민</td>\n",
       "    </tr>\n",
       "    <tr>\n",
       "      <th>2995</th>\n",
       "      <td>2019-06-22 4:03</td>\n",
       "      <td>상품M</td>\n",
       "      <td>1300.0</td>\n",
       "      <td>김재원</td>\n",
       "    </tr>\n",
       "    <tr>\n",
       "      <th>2996</th>\n",
       "      <td>2019-03-29 11:14</td>\n",
       "      <td>상품Q</td>\n",
       "      <td>NaN</td>\n",
       "      <td>김지율</td>\n",
       "    </tr>\n",
       "    <tr>\n",
       "      <th>2997</th>\n",
       "      <td>2019-07-14 12:56</td>\n",
       "      <td>상품H</td>\n",
       "      <td>NaN</td>\n",
       "      <td>김승주</td>\n",
       "    </tr>\n",
       "    <tr>\n",
       "      <th>2998</th>\n",
       "      <td>2019-07-21 0:31</td>\n",
       "      <td>상품D</td>\n",
       "      <td>400.0</td>\n",
       "      <td>정준기</td>\n",
       "    </tr>\n",
       "  </tbody>\n",
       "</table>\n",
       "</div>"
      ],
      "text/plain": [
       "         purchase_date item_name  item_price customer_name\n",
       "2994   2019-02-15 2:56       상품Y      2500.0           김정민\n",
       "2995   2019-06-22 4:03       상품M      1300.0           김재원\n",
       "2996  2019-03-29 11:14       상품Q         NaN           김지율\n",
       "2997  2019-07-14 12:56       상품H         NaN           김승주\n",
       "2998   2019-07-21 0:31       상품D       400.0           정준기"
      ]
     },
     "execution_count": 148,
     "metadata": {},
     "output_type": "execute_result"
    }
   ],
   "source": [
    "uriage.tail()"
   ]
  },
  {
   "cell_type": "code",
   "execution_count": 149,
   "id": "7102bbc1",
   "metadata": {},
   "outputs": [
    {
     "data": {
      "text/plain": [
       "purchase_date      0\n",
       "item_name          0\n",
       "item_price       387\n",
       "customer_name      0\n",
       "dtype: int64"
      ]
     },
     "execution_count": 149,
     "metadata": {},
     "output_type": "execute_result"
    }
   ],
   "source": [
    "uriage.isna().sum()"
   ]
  },
  {
   "cell_type": "markdown",
   "id": "aa8294da",
   "metadata": {},
   "source": [
    "- 문제점\n",
    "    1. 결측치\n",
    "        - itme_price 컬럼에서 결측치 존재\n",
    "        - 결측치의 개수가 전체 데이터 개수와 비교해서 대략 10% 이상\n",
    "        - 결측치를 특정 데이터로 치환\n",
    "    2. 데이터 정형화\n",
    "        - item_name의 데이터에서 데이터의 규칙의 문제\n",
    "            - 대, 소문자 문제\n",
    "                - 모든 문자를 대문자, 소문자로 통일\n",
    "                - 문자열 함수 중 upper(), lower(), title()\n",
    "            - 문자 사이에 공백 문제\n",
    "                - 문자 사이에 있는 공백을 제거\n",
    "                - 문자 시작과 끝에만 공백이 존재한다면 -> strip() 함수를 이용하여 제거가 가능\n",
    "                - 문자열 사이에 공백을 제거하려면 -> replace() 함수를 이용하여 공백을 빈 문자로 치환하여 해결"
   ]
  },
  {
   "cell_type": "code",
   "execution_count": 150,
   "id": "1102f98d",
   "metadata": {},
   "outputs": [
    {
     "data": {
      "text/plain": [
       "item_name\n",
       "상품A      133\n",
       "상품R      133\n",
       "상품S      133\n",
       "상품P      132\n",
       "상품C      130\n",
       "        ... \n",
       "상 품I       1\n",
       " 상품 W      1\n",
       " 상품 X      1\n",
       "상품 M       1\n",
       "상 품P       1\n",
       "Name: count, Length: 99, dtype: int64"
      ]
     },
     "execution_count": 150,
     "metadata": {},
     "output_type": "execute_result"
    }
   ],
   "source": [
    "# 문자를 모두 대문자 변경\n",
    "# item_name의 데이터를 확인\n",
    "# Series안에 vlaues의 개수를 파악한다.\n",
    "# vlaue + 개수(counts) -> value_counts()\n",
    "uriage['item_name'].value_counts()"
   ]
  },
  {
   "cell_type": "code",
   "execution_count": 151,
   "id": "1a26fc44",
   "metadata": {},
   "outputs": [
    {
     "data": {
      "text/plain": [
       "array(['상품A', '상 품 S', '상 품 a', '상품Z', '상품a', '상품S', '상품 a', '상품V', '상품O',\n",
       "       '상 품U', '상품L', '상  품V', '상 품O', '상품C', '상품I', '상품r', '상품X', '상품 g',\n",
       "       '상품R', '상품P', '상품Q', '상품y', '상품 A', '상품N', '상품W', '상 품E', '상품K',\n",
       "       '상품B', '상품F', '상 품s', ' 상품W', ' 상 품 n', '상 품F', '상품D', '상품M',\n",
       "       '상품Y', '상품U', '상품H', '상품T', '상품J', '상  품O', '상품E', '상  품Q',\n",
       "       ' 상품 S', ' 상품 M', '상  품T', '상품G', '상 품G', ' 상품 P', ' 상품 E', '상 품N',\n",
       "       '상 품Y', '상품 J', '상품 V', '상품 K', '상 품V', '상 품D', '상 품A', '상품 F',\n",
       "       '상품 H', '상 품K', '상 품T', '상품 X', '상품 Q', '상 품X', '상 품H', '상 품C',\n",
       "       '상품 B', '상품 O', '상품 T', '상품v', '상품p', '상품i', '상품 w', '상 품 s',\n",
       "       '상 품 q', '상품s', '상품l', '상품t', '상품k', '상품g', '상품o', '상품 R', '상품 S',\n",
       "       '상 품M', '상품j', '상품d', '상품 I', '상품 E', '상품 o', '상품c', '상품 v', '상품e',\n",
       "       '상품x', '상 품I', ' 상품 W', ' 상품 X', '상품 M', '상 품P'], dtype=object)"
      ]
     },
     "execution_count": 151,
     "metadata": {},
     "output_type": "execute_result"
    }
   ],
   "source": [
    "# 데이터에서 중복 값들을 제외 -> 유일한 리스트 데이터 생성\n",
    "# 유일(unique)\n",
    "uriage['item_name'].unique()"
   ]
  },
  {
   "cell_type": "code",
   "execution_count": 152,
   "id": "aeb10b9d",
   "metadata": {},
   "outputs": [
    {
     "data": {
      "text/plain": [
       "'상 품 A'"
      ]
     },
     "execution_count": 152,
     "metadata": {},
     "output_type": "execute_result"
    }
   ],
   "source": [
    "# 문자를 대문자로 변경 -> upper() -> string class 안에 존재하는 함수\n",
    "# str.upper()\n",
    "uriage.loc[2, 'item_name'].upper()"
   ]
  },
  {
   "cell_type": "code",
   "execution_count": 153,
   "id": "205f2ca6",
   "metadata": {},
   "outputs": [],
   "source": [
    "# Series에서는 upper() 함수가 사용이 가능한가? -> 불가능 -> 해당 함수가 존재하지 않는다.\n",
    "# uriage['item_name'].upper()"
   ]
  },
  {
   "cell_type": "code",
   "execution_count": 154,
   "id": "48ec57bf",
   "metadata": {},
   "outputs": [],
   "source": [
    "df = uriage.copy()"
   ]
  },
  {
   "cell_type": "code",
   "execution_count": 155,
   "id": "d6e97d21",
   "metadata": {},
   "outputs": [
    {
     "data": {
      "text/plain": [
       "0         상품A\n",
       "1       상 품 S\n",
       "2       상 품 A\n",
       "3         상품Z\n",
       "4         상품A\n",
       "        ...  \n",
       "2994      상품Y\n",
       "2995      상품M\n",
       "2996      상품Q\n",
       "2997      상품H\n",
       "2998      상품D\n",
       "Name: item_name, Length: 2999, dtype: object"
      ]
     },
     "execution_count": 155,
     "metadata": {},
     "output_type": "execute_result"
    }
   ],
   "source": [
    "# case 1\n",
    "# 반복문을 이용하여 모든 문자를 대문자로 변경\n",
    "# 반복 횟수 : 2999번(데이터프레임의 길이)\n",
    "for i in range(0, len(df)):\n",
    "    df.loc[i, 'item_name'] = df.loc[i, 'item_name'].upper()\n",
    "    \n",
    "df['item_name']"
   ]
  },
  {
   "cell_type": "code",
   "execution_count": 156,
   "id": "3789f055",
   "metadata": {},
   "outputs": [],
   "source": [
    "df2 = uriage.copy()"
   ]
  },
  {
   "cell_type": "code",
   "execution_count": 157,
   "id": "b6a53883",
   "metadata": {},
   "outputs": [
    {
     "data": {
      "text/html": [
       "<div>\n",
       "<style scoped>\n",
       "    .dataframe tbody tr th:only-of-type {\n",
       "        vertical-align: middle;\n",
       "    }\n",
       "\n",
       "    .dataframe tbody tr th {\n",
       "        vertical-align: top;\n",
       "    }\n",
       "\n",
       "    .dataframe thead th {\n",
       "        text-align: right;\n",
       "    }\n",
       "</style>\n",
       "<table border=\"1\" class=\"dataframe\">\n",
       "  <thead>\n",
       "    <tr style=\"text-align: right;\">\n",
       "      <th></th>\n",
       "      <th>purchase_date</th>\n",
       "      <th>item_name</th>\n",
       "      <th>item_price</th>\n",
       "      <th>customer_name</th>\n",
       "    </tr>\n",
       "  </thead>\n",
       "  <tbody>\n",
       "    <tr>\n",
       "      <th>0</th>\n",
       "      <td>2019-06-13 18:02</td>\n",
       "      <td>상품A</td>\n",
       "      <td>100.0</td>\n",
       "      <td>김가온</td>\n",
       "    </tr>\n",
       "    <tr>\n",
       "      <th>1</th>\n",
       "      <td>2019-07-13 13:05</td>\n",
       "      <td>상 품 S</td>\n",
       "      <td>NaN</td>\n",
       "      <td>김우찬</td>\n",
       "    </tr>\n",
       "    <tr>\n",
       "      <th>2</th>\n",
       "      <td>2019-05-11 19:42</td>\n",
       "      <td>상 품 a</td>\n",
       "      <td>NaN</td>\n",
       "      <td>김유찬</td>\n",
       "    </tr>\n",
       "    <tr>\n",
       "      <th>3</th>\n",
       "      <td>2019-02-12 23:40</td>\n",
       "      <td>상품Z</td>\n",
       "      <td>2600.0</td>\n",
       "      <td>김재현</td>\n",
       "    </tr>\n",
       "    <tr>\n",
       "      <th>4</th>\n",
       "      <td>2019-04-22 3:09</td>\n",
       "      <td>상품a</td>\n",
       "      <td>NaN</td>\n",
       "      <td>김강현</td>\n",
       "    </tr>\n",
       "    <tr>\n",
       "      <th>...</th>\n",
       "      <td>...</td>\n",
       "      <td>...</td>\n",
       "      <td>...</td>\n",
       "      <td>...</td>\n",
       "    </tr>\n",
       "    <tr>\n",
       "      <th>2994</th>\n",
       "      <td>2019-02-15 2:56</td>\n",
       "      <td>상품Y</td>\n",
       "      <td>2500.0</td>\n",
       "      <td>김정민</td>\n",
       "    </tr>\n",
       "    <tr>\n",
       "      <th>2995</th>\n",
       "      <td>2019-06-22 4:03</td>\n",
       "      <td>상품M</td>\n",
       "      <td>1300.0</td>\n",
       "      <td>김재원</td>\n",
       "    </tr>\n",
       "    <tr>\n",
       "      <th>2996</th>\n",
       "      <td>2019-03-29 11:14</td>\n",
       "      <td>상품Q</td>\n",
       "      <td>NaN</td>\n",
       "      <td>김지율</td>\n",
       "    </tr>\n",
       "    <tr>\n",
       "      <th>2997</th>\n",
       "      <td>2019-07-14 12:56</td>\n",
       "      <td>상품H</td>\n",
       "      <td>NaN</td>\n",
       "      <td>김승주</td>\n",
       "    </tr>\n",
       "    <tr>\n",
       "      <th>2998</th>\n",
       "      <td>2019-07-21 0:31</td>\n",
       "      <td>상품D</td>\n",
       "      <td>400.0</td>\n",
       "      <td>정준기</td>\n",
       "    </tr>\n",
       "  </tbody>\n",
       "</table>\n",
       "<p>2999 rows × 4 columns</p>\n",
       "</div>"
      ],
      "text/plain": [
       "         purchase_date item_name  item_price customer_name\n",
       "0     2019-06-13 18:02       상품A       100.0           김가온\n",
       "1     2019-07-13 13:05     상 품 S         NaN           김우찬\n",
       "2     2019-05-11 19:42     상 품 a         NaN           김유찬\n",
       "3     2019-02-12 23:40       상품Z      2600.0           김재현\n",
       "4      2019-04-22 3:09       상품a         NaN           김강현\n",
       "...                ...       ...         ...           ...\n",
       "2994   2019-02-15 2:56       상품Y      2500.0           김정민\n",
       "2995   2019-06-22 4:03       상품M      1300.0           김재원\n",
       "2996  2019-03-29 11:14       상품Q         NaN           김지율\n",
       "2997  2019-07-14 12:56       상품H         NaN           김승주\n",
       "2998   2019-07-21 0:31       상품D       400.0           정준기\n",
       "\n",
       "[2999 rows x 4 columns]"
      ]
     },
     "execution_count": 157,
     "metadata": {},
     "output_type": "execute_result"
    }
   ],
   "source": [
    "df2"
   ]
  },
  {
   "cell_type": "code",
   "execution_count": 158,
   "id": "ea8c4e4f",
   "metadata": {},
   "outputs": [
    {
     "data": {
      "text/plain": [
       "0         상품A\n",
       "1       상 품 S\n",
       "2       상 품 A\n",
       "3         상품Z\n",
       "4         상품A\n",
       "        ...  \n",
       "2994      상품Y\n",
       "2995      상품M\n",
       "2996      상품Q\n",
       "2997      상품H\n",
       "2998      상품D\n",
       "Name: item_name, Length: 2999, dtype: object"
      ]
     },
     "execution_count": 158,
     "metadata": {},
     "output_type": "execute_result"
    }
   ],
   "source": [
    "# case2\n",
    "# Series.map() 함수를 이용하여 데이터 변환\n",
    "# map() => 1차원 데이터에서 각각의 원소들을 함수에 대입하여 결과를 받아와서 새로운 1차원 데이터 생성\n",
    "# map에서 사용하는 함수 일반 def 키워드 함수, lambda 함수 기능\n",
    "# lambda 함수를 이용\n",
    "\n",
    "df2['item_name'].map(\n",
    "    # x의 타입은 str -> 문자열 내장함수인 upper() 사용가능\n",
    "    lambda x : x.upper(),\n",
    ")\n"
   ]
  },
  {
   "cell_type": "code",
   "execution_count": 159,
   "id": "9abadedc",
   "metadata": {},
   "outputs": [
    {
     "data": {
      "text/html": [
       "<div>\n",
       "<style scoped>\n",
       "    .dataframe tbody tr th:only-of-type {\n",
       "        vertical-align: middle;\n",
       "    }\n",
       "\n",
       "    .dataframe tbody tr th {\n",
       "        vertical-align: top;\n",
       "    }\n",
       "\n",
       "    .dataframe thead th {\n",
       "        text-align: right;\n",
       "    }\n",
       "</style>\n",
       "<table border=\"1\" class=\"dataframe\">\n",
       "  <thead>\n",
       "    <tr style=\"text-align: right;\">\n",
       "      <th></th>\n",
       "      <th>purchase_date</th>\n",
       "      <th>item_name</th>\n",
       "      <th>item_price</th>\n",
       "      <th>customer_name</th>\n",
       "    </tr>\n",
       "  </thead>\n",
       "  <tbody>\n",
       "    <tr>\n",
       "      <th>0</th>\n",
       "      <td>2019-06-13 18:02</td>\n",
       "      <td>상품A</td>\n",
       "      <td>100.0</td>\n",
       "      <td>김가온</td>\n",
       "    </tr>\n",
       "    <tr>\n",
       "      <th>1</th>\n",
       "      <td>2019-07-13 13:05</td>\n",
       "      <td>상 품 S</td>\n",
       "      <td>NaN</td>\n",
       "      <td>김우찬</td>\n",
       "    </tr>\n",
       "    <tr>\n",
       "      <th>2</th>\n",
       "      <td>2019-05-11 19:42</td>\n",
       "      <td>상 품 A</td>\n",
       "      <td>NaN</td>\n",
       "      <td>김유찬</td>\n",
       "    </tr>\n",
       "    <tr>\n",
       "      <th>3</th>\n",
       "      <td>2019-02-12 23:40</td>\n",
       "      <td>상품Z</td>\n",
       "      <td>2600.0</td>\n",
       "      <td>김재현</td>\n",
       "    </tr>\n",
       "    <tr>\n",
       "      <th>4</th>\n",
       "      <td>2019-04-22 3:09</td>\n",
       "      <td>상품A</td>\n",
       "      <td>NaN</td>\n",
       "      <td>김강현</td>\n",
       "    </tr>\n",
       "    <tr>\n",
       "      <th>...</th>\n",
       "      <td>...</td>\n",
       "      <td>...</td>\n",
       "      <td>...</td>\n",
       "      <td>...</td>\n",
       "    </tr>\n",
       "    <tr>\n",
       "      <th>2994</th>\n",
       "      <td>2019-02-15 2:56</td>\n",
       "      <td>상품Y</td>\n",
       "      <td>2500.0</td>\n",
       "      <td>김정민</td>\n",
       "    </tr>\n",
       "    <tr>\n",
       "      <th>2995</th>\n",
       "      <td>2019-06-22 4:03</td>\n",
       "      <td>상품M</td>\n",
       "      <td>1300.0</td>\n",
       "      <td>김재원</td>\n",
       "    </tr>\n",
       "    <tr>\n",
       "      <th>2996</th>\n",
       "      <td>2019-03-29 11:14</td>\n",
       "      <td>상품Q</td>\n",
       "      <td>NaN</td>\n",
       "      <td>김지율</td>\n",
       "    </tr>\n",
       "    <tr>\n",
       "      <th>2997</th>\n",
       "      <td>2019-07-14 12:56</td>\n",
       "      <td>상품H</td>\n",
       "      <td>NaN</td>\n",
       "      <td>김승주</td>\n",
       "    </tr>\n",
       "    <tr>\n",
       "      <th>2998</th>\n",
       "      <td>2019-07-21 0:31</td>\n",
       "      <td>상품D</td>\n",
       "      <td>400.0</td>\n",
       "      <td>정준기</td>\n",
       "    </tr>\n",
       "  </tbody>\n",
       "</table>\n",
       "<p>2999 rows × 4 columns</p>\n",
       "</div>"
      ],
      "text/plain": [
       "         purchase_date item_name  item_price customer_name\n",
       "0     2019-06-13 18:02       상품A       100.0           김가온\n",
       "1     2019-07-13 13:05     상 품 S         NaN           김우찬\n",
       "2     2019-05-11 19:42     상 품 A         NaN           김유찬\n",
       "3     2019-02-12 23:40       상품Z      2600.0           김재현\n",
       "4      2019-04-22 3:09       상품A         NaN           김강현\n",
       "...                ...       ...         ...           ...\n",
       "2994   2019-02-15 2:56       상품Y      2500.0           김정민\n",
       "2995   2019-06-22 4:03       상품M      1300.0           김재원\n",
       "2996  2019-03-29 11:14       상품Q         NaN           김지율\n",
       "2997  2019-07-14 12:56       상품H         NaN           김승주\n",
       "2998   2019-07-21 0:31       상품D       400.0           정준기\n",
       "\n",
       "[2999 rows x 4 columns]"
      ]
     },
     "execution_count": 159,
     "metadata": {},
     "output_type": "execute_result"
    }
   ],
   "source": [
    "# map + 일반함수\n",
    "def change(x):\n",
    "    # X의 대입이 되는 데이터는 타입이 str인 데이터\n",
    "    # x에 문자열 내장함수 사용 가능\n",
    "    x = x.upper()\n",
    "    return x\n",
    "\n",
    "\n",
    "df2['item_name'] = df2['item_name'].map(\n",
    "    change\n",
    ")\n",
    "\n",
    "df2\n"
   ]
  },
  {
   "cell_type": "code",
   "execution_count": 160,
   "id": "b1d06d36",
   "metadata": {},
   "outputs": [],
   "source": [
    "df3 = uriage.copy()"
   ]
  },
  {
   "cell_type": "code",
   "execution_count": 161,
   "id": "06e6cce8",
   "metadata": {},
   "outputs": [],
   "source": [
    "# case3\n",
    "# series 데이터에서 문자열 함수를 사용하기 위해 타입을 변경\n",
    "df3['item_name'] = df3['item_name'].str.upper()"
   ]
  },
  {
   "cell_type": "code",
   "execution_count": 162,
   "id": "15c568f7",
   "metadata": {},
   "outputs": [],
   "source": [
    "# 문자열 대문자 변환 문제는 해결"
   ]
  },
  {
   "cell_type": "code",
   "execution_count": 163,
   "id": "d37f14ec",
   "metadata": {},
   "outputs": [
    {
     "data": {
      "text/plain": [
       "0       상품A\n",
       "1       상품S\n",
       "2       상품A\n",
       "3       상품Z\n",
       "4       상품A\n",
       "       ... \n",
       "2994    상품Y\n",
       "2995    상품M\n",
       "2996    상품Q\n",
       "2997    상품H\n",
       "2998    상품D\n",
       "Name: item_name, Length: 2999, dtype: object"
      ]
     },
     "execution_count": 163,
     "metadata": {},
     "output_type": "execute_result"
    }
   ],
   "source": [
    "# 문자열 사이에 있는 공백을 제거 문제\n",
    "# replace(' ', '')\n",
    "df['item_name'].str.replace(' ', '')"
   ]
  },
  {
   "cell_type": "code",
   "execution_count": 164,
   "id": "e4a8b51a",
   "metadata": {},
   "outputs": [],
   "source": [
    "# uriage 데이터에서 item_name의 문자들을 일괄적으로 변환\n",
    "uriage['item_name'] = uriage['item_name'].str.upper().str.replace(' ', '')"
   ]
  },
  {
   "cell_type": "code",
   "execution_count": 165,
   "id": "147ee279",
   "metadata": {},
   "outputs": [
    {
     "data": {
      "text/plain": [
       "item_name\n",
       "상품S    140\n",
       "상품A    139\n",
       "상품R    136\n",
       "상품P    135\n",
       "상품V    134\n",
       "상품C    133\n",
       "상품F    126\n",
       "상품D    125\n",
       "상품Q    125\n",
       "상품O    124\n",
       "상품W    121\n",
       "상품N    119\n",
       "상품T    117\n",
       "상품X    116\n",
       "상품J    116\n",
       "상품I    114\n",
       "상품B    113\n",
       "상품M    113\n",
       "상품L    110\n",
       "상품G    110\n",
       "상품K    109\n",
       "상품H    109\n",
       "상품U    107\n",
       "상품E    105\n",
       "상품Y    102\n",
       "상품Z      1\n",
       "Name: count, dtype: int64"
      ]
     },
     "execution_count": 165,
     "metadata": {},
     "output_type": "execute_result"
    }
   ],
   "source": [
    "uriage['item_name'].value_counts()"
   ]
  },
  {
   "cell_type": "code",
   "execution_count": 166,
   "id": "a511f342",
   "metadata": {},
   "outputs": [
    {
     "data": {
      "text/plain": [
       "array(['상품A', '상품S', '상품Z', '상품V', '상품O', '상품U', '상품L', '상품C', '상품I',\n",
       "       '상품R', '상품X', '상품G', '상품P', '상품Q', '상품Y', '상품N', '상품W', '상품E',\n",
       "       '상품K', '상품B', '상품F', '상품D', '상품M', '상품H', '상품T', '상품J'],\n",
       "      dtype=object)"
      ]
     },
     "execution_count": 166,
     "metadata": {},
     "output_type": "execute_result"
    }
   ],
   "source": [
    "uriage['item_name'].unique()"
   ]
  },
  {
   "cell_type": "code",
   "execution_count": 167,
   "id": "783c476a",
   "metadata": {},
   "outputs": [
    {
     "data": {
      "text/plain": [
       "'a A v B C DFFE Fd feD d'"
      ]
     },
     "execution_count": 167,
     "metadata": {},
     "output_type": "execute_result"
    }
   ],
   "source": [
    "str1 = 'a A v B C DFFE Fd feD d'\n",
    "str1"
   ]
  },
  {
   "cell_type": "code",
   "execution_count": 168,
   "id": "884d4e81",
   "metadata": {},
   "outputs": [
    {
     "data": {
      "text/plain": [
       "'AAVBCDFFEFDFEDD'"
      ]
     },
     "execution_count": 168,
     "metadata": {},
     "output_type": "execute_result"
    }
   ],
   "source": [
    "str1.upper().replace(' ', '')"
   ]
  },
  {
   "cell_type": "code",
   "execution_count": 169,
   "id": "5f4e9a9a",
   "metadata": {},
   "outputs": [
    {
     "data": {
      "text/plain": [
       "0       상품A\n",
       "1       상품S\n",
       "2       상품A\n",
       "3       상품Z\n",
       "4       상품A\n",
       "       ... \n",
       "2994    상품Y\n",
       "2995    상품M\n",
       "2996    상품Q\n",
       "2997    상품H\n",
       "2998    상품D\n",
       "Name: item_name, Length: 2999, dtype: object"
      ]
     },
     "execution_count": 169,
     "metadata": {},
     "output_type": "execute_result"
    }
   ],
   "source": [
    "uriage['item_name'].map(lambda x : x.upper().replace(' ', ''))"
   ]
  },
  {
   "cell_type": "markdown",
   "id": "54d59c6b",
   "metadata": {},
   "source": [
    "- item_price 데이터에 결측치 채우기\n",
    "    - 상품별 결측치를 제외한 item_price의 평균을 구한다.\n",
    "    - 해당 상품의 item_price가 결측치인 데이터에 평균값을 대입"
   ]
  },
  {
   "cell_type": "code",
   "execution_count": 170,
   "id": "8d94f778",
   "metadata": {},
   "outputs": [],
   "source": [
    "# 상품A의 item_price가 결측치가 아닌 데이터를 확인\n",
    "# 조건식 -> item_name이 상품A인 (uriage['item_name'] == '상품A' )\n",
    "#          item_price가 결측치가 아닌( uriage['itme_price'].isna())\n",
    "\n",
    "flag = uriage['item_name'] == '상품A'\n",
    "flag_null = uriage['item_price'].isna()"
   ]
  },
  {
   "cell_type": "code",
   "execution_count": 171,
   "id": "cdc51b1b",
   "metadata": {},
   "outputs": [
    {
     "data": {
      "text/plain": [
       "item_price    100.0\n",
       "dtype: float64"
      ]
     },
     "execution_count": 171,
     "metadata": {},
     "output_type": "execute_result"
    }
   ],
   "source": [
    "# item_name이 상품A(flag)이고 item_price가 결측치가 아닌(~flag_null)\n",
    "# 상품 정보(모든 컬럼)을 확인\n",
    "uriage.loc[\n",
    "    flag & ~flag_null,\n",
    "]\n",
    "\n",
    "# 위의 인덱스 조건에서 item_price 컬럼(컬럼의 조건식)의 데이터 평균값(mean()) 구한다.\n",
    "uriage.loc[\n",
    "    flag & ~flag_null,\n",
    "    ['item_price']\n",
    "].mean()"
   ]
  },
  {
   "cell_type": "code",
   "execution_count": 172,
   "id": "53b99bde",
   "metadata": {},
   "outputs": [],
   "source": [
    "mean_price = 100.0"
   ]
  },
  {
   "cell_type": "code",
   "execution_count": 173,
   "id": "a124f55c",
   "metadata": {},
   "outputs": [],
   "source": [
    "# mean_price를 item_name이 상품A(flag) 이고 item_price가 결측치인 item_price에 대입(flag_null)\n",
    "# item_price에(컬럼의 조건) 대입\n",
    "uriage.loc[flag & flag_null, 'item_price'].fillna(mean_price, inplace = True)"
   ]
  },
  {
   "cell_type": "code",
   "execution_count": 174,
   "id": "23de378e",
   "metadata": {},
   "outputs": [
    {
     "data": {
      "text/plain": [
       "2       100.0\n",
       "4       100.0\n",
       "6       100.0\n",
       "14      100.0\n",
       "300     100.0\n",
       "361     100.0\n",
       "667     100.0\n",
       "838     100.0\n",
       "844     100.0\n",
       "957     100.0\n",
       "1260    100.0\n",
       "1394    100.0\n",
       "1474    100.0\n",
       "1892    100.0\n",
       "1937    100.0\n",
       "1977    100.0\n",
       "2063    100.0\n",
       "2278    100.0\n",
       "2636    100.0\n",
       "2669    100.0\n",
       "2732    100.0\n",
       "2821    100.0\n",
       "Name: item_price, dtype: float64"
      ]
     },
     "execution_count": 174,
     "metadata": {},
     "output_type": "execute_result"
    }
   ],
   "source": [
    "uriage.loc[flag & flag_null, 'item_price'] = uriage.loc[flag & flag_null, 'item_price'].fillna(mean_price)\n",
    "uriage.loc[flag & flag_null, 'item_price']"
   ]
  },
  {
   "cell_type": "code",
   "execution_count": 177,
   "id": "e34797e5",
   "metadata": {},
   "outputs": [],
   "source": [
    "# 위의 작업들을 상품A부터 상품Z(item_name 데이터에서 중복으로 제거한 리스트)까지 반복 실행\n",
    "\n",
    "item_list = uriage['item_name'].unique()\n",
    "\n",
    "# 반복문을 작성\n",
    "# item_list의 길이만큼 반복\n",
    "for item_name in item_list:\n",
    "    # item_name 변수에는 item_list의 각각의 원소들이 대입\n",
    "    # i는 -> item_list의 index값이 대입\n",
    "    flag = uriage['item_name'] == item_name\n",
    "    # flag = uriage['item_name'] == item_name[i]\n",
    "    flag_null = uriage['item_price'].isna()\n",
    "\n",
    "    mean_price = uriage.loc[flag & ~flag_null, 'item_price'].mean()\n",
    "\n",
    "    uriage.loc[flag & flag_null, 'item_price'] = mean_price"
   ]
  },
  {
   "cell_type": "code",
   "execution_count": 178,
   "id": "b5cb3128",
   "metadata": {},
   "outputs": [
    {
     "data": {
      "text/plain": [
       "purchase_date    0\n",
       "item_name        0\n",
       "item_price       0\n",
       "customer_name    0\n",
       "dtype: int64"
      ]
     },
     "execution_count": 178,
     "metadata": {},
     "output_type": "execute_result"
    }
   ],
   "source": [
    "# 결측치의 개수를 확인\n",
    "uriage.isna().sum()"
   ]
  },
  {
   "cell_type": "code",
   "execution_count": 179,
   "id": "8226078a",
   "metadata": {},
   "outputs": [
    {
     "data": {
      "text/plain": [
       "item_name\n",
       "상품A     100.0\n",
       "상품B     200.0\n",
       "상품C     300.0\n",
       "상품D     400.0\n",
       "상품E     500.0\n",
       "상품F     600.0\n",
       "상품G     700.0\n",
       "상품H     800.0\n",
       "상품I     900.0\n",
       "상품J    1000.0\n",
       "상품K    1100.0\n",
       "상품L    1200.0\n",
       "상품M    1300.0\n",
       "상품N    1400.0\n",
       "상품O    1500.0\n",
       "상품P    1600.0\n",
       "상품Q    1700.0\n",
       "상품R    1800.0\n",
       "상품S    1900.0\n",
       "상품T    2000.0\n",
       "상품U    2100.0\n",
       "상품V    2200.0\n",
       "상품W    2300.0\n",
       "상품X    2400.0\n",
       "상품Y    2500.0\n",
       "상품Z    2600.0\n",
       "Name: item_price, dtype: float64"
      ]
     },
     "execution_count": 179,
     "metadata": {},
     "output_type": "execute_result"
    }
   ],
   "source": [
    "uriage.groupby(['item_name'])['item_price'].mean()"
   ]
  },
  {
   "cell_type": "code",
   "execution_count": null,
   "id": "9df8c867",
   "metadata": {},
   "outputs": [],
   "source": []
  },
  {
   "cell_type": "code",
   "execution_count": null,
   "id": "7ab650f5",
   "metadata": {},
   "outputs": [],
   "source": []
  },
  {
   "cell_type": "code",
   "execution_count": null,
   "id": "5645d514",
   "metadata": {},
   "outputs": [],
   "source": []
  },
  {
   "cell_type": "code",
   "execution_count": null,
   "id": "0bb45f41",
   "metadata": {},
   "outputs": [],
   "source": []
  },
  {
   "cell_type": "code",
   "execution_count": null,
   "id": "be3b9236",
   "metadata": {},
   "outputs": [],
   "source": []
  },
  {
   "cell_type": "code",
   "execution_count": null,
   "id": "297ca072",
   "metadata": {},
   "outputs": [],
   "source": []
  },
  {
   "cell_type": "code",
   "execution_count": null,
   "id": "2be3b013",
   "metadata": {},
   "outputs": [],
   "source": []
  },
  {
   "cell_type": "code",
   "execution_count": null,
   "id": "626af9e3",
   "metadata": {},
   "outputs": [],
   "source": []
  },
  {
   "cell_type": "code",
   "execution_count": null,
   "id": "1f75490b",
   "metadata": {},
   "outputs": [],
   "source": []
  },
  {
   "cell_type": "code",
   "execution_count": null,
   "id": "a87de595",
   "metadata": {},
   "outputs": [],
   "source": []
  }
 ],
 "metadata": {
  "kernelspec": {
   "display_name": "Python 3",
   "language": "python",
   "name": "python3"
  },
  "language_info": {
   "codemirror_mode": {
    "name": "ipython",
    "version": 3
   },
   "file_extension": ".py",
   "mimetype": "text/x-python",
   "name": "python",
   "nbconvert_exporter": "python",
   "pygments_lexer": "ipython3",
   "version": "3.13.7"
  }
 },
 "nbformat": 4,
 "nbformat_minor": 5
}
