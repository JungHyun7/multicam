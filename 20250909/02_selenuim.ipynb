{
 "cells": [
  {
   "cell_type": "code",
   "execution_count": null,
   "id": "10a8f7cd",
   "metadata": {},
   "outputs": [
    {
     "name": "stdout",
     "output_type": "stream",
     "text": [
      "Collecting selenium\n",
      "  Downloading selenium-4.35.0-py3-none-any.whl.metadata (7.4 kB)\n",
      "Requirement already satisfied: urllib3<3.0,>=2.5.0 in c:\\users\\abohv\\appdata\\local\\programs\\python\\python313\\lib\\site-packages (from urllib3[socks]<3.0,>=2.5.0->selenium) (2.5.0)\n",
      "Collecting trio~=0.30.0 (from selenium)\n",
      "  Downloading trio-0.30.0-py3-none-any.whl.metadata (8.5 kB)\n",
      "Collecting trio-websocket~=0.12.2 (from selenium)\n",
      "  Downloading trio_websocket-0.12.2-py3-none-any.whl.metadata (5.1 kB)\n",
      "Requirement already satisfied: certifi>=2025.6.15 in c:\\users\\abohv\\appdata\\local\\programs\\python\\python313\\lib\\site-packages (from selenium) (2025.8.3)\n",
      "Collecting typing_extensions~=4.14.0 (from selenium)\n",
      "  Downloading typing_extensions-4.14.1-py3-none-any.whl.metadata (3.0 kB)\n",
      "Collecting websocket-client~=1.8.0 (from selenium)\n",
      "  Downloading websocket_client-1.8.0-py3-none-any.whl.metadata (8.0 kB)\n",
      "Collecting attrs>=23.2.0 (from trio~=0.30.0->selenium)\n",
      "  Downloading attrs-25.3.0-py3-none-any.whl.metadata (10 kB)\n",
      "Collecting sortedcontainers (from trio~=0.30.0->selenium)\n",
      "  Downloading sortedcontainers-2.4.0-py2.py3-none-any.whl.metadata (10 kB)\n",
      "Requirement already satisfied: idna in c:\\users\\abohv\\appdata\\local\\programs\\python\\python313\\lib\\site-packages (from trio~=0.30.0->selenium) (3.10)\n",
      "Collecting outcome (from trio~=0.30.0->selenium)\n",
      "  Downloading outcome-1.3.0.post0-py2.py3-none-any.whl.metadata (2.6 kB)\n",
      "Collecting sniffio>=1.3.0 (from trio~=0.30.0->selenium)\n",
      "  Downloading sniffio-1.3.1-py3-none-any.whl.metadata (3.9 kB)\n",
      "Requirement already satisfied: cffi>=1.14 in c:\\users\\abohv\\appdata\\local\\programs\\python\\python313\\lib\\site-packages (from trio~=0.30.0->selenium) (2.0.0)\n",
      "Collecting wsproto>=0.14 (from trio-websocket~=0.12.2->selenium)\n",
      "  Downloading wsproto-1.2.0-py3-none-any.whl.metadata (5.6 kB)\n",
      "Collecting pysocks!=1.5.7,<2.0,>=1.5.6 (from urllib3[socks]<3.0,>=2.5.0->selenium)\n",
      "  Downloading PySocks-1.7.1-py3-none-any.whl.metadata (13 kB)\n",
      "Requirement already satisfied: pycparser in c:\\users\\abohv\\appdata\\local\\programs\\python\\python313\\lib\\site-packages (from cffi>=1.14->trio~=0.30.0->selenium) (2.22)\n",
      "Collecting h11<1,>=0.9.0 (from wsproto>=0.14->trio-websocket~=0.12.2->selenium)\n",
      "  Downloading h11-0.16.0-py3-none-any.whl.metadata (8.3 kB)\n",
      "Downloading selenium-4.35.0-py3-none-any.whl (9.6 MB)\n",
      "   ---------------------------------------- 0.0/9.6 MB ? eta -:--:--\n",
      "   ----------------- ---------------------- 4.2/9.6 MB 21.1 MB/s eta 0:00:01\n",
      "   ---------------------------------------- 9.6/9.6 MB 23.6 MB/s  0:00:00\n",
      "Downloading trio-0.30.0-py3-none-any.whl (499 kB)\n",
      "Downloading trio_websocket-0.12.2-py3-none-any.whl (21 kB)\n",
      "Downloading typing_extensions-4.14.1-py3-none-any.whl (43 kB)\n",
      "Downloading PySocks-1.7.1-py3-none-any.whl (16 kB)\n",
      "Downloading websocket_client-1.8.0-py3-none-any.whl (58 kB)\n",
      "Downloading attrs-25.3.0-py3-none-any.whl (63 kB)\n",
      "Downloading outcome-1.3.0.post0-py2.py3-none-any.whl (10 kB)\n",
      "Downloading sniffio-1.3.1-py3-none-any.whl (10 kB)\n",
      "Downloading wsproto-1.2.0-py3-none-any.whl (24 kB)\n",
      "Downloading h11-0.16.0-py3-none-any.whl (37 kB)\n",
      "Downloading sortedcontainers-2.4.0-py2.py3-none-any.whl (29 kB)\n",
      "Installing collected packages: sortedcontainers, websocket-client, typing_extensions, sniffio, pysocks, h11, attrs, wsproto, outcome, trio, trio-websocket, selenium\n",
      "\n",
      "   --- ------------------------------------  1/12 [websocket-client]\n",
      "   --- ------------------------------------  1/12 [websocket-client]\n",
      "   --- ------------------------------------  1/12 [websocket-client]\n",
      "  Attempting uninstall: typing_extensions\n",
      "   --- ------------------------------------  1/12 [websocket-client]\n",
      "    Found existing installation: typing_extensions 4.15.0\n",
      "   --- ------------------------------------  1/12 [websocket-client]\n",
      "    Uninstalling typing_extensions-4.15.0:\n",
      "   --- ------------------------------------  1/12 [websocket-client]\n",
      "   ------ ---------------------------------  2/12 [typing_extensions]\n",
      "      Successfully uninstalled typing_extensions-4.15.0\n",
      "   ------ ---------------------------------  2/12 [typing_extensions]\n",
      "   ---------- -----------------------------  3/12 [sniffio]\n",
      "   ---------------- -----------------------  5/12 [h11]\n",
      "   ---------------- -----------------------  5/12 [h11]\n",
      "   -------------------- -------------------  6/12 [attrs]\n",
      "   ----------------------- ----------------  7/12 [wsproto]\n",
      "   ------------------------------ ---------  9/12 [trio]\n",
      "   ------------------------------ ---------  9/12 [trio]\n",
      "   ------------------------------ ---------  9/12 [trio]\n",
      "   ------------------------------ ---------  9/12 [trio]\n",
      "   ------------------------------ ---------  9/12 [trio]\n",
      "   ------------------------------ ---------  9/12 [trio]\n",
      "   ------------------------------ ---------  9/12 [trio]\n",
      "   ------------------------------ ---------  9/12 [trio]\n",
      "   ------------------------------ ---------  9/12 [trio]\n",
      "   ------------------------------ ---------  9/12 [trio]\n",
      "   ------------------------------ ---------  9/12 [trio]\n",
      "   ------------------------------ ---------  9/12 [trio]\n",
      "   ------------------------------ ---------  9/12 [trio]\n",
      "   ------------------------------ ---------  9/12 [trio]\n",
      "   ------------------------------ ---------  9/12 [trio]\n",
      "   --------------------------------- ------ 10/12 [trio-websocket]\n",
      "   ------------------------------------ --- 11/12 [selenium]\n",
      "   ------------------------------------ --- 11/12 [selenium]\n",
      "   ------------------------------------ --- 11/12 [selenium]\n",
      "   ------------------------------------ --- 11/12 [selenium]\n",
      "   ------------------------------------ --- 11/12 [selenium]\n",
      "   ------------------------------------ --- 11/12 [selenium]\n",
      "   ------------------------------------ --- 11/12 [selenium]\n",
      "   ------------------------------------ --- 11/12 [selenium]\n",
      "   ------------------------------------ --- 11/12 [selenium]\n",
      "   ------------------------------------ --- 11/12 [selenium]\n",
      "   ------------------------------------ --- 11/12 [selenium]\n",
      "   ------------------------------------ --- 11/12 [selenium]\n",
      "   ------------------------------------ --- 11/12 [selenium]\n",
      "   ------------------------------------ --- 11/12 [selenium]\n",
      "   ------------------------------------ --- 11/12 [selenium]\n",
      "   ------------------------------------ --- 11/12 [selenium]\n",
      "   ------------------------------------ --- 11/12 [selenium]\n",
      "   ------------------------------------ --- 11/12 [selenium]\n",
      "   ------------------------------------ --- 11/12 [selenium]\n",
      "   ------------------------------------ --- 11/12 [selenium]\n",
      "   ------------------------------------ --- 11/12 [selenium]\n",
      "   ------------------------------------ --- 11/12 [selenium]\n",
      "   ------------------------------------ --- 11/12 [selenium]\n",
      "   ------------------------------------ --- 11/12 [selenium]\n",
      "   ------------------------------------ --- 11/12 [selenium]\n",
      "   ------------------------------------ --- 11/12 [selenium]\n",
      "   ------------------------------------ --- 11/12 [selenium]\n",
      "   ------------------------------------ --- 11/12 [selenium]\n",
      "   ---------------------------------------- 12/12 [selenium]\n",
      "\n",
      "Successfully installed attrs-25.3.0 h11-0.16.0 outcome-1.3.0.post0 pysocks-1.7.1 selenium-4.35.0 sniffio-1.3.1 sortedcontainers-2.4.0 trio-0.30.0 trio-websocket-0.12.2 typing_extensions-4.14.1 websocket-client-1.8.0 wsproto-1.2.0\n"
     ]
    }
   ],
   "source": [
    "# 라이브러리 설치\n",
    "# !pip install selenium"
   ]
  },
  {
   "cell_type": "code",
   "execution_count": 4,
   "id": "f3e94c46",
   "metadata": {},
   "outputs": [],
   "source": [
    "from selenium import webdriver"
   ]
  },
  {
   "cell_type": "code",
   "execution_count": 6,
   "id": "2365dbe9",
   "metadata": {},
   "outputs": [],
   "source": [
    "# webdriver -> 웹 브라우져들의 모음\n",
    "driver = webdriver.Chrome()"
   ]
  },
  {
   "cell_type": "code",
   "execution_count": 7,
   "id": "36a2a31e",
   "metadata": {},
   "outputs": [],
   "source": [
    "# driver에 url주소를 입력하여 요청 보낸다.\n",
    "driver.get('http://www.naver.com')"
   ]
  },
  {
   "cell_type": "code",
   "execution_count": 8,
   "id": "79295097",
   "metadata": {},
   "outputs": [],
   "source": [
    "# driver에서 html 문서를 불러온다.\n",
    "html_data = driver.page_source"
   ]
  },
  {
   "cell_type": "code",
   "execution_count": 9,
   "id": "3cd16d08",
   "metadata": {},
   "outputs": [],
   "source": [
    "from bs4 import BeautifulSoup as bs "
   ]
  },
  {
   "cell_type": "code",
   "execution_count": 10,
   "id": "944e1b75",
   "metadata": {},
   "outputs": [],
   "source": [
    "soup = bs(html_data, 'html.parser')"
   ]
  },
  {
   "cell_type": "code",
   "execution_count": 11,
   "id": "04b4a031",
   "metadata": {},
   "outputs": [
    {
     "data": {
      "text/plain": [
       "168"
      ]
     },
     "execution_count": 11,
     "metadata": {},
     "output_type": "execute_result"
    }
   ],
   "source": [
    "len(soup.find_all('a'))"
   ]
  },
  {
   "cell_type": "code",
   "execution_count": 13,
   "id": "4aef1e8e",
   "metadata": {},
   "outputs": [],
   "source": [
    "# driver에서 특정 속성을 이용하여 태그에 접근하도록 새로운 기능을 로드\n",
    "from selenium.webdriver.common.by import By\n",
    "# 키보드의 이벤트(ENTER, BACK Space, ...)들이 저장되었는 기능을 로드\n",
    "from selenium.webdriver.common.keys import Keys"
   ]
  },
  {
   "cell_type": "markdown",
   "id": "d7a7332d",
   "metadata": {},
   "source": [
    "- find_element()\n",
    "    - driver 안에 있는 태그 중 조건에 맞는 첫번째 태그를 선택\n",
    "    - BeautifulSoup의 find() 함수와 비슷\n",
    "- find_elements()\n",
    "    - driver 안에 있는 태그 중 조건에 맞는 모든 태그를 선택"
   ]
  },
  {
   "cell_type": "code",
   "execution_count": 14,
   "id": "1cb2e458",
   "metadata": {},
   "outputs": [],
   "source": [
    "# 검색어창 태그를 검색\n",
    "# id가 query인 태그 -> id 속성이기 때문에 해당 조건에 맞는 태그는 유일\n",
    "search_element = driver.find_element(By.ID, 'query')"
   ]
  },
  {
   "cell_type": "code",
   "execution_count": null,
   "id": "0f3c9b2f",
   "metadata": {},
   "outputs": [],
   "source": [
    "# 검색어창에 텍스트 입력\n",
    "search_element.send_keys('추석')"
   ]
  },
  {
   "cell_type": "code",
   "execution_count": 17,
   "id": "a2964c2f",
   "metadata": {},
   "outputs": [],
   "source": [
    "# 검색어창에서 키보드 이벤트 ENTER 발생\n",
    "search_element.send_keys( Keys.ENTER )"
   ]
  },
  {
   "cell_type": "code",
   "execution_count": null,
   "id": "2b34127c",
   "metadata": {},
   "outputs": [],
   "source": []
  }
 ],
 "metadata": {
  "kernelspec": {
   "display_name": "Python 3",
   "language": "python",
   "name": "python3"
  },
  "language_info": {
   "codemirror_mode": {
    "name": "ipython",
    "version": 3
   },
   "file_extension": ".py",
   "mimetype": "text/x-python",
   "name": "python",
   "nbconvert_exporter": "python",
   "pygments_lexer": "ipython3",
   "version": "3.13.7"
  }
 },
 "nbformat": 4,
 "nbformat_minor": 5
}
